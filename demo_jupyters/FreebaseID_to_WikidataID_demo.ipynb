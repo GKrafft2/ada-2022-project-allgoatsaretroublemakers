{
 "cells": [
  {
   "cell_type": "code",
   "execution_count": 11,
   "metadata": {
    "collapsed": true
   },
   "outputs": [],
   "source": [
    "import pandas as pd\n",
    "import pickle\n",
    "import requests\n",
    "import numpy as np"
   ]
  },
  {
   "cell_type": "code",
   "execution_count": 12,
   "outputs": [
    {
     "data": {
      "text/plain": "   movie_wiki_id movie_freebase_id release_date              character_name  \\\n0       975900.0         /m/03vyhn   2001-08-24                    Akooshay   \n1       975900.0         /m/03vyhn   2001-08-24  Lieutenant Melanie Ballard   \n2       975900.0         /m/03vyhn   2001-08-24         Desolation Williams   \n3       975900.0         /m/03vyhn   2001-08-24          Sgt Jericho Butler   \n4       975900.0         /m/03vyhn   2001-08-24             Bashira Kincaid   \n\n                      birth gender  height   ethnicity          actor_name  \\\n0 1958-08-26 00:00:00+00:00      F   1.620         NaN      Wanda De Jesus   \n1 1974-08-15 00:00:00+00:00      F   1.780  /m/044038p  Natasha Henstridge   \n2 1969-06-15 00:00:00+00:00      M   1.727     /m/0x67            Ice Cube   \n3 1967-09-12 00:00:00+00:00      M   1.750         NaN       Jason Statham   \n4 1977-09-25 00:00:00+00:00      F   1.650         NaN         Clea DuVall   \n\n   actor_age freebase_character_actor_map_id freebase_character_id  \\\n0       42.0                      /m/0bgchxw            /m/0bgcj3x   \n1       27.0                       /m/0jys3m            /m/0bgchn4   \n2       32.0                       /m/0jys3g            /m/0bgchn_   \n3       33.0                      /m/02vchl6            /m/0bgchnq   \n4       23.0                      /m/02vbb3r            /m/0bgchp9   \n\n  freebase_actor_id  release_year  birth_year  \n0        /m/03wcfv7        2001.0      1958.0  \n1         /m/0346l4        2001.0      1974.0  \n2        /m/01vw26l        2001.0      1969.0  \n3         /m/034hyc        2001.0      1967.0  \n4         /m/01y9xg        2001.0      1977.0  ",
      "text/html": "<div>\n<style scoped>\n    .dataframe tbody tr th:only-of-type {\n        vertical-align: middle;\n    }\n\n    .dataframe tbody tr th {\n        vertical-align: top;\n    }\n\n    .dataframe thead th {\n        text-align: right;\n    }\n</style>\n<table border=\"1\" class=\"dataframe\">\n  <thead>\n    <tr style=\"text-align: right;\">\n      <th></th>\n      <th>movie_wiki_id</th>\n      <th>movie_freebase_id</th>\n      <th>release_date</th>\n      <th>character_name</th>\n      <th>birth</th>\n      <th>gender</th>\n      <th>height</th>\n      <th>ethnicity</th>\n      <th>actor_name</th>\n      <th>actor_age</th>\n      <th>freebase_character_actor_map_id</th>\n      <th>freebase_character_id</th>\n      <th>freebase_actor_id</th>\n      <th>release_year</th>\n      <th>birth_year</th>\n    </tr>\n  </thead>\n  <tbody>\n    <tr>\n      <th>0</th>\n      <td>975900.0</td>\n      <td>/m/03vyhn</td>\n      <td>2001-08-24</td>\n      <td>Akooshay</td>\n      <td>1958-08-26 00:00:00+00:00</td>\n      <td>F</td>\n      <td>1.620</td>\n      <td>NaN</td>\n      <td>Wanda De Jesus</td>\n      <td>42.0</td>\n      <td>/m/0bgchxw</td>\n      <td>/m/0bgcj3x</td>\n      <td>/m/03wcfv7</td>\n      <td>2001.0</td>\n      <td>1958.0</td>\n    </tr>\n    <tr>\n      <th>1</th>\n      <td>975900.0</td>\n      <td>/m/03vyhn</td>\n      <td>2001-08-24</td>\n      <td>Lieutenant Melanie Ballard</td>\n      <td>1974-08-15 00:00:00+00:00</td>\n      <td>F</td>\n      <td>1.780</td>\n      <td>/m/044038p</td>\n      <td>Natasha Henstridge</td>\n      <td>27.0</td>\n      <td>/m/0jys3m</td>\n      <td>/m/0bgchn4</td>\n      <td>/m/0346l4</td>\n      <td>2001.0</td>\n      <td>1974.0</td>\n    </tr>\n    <tr>\n      <th>2</th>\n      <td>975900.0</td>\n      <td>/m/03vyhn</td>\n      <td>2001-08-24</td>\n      <td>Desolation Williams</td>\n      <td>1969-06-15 00:00:00+00:00</td>\n      <td>M</td>\n      <td>1.727</td>\n      <td>/m/0x67</td>\n      <td>Ice Cube</td>\n      <td>32.0</td>\n      <td>/m/0jys3g</td>\n      <td>/m/0bgchn_</td>\n      <td>/m/01vw26l</td>\n      <td>2001.0</td>\n      <td>1969.0</td>\n    </tr>\n    <tr>\n      <th>3</th>\n      <td>975900.0</td>\n      <td>/m/03vyhn</td>\n      <td>2001-08-24</td>\n      <td>Sgt Jericho Butler</td>\n      <td>1967-09-12 00:00:00+00:00</td>\n      <td>M</td>\n      <td>1.750</td>\n      <td>NaN</td>\n      <td>Jason Statham</td>\n      <td>33.0</td>\n      <td>/m/02vchl6</td>\n      <td>/m/0bgchnq</td>\n      <td>/m/034hyc</td>\n      <td>2001.0</td>\n      <td>1967.0</td>\n    </tr>\n    <tr>\n      <th>4</th>\n      <td>975900.0</td>\n      <td>/m/03vyhn</td>\n      <td>2001-08-24</td>\n      <td>Bashira Kincaid</td>\n      <td>1977-09-25 00:00:00+00:00</td>\n      <td>F</td>\n      <td>1.650</td>\n      <td>NaN</td>\n      <td>Clea DuVall</td>\n      <td>23.0</td>\n      <td>/m/02vbb3r</td>\n      <td>/m/0bgchp9</td>\n      <td>/m/01y9xg</td>\n      <td>2001.0</td>\n      <td>1977.0</td>\n    </tr>\n  </tbody>\n</table>\n</div>"
     },
     "execution_count": 12,
     "metadata": {},
     "output_type": "execute_result"
    }
   ],
   "source": [
    "pickle_folder = '../data/pickles/'\n",
    "\n",
    "characters = pickle.load(open(pickle_folder + 'characters.p','rb'))\n",
    "characters.head()"
   ],
   "metadata": {
    "collapsed": false
   }
  },
  {
   "cell_type": "code",
   "execution_count": 13,
   "outputs": [
    {
     "data": {
      "text/plain": "  freebase_id wikidata_id\n0    /m/0695j       Q6718\n1    /m/05nrg        Q538\n2     /m/0jgd        Q414\n3    /m/0d_23       Q2537\n4    /m/04g7d        Q315",
      "text/html": "<div>\n<style scoped>\n    .dataframe tbody tr th:only-of-type {\n        vertical-align: middle;\n    }\n\n    .dataframe tbody tr th {\n        vertical-align: top;\n    }\n\n    .dataframe thead th {\n        text-align: right;\n    }\n</style>\n<table border=\"1\" class=\"dataframe\">\n  <thead>\n    <tr style=\"text-align: right;\">\n      <th></th>\n      <th>freebase_id</th>\n      <th>wikidata_id</th>\n    </tr>\n  </thead>\n  <tbody>\n    <tr>\n      <th>0</th>\n      <td>/m/0695j</td>\n      <td>Q6718</td>\n    </tr>\n    <tr>\n      <th>1</th>\n      <td>/m/05nrg</td>\n      <td>Q538</td>\n    </tr>\n    <tr>\n      <th>2</th>\n      <td>/m/0jgd</td>\n      <td>Q414</td>\n    </tr>\n    <tr>\n      <th>3</th>\n      <td>/m/0d_23</td>\n      <td>Q2537</td>\n    </tr>\n    <tr>\n      <th>4</th>\n      <td>/m/04g7d</td>\n      <td>Q315</td>\n    </tr>\n  </tbody>\n</table>\n</div>"
     },
     "execution_count": 13,
     "metadata": {},
     "output_type": "execute_result"
    }
   ],
   "source": [
    "freebase_to_wikidata = pickle.load(open(pickle_folder + 'freebase_to_wikidata.p','rb'))\n",
    "freebase_to_wikidata.head()"
   ],
   "metadata": {
    "collapsed": false
   }
  },
  {
   "cell_type": "markdown",
   "source": [
    "### Here I will merge the characters table with the freebase_to_wikidata table. \"left_on\" is the column with the freebase_id I want to convert to wikidata_id. It's a good idea to compare the length of the dataset before and after the merge."
   ],
   "metadata": {
    "collapsed": false
   }
  },
  {
   "cell_type": "code",
   "execution_count": 14,
   "outputs": [
    {
     "name": "stdout",
     "output_type": "stream",
     "text": [
      "Length before merge: 450263\n",
      "Length after merge: 450263\n",
      "Percentage of successful fit: 0.6935524349102635%\n"
     ]
    },
    {
     "data": {
      "text/plain": "   movie_wiki_id movie_freebase_id release_date              character_name  \\\n0       975900.0         /m/03vyhn   2001-08-24                    Akooshay   \n1       975900.0         /m/03vyhn   2001-08-24  Lieutenant Melanie Ballard   \n2       975900.0         /m/03vyhn   2001-08-24         Desolation Williams   \n3       975900.0         /m/03vyhn   2001-08-24          Sgt Jericho Butler   \n4       975900.0         /m/03vyhn   2001-08-24             Bashira Kincaid   \n\n                      birth gender  height   ethnicity          actor_name  \\\n0 1958-08-26 00:00:00+00:00      F   1.620         NaN      Wanda De Jesus   \n1 1974-08-15 00:00:00+00:00      F   1.780  /m/044038p  Natasha Henstridge   \n2 1969-06-15 00:00:00+00:00      M   1.727     /m/0x67            Ice Cube   \n3 1967-09-12 00:00:00+00:00      M   1.750         NaN       Jason Statham   \n4 1977-09-25 00:00:00+00:00      F   1.650         NaN         Clea DuVall   \n\n   actor_age freebase_character_actor_map_id freebase_character_id  \\\n0       42.0                      /m/0bgchxw            /m/0bgcj3x   \n1       27.0                       /m/0jys3m            /m/0bgchn4   \n2       32.0                       /m/0jys3g            /m/0bgchn_   \n3       33.0                      /m/02vchl6            /m/0bgchnq   \n4       23.0                      /m/02vbb3r            /m/0bgchp9   \n\n  freebase_actor_id  release_year  birth_year freebase_id wikidata_id  \n0        /m/03wcfv7        2001.0      1958.0   /m/03vyhn     Q261700  \n1         /m/0346l4        2001.0      1974.0   /m/03vyhn     Q261700  \n2        /m/01vw26l        2001.0      1969.0   /m/03vyhn     Q261700  \n3         /m/034hyc        2001.0      1967.0   /m/03vyhn     Q261700  \n4         /m/01y9xg        2001.0      1977.0   /m/03vyhn     Q261700  ",
      "text/html": "<div>\n<style scoped>\n    .dataframe tbody tr th:only-of-type {\n        vertical-align: middle;\n    }\n\n    .dataframe tbody tr th {\n        vertical-align: top;\n    }\n\n    .dataframe thead th {\n        text-align: right;\n    }\n</style>\n<table border=\"1\" class=\"dataframe\">\n  <thead>\n    <tr style=\"text-align: right;\">\n      <th></th>\n      <th>movie_wiki_id</th>\n      <th>movie_freebase_id</th>\n      <th>release_date</th>\n      <th>character_name</th>\n      <th>birth</th>\n      <th>gender</th>\n      <th>height</th>\n      <th>ethnicity</th>\n      <th>actor_name</th>\n      <th>actor_age</th>\n      <th>freebase_character_actor_map_id</th>\n      <th>freebase_character_id</th>\n      <th>freebase_actor_id</th>\n      <th>release_year</th>\n      <th>birth_year</th>\n      <th>freebase_id</th>\n      <th>wikidata_id</th>\n    </tr>\n  </thead>\n  <tbody>\n    <tr>\n      <th>0</th>\n      <td>975900.0</td>\n      <td>/m/03vyhn</td>\n      <td>2001-08-24</td>\n      <td>Akooshay</td>\n      <td>1958-08-26 00:00:00+00:00</td>\n      <td>F</td>\n      <td>1.620</td>\n      <td>NaN</td>\n      <td>Wanda De Jesus</td>\n      <td>42.0</td>\n      <td>/m/0bgchxw</td>\n      <td>/m/0bgcj3x</td>\n      <td>/m/03wcfv7</td>\n      <td>2001.0</td>\n      <td>1958.0</td>\n      <td>/m/03vyhn</td>\n      <td>Q261700</td>\n    </tr>\n    <tr>\n      <th>1</th>\n      <td>975900.0</td>\n      <td>/m/03vyhn</td>\n      <td>2001-08-24</td>\n      <td>Lieutenant Melanie Ballard</td>\n      <td>1974-08-15 00:00:00+00:00</td>\n      <td>F</td>\n      <td>1.780</td>\n      <td>/m/044038p</td>\n      <td>Natasha Henstridge</td>\n      <td>27.0</td>\n      <td>/m/0jys3m</td>\n      <td>/m/0bgchn4</td>\n      <td>/m/0346l4</td>\n      <td>2001.0</td>\n      <td>1974.0</td>\n      <td>/m/03vyhn</td>\n      <td>Q261700</td>\n    </tr>\n    <tr>\n      <th>2</th>\n      <td>975900.0</td>\n      <td>/m/03vyhn</td>\n      <td>2001-08-24</td>\n      <td>Desolation Williams</td>\n      <td>1969-06-15 00:00:00+00:00</td>\n      <td>M</td>\n      <td>1.727</td>\n      <td>/m/0x67</td>\n      <td>Ice Cube</td>\n      <td>32.0</td>\n      <td>/m/0jys3g</td>\n      <td>/m/0bgchn_</td>\n      <td>/m/01vw26l</td>\n      <td>2001.0</td>\n      <td>1969.0</td>\n      <td>/m/03vyhn</td>\n      <td>Q261700</td>\n    </tr>\n    <tr>\n      <th>3</th>\n      <td>975900.0</td>\n      <td>/m/03vyhn</td>\n      <td>2001-08-24</td>\n      <td>Sgt Jericho Butler</td>\n      <td>1967-09-12 00:00:00+00:00</td>\n      <td>M</td>\n      <td>1.750</td>\n      <td>NaN</td>\n      <td>Jason Statham</td>\n      <td>33.0</td>\n      <td>/m/02vchl6</td>\n      <td>/m/0bgchnq</td>\n      <td>/m/034hyc</td>\n      <td>2001.0</td>\n      <td>1967.0</td>\n      <td>/m/03vyhn</td>\n      <td>Q261700</td>\n    </tr>\n    <tr>\n      <th>4</th>\n      <td>975900.0</td>\n      <td>/m/03vyhn</td>\n      <td>2001-08-24</td>\n      <td>Bashira Kincaid</td>\n      <td>1977-09-25 00:00:00+00:00</td>\n      <td>F</td>\n      <td>1.650</td>\n      <td>NaN</td>\n      <td>Clea DuVall</td>\n      <td>23.0</td>\n      <td>/m/02vbb3r</td>\n      <td>/m/0bgchp9</td>\n      <td>/m/01y9xg</td>\n      <td>2001.0</td>\n      <td>1977.0</td>\n      <td>/m/03vyhn</td>\n      <td>Q261700</td>\n    </tr>\n  </tbody>\n</table>\n</div>"
     },
     "execution_count": 14,
     "metadata": {},
     "output_type": "execute_result"
    }
   ],
   "source": [
    "print(f'Length before merge: {len(characters)}')\n",
    "characters_with_wikidataID = pd.merge(left=characters, right=freebase_to_wikidata, left_on='movie_freebase_id', right_on='freebase_id', how='left')\n",
    "print(f'Length after merge: {len(characters_with_wikidataID)}')\n",
    "print(f'Percentage of successful fit: {sum(characters_with_wikidataID.movie_freebase_id == characters_with_wikidataID.freebase_id)/len(characters_with_wikidataID)}%')\n",
    "characters_with_wikidataID.head()"
   ],
   "metadata": {
    "collapsed": false
   }
  },
  {
   "cell_type": "markdown",
   "source": [
    "### Then, if you want to get the english name of each wikidataID, you can send get requests to wikidata.org\n",
    "First, you get all the unique ids"
   ],
   "metadata": {
    "collapsed": false
   }
  },
  {
   "cell_type": "code",
   "execution_count": 5,
   "outputs": [
    {
     "name": "stdout",
     "output_type": "stream",
     "text": [
      "Number of unique ids: 38802\n"
     ]
    },
    {
     "data": {
      "text/plain": "  wikidata_id\n0     Q261700\n1         NaN\n2    Q4978832\n3     Q869644\n4    Q2559560",
      "text/html": "<div>\n<style scoped>\n    .dataframe tbody tr th:only-of-type {\n        vertical-align: middle;\n    }\n\n    .dataframe tbody tr th {\n        vertical-align: top;\n    }\n\n    .dataframe thead th {\n        text-align: right;\n    }\n</style>\n<table border=\"1\" class=\"dataframe\">\n  <thead>\n    <tr style=\"text-align: right;\">\n      <th></th>\n      <th>wikidata_id</th>\n    </tr>\n  </thead>\n  <tbody>\n    <tr>\n      <th>0</th>\n      <td>Q261700</td>\n    </tr>\n    <tr>\n      <th>1</th>\n      <td>NaN</td>\n    </tr>\n    <tr>\n      <th>2</th>\n      <td>Q4978832</td>\n    </tr>\n    <tr>\n      <th>3</th>\n      <td>Q869644</td>\n    </tr>\n    <tr>\n      <th>4</th>\n      <td>Q2559560</td>\n    </tr>\n  </tbody>\n</table>\n</div>"
     },
     "execution_count": 5,
     "metadata": {},
     "output_type": "execute_result"
    }
   ],
   "source": [
    "unique_movie_ids = pd.DataFrame(characters_with_wikidataID['wikidata_id'].unique(), columns=['wikidata_id'])\n",
    "print(f'Number of unique ids: {len(unique_movie_ids)}')\n",
    "unique_movie_ids.head()"
   ],
   "metadata": {
    "collapsed": false
   }
  },
  {
   "cell_type": "markdown",
   "source": [
    "You then send GET requests, **but it can be very slow**.\n",
    "Here, I will only do it on a sample of 100 ids, and will *timeit* one time one loop"
   ],
   "metadata": {
    "collapsed": false
   }
  },
  {
   "cell_type": "code",
   "execution_count": 6,
   "outputs": [
    {
     "name": "stdout",
     "output_type": "stream",
     "text": [
      "47.9 s ± 0 ns per loop (mean ± std. dev. of 1 run, 1 loop each)\n"
     ]
    }
   ],
   "source": [
    "sample_unique_movie_ids = unique_movie_ids.sample(100)\n",
    "def get_wikidata_title(id):\n",
    "    json_id = requests.get(f'https://www.wikidata.org/wiki/Special:EntityData/{id}.json').json()\n",
    "    # return json_id['entities'][id]['labels']['en']['value']\n",
    "    return [json_id['entities'][x]['labels']['en']['value'] for x in json_id['entities']][0] #fixes redirection problems\n",
    "\n",
    "%timeit -r 1 -n 1 sample_unique_movie_ids['movie_name']  = sample_unique_movie_ids['wikidata_id'].apply(lambda id: get_wikidata_title(id) if pd.notnull(id) else np.nan)"
   ],
   "metadata": {
    "collapsed": false
   }
  },
  {
   "cell_type": "markdown",
   "source": [
    "My results were around 0.4 second per requests"
   ],
   "metadata": {
    "collapsed": false
   }
  },
  {
   "cell_type": "code",
   "execution_count": 7,
   "outputs": [
    {
     "data": {
      "text/plain": "      wikidata_id             movie_name\n10988    Q7659293    Sword in the Desert\n36430     Q994421  The Wing or the Thigh\n3675     Q3010562         Going Bye-Bye!\n28024    Q3398194      Porky's Duck Hunt\n13142     Q369908  La Fille du Puisatier\n6379     Q1951430      Mr. Moto's Gamble\n1746      Q963574        Shadows of Time\n19367     Q126796                  Brave\n18019    Q2135682     The Donovan Affair\n37008     Q399647             Red Desert",
      "text/html": "<div>\n<style scoped>\n    .dataframe tbody tr th:only-of-type {\n        vertical-align: middle;\n    }\n\n    .dataframe tbody tr th {\n        vertical-align: top;\n    }\n\n    .dataframe thead th {\n        text-align: right;\n    }\n</style>\n<table border=\"1\" class=\"dataframe\">\n  <thead>\n    <tr style=\"text-align: right;\">\n      <th></th>\n      <th>wikidata_id</th>\n      <th>movie_name</th>\n    </tr>\n  </thead>\n  <tbody>\n    <tr>\n      <th>10988</th>\n      <td>Q7659293</td>\n      <td>Sword in the Desert</td>\n    </tr>\n    <tr>\n      <th>36430</th>\n      <td>Q994421</td>\n      <td>The Wing or the Thigh</td>\n    </tr>\n    <tr>\n      <th>3675</th>\n      <td>Q3010562</td>\n      <td>Going Bye-Bye!</td>\n    </tr>\n    <tr>\n      <th>28024</th>\n      <td>Q3398194</td>\n      <td>Porky's Duck Hunt</td>\n    </tr>\n    <tr>\n      <th>13142</th>\n      <td>Q369908</td>\n      <td>La Fille du Puisatier</td>\n    </tr>\n    <tr>\n      <th>6379</th>\n      <td>Q1951430</td>\n      <td>Mr. Moto's Gamble</td>\n    </tr>\n    <tr>\n      <th>1746</th>\n      <td>Q963574</td>\n      <td>Shadows of Time</td>\n    </tr>\n    <tr>\n      <th>19367</th>\n      <td>Q126796</td>\n      <td>Brave</td>\n    </tr>\n    <tr>\n      <th>18019</th>\n      <td>Q2135682</td>\n      <td>The Donovan Affair</td>\n    </tr>\n    <tr>\n      <th>37008</th>\n      <td>Q399647</td>\n      <td>Red Desert</td>\n    </tr>\n  </tbody>\n</table>\n</div>"
     },
     "execution_count": 7,
     "metadata": {},
     "output_type": "execute_result"
    }
   ],
   "source": [
    "sample_unique_movie_ids.sample(10)"
   ],
   "metadata": {
    "collapsed": false
   }
  },
  {
   "cell_type": "markdown",
   "source": [
    "Now lets look at unsuccessful GET requests:"
   ],
   "metadata": {
    "collapsed": false
   }
  },
  {
   "cell_type": "code",
   "execution_count": 8,
   "outputs": [
    {
     "name": "stdout",
     "output_type": "stream",
     "text": [
      "percentage of unsuccessful get request: 0.0%\n"
     ]
    }
   ],
   "source": [
    "print(f'percentage of unsuccessful get request: {sum(sample_unique_movie_ids[\"movie_name\"].isna())/len(sample_unique_movie_ids)}%')"
   ],
   "metadata": {
    "collapsed": false
   }
  },
  {
   "cell_type": "markdown",
   "source": [
    "### Finally you can merge this table with your first table"
   ],
   "metadata": {
    "collapsed": false
   }
  },
  {
   "cell_type": "code",
   "execution_count": 9,
   "outputs": [
    {
     "name": "stdout",
     "output_type": "stream",
     "text": [
      "Length before merge: 450263\n",
      "Length after merge: 450263\n"
     ]
    },
    {
     "data": {
      "text/plain": "       movie_freebase_id                            movie_name\n279553        /m/0cnzj3j                  Tutta la città canta\n72058         /m/07k4pw_                     The Great Pumpkin\n270201         /m/0f4fk9                             Say Uncle\n4282          /m/02wxzpn                        Locura de amor\n99787         /m/02qkn0h  White Fang 2: Myth of the White Wolf\n319072        /m/02pxz3w                         The Red Rider\n76623         /m/02h5xf_                              The Hoax\n920           /m/04lf5n7                             Crazylegs\n76616         /m/02h5xf_                              The Hoax\n370915        /m/03cy_2x                    The Gambling Ghost",
      "text/html": "<div>\n<style scoped>\n    .dataframe tbody tr th:only-of-type {\n        vertical-align: middle;\n    }\n\n    .dataframe tbody tr th {\n        vertical-align: top;\n    }\n\n    .dataframe thead th {\n        text-align: right;\n    }\n</style>\n<table border=\"1\" class=\"dataframe\">\n  <thead>\n    <tr style=\"text-align: right;\">\n      <th></th>\n      <th>movie_freebase_id</th>\n      <th>movie_name</th>\n    </tr>\n  </thead>\n  <tbody>\n    <tr>\n      <th>279553</th>\n      <td>/m/0cnzj3j</td>\n      <td>Tutta la città canta</td>\n    </tr>\n    <tr>\n      <th>72058</th>\n      <td>/m/07k4pw_</td>\n      <td>The Great Pumpkin</td>\n    </tr>\n    <tr>\n      <th>270201</th>\n      <td>/m/0f4fk9</td>\n      <td>Say Uncle</td>\n    </tr>\n    <tr>\n      <th>4282</th>\n      <td>/m/02wxzpn</td>\n      <td>Locura de amor</td>\n    </tr>\n    <tr>\n      <th>99787</th>\n      <td>/m/02qkn0h</td>\n      <td>White Fang 2: Myth of the White Wolf</td>\n    </tr>\n    <tr>\n      <th>319072</th>\n      <td>/m/02pxz3w</td>\n      <td>The Red Rider</td>\n    </tr>\n    <tr>\n      <th>76623</th>\n      <td>/m/02h5xf_</td>\n      <td>The Hoax</td>\n    </tr>\n    <tr>\n      <th>920</th>\n      <td>/m/04lf5n7</td>\n      <td>Crazylegs</td>\n    </tr>\n    <tr>\n      <th>76616</th>\n      <td>/m/02h5xf_</td>\n      <td>The Hoax</td>\n    </tr>\n    <tr>\n      <th>370915</th>\n      <td>/m/03cy_2x</td>\n      <td>The Gambling Ghost</td>\n    </tr>\n  </tbody>\n</table>\n</div>"
     },
     "execution_count": 9,
     "metadata": {},
     "output_type": "execute_result"
    }
   ],
   "source": [
    "print(f'Length before merge: {len(characters_with_wikidataID)}')\n",
    "characters_with_wikidataID_and_english_names = pd.merge(left=characters_with_wikidataID, right=sample_unique_movie_ids, left_on='wikidata_id', right_on='wikidata_id', how='left')\n",
    "print(f'Length after merge: {len(characters_with_wikidataID_and_english_names)}')\n",
    "characters_with_wikidataID_and_english_names[['movie_freebase_id', 'movie_name']].loc[characters_with_wikidataID_and_english_names.movie_name.notna()].sample(10)"
   ],
   "metadata": {
    "collapsed": false
   }
  },
  {
   "cell_type": "markdown",
   "source": [
    "### Don't forget to clean up the now useless wikidata_id and freebase_id columns ;-)"
   ],
   "metadata": {
    "collapsed": false
   }
  },
  {
   "cell_type": "code",
   "execution_count": 10,
   "outputs": [
    {
     "data": {
      "text/plain": "Index(['movie_wiki_id', 'movie_freebase_id', 'release_date', 'character_name',\n       'birth', 'gender', 'height', 'ethnicity', 'actor_name', 'actor_age',\n       'freebase_character_actor_map_id', 'freebase_character_id',\n       'freebase_actor_id', 'release_year', 'birth_year', 'movie_name'],\n      dtype='object')"
     },
     "execution_count": 10,
     "metadata": {},
     "output_type": "execute_result"
    }
   ],
   "source": [
    "characters_with_english_movie_names = characters_with_wikidataID_and_english_names.drop(['wikidata_id', 'freebase_id'],axis=1)\n",
    "characters_with_english_movie_names.keys()"
   ],
   "metadata": {
    "collapsed": false
   }
  },
  {
   "cell_type": "code",
   "execution_count": 37,
   "outputs": [
    {
     "data": {
      "text/plain": "81741"
     },
     "execution_count": 37,
     "metadata": {},
     "output_type": "execute_result"
    }
   ],
   "source": [
    "movies = pickle.load(open(pickle_folder + 'movies.p','rb'))\n",
    "len(movies)"
   ],
   "metadata": {
    "collapsed": false
   }
  },
  {
   "cell_type": "code",
   "execution_count": null,
   "outputs": [],
   "source": [],
   "metadata": {
    "collapsed": false
   }
  }
 ],
 "metadata": {
  "kernelspec": {
   "display_name": "Python 3",
   "language": "python",
   "name": "python3"
  },
  "language_info": {
   "codemirror_mode": {
    "name": "ipython",
    "version": 2
   },
   "file_extension": ".py",
   "mimetype": "text/x-python",
   "name": "python",
   "nbconvert_exporter": "python",
   "pygments_lexer": "ipython2",
   "version": "2.7.6"
  }
 },
 "nbformat": 4,
 "nbformat_minor": 0
}
