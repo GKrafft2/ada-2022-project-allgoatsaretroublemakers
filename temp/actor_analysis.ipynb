{
 "cells": [
  {
   "cell_type": "code",
   "execution_count": 8,
   "metadata": {},
   "outputs": [],
   "source": [
    "import pandas as pd\n",
    "import pickle\n",
    "import seaborn as sns\n",
    "import matplotlib.pyplot as plt\n",
    "import numpy as np"
   ]
  },
  {
   "cell_type": "code",
   "execution_count": 9,
   "metadata": {},
   "outputs": [],
   "source": [
    "directors_full = pd.read_pickle('../data/pickles/director_writer_nodrop.p')\n",
    "movies = pickle.load(open('../data/pickles/movies.p', 'rb'))\n",
    "characters = pickle.load(open('../data/pickles/characters.p', 'rb'))\n",
    "characters_movies = pd.merge(characters[['movie_wiki_id', 'actor_name', 'combined_birth', 'combined_gender']], movies[['wikipedia_id', 'title', 'combined_release_year', 'combined_runtime', 'combined_box_office', 'averageRating_imdb', 'numVotes_imdb']], left_on='movie_wiki_id', right_on='wikipedia_id', how='left')"
   ]
  },
  {
   "cell_type": "code",
   "execution_count": 10,
   "metadata": {},
   "outputs": [],
   "source": [
    "df = movies[['title', 'averageRating_imdb', 'numVotes_imdb', 'combined_box_office']].copy()\n",
    "\n",
    "df['numVotes_imdb'] = np.log(df.numVotes_imdb)\n",
    "df['combined_box_office'] = np.log(df.combined_box_office)\n",
    "\n",
    "df['numVotes_imdb'] =(df.numVotes_imdb - df.numVotes_imdb.mean()) / df.numVotes_imdb.std()\n",
    "df['combined_box_office'] =(df.combined_box_office - df.combined_box_office.mean()) / df.combined_box_office.std()\n",
    "df['averageRating_imdb'] =(df.averageRating_imdb - df.averageRating_imdb.mean()) / df.averageRating_imdb.std()"
   ]
  },
  {
   "cell_type": "code",
   "execution_count": 11,
   "metadata": {},
   "outputs": [],
   "source": [
    "df['metric'] = df.numVotes_imdb * np.abs(df.averageRating_imdb)"
   ]
  },
  {
   "cell_type": "code",
   "execution_count": 12,
   "metadata": {},
   "outputs": [
    {
     "data": {
      "text/plain": "           actor_name combined_gender  combined_birth  combined_release_year  \\\n0      Wanda De Jesus          female          1958.0                 2001.0   \n1  Natasha Henstridge          female          1974.0                 2001.0   \n2            Ice Cube            male          1969.0                 2001.0   \n3       Jason Statham            male          1967.0                 2001.0   \n4         Clea DuVall          female          1977.0                 2001.0   \n\n            title    metric   age  \n0  Ghosts of Mars  2.360202  43.0  \n1  Ghosts of Mars  2.360202  27.0  \n2  Ghosts of Mars  2.360202  32.0  \n3  Ghosts of Mars  2.360202  34.0  \n4  Ghosts of Mars  2.360202  24.0  ",
      "text/html": "<div>\n<style scoped>\n    .dataframe tbody tr th:only-of-type {\n        vertical-align: middle;\n    }\n\n    .dataframe tbody tr th {\n        vertical-align: top;\n    }\n\n    .dataframe thead th {\n        text-align: right;\n    }\n</style>\n<table border=\"1\" class=\"dataframe\">\n  <thead>\n    <tr style=\"text-align: right;\">\n      <th></th>\n      <th>actor_name</th>\n      <th>combined_gender</th>\n      <th>combined_birth</th>\n      <th>combined_release_year</th>\n      <th>title</th>\n      <th>metric</th>\n      <th>age</th>\n    </tr>\n  </thead>\n  <tbody>\n    <tr>\n      <th>0</th>\n      <td>Wanda De Jesus</td>\n      <td>female</td>\n      <td>1958.0</td>\n      <td>2001.0</td>\n      <td>Ghosts of Mars</td>\n      <td>2.360202</td>\n      <td>43.0</td>\n    </tr>\n    <tr>\n      <th>1</th>\n      <td>Natasha Henstridge</td>\n      <td>female</td>\n      <td>1974.0</td>\n      <td>2001.0</td>\n      <td>Ghosts of Mars</td>\n      <td>2.360202</td>\n      <td>27.0</td>\n    </tr>\n    <tr>\n      <th>2</th>\n      <td>Ice Cube</td>\n      <td>male</td>\n      <td>1969.0</td>\n      <td>2001.0</td>\n      <td>Ghosts of Mars</td>\n      <td>2.360202</td>\n      <td>32.0</td>\n    </tr>\n    <tr>\n      <th>3</th>\n      <td>Jason Statham</td>\n      <td>male</td>\n      <td>1967.0</td>\n      <td>2001.0</td>\n      <td>Ghosts of Mars</td>\n      <td>2.360202</td>\n      <td>34.0</td>\n    </tr>\n    <tr>\n      <th>4</th>\n      <td>Clea DuVall</td>\n      <td>female</td>\n      <td>1977.0</td>\n      <td>2001.0</td>\n      <td>Ghosts of Mars</td>\n      <td>2.360202</td>\n      <td>24.0</td>\n    </tr>\n  </tbody>\n</table>\n</div>"
     },
     "execution_count": 12,
     "metadata": {},
     "output_type": "execute_result"
    }
   ],
   "source": [
    "temp = pd.merge(characters_movies[[\"actor_name\",\"combined_gender\",\"combined_birth\",\"combined_release_year\",\"title\"]].dropna().drop_duplicates(), df[[\"metric\",\"title\"]].drop_duplicates(subset=[\"title\"]), left_on=\"title\", right_on=\"title\", validate=\"many_to_one\")\n",
    "temp[\"age\"] = temp[\"combined_release_year\"]-temp[\"combined_birth\"]\n",
    "temp.head()"
   ]
  },
  {
   "cell_type": "markdown",
   "metadata": {},
   "source": [
    "Average metric for all actors:"
   ]
  },
  {
   "cell_type": "code",
   "execution_count": 13,
   "metadata": {},
   "outputs": [
    {
     "data": {
      "text/plain": "actor_name\nMorgana King                9.158800\nVictor Rendina              9.158800\nTom Rosqui                  8.649312\nAlexandra Astin             8.532330\nPaul Norell                 8.532330\nNick Steele                 8.474059\nSusan Griffiths             8.329917\nChandler Lindauer           8.329917\nMichael Gilden              8.329917\nBrenda Hillhouse            8.329917\nStephen Hibbert             8.329917\nSarah McLeod                8.229758\nRoman Coppola               8.139823\nRichard Matheson            8.139823\nSala Baker                  8.090836\nMichael Conner Humphreys    8.027604\nMark Ferguson               7.927186\nPeter McKenzie              7.927186\nOlivia Tennet               7.812993\nLauren Katherine Conrad     7.712191\nName: metric, dtype: float64"
     },
     "execution_count": 13,
     "metadata": {},
     "output_type": "execute_result"
    }
   ],
   "source": [
    "temp.groupby(\"actor_name\").mean(\"metric\").sort_values(by = \"metric\", ascending = False).dropna().head(20)[\"metric\"]"
   ]
  },
  {
   "cell_type": "markdown",
   "metadata": {},
   "source": [
    "find the percentage of male actor in each movie \\\\\n",
    "take the date of each movie \\\\\n",
    "take the gender of the director \\\\\n"
   ]
  },
  {
   "cell_type": "code",
   "execution_count": 14,
   "metadata": {},
   "outputs": [
    {
     "data": {
      "text/plain": "                                      percent\ntitle               combined_gender          \n#1 Cheerleader Camp female           0.666667\n                    male             0.333333\n$                   male             0.750000\n                    female           0.250000\n$9.99               male             0.888889\n...                                       ...\n…All the Marbles    female           0.600000\n                    male             0.400000\n₤500 Reward         female           1.000000\n春田花花同學會             male             0.800000\n                    female           0.200000\n\n[103311 rows x 1 columns]",
      "text/html": "<div>\n<style scoped>\n    .dataframe tbody tr th:only-of-type {\n        vertical-align: middle;\n    }\n\n    .dataframe tbody tr th {\n        vertical-align: top;\n    }\n\n    .dataframe thead th {\n        text-align: right;\n    }\n</style>\n<table border=\"1\" class=\"dataframe\">\n  <thead>\n    <tr style=\"text-align: right;\">\n      <th></th>\n      <th></th>\n      <th>percent</th>\n    </tr>\n    <tr>\n      <th>title</th>\n      <th>combined_gender</th>\n      <th></th>\n    </tr>\n  </thead>\n  <tbody>\n    <tr>\n      <th rowspan=\"2\" valign=\"top\">#1 Cheerleader Camp</th>\n      <th>female</th>\n      <td>0.666667</td>\n    </tr>\n    <tr>\n      <th>male</th>\n      <td>0.333333</td>\n    </tr>\n    <tr>\n      <th rowspan=\"2\" valign=\"top\">$</th>\n      <th>male</th>\n      <td>0.750000</td>\n    </tr>\n    <tr>\n      <th>female</th>\n      <td>0.250000</td>\n    </tr>\n    <tr>\n      <th>$9.99</th>\n      <th>male</th>\n      <td>0.888889</td>\n    </tr>\n    <tr>\n      <th>...</th>\n      <th>...</th>\n      <td>...</td>\n    </tr>\n    <tr>\n      <th rowspan=\"2\" valign=\"top\">…All the Marbles</th>\n      <th>female</th>\n      <td>0.600000</td>\n    </tr>\n    <tr>\n      <th>male</th>\n      <td>0.400000</td>\n    </tr>\n    <tr>\n      <th>₤500 Reward</th>\n      <th>female</th>\n      <td>1.000000</td>\n    </tr>\n    <tr>\n      <th rowspan=\"2\" valign=\"top\">春田花花同學會</th>\n      <th>male</th>\n      <td>0.800000</td>\n    </tr>\n    <tr>\n      <th>female</th>\n      <td>0.200000</td>\n    </tr>\n  </tbody>\n</table>\n<p>103311 rows × 1 columns</p>\n</div>"
     },
     "execution_count": 14,
     "metadata": {},
     "output_type": "execute_result"
    }
   ],
   "source": [
    "pd.DataFrame(characters_movies.groupby(\"title\")[\"combined_gender\"].value_counts(normalize=True)).rename(columns={\"combined_gender\":\"percent\"})"
   ]
  },
  {
   "cell_type": "markdown",
   "metadata": {},
   "source": [
    "### Find film female actor percentage"
   ]
  },
  {
   "cell_type": "code",
   "execution_count": 15,
   "metadata": {},
   "outputs": [
    {
     "data": {
      "text/plain": "                          title  f_actor_percentage  m_actor_percentage\n0           #1 Cheerleader Camp            0.666667            0.333333\n1                             $            0.250000            0.750000\n2                         $9.99            0.111111            0.888889\n3                           '77            0.200000            0.800000\n4      'Neath the Arizona Skies            0.428571            0.571429\n...                         ...                 ...                 ...\n44131                       Ōte            0.500000            0.500000\n44132                    Želary            0.375000            0.625000\n44133          Život sa stricem            0.333333            0.666667\n44134          …All the Marbles            0.600000            0.400000\n44135                   春田花花同學會            0.200000            0.800000\n\n[44136 rows x 3 columns]",
      "text/html": "<div>\n<style scoped>\n    .dataframe tbody tr th:only-of-type {\n        vertical-align: middle;\n    }\n\n    .dataframe tbody tr th {\n        vertical-align: top;\n    }\n\n    .dataframe thead th {\n        text-align: right;\n    }\n</style>\n<table border=\"1\" class=\"dataframe\">\n  <thead>\n    <tr style=\"text-align: right;\">\n      <th></th>\n      <th>title</th>\n      <th>f_actor_percentage</th>\n      <th>m_actor_percentage</th>\n    </tr>\n  </thead>\n  <tbody>\n    <tr>\n      <th>0</th>\n      <td>#1 Cheerleader Camp</td>\n      <td>0.666667</td>\n      <td>0.333333</td>\n    </tr>\n    <tr>\n      <th>1</th>\n      <td>$</td>\n      <td>0.250000</td>\n      <td>0.750000</td>\n    </tr>\n    <tr>\n      <th>2</th>\n      <td>$9.99</td>\n      <td>0.111111</td>\n      <td>0.888889</td>\n    </tr>\n    <tr>\n      <th>3</th>\n      <td>'77</td>\n      <td>0.200000</td>\n      <td>0.800000</td>\n    </tr>\n    <tr>\n      <th>4</th>\n      <td>'Neath the Arizona Skies</td>\n      <td>0.428571</td>\n      <td>0.571429</td>\n    </tr>\n    <tr>\n      <th>...</th>\n      <td>...</td>\n      <td>...</td>\n      <td>...</td>\n    </tr>\n    <tr>\n      <th>44131</th>\n      <td>Ōte</td>\n      <td>0.500000</td>\n      <td>0.500000</td>\n    </tr>\n    <tr>\n      <th>44132</th>\n      <td>Želary</td>\n      <td>0.375000</td>\n      <td>0.625000</td>\n    </tr>\n    <tr>\n      <th>44133</th>\n      <td>Život sa stricem</td>\n      <td>0.333333</td>\n      <td>0.666667</td>\n    </tr>\n    <tr>\n      <th>44134</th>\n      <td>…All the Marbles</td>\n      <td>0.600000</td>\n      <td>0.400000</td>\n    </tr>\n    <tr>\n      <th>44135</th>\n      <td>春田花花同學會</td>\n      <td>0.200000</td>\n      <td>0.800000</td>\n    </tr>\n  </tbody>\n</table>\n<p>44136 rows × 3 columns</p>\n</div>"
     },
     "execution_count": 15,
     "metadata": {},
     "output_type": "execute_result"
    }
   ],
   "source": [
    "new = pd.DataFrame(characters_movies.groupby(\"title\")[\"combined_gender\"].value_counts(normalize=True)).rename(columns={\"combined_gender\":\"percent\"})\n",
    "new = new.reset_index()\n",
    "newF = new.loc[new[\"combined_gender\"] == \"female\"].drop(columns=[\"combined_gender\"]).rename(columns={\"percent\":\"f_actor_percentage\"})\n",
    "newM = new.loc[new[\"combined_gender\"] == \"male\"].drop(columns=[\"combined_gender\"]).rename(columns={\"percent\":\"m_actor_percentage\"})\n",
    "actor_gender_percentage = pd.merge(newF, newM, left_on=\"title\", right_on=\"title\")\n",
    "actor_gender_percentage"
   ]
  },
  {
   "cell_type": "markdown",
   "metadata": {},
   "source": [
    "### Find actor mean age per film"
   ]
  },
  {
   "cell_type": "code",
   "execution_count": 16,
   "metadata": {},
   "outputs": [
    {
     "name": "stderr",
     "output_type": "stream",
     "text": [
      "C:\\Users\\eliot\\AppData\\Local\\Temp\\ipykernel_15760\\4163983213.py:1: FutureWarning: The default value of numeric_only in DataFrameGroupBy.mean is deprecated. In a future version, numeric_only will default to False. Either specify numeric_only or select only columns which should be valid for the function.\n",
      "  age = temp.groupby([\"title\",\"combined_gender\"]).agg(\"mean\")\n"
     ]
    },
    {
     "data": {
      "text/plain": "                          title  f_actor_mean_age  m_actor_mean_age\n0           #1 Cheerleader Camp         43.500000         31.000000\n1                             $         32.500000         44.666667\n2                         $9.99         36.000000         38.750000\n3                           '77         54.000000         40.250000\n4      'Neath the Arizona Skies          5.333333         37.000000\n...                         ...               ...               ...\n41590                       Ōte         28.000000         28.000000\n41591                    Želary         50.000000         47.200000\n41592          Život sa stricem         26.500000         37.750000\n41593          …All the Marbles         29.333333         47.500000\n41594                   春田花花同學會         41.000000         29.500000\n\n[41595 rows x 3 columns]",
      "text/html": "<div>\n<style scoped>\n    .dataframe tbody tr th:only-of-type {\n        vertical-align: middle;\n    }\n\n    .dataframe tbody tr th {\n        vertical-align: top;\n    }\n\n    .dataframe thead th {\n        text-align: right;\n    }\n</style>\n<table border=\"1\" class=\"dataframe\">\n  <thead>\n    <tr style=\"text-align: right;\">\n      <th></th>\n      <th>title</th>\n      <th>f_actor_mean_age</th>\n      <th>m_actor_mean_age</th>\n    </tr>\n  </thead>\n  <tbody>\n    <tr>\n      <th>0</th>\n      <td>#1 Cheerleader Camp</td>\n      <td>43.500000</td>\n      <td>31.000000</td>\n    </tr>\n    <tr>\n      <th>1</th>\n      <td>$</td>\n      <td>32.500000</td>\n      <td>44.666667</td>\n    </tr>\n    <tr>\n      <th>2</th>\n      <td>$9.99</td>\n      <td>36.000000</td>\n      <td>38.750000</td>\n    </tr>\n    <tr>\n      <th>3</th>\n      <td>'77</td>\n      <td>54.000000</td>\n      <td>40.250000</td>\n    </tr>\n    <tr>\n      <th>4</th>\n      <td>'Neath the Arizona Skies</td>\n      <td>5.333333</td>\n      <td>37.000000</td>\n    </tr>\n    <tr>\n      <th>...</th>\n      <td>...</td>\n      <td>...</td>\n      <td>...</td>\n    </tr>\n    <tr>\n      <th>41590</th>\n      <td>Ōte</td>\n      <td>28.000000</td>\n      <td>28.000000</td>\n    </tr>\n    <tr>\n      <th>41591</th>\n      <td>Želary</td>\n      <td>50.000000</td>\n      <td>47.200000</td>\n    </tr>\n    <tr>\n      <th>41592</th>\n      <td>Život sa stricem</td>\n      <td>26.500000</td>\n      <td>37.750000</td>\n    </tr>\n    <tr>\n      <th>41593</th>\n      <td>…All the Marbles</td>\n      <td>29.333333</td>\n      <td>47.500000</td>\n    </tr>\n    <tr>\n      <th>41594</th>\n      <td>春田花花同學會</td>\n      <td>41.000000</td>\n      <td>29.500000</td>\n    </tr>\n  </tbody>\n</table>\n<p>41595 rows × 3 columns</p>\n</div>"
     },
     "execution_count": 16,
     "metadata": {},
     "output_type": "execute_result"
    }
   ],
   "source": [
    "age = temp.groupby([\"title\",\"combined_gender\"]).agg(\"mean\")\n",
    "age = age.drop(columns=[\"combined_birth\",\"combined_release_year\",\"metric\"])\n",
    "age = age.reset_index()\n",
    "ageF = age.loc[age[\"combined_gender\"] == \"female\"].drop(columns=[\"combined_gender\"]).rename(columns={\"age\":\"f_actor_mean_age\"})\n",
    "ageM = age.loc[age[\"combined_gender\"] == \"male\"].drop(columns=[\"combined_gender\"]).rename(columns={\"age\":\"m_actor_mean_age\"})\n",
    "actor_mean_age = pd.merge(ageF, ageM, left_on=\"title\", right_on=\"title\")\n",
    "actor_mean_age"
   ]
  },
  {
   "cell_type": "code",
   "execution_count": 17,
   "metadata": {},
   "outputs": [],
   "source": [
    "gender_stats = pd.merge(actor_gender_percentage, actor_mean_age, left_on=\"title\", right_on=\"title\")\n",
    "gender_stats = pd.merge(df[[\"title\",\"metric\"]], gender_stats, left_on=\"title\", right_on=\"title\", how=\"inner\")"
   ]
  },
  {
   "cell_type": "code",
   "execution_count": 20,
   "metadata": {},
   "outputs": [],
   "source": [
    "gender_stats.to_pickle(\"./gender_stats.pkl\")"
   ]
  },
  {
   "cell_type": "markdown",
   "metadata": {},
   "source": [
    "### Linear Regression of metric based on f_actor_percentage, f_actor_mean_age, m_actor_mean_age"
   ]
  },
  {
   "cell_type": "code",
   "execution_count": 255,
   "metadata": {},
   "outputs": [],
   "source": [
    "import statsmodels.api as sm\n",
    "import statsmodels.formula.api as smf"
   ]
  },
  {
   "cell_type": "code",
   "execution_count": 256,
   "metadata": {},
   "outputs": [
    {
     "name": "stdout",
     "output_type": "stream",
     "text": [
      "                            OLS Regression Results                            \n",
      "==============================================================================\n",
      "Dep. Variable:                 metric   R-squared:                       0.016\n",
      "Model:                            OLS   Adj. R-squared:                  0.016\n",
      "Method:                 Least Squares   F-statistic:                     239.6\n",
      "Date:                Thu, 08 Dec 2022   Prob (F-statistic):          3.14e-154\n",
      "Time:                        14:47:44   Log-Likelihood:                -61262.\n",
      "No. Observations:               43359   AIC:                         1.225e+05\n",
      "Df Residuals:                   43355   BIC:                         1.226e+05\n",
      "Df Model:                           3                                         \n",
      "Covariance Type:            nonrobust                                         \n",
      "======================================================================================\n",
      "                         coef    std err          t      P>|t|      [0.025      0.975]\n",
      "--------------------------------------------------------------------------------------\n",
      "Intercept              0.1976      0.029      6.915      0.000       0.142       0.254\n",
      "f_actor_percentage    -0.6612      0.031    -21.173      0.000      -0.722      -0.600\n",
      "f_actor_mean_age       0.0092      0.001     17.195      0.000       0.008       0.010\n",
      "m_actor_mean_age      -0.0013      0.001     -2.106      0.035      -0.002   -8.76e-05\n",
      "==============================================================================\n",
      "Omnibus:                    12537.462   Durbin-Watson:                   1.993\n",
      "Prob(Omnibus):                  0.000   Jarque-Bera (JB):           121377.055\n",
      "Skew:                           1.112   Prob(JB):                         0.00\n",
      "Kurtosis:                      10.889   Cond. No.                         409.\n",
      "==============================================================================\n",
      "\n",
      "Notes:\n",
      "[1] Standard Errors assume that the covariance matrix of the errors is correctly specified.\n"
     ]
    }
   ],
   "source": [
    "# Declares the model\n",
    "mod = smf.ols(formula='metric ~ f_actor_percentage + f_actor_mean_age + m_actor_mean_age', data=gender_stats)\n",
    "# Fits the model (find the optimal coefficients, adding a random seed ensures consistency)\n",
    "np.random.seed(2)\n",
    "res = mod.fit()\n",
    "# Print thes summary output provided by the library.\n",
    "print(res.summary())"
   ]
  },
  {
   "cell_type": "code",
   "execution_count": 4,
   "metadata": {},
   "outputs": [],
   "source": [
    "W_apperance = pickle.load(open('../data/pickles/women_appearance.p', 'rb'))"
   ]
  },
  {
   "cell_type": "code",
   "execution_count": 7,
   "outputs": [
    {
     "data": {
      "text/plain": "[['tt0228333', 1],\n ['tt0245916', 1],\n ['tt0094806', 2],\n ['tt0094320', 2],\n ['tt0083949', 1],\n ['tt0002894', 7],\n ['tt0120166', 2],\n ['tt0029852', 2],\n ['tt0200545', 1],\n ['tt0053719', 3],\n ['tt0021335', 1],\n ['tt0072157', 1],\n ['tt0119548', 2],\n ['tt0097499', 26],\n ['tt0278891', 1],\n ['tt0033888', 1],\n ['tt0088646', 2],\n ['tt0058331', 1],\n ['tt0061637', 2],\n ['tt0104601', 2],\n ['tt0020823', 1],\n ['tt0133122', 3],\n ['tt0892904', 3],\n ['tt0055997', 2],\n ['tt0022289', 6],\n ['tt0026167', nan],\n ['tt0053820', 2],\n ['tt0079552', 2],\n ['tt0255819', 4],\n ['tt0367546', 1],\n ['tt0255668', 2],\n ['tt0051577', 1],\n ['tt0088157', 1],\n ['tt0366182', 2],\n ['tt0033150', 1],\n ['tt1849787', 2],\n ['tt0178022', 2],\n ['tt0178356', 4],\n ['tt0099054', 2],\n ['tt0079899', 12],\n ['tt0021728', 2],\n ['tt0482499', 6],\n ['tt0153301', 6],\n ['tt0166158', 2],\n ['tt0004604', nan],\n ['tt0080801', 2],\n ['tt0008150', 1],\n ['tt0009082', 2],\n ['tt0405393', 4],\n ['tt0097670', 5],\n ['tt0255267', 2],\n ['tt0843287', 7],\n ['tt0128332', 3],\n ['tt0116480', 2],\n ['tt0304329', 4],\n ['tt0402230', 1],\n ['tt0097790', 2],\n ['tt0161362', nan],\n ['tt0055981', 1],\n ['tt0106541', 1],\n ['tt0031516', 2],\n ['tt0091513', 1],\n ['tt0173225', 'no-cast'],\n ['tt0479879', nan],\n ['tt0432762', nan],\n ['tt0087489', 7],\n ['tt1152403', 1],\n ['tt0378118', 3],\n ['tt0018713', 1],\n ['tt0074653', 5],\n ['tt0053410', 2],\n ['tt0073705', 3],\n ['tt0163238', 1],\n ['tt0320792', 1],\n ['tt1065099', 3],\n ['tt0074681', 1],\n ['tt0100742', 2],\n ['tt0255637', 1],\n ['tt0904126', 1],\n ['tt0013951', 2],\n ['tt0431408', 1],\n ['tt0426863', 1],\n ['tt0050646', 1],\n ['tt0323365', 12],\n ['tt0256351', 2],\n ['tt0043482', 2],\n ['tt0063787', 1],\n ['tt0011629', 1],\n ['tt0065361', 1],\n ['tt0465517', 1],\n ['tt0445847', 20],\n ['tt0488380', 1],\n ['tt0062755', 8],\n ['tt0234326', 7],\n ['tt0116056', 16],\n ['tt0347167', 3],\n ['tt0037657', 1],\n ['tt1263736', 1],\n ['tt0005897', 1],\n ['tt0362718', 1],\n ['tt1479388', 1],\n ['tt0072430', 1],\n ['tt1691424', 3],\n ['tt0475994', 2],\n ['tt0214042', 2],\n ['tt0090836', 2],\n ['tt0049143', 4],\n ['tt0184076', 6],\n ['tt1792799', 3],\n ['tt0039313', 2],\n ['tt0056105', 2],\n ['tt0443587', 5],\n ['tt0479697', nan],\n ['tt1829750', 2],\n ['tt0450258', 8],\n ['tt0078718', 6],\n ['tt0486219', 1],\n ['tt1516552', 2],\n ['tt0447117', 2],\n ['tt0063642', 1],\n ['tt1489877', 1],\n ['tt0191280', 2],\n ['tt0279255', 2],\n ['tt0020253', 2],\n ['tt0079239', 2],\n ['tt0046757', 3],\n ['tt1895526', 11],\n ['tt0352230', 1],\n ['tt0090366', 1],\n ['tt0175877', 6],\n ['tt0058239', 1],\n ['tt0049009', 2],\n ['tt0305952', 6],\n ['tt0114660', 9],\n ['tt0282003', 13],\n ['tt0077369', 5],\n ['tt0907842', 1],\n ['tt0063563', 2],\n ['tt1411029', 5],\n ['tt0094592', 2],\n ['tt0092033', 1],\n ['tt0434231', 2],\n ['tt0027691', 2],\n ['tt0025196', 2],\n ['tt0087015', 4],\n ['tt1391122', nan],\n ['tt14338824', 2],\n ['tt0125113', 3],\n ['tt0063849', 3],\n ['tt0048130', 1],\n ['tt0006672', 1],\n ['tt0297034', 'no-cast'],\n ['tt0012980', 2],\n ['tt0249654', 2],\n ['tt0162714', nan],\n ['tt0155561', 3],\n ['tt0118843', 3],\n ['tt0189470', 5],\n ['tt0030424', 2],\n ['tt0017369', 3],\n ['tt0758757', 2],\n ['tt0102564', 2],\n ['tt0062798', 16],\n ['tt0045817', 1],\n ['tt0041762', 1],\n ['tt0028455', 1],\n ['tt0469263', 2],\n ['tt0067800', 2],\n ['tt0060075', 3],\n ['tt0058946', 4],\n ['tt0032725', 10],\n ['tt0315394', 5],\n ['tt0084894', 7],\n ['tt0101627', 2],\n ['tt1506339', 1],\n ['tt0368645', 3],\n ['tt0835485', nan],\n ['tt0065556', 2],\n ['tt0470398', 2],\n ['tt0354104', 1],\n ['tt0343449', 2],\n ['tt1280011', 2],\n ['tt0011761', 2],\n ['tt0249131', 2],\n ['tt0152714', 3],\n ['tt0092969', 4],\n ['tt0374546', 2],\n ['tt0096775', 6],\n ['tt2032545', 1],\n ['tt0029924', 1],\n ['tt0077631', 2],\n ['tt1452628', 10],\n ['tt0112654', 4],\n ['tt0066922', 4],\n ['tt0042579', 3],\n ['tt0062108', 3],\n ['tt0203986', 2],\n ['tt0025198', 1],\n ['tt0259242', 3],\n ['tt0025605', 2],\n ['tt0469828', 3],\n ['tt0019457', 1],\n ['tt0043460', 1],\n ['tt0017632', 1],\n ['tt0033117', 1],\n ['tt0088461', 1],\n ['tt0012513', 2],\n ['tt0038262', 2],\n ['tt0319365', 4],\n ['tt0126004', 1],\n ['tt0416508', 1],\n ['tt0113283', 2],\n ['tt0120381', 1],\n ['tt0937391', 3],\n ['tt0106664', 2],\n ['tt2373668', nan],\n ['tt0112272', 1],\n ['tt1692889', 10],\n ['tt0023479', 1],\n ['tt0328832', 2],\n ['tt0047828', 2],\n ['tt0077928', 2],\n ['tt0058786', 5],\n ['tt0036505', 2],\n ['tt1697920', 1],\n ['tt0107978', 4],\n ['tt0263362', 4],\n ['tt0064135', 3],\n ['tt0392023', 6],\n ['tt2378334', nan],\n ['tt0087696', 10],\n ['tt0040744', 2],\n ['tt0004008', nan],\n ['tt0283844', 2],\n ['tt1578818', 11],\n ['tt0070374', 1],\n ['tt0065825', 2],\n ['tt0865556', 1],\n ['tt0427342', 2],\n ['tt0019466', 2],\n ['tt0099191', 'no-cast'],\n ['tt1031215', 1],\n ['tt0079094', 6],\n ['tt1132135', 3],\n ['tt1753866', 3],\n ['tt0842823', 2],\n ['tt0024199', 1],\n ['tt0078346', 8],\n ['tt0252489', 3],\n ['tt0461472', 5],\n ['tt0161292', 1],\n ['tt0144023', 8],\n ['tt0098324', 1],\n ['tt0268295', 2],\n ['tt0002920', 1],\n ['tt0368609', 'no-cast'],\n ['tt0057261', nan],\n ['tt6793656', 1],\n ['tt0064359', 1],\n ['tt0396664', 11],\n ['tt0081764', 3],\n ['tt0004472', 1],\n ['tt0028176', 5],\n ['tt0145774', 3],\n ['tt0218937', 2],\n ['tt0219224', 2],\n ['tt0120373', 3],\n ['tt0101283', 2],\n ['tt0152930', 3],\n ['tt0030289', 2],\n ['tt0024254', 3],\n ['tt0053167', 2],\n ['tt0396271', 1],\n ['tt0061687', nan],\n ['tt0102517', 14],\n ['tt0380349', 3],\n ['tt0082708', 2],\n ['tt0035361', 1],\n ['tt0066071', 1],\n ['tt0085327', 4],\n ['tt0443436', 1],\n ['tt0026711', 2],\n ['tt0408236', 2],\n ['tt0271748', 5],\n ['tt2201446', nan],\n ['tt3588012', nan],\n ['tt0043661', 3],\n ['tt0181053', 2],\n ['tt0103939', 2],\n ['tt0119807', 5],\n ['tt1202517', 4],\n ['tt0053651', 2],\n ['tt0078119', 8],\n ['tt0087298', 2],\n ['tt0023512', 2],\n ['tt0198683', 1],\n ['tt0029994', 2],\n ['tt1400528', nan],\n ['tt0066092', 2],\n ['tt0111592', 1],\n ['tt0448424', 3],\n ['tt0142393', 3],\n ['tt0053025', nan],\n ['tt0101412', 2],\n ['tt0039410', 3],\n ['tt0082017', 1],\n ['tt0067236', 2],\n ['tt0119496', 2],\n ['tt0313445', 2],\n ['tt0075825', 2],\n ['tt0037181', nan],\n ['tt0150259', 2],\n ['tt0098830', 6],\n ['tt0017850', 1],\n ['tt0039285', 2],\n ['tt1496884', 1],\n ['tt0093194', 2],\n ['tt0221344', 3],\n ['tt0968993', 9],\n ['tt0022293', 3],\n ['tt0118932', 1],\n ['tt0235963', 3],\n ['tt0058772', 1],\n ['tt0014459', 1],\n ['tt0084395', 4],\n ['tt0132539', 1],\n ['tt0014145', 2],\n ['tt0120804', 3],\n ['tt0045229', 4],\n ['tt0114129', 6],\n ['tt0108056', 1],\n ['nm0882190', 'no-cast'],\n ['tt0155502', 3],\n ['tt1664723', 1],\n ['tt0246007', 3],\n ['tt0095542', 1],\n ['tt0039437', 1],\n ['tt0110638', 1],\n ['tt0004942', 4],\n ['tt0025343', 1],\n ['tt0261167', nan],\n ['tt0044916', 2],\n ['tt0072260', 4],\n ['tt0091922', 4],\n ['tt0113759', 2],\n ['tt8942852', 1],\n ['tt0094008', 2],\n ['tt0005679', 1],\n ['tt0059466', 4],\n ['tt0466839', 1],\n ['tt0062177', 4],\n ['tt0202932', 1],\n ['tt0059250', 4],\n ['tt1305869', 3],\n ['tt0141532', 2],\n ['tt0336910', 8],\n ['tt0317307', 4],\n ['tt0069690', 2],\n ['tt0284757', 6],\n ['tt0050229', 2],\n ['tt1263704', 4],\n ['tt0027951', 2],\n ['tt0039647', 2],\n ['tt0013629', 4],\n ['tt0174476', 23],\n ['tt0058888', 4],\n ['tt1918969', nan],\n ['tt0011891', 1],\n ['tt0117622', 3],\n ['tt1786668', 13],\n ['tt0196632', 5],\n ['tt0056291', 2],\n ['tt0034888', 1],\n ['tt0056040', 2],\n ['tt0369204', 4],\n ['tt0007972', 7],\n ['tt1477171', 1],\n ['tt1003034', 5],\n ['tt0041379', 1],\n ['tt1873602', 2],\n ['tt1698537', 4],\n ['tt0175467', 4],\n ['tt0027037', 1],\n ['tt0138464', 5],\n ['tt1157620', 9],\n ['tt0315389', 2],\n ['tt0000363', 'no-cast'],\n ['tt0933033', 2],\n ['tt0237376', 13],\n ['tt0035766', 2],\n ['tt0428579', 1],\n ['tt0312883', 4],\n ['tt0046799', 1],\n ['tt0430063', 3],\n ['tt1371712', 'no-cast'],\n ['tt0287152', 2],\n ['tt0141148', 11],\n ['tt1571728', 4],\n ['tt0189630', 1],\n ['tt0028809', 1],\n ['tt0023899', 2],\n ['tt0283037', 1],\n ['tt0107214', 3],\n ['tt0370279', 2],\n ['tt0062287', 2],\n ['tt1833673', 3],\n ['tt0116442', 2],\n ['tt0068732', 1],\n ['tt0071332', nan],\n ['tt0004674', 1],\n ['tt0161583', nan],\n ['tt0021917', 2],\n ['tt0098286', 5],\n ['tt0206501', 3],\n ['tt0058155', 4],\n ['tt0064840', 1],\n ['tt0111199', 2],\n ['tt0201602', 4],\n ['tt0052706', 1],\n ['tt0466899', 5],\n ['tt0280696', 2],\n ['tt1282135', 2],\n ['tt0019074', 1],\n ['tt0054710', 1],\n ['tt0492481', 2],\n ['tt0058586', 2],\n ['tt0025720', 1],\n ['tt0049289', 1],\n ['tt0031045', 1],\n ['tt0818077', 2],\n ['tt1074201', 11],\n ['tt0067741', 5],\n ['tt0009105', nan],\n ['tt0174273', 5],\n ['tt1407061', 1],\n ['tt0118824', 2],\n ['tt0042477', 7],\n ['tt0115750', 4],\n ['tt0044420', 2],\n ['tt0839742', 4],\n ['tt0254179', 3],\n ['tt0231686', 20],\n ['tt0163983', 1],\n ['tt1046958', 9],\n ['tt0155809', 2],\n ['tt0242309', 2],\n ['tt0015312', 1],\n ['tt0040773', 1],\n ['tt0383460', nan],\n ['tt0010103', 1],\n ['tt0252221', nan],\n ['tt0051112', 2],\n ['tt0093119', 2],\n ['tt0014007', 1],\n ['tt0495411', 2],\n ['tt0107889', 2],\n ['tt0321376', 2],\n ['tt0045248', 2],\n ['tt0023016', 1],\n ['tt0062979', 2],\n ['tt0080379', 2],\n ['tt0028516', 3],\n ['tt0121442', 2],\n ['tt0053758', 2],\n ['tt0028216', 2],\n ['tt0047855', 2],\n ['tt1234586', 1],\n ['tt0053559', 4],\n ['tt0125994', nan],\n ['tt0430895', 1],\n ['tt0181658', 10],\n ['tt1583737', 2],\n ['tt0175550', 2],\n ['tt0163559', 1],\n ['tt0024547', 2],\n ['tt0039790', 2],\n ['tt0374180', 2],\n ['tt1177159', 15],\n ['tt0077952', 2],\n ['tt0026359', 3],\n ['tt0291891', 5],\n ['tt1164089', 7],\n ['tt1018723', 2],\n ['tt0109739', 2],\n ['tt0186344', 1],\n ['tt0013759', 1],\n ['tt0093166', 5],\n ['tt0018859', 2],\n ['tt0068774', 1],\n ['tt0790804', 5],\n ['tt2172955', nan],\n ['tt0896909', 3],\n ['tt0183879', 3],\n ['tt0154413', 2],\n ['tt0078907', 1],\n ['tt6823322', 2],\n ['tt0003944', 2],\n ['tt0185616', 'no-cast'],\n ['tt0114872', 3],\n ['tt0369446', 16],\n ['tt0368619', 2],\n ['tt0491232', 3],\n ['tt0907618', 2],\n ['tt0024915', 1],\n ['tt0187317', 4],\n ['tt0117201', 1],\n ['tt0088134', 2],\n ['tt0021920', 5],\n ['tt0001808', 2],\n ['tt0360051', 7],\n ['tt0368658', 3],\n ['tt1613110', 10],\n ['tt0113463', 2],\n ['tt1441912', 3],\n ['tt0081453', nan],\n ['tt0402178', 'no-cast'],\n ['tt1343362', 4],\n ['tt1007029', 1],\n ['tt0426516', 2],\n ['tt0082237', 1],\n ['tt1820446', 4],\n ['tt0113596', 2],\n ['tt0053354', 2],\n ['tt0435705', 2],\n ['tt0191185', 1],\n ['tt1773109', 1],\n ['tt0007149', 2],\n ['tt0246934', 1],\n ['tt0030341', 1],\n ['tt0006027', 1],\n ['tt1685531', 1],\n ['tt2069100', 1],\n ['tt0023847', 1],\n ['tt0249371', 14],\n ['tt0109913', 2],\n ['tt0445946', 3],\n ['tt0053987', 3],\n ['tt0093443', 2],\n ['tt0022758', 2],\n ['tt0486531', 1],\n ['tt0293088', 1],\n ['tt0173645', 1],\n ['tt0236010', 5],\n ['tt0160611', 2],\n ['tt0008004', 1],\n ['tt0032445', 1],\n ['tt0492835', 2],\n ['tt0101294', 1],\n ['tt0271383', 4],\n ['tt0254982', 5],\n ['tt0033260', 1],\n ['tt0021182', nan],\n ['tt0800320', 5],\n ['tt0089794', 4],\n ['tt0058262', 2],\n ['tt0121334', 4],\n ['tt0119173', 1],\n ['tt1068228', 5],\n ['tt0088222', 6],\n ['tt0094165', 6],\n ['tt1842347', 2],\n ['tt0787498', 1],\n ['tt0042784', 1],\n ['tt0120834', 4],\n ['tt0025893', 2],\n ['tt0071096', 2],\n ['tt0112828', 3],\n ['tt0062803', 2],\n ['tt0080157', 2],\n ['tt0091341', 5],\n ['tt1640202', 1],\n ['tt2574836', 2],\n ['tt0119644', 2],\n ['tt1746585', nan],\n ['tt0061537', 9],\n ['tt0417202', 2],\n ['tt0045077', 1],\n ['tt0050817', 2],\n ['tt0059252', 4],\n ['tt0286557', 2],\n ['tt1077071', 1],\n ['tt0169786', 3],\n ['tt0085671', 2],\n ['tt0335121', 2],\n ['tt1423953', 1],\n ['tt0089950', 1],\n ['tt0369258', 3],\n ['tt0066950', 2],\n ['tt0096294', 1],\n ['tt0045838', 2],\n ['tt0099155', 2],\n ['tt0065718', 2],\n ['tt0051184', 2],\n ['tt1646926', 2],\n ['tt0031684', 2],\n ['tt0373800', 2],\n ['tt0064916', 7],\n ['tt1291643', 9],\n ['tt0078204', 1],\n ['tt2076844', 1],\n ['tt0083168', 3],\n ['tt0049152', 4],\n ['tt0004844', 4],\n ['tt0252747', nan],\n ['tt0092559', 1],\n ['tt0087616', 1],\n ['tt0210714', 4],\n ['tt0078430', 1],\n ['tt0304628', 2],\n ['tt0052136', 1],\n ['tt1588334', 3],\n ['tt0046673', 6],\n ['tt1695800', 10],\n ['tt0057504', 2],\n ['tt0113063', 3],\n ['tt0248673', 3],\n ['tt0036135', 1],\n ['tt0056042', 2],\n ['tt2109200', 14],\n ['tt0023802', 1],\n ['tt0104609', 12],\n ['tt0423023', 4],\n ['tt0799954', 3],\n ['tt1346961', 3],\n ['tt0100557', 1],\n ['tt0370919', 9],\n ['tt0022246', 2],\n ['tt0035335', 2],\n ['tt2042447', 2],\n ['tt0076445', 1],\n ['tt1315981', 2],\n ['tt1207998', 'no-cast'],\n ['tt0044637', 2],\n ['tt5183890', 'no-cast'],\n ['tt0065912', 2],\n ['tt0425656', 3],\n ['tt1086875', 1],\n ['nm2120205', 'no-cast'],\n ['tt0255820', 1],\n ['tt5287292', 3],\n ['tt0032811', 1],\n ['tt0005163', 2],\n ['tt0004269', 3],\n ['tt0418698', 1],\n ['tt0020731', 2],\n ['tt0033389', 4],\n ['tt0366787', 1],\n ['tt2014305', 3],\n ['tt0498353', 1],\n ['tt0030457', 3],\n ['tt0090601', 3],\n ['tt0052005', 32],\n ['tt0116557', 15],\n ['tt0052069', 3],\n ['tt0339976', 4],\n ['tt2187102', nan],\n ['tt0187279', 3],\n ['tt0084171', 2],\n ['tt0258488', nan],\n ['tt0026922', 2],\n ['tt0245682', 2],\n ['tt0069052', 2],\n ['tt0054119', 2],\n ['tt8938974', 11],\n ['tt0067592', 1],\n ['tt0389337', 21],\n ['tt0011025', 7],\n ['tt0038126', 2],\n ['tt0046572', 3],\n ['tt0404330', 'no-cast'],\n ['tt0289154', 1],\n ['tt0032125', nan],\n ['tt0107331', 1],\n ['tt0455913', 4],\n ['tt0447544', 'no-cast'],\n ['tt0072651', 4],\n ['tt0039486', 2],\n ['tt0258850', 2],\n ['tt0196645', 1],\n ['tt0050483', 2],\n ['tt0430918', 2],\n ['tt1869716', 1],\n ['tt0072148', 1],\n ['tt0016353', 1],\n ['tt0342535', 6],\n ['tt0030756', 2],\n ['tt0099080', 4],\n ['tt1619037', 2],\n ['tt0814022', 41],\n ['tt0100223', 1],\n ['tt0064155', 2],\n ['tt0342543', 1],\n ['tt1106782', 2],\n ['tt0194798', 8],\n ['tt0111295', nan],\n ['tt0200720', 1],\n ['tt0061515', 2],\n ['tt0036661', 1],\n ['tt1077089', 3],\n ['tt0009018', 7],\n ['tt0106460', 3],\n ['tt0132486', 'no-cast'],\n ['tt0202985', 1],\n ['tt0084263', 1],\n ['tt0041245', 4],\n ['tt1137470', 1],\n ['tt0092206', 5],\n ['tt0495729', 3],\n ['tt0372549', nan],\n ['tt0074798', 2],\n ['tt0082869', 3],\n ['tt0025085', 1],\n ['tt1610452', 2],\n ['tt0178359', nan],\n ['tt0364800', 5],\n ['tt0042332', 1],\n ['tt4338920', nan],\n ['tt0056353', 5],\n ['tt1263797', 2],\n ['tt0119851', 7],\n ['tt1294226', 6],\n ['tt0084868', nan],\n ['tt0158580', 1],\n ['tt0005315', 2],\n ['tt0872190', 5],\n ['tt0257924', 2],\n ['tt0298390', 3],\n ['tt0414998', 1],\n ['tt0271884', 1],\n ['tt0187514', 1],\n ['tt0072667', 10],\n ['tt0057568', 2],\n ['tt3615254', 'no-cast'],\n ['tt0058385', 1],\n ['tt0119324', 3],\n ['nm0001515', 'no-cast'],\n ['tt0038023', 1],\n ['tt0167331', 3],\n ['tt0011196', 1],\n ['tt0044659', 1],\n ['tt0101263', nan],\n ['tt0050450', 2],\n ['tt0225607', 3],\n ['tt0031253', 8],\n ['tt0959281', 2],\n ['tt0434292', 1],\n ['tt0226875', 1],\n ['tt0154532', 7],\n ['tt0070377', 1],\n ['tt0226990', 1],\n ['tt1834319', 4],\n ['tt0062820', 4],\n ['tt0032285', 2],\n ['tt0036506', 1],\n ['tt0329737', 6],\n ['tt1302558', 3],\n ['tt0057055', 2],\n ['tt0090103', 2],\n ['tt0066735', 6],\n ['tt0401711', 1],\n ['tt0175312', 2],\n ['tt0435937', 3],\n ['tt0365480', 1],\n ['tt0795406', 3],\n ['tt0042623', 2],\n ['tt0025773', 2],\n ['tt0287043', 'no-cast'],\n ['tt0079679', 2],\n ['tt0096028', 9],\n ['tt0643102', 1],\n ['tt0045079', 1],\n ['tt0071216', 1],\n ['tt0240670', 2],\n ['tt1945136', nan],\n ['tt0000033', 'no-cast'],\n ['tt0071523', 2],\n ['tt0037958', nan],\n ['tt0315340', 2],\n ['tt1852904', 4],\n ['tt0157673', 1],\n ['tt0290940', 15],\n ['tt0416979', 2],\n ['tt0246959', 9],\n ['tt0082352', 1],\n ['tt0063994', 3],\n ['tt0154422', 1],\n ['tt0015268', 2],\n ['tt0310007', nan],\n ['tt0027231', 1],\n ['tt0814014', 4],\n ['tt0032653', 2],\n ['tt0388534', 1],\n ['tt0314009', 2],\n ['tt0042512', 1],\n ['tt0017918', 2],\n ['tt0107148', 1],\n ['tt0783532', 4],\n ['tt0021164', 1],\n ['tt0134328', 1],\n ['tt0057061', nan],\n ['tt0053675', 1],\n ['tt0074473', 1],\n ['tt0230141', 2],\n ['tt0493658', 1],\n ['tt0004956', 1],\n ['tt0046064', 4],\n ['tt0034862', 3],\n ['tt0110916', 4],\n ['tt0100173', 1],\n ['tt0081686', 1],\n ['tt0068702', 2],\n ['tt0493396', 10],\n ['tt0121989', 2],\n ['tt0044976', 2],\n ['tt0039041', 1],\n ['tt0053648', 1],\n ['tt0368934', 1],\n ['tt4516596', 2],\n ['tt1276104', 3],\n ['tt0004518', 3],\n ['tt0040262', 1],\n ['tt0079936', 6],\n ['tt0058352', 7],\n ['tt0073259', 1],\n ['tt0096140', 13],\n ['tt0137856', 1],\n ['tt0011899', 1],\n ['tt0079581', 1],\n ['tt0301799', 2],\n ['tt1056437', 4],\n ['tt0052676', 3],\n ['tt0054745', 2],\n ['tt0106694', 'no-cast'],\n ['tt0285610', nan],\n ['tt0006064', 1],\n ['tt0023640', 2],\n ['tt0084672', 2],\n ['tt0031174', 2],\n ['tt0082177', 2],\n ['tt0022008', nan],\n ['tt0102328', 2],\n ['tt1773039', 1],\n ['tt0028370', 1],\n ['tt0325123', 3],\n ['tt0026230', 3],\n ['tt0099625', 4],\n ['tt0101531', 6],\n ['tt0086379', 5],\n ['tt0178312', 1],\n ['tt0303985', 2],\n ['tt0091538', 2],\n ['tt0033288', 1],\n ['tt0237094', 19],\n ['tt0243992', 1],\n ['tt0473024', 3],\n ['tt0291781', 4],\n ['tt0023613', nan],\n ['tt0820971', 8],\n ['tt0314429', nan],\n ['tt0030284', 1],\n ['tt0095810', 2],\n ['tt0178288', 4],\n ['tt0041154', 2],\n ['tt0038588', 1],\n ['tt0051849', 2],\n ['tt0045922', 2],\n ['tt0034281', 2],\n ['tt0126916', 2],\n ['tt0114858', 11],\n ['tt0045754', 2],\n ['tt0057578', 2],\n ['tt0099188', 2],\n ['tt0381341', 1],\n ['tt2266938', 7],\n ['tt0042355', 1],\n ['tt0177576', 2],\n ['tt0043369', 6],\n ['tt0232613', 1],\n ['tt0053143', 3],\n ['tt0042432', 2],\n ['tt0090106', 1],\n ['tt0032581', 1],\n ['tt0060277', 2],\n ['tt0220506', 1],\n ['tt0035814', 3],\n ['tt0178310', 3],\n ['tt0194727', 2],\n ['tt0906013', 1],\n ['tt1534564', 1],\n ['tt2008493', 4],\n ['tt0051181', 2],\n ['tt0020197', 8],\n ['tt0042513', 1],\n ['tt0135180', nan],\n ['tt0035211', 2],\n ['tt0188435', 1],\n ['tt0060869', nan],\n ['tt0315356', 7],\n ['tt0051393', 3],\n ['tt0023225', 4],\n ['tt0054421', 3],\n ['tt0023937', 2],\n ['tt0157039', 3],\n ['tt0818899', 3],\n ['tt0087805', 2],\n ['tt0085253', 1],\n ['tt0022660', 5],\n ['tt0064145', 1],\n ['tt1787988', 2],\n ['tt0075711', 'no-cast'],\n ['nm0622334', 'no-cast'],\n ['tt0194795', 2],\n ['tt0013768', 1],\n ['tt0027536', 4],\n ['tt0024123', 2],\n ['tt0081609', 1],\n ['tt0025546', 2],\n ['tt0406706', 9],\n ['tt0081404', 17],\n ['tt0282810', 2],\n ['tt0104706', nan],\n ['tt0115788', 3],\n ['tt1341726', 4],\n ['tt0050965', 1],\n ['tt0055139', 2],\n ['tt0286004', 3],\n ['tt0053717', 2],\n ['tt0463963', 4],\n ['tt0060662', 2],\n ['tt0405980', 4],\n ['tt0049849', 2],\n ['tt0460829', 1],\n ['tt0331952', 2],\n ['tt0078386', 3],\n ['tt0020493', 1],\n ['tt0079570', 1],\n ['tt0259423', 3],\n ['tt0063115', 3],\n ['tt0081062', 5],\n ['tt0182701', 5],\n ['tt0064154', 1],\n ['tt0050738', 1],\n ['tt0087590', 19],\n ['tt0005344', 2],\n ['tt0459438', 3],\n ['tt0004545', 1],\n ['tt0024236', 1],\n ['tt0252214', nan],\n ['tt0077117', 2],\n ['tt0089539', 2],\n ['tt0006731', 1],\n ['tt0024310', 1],\n ['tt0299605', 3],\n ['tt0345623', 10],\n ['tt8437350', nan],\n ['tt0044141', 2],\n ['tt0386651', 3],\n ['tt0035360', 4],\n ['tt0002442', 1],\n ['tt0101420', 2],\n ['tt0106931', 2],\n ['tt0371552', 3],\n ['tt0037323', 1],\n ['tt0037099', 1],\n ['tt0181699', 2],\n ['tt0294289', 2],\n ['tt0000074', 'no-cast'],\n ['tt1857816', 'no-cast'],\n ['tt8224650', 3],\n ['tt1218345', 5],\n ['tt0038394', 5],\n ['tt0266452', 3],\n ['tt0160344', 4],\n ['tt0995827', 2],\n ['tt0928188', 3],\n ['tt0453501', 10],\n ['tt0245655', 1],\n ['tt0043540', 29],\n ['tt0457701', 2],\n ['tt0133196', 6],\n ['tt0053433', 1],\n ['tt0087903', 4],\n ['tt1756595', 6],\n ['tt0097044', 4],\n ['tt0169904', 3],\n ['tt1382654', 2],\n ['tt0091027', 5],\n ['tt0072895', 5],\n ['tt0197959', 6],\n ['tt0048355', 1],\n ['tt0140803', 1],\n ['tt0088970', 3],\n ['tt0176269', 3],\n ['tt0269139', 2],\n ['tt0382178', 2],\n ['tt0107296', 3],\n ['tt0024961', 2],\n ['tt0067647', 2],\n ['tt0108558', 2],\n ['tt0083034', 2]]"
     },
     "execution_count": 7,
     "metadata": {},
     "output_type": "execute_result"
    }
   ],
   "source": [
    "W_apperance"
   ],
   "metadata": {
    "collapsed": false
   }
  },
  {
   "cell_type": "code",
   "execution_count": null,
   "outputs": [],
   "source": [],
   "metadata": {
    "collapsed": false
   }
  }
 ],
 "metadata": {
  "kernelspec": {
   "display_name": "Python 3.9.13 ('ADA')",
   "language": "python",
   "name": "python3"
  },
  "language_info": {
   "codemirror_mode": {
    "name": "ipython",
    "version": 3
   },
   "file_extension": ".py",
   "mimetype": "text/x-python",
   "name": "python",
   "nbconvert_exporter": "python",
   "pygments_lexer": "ipython3",
   "version": "3.9.13"
  },
  "orig_nbformat": 4,
  "vscode": {
   "interpreter": {
    "hash": "089cfcd4264fe39dc31c0f840639cd83918e5a2bf65ff68f38fd121a2da32c07"
   }
  }
 },
 "nbformat": 4,
 "nbformat_minor": 2
}
