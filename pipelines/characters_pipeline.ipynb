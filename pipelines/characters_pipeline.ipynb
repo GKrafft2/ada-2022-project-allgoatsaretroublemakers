{
 "cells": [
  {
   "cell_type": "code",
   "execution_count": 2,
   "metadata": {
    "collapsed": true
   },
   "outputs": [],
   "source": [
    "import math\n",
    "import pickle\n",
    "import requests\n",
    "import pandas as pd\n",
    "import seaborn as sns\n",
    "import numpy as np\n",
    "import matplotlib.pyplot as plt\n",
    "from tqdm import tqdm\n",
    "%matplotlib inline\n",
    "\n",
    "from multiprocessing import Pool"
   ]
  },
  {
   "cell_type": "code",
   "execution_count": 33,
   "outputs": [],
   "source": [
    "data_folder = '../data/'\n",
    "pickle_folder = '../data/pickles/'"
   ],
   "metadata": {
    "collapsed": false
   }
  },
  {
   "cell_type": "code",
   "execution_count": 2,
   "outputs": [
    {
     "data": {
      "text/plain": "        movie_wiki_id movie_freebase_id release_date_cmu  \\\n0              975900         /m/03vyhn       2001-08-24   \n1              975900         /m/03vyhn       2001-08-24   \n2              975900         /m/03vyhn       2001-08-24   \n3              975900         /m/03vyhn       2001-08-24   \n4              975900         /m/03vyhn       2001-08-24   \n...               ...               ...              ...   \n450664         913762         /m/03pcrp       1992-05-21   \n450665         913762         /m/03pcrp       1992-05-21   \n450666       28308153        /m/0cp05t9             1957   \n450667       28308153        /m/0cp05t9             1957   \n450668       28308153        /m/0cp05t9             1957   \n\n                    character_name   birth_cmu gender_cmu  height   ethnicity  \\\n0                         Akooshay  1958-08-26          F   1.620         NaN   \n1       Lieutenant Melanie Ballard  1974-08-15          F   1.780  /m/044038p   \n2              Desolation Williams  1969-06-15          M   1.727     /m/0x67   \n3               Sgt Jericho Butler  1967-09-12          M   1.750         NaN   \n4                  Bashira Kincaid  1977-09-25          F   1.650         NaN   \n...                            ...         ...        ...     ...         ...   \n450664                      Elensh     1970-05          F     NaN         NaN   \n450665                      Hibiki  1965-04-12          M     NaN         NaN   \n450666                         NaN  1941-11-18          M   1.730   /m/02w7gg   \n450667                         NaN         NaN        NaN     NaN         NaN   \n450668                         NaN         NaN        NaN     NaN         NaN   \n\n                actor_name  actor_age freebase_character_actor_map_id  \\\n0           Wanda De Jesus       42.0                      /m/0bgchxw   \n1       Natasha Henstridge       27.0                       /m/0jys3m   \n2                 Ice Cube       32.0                       /m/0jys3g   \n3            Jason Statham       33.0                      /m/02vchl6   \n4              Clea DuVall       23.0                      /m/02vbb3r   \n...                    ...        ...                             ...   \n450664  Dorothy Elias-Fahn        NaN                      /m/0kr406c   \n450665       Jonathan Fahn       27.0                      /m/0kr405_   \n450666      David Hemmings       15.0                      /m/0g8ngmc   \n450667    Roberta Paterson        NaN                      /m/0g8ngmj   \n450668         John Rogers        NaN                      /m/0g8ngmw   \n\n       freebase_character_id freebase_actor_id  \n0                 /m/0bgcj3x        /m/03wcfv7  \n1                 /m/0bgchn4         /m/0346l4  \n2                 /m/0bgchn_        /m/01vw26l  \n3                 /m/0bgchnq         /m/034hyc  \n4                 /m/0bgchp9         /m/01y9xg  \n...                      ...               ...  \n450664            /m/0kr406h         /m/0b_vcv  \n450665            /m/0kr4090         /m/0bx7_j  \n450666                   NaN         /m/022g44  \n450667                   NaN        /m/0g8ngmm  \n450668                   NaN        /m/0btz19d  \n\n[450669 rows x 13 columns]",
      "text/html": "<div>\n<style scoped>\n    .dataframe tbody tr th:only-of-type {\n        vertical-align: middle;\n    }\n\n    .dataframe tbody tr th {\n        vertical-align: top;\n    }\n\n    .dataframe thead th {\n        text-align: right;\n    }\n</style>\n<table border=\"1\" class=\"dataframe\">\n  <thead>\n    <tr style=\"text-align: right;\">\n      <th></th>\n      <th>movie_wiki_id</th>\n      <th>movie_freebase_id</th>\n      <th>release_date_cmu</th>\n      <th>character_name</th>\n      <th>birth_cmu</th>\n      <th>gender_cmu</th>\n      <th>height</th>\n      <th>ethnicity</th>\n      <th>actor_name</th>\n      <th>actor_age</th>\n      <th>freebase_character_actor_map_id</th>\n      <th>freebase_character_id</th>\n      <th>freebase_actor_id</th>\n    </tr>\n  </thead>\n  <tbody>\n    <tr>\n      <th>0</th>\n      <td>975900</td>\n      <td>/m/03vyhn</td>\n      <td>2001-08-24</td>\n      <td>Akooshay</td>\n      <td>1958-08-26</td>\n      <td>F</td>\n      <td>1.620</td>\n      <td>NaN</td>\n      <td>Wanda De Jesus</td>\n      <td>42.0</td>\n      <td>/m/0bgchxw</td>\n      <td>/m/0bgcj3x</td>\n      <td>/m/03wcfv7</td>\n    </tr>\n    <tr>\n      <th>1</th>\n      <td>975900</td>\n      <td>/m/03vyhn</td>\n      <td>2001-08-24</td>\n      <td>Lieutenant Melanie Ballard</td>\n      <td>1974-08-15</td>\n      <td>F</td>\n      <td>1.780</td>\n      <td>/m/044038p</td>\n      <td>Natasha Henstridge</td>\n      <td>27.0</td>\n      <td>/m/0jys3m</td>\n      <td>/m/0bgchn4</td>\n      <td>/m/0346l4</td>\n    </tr>\n    <tr>\n      <th>2</th>\n      <td>975900</td>\n      <td>/m/03vyhn</td>\n      <td>2001-08-24</td>\n      <td>Desolation Williams</td>\n      <td>1969-06-15</td>\n      <td>M</td>\n      <td>1.727</td>\n      <td>/m/0x67</td>\n      <td>Ice Cube</td>\n      <td>32.0</td>\n      <td>/m/0jys3g</td>\n      <td>/m/0bgchn_</td>\n      <td>/m/01vw26l</td>\n    </tr>\n    <tr>\n      <th>3</th>\n      <td>975900</td>\n      <td>/m/03vyhn</td>\n      <td>2001-08-24</td>\n      <td>Sgt Jericho Butler</td>\n      <td>1967-09-12</td>\n      <td>M</td>\n      <td>1.750</td>\n      <td>NaN</td>\n      <td>Jason Statham</td>\n      <td>33.0</td>\n      <td>/m/02vchl6</td>\n      <td>/m/0bgchnq</td>\n      <td>/m/034hyc</td>\n    </tr>\n    <tr>\n      <th>4</th>\n      <td>975900</td>\n      <td>/m/03vyhn</td>\n      <td>2001-08-24</td>\n      <td>Bashira Kincaid</td>\n      <td>1977-09-25</td>\n      <td>F</td>\n      <td>1.650</td>\n      <td>NaN</td>\n      <td>Clea DuVall</td>\n      <td>23.0</td>\n      <td>/m/02vbb3r</td>\n      <td>/m/0bgchp9</td>\n      <td>/m/01y9xg</td>\n    </tr>\n    <tr>\n      <th>...</th>\n      <td>...</td>\n      <td>...</td>\n      <td>...</td>\n      <td>...</td>\n      <td>...</td>\n      <td>...</td>\n      <td>...</td>\n      <td>...</td>\n      <td>...</td>\n      <td>...</td>\n      <td>...</td>\n      <td>...</td>\n      <td>...</td>\n    </tr>\n    <tr>\n      <th>450664</th>\n      <td>913762</td>\n      <td>/m/03pcrp</td>\n      <td>1992-05-21</td>\n      <td>Elensh</td>\n      <td>1970-05</td>\n      <td>F</td>\n      <td>NaN</td>\n      <td>NaN</td>\n      <td>Dorothy Elias-Fahn</td>\n      <td>NaN</td>\n      <td>/m/0kr406c</td>\n      <td>/m/0kr406h</td>\n      <td>/m/0b_vcv</td>\n    </tr>\n    <tr>\n      <th>450665</th>\n      <td>913762</td>\n      <td>/m/03pcrp</td>\n      <td>1992-05-21</td>\n      <td>Hibiki</td>\n      <td>1965-04-12</td>\n      <td>M</td>\n      <td>NaN</td>\n      <td>NaN</td>\n      <td>Jonathan Fahn</td>\n      <td>27.0</td>\n      <td>/m/0kr405_</td>\n      <td>/m/0kr4090</td>\n      <td>/m/0bx7_j</td>\n    </tr>\n    <tr>\n      <th>450666</th>\n      <td>28308153</td>\n      <td>/m/0cp05t9</td>\n      <td>1957</td>\n      <td>NaN</td>\n      <td>1941-11-18</td>\n      <td>M</td>\n      <td>1.730</td>\n      <td>/m/02w7gg</td>\n      <td>David Hemmings</td>\n      <td>15.0</td>\n      <td>/m/0g8ngmc</td>\n      <td>NaN</td>\n      <td>/m/022g44</td>\n    </tr>\n    <tr>\n      <th>450667</th>\n      <td>28308153</td>\n      <td>/m/0cp05t9</td>\n      <td>1957</td>\n      <td>NaN</td>\n      <td>NaN</td>\n      <td>NaN</td>\n      <td>NaN</td>\n      <td>NaN</td>\n      <td>Roberta Paterson</td>\n      <td>NaN</td>\n      <td>/m/0g8ngmj</td>\n      <td>NaN</td>\n      <td>/m/0g8ngmm</td>\n    </tr>\n    <tr>\n      <th>450668</th>\n      <td>28308153</td>\n      <td>/m/0cp05t9</td>\n      <td>1957</td>\n      <td>NaN</td>\n      <td>NaN</td>\n      <td>NaN</td>\n      <td>NaN</td>\n      <td>NaN</td>\n      <td>John Rogers</td>\n      <td>NaN</td>\n      <td>/m/0g8ngmw</td>\n      <td>NaN</td>\n      <td>/m/0btz19d</td>\n    </tr>\n  </tbody>\n</table>\n<p>450669 rows × 13 columns</p>\n</div>"
     },
     "execution_count": 2,
     "metadata": {},
     "output_type": "execute_result"
    }
   ],
   "source": [
    "characters = pd.read_table(data_folder + 'MovieSummaries/character.metadata.tsv',names=['movie_wiki_id', 'movie_freebase_id', 'release_date_cmu', 'character_name', 'birth_cmu', 'gender_cmu', 'height', 'ethnicity', 'actor_name', 'actor_age', 'freebase_character_actor_map_id', 'freebase_character_id', 'freebase_actor_id' ] , sep='\\t', index_col=False)\n",
    "characters"
   ],
   "metadata": {
    "collapsed": false
   }
  },
  {
   "cell_type": "code",
   "execution_count": 61,
   "outputs": [
    {
     "data": {
      "text/plain": "   movie_wiki_id movie_freebase_id release_date_cmu  \\\n0         975900         /m/03vyhn       2001-08-24   \n1         975900         /m/03vyhn       2001-08-24   \n2         975900         /m/03vyhn       2001-08-24   \n3         975900         /m/03vyhn       2001-08-24   \n4         975900         /m/03vyhn       2001-08-24   \n\n               character_name   birth_cmu gender_cmu  height   ethnicity  \\\n0                    Akooshay  1958-08-26          F   1.620         NaN   \n1  Lieutenant Melanie Ballard  1974-08-15          F   1.780  /m/044038p   \n2         Desolation Williams  1969-06-15          M   1.727     /m/0x67   \n3          Sgt Jericho Butler  1967-09-12          M   1.750         NaN   \n4             Bashira Kincaid  1977-09-25          F   1.650         NaN   \n\n           actor_name  actor_age freebase_character_actor_map_id  \\\n0      Wanda De Jesus       42.0                      /m/0bgchxw   \n1  Natasha Henstridge       27.0                       /m/0jys3m   \n2            Ice Cube       32.0                       /m/0jys3g   \n3       Jason Statham       33.0                      /m/02vchl6   \n4         Clea DuVall       23.0                      /m/02vbb3r   \n\n  freebase_character_id freebase_actor_id  \n0            /m/0bgcj3x        /m/03wcfv7  \n1            /m/0bgchn4         /m/0346l4  \n2            /m/0bgchn_        /m/01vw26l  \n3            /m/0bgchnq         /m/034hyc  \n4            /m/0bgchp9         /m/01y9xg  ",
      "text/html": "<div>\n<style scoped>\n    .dataframe tbody tr th:only-of-type {\n        vertical-align: middle;\n    }\n\n    .dataframe tbody tr th {\n        vertical-align: top;\n    }\n\n    .dataframe thead th {\n        text-align: right;\n    }\n</style>\n<table border=\"1\" class=\"dataframe\">\n  <thead>\n    <tr style=\"text-align: right;\">\n      <th></th>\n      <th>movie_wiki_id</th>\n      <th>movie_freebase_id</th>\n      <th>release_date_cmu</th>\n      <th>character_name</th>\n      <th>birth_cmu</th>\n      <th>gender_cmu</th>\n      <th>height</th>\n      <th>ethnicity</th>\n      <th>actor_name</th>\n      <th>actor_age</th>\n      <th>freebase_character_actor_map_id</th>\n      <th>freebase_character_id</th>\n      <th>freebase_actor_id</th>\n    </tr>\n  </thead>\n  <tbody>\n    <tr>\n      <th>0</th>\n      <td>975900</td>\n      <td>/m/03vyhn</td>\n      <td>2001-08-24</td>\n      <td>Akooshay</td>\n      <td>1958-08-26</td>\n      <td>F</td>\n      <td>1.620</td>\n      <td>NaN</td>\n      <td>Wanda De Jesus</td>\n      <td>42.0</td>\n      <td>/m/0bgchxw</td>\n      <td>/m/0bgcj3x</td>\n      <td>/m/03wcfv7</td>\n    </tr>\n    <tr>\n      <th>1</th>\n      <td>975900</td>\n      <td>/m/03vyhn</td>\n      <td>2001-08-24</td>\n      <td>Lieutenant Melanie Ballard</td>\n      <td>1974-08-15</td>\n      <td>F</td>\n      <td>1.780</td>\n      <td>/m/044038p</td>\n      <td>Natasha Henstridge</td>\n      <td>27.0</td>\n      <td>/m/0jys3m</td>\n      <td>/m/0bgchn4</td>\n      <td>/m/0346l4</td>\n    </tr>\n    <tr>\n      <th>2</th>\n      <td>975900</td>\n      <td>/m/03vyhn</td>\n      <td>2001-08-24</td>\n      <td>Desolation Williams</td>\n      <td>1969-06-15</td>\n      <td>M</td>\n      <td>1.727</td>\n      <td>/m/0x67</td>\n      <td>Ice Cube</td>\n      <td>32.0</td>\n      <td>/m/0jys3g</td>\n      <td>/m/0bgchn_</td>\n      <td>/m/01vw26l</td>\n    </tr>\n    <tr>\n      <th>3</th>\n      <td>975900</td>\n      <td>/m/03vyhn</td>\n      <td>2001-08-24</td>\n      <td>Sgt Jericho Butler</td>\n      <td>1967-09-12</td>\n      <td>M</td>\n      <td>1.750</td>\n      <td>NaN</td>\n      <td>Jason Statham</td>\n      <td>33.0</td>\n      <td>/m/02vchl6</td>\n      <td>/m/0bgchnq</td>\n      <td>/m/034hyc</td>\n    </tr>\n    <tr>\n      <th>4</th>\n      <td>975900</td>\n      <td>/m/03vyhn</td>\n      <td>2001-08-24</td>\n      <td>Bashira Kincaid</td>\n      <td>1977-09-25</td>\n      <td>F</td>\n      <td>1.650</td>\n      <td>NaN</td>\n      <td>Clea DuVall</td>\n      <td>23.0</td>\n      <td>/m/02vbb3r</td>\n      <td>/m/0bgchp9</td>\n      <td>/m/01y9xg</td>\n    </tr>\n  </tbody>\n</table>\n</div>"
     },
     "execution_count": 61,
     "metadata": {},
     "output_type": "execute_result"
    }
   ],
   "source": [
    "characters['birth_cmu'] = pd.to_datetime(characters.birth_cmu, errors='ignore')\n",
    "characters.head()"
   ],
   "metadata": {
    "collapsed": false
   }
  },
  {
   "cell_type": "code",
   "execution_count": 6,
   "outputs": [
    {
     "data": {
      "text/plain": "  freebase_id wikidata_id\n0    /m/0695j       Q6718\n1    /m/05nrg        Q538\n2     /m/0jgd        Q414\n3    /m/0d_23       Q2537\n4    /m/04g7d        Q315",
      "text/html": "<div>\n<style scoped>\n    .dataframe tbody tr th:only-of-type {\n        vertical-align: middle;\n    }\n\n    .dataframe tbody tr th {\n        vertical-align: top;\n    }\n\n    .dataframe thead th {\n        text-align: right;\n    }\n</style>\n<table border=\"1\" class=\"dataframe\">\n  <thead>\n    <tr style=\"text-align: right;\">\n      <th></th>\n      <th>freebase_id</th>\n      <th>wikidata_id</th>\n    </tr>\n  </thead>\n  <tbody>\n    <tr>\n      <th>0</th>\n      <td>/m/0695j</td>\n      <td>Q6718</td>\n    </tr>\n    <tr>\n      <th>1</th>\n      <td>/m/05nrg</td>\n      <td>Q538</td>\n    </tr>\n    <tr>\n      <th>2</th>\n      <td>/m/0jgd</td>\n      <td>Q414</td>\n    </tr>\n    <tr>\n      <th>3</th>\n      <td>/m/0d_23</td>\n      <td>Q2537</td>\n    </tr>\n    <tr>\n      <th>4</th>\n      <td>/m/04g7d</td>\n      <td>Q315</td>\n    </tr>\n  </tbody>\n</table>\n</div>"
     },
     "execution_count": 6,
     "metadata": {},
     "output_type": "execute_result"
    }
   ],
   "source": [
    "freebase_wd_mapping = pickle.load(open(pickle_folder + 'freebase_to_wikidata.p', 'rb'))\n",
    "freebase_wd_mapping.head()"
   ],
   "metadata": {
    "collapsed": false
   }
  },
  {
   "cell_type": "markdown",
   "source": [
    "# Ethnicity from wikidata"
   ],
   "metadata": {
    "collapsed": false
   }
  },
  {
   "cell_type": "code",
   "execution_count": 29,
   "outputs": [
    {
     "data": {
      "text/plain": "array(['Q49085', 'Q120601', 'Q7325', 'Q1075293', 'Q2643509'], dtype=object)"
     },
     "execution_count": 29,
     "metadata": {},
     "output_type": "execute_result"
    }
   ],
   "source": [
    "ethnicity_wd_id = pd.merge(characters, freebase_wd_mapping, left_on='ethnicity', right_on='freebase_id', how='left')[['ethnicity', 'wikidata_id']]\n",
    "unique_wikidata_id = ethnicity_wd_id.wikidata_id.unique()\n",
    "unique_wikidata_id[1:6]"
   ],
   "metadata": {
    "collapsed": false
   }
  },
  {
   "cell_type": "code",
   "execution_count": 39,
   "outputs": [
    {
     "name": "stderr",
     "output_type": "stream",
     "text": [
      "  0%|          | 0/355 [00:00<?, ?it/s]"
     ]
    },
    {
     "name": "stdout",
     "output_type": "stream",
     "text": [
      "400\n"
     ]
    },
    {
     "name": "stderr",
     "output_type": "stream",
     "text": [
      "100%|██████████| 355/355 [00:19<00:00, 18.14it/s]\n"
     ]
    }
   ],
   "source": [
    "def get_wikidata(id):\n",
    "    json_id = requests.get(f'https://www.wikidata.org/wiki/Special:EntityData/{id}.json')\n",
    "    if json_id.ok:\n",
    "        json_id = json_id.json()\n",
    "        key = list(json_id['entities'].keys())[0]\n",
    "        try:\n",
    "            return [id, json_id['entities'][key]['labels']['en']['value']]\n",
    "        except:\n",
    "            return [id, np.nan]\n",
    "    else:\n",
    "        print(json_id.status_code)\n",
    "        return [id, np.nan]\n",
    "    # return json_id['entities'][id]['labels']['en']['value']\n",
    "\n",
    "\n",
    "total_len = len(unique_wikidata_id)\n",
    "\n",
    "collection = []\n",
    "\n",
    "with Pool(6) as p:\n",
    "    collection =  list(tqdm(p.imap(get_wikidata, unique_wikidata_id), total=total_len, smoothing=0.0))\n",
    "pickle.dump(collection, open(f'temp_ethnicity_names.p','wb'))\n"
   ],
   "metadata": {
    "collapsed": false
   }
  },
  {
   "cell_type": "code",
   "execution_count": 4,
   "outputs": [],
   "source": [
    "collection = pickle.load(open(f'temp_ethnicity_names.p','rb'))"
   ],
   "metadata": {
    "collapsed": false
   }
  },
  {
   "cell_type": "code",
   "execution_count": 5,
   "outputs": [
    {
     "data": {
      "text/plain": "          0                  1\n0       NaN                NaN\n1    Q49085  African Americans\n2   Q120601       Omaha people\n3     Q7325      Jewish people\n4  Q1075293    Irish Americans",
      "text/html": "<div>\n<style scoped>\n    .dataframe tbody tr th:only-of-type {\n        vertical-align: middle;\n    }\n\n    .dataframe tbody tr th {\n        vertical-align: top;\n    }\n\n    .dataframe thead th {\n        text-align: right;\n    }\n</style>\n<table border=\"1\" class=\"dataframe\">\n  <thead>\n    <tr style=\"text-align: right;\">\n      <th></th>\n      <th>0</th>\n      <th>1</th>\n    </tr>\n  </thead>\n  <tbody>\n    <tr>\n      <th>0</th>\n      <td>NaN</td>\n      <td>NaN</td>\n    </tr>\n    <tr>\n      <th>1</th>\n      <td>Q49085</td>\n      <td>African Americans</td>\n    </tr>\n    <tr>\n      <th>2</th>\n      <td>Q120601</td>\n      <td>Omaha people</td>\n    </tr>\n    <tr>\n      <th>3</th>\n      <td>Q7325</td>\n      <td>Jewish people</td>\n    </tr>\n    <tr>\n      <th>4</th>\n      <td>Q1075293</td>\n      <td>Irish Americans</td>\n    </tr>\n  </tbody>\n</table>\n</div>"
     },
     "execution_count": 5,
     "metadata": {},
     "output_type": "execute_result"
    }
   ],
   "source": [
    "wd_to_ethicity = pd.DataFrame(collection)\n",
    "wd_to_ethicity.head()"
   ],
   "metadata": {
    "collapsed": false
   }
  },
  {
   "cell_type": "code",
   "execution_count": 62,
   "outputs": [
    {
     "data": {
      "text/plain": "         actor_name          ethnicity\n2          Ice Cube  African Americans\n5         Pam Grier  African Americans\n11  Rodney A. Grant       Omaha people\n27      Albert Hall  African Americans\n55       Seth Green      Jewish people",
      "text/html": "<div>\n<style scoped>\n    .dataframe tbody tr th:only-of-type {\n        vertical-align: middle;\n    }\n\n    .dataframe tbody tr th {\n        vertical-align: top;\n    }\n\n    .dataframe thead th {\n        text-align: right;\n    }\n</style>\n<table border=\"1\" class=\"dataframe\">\n  <thead>\n    <tr style=\"text-align: right;\">\n      <th></th>\n      <th>actor_name</th>\n      <th>ethnicity</th>\n    </tr>\n  </thead>\n  <tbody>\n    <tr>\n      <th>2</th>\n      <td>Ice Cube</td>\n      <td>African Americans</td>\n    </tr>\n    <tr>\n      <th>5</th>\n      <td>Pam Grier</td>\n      <td>African Americans</td>\n    </tr>\n    <tr>\n      <th>11</th>\n      <td>Rodney A. Grant</td>\n      <td>Omaha people</td>\n    </tr>\n    <tr>\n      <th>27</th>\n      <td>Albert Hall</td>\n      <td>African Americans</td>\n    </tr>\n    <tr>\n      <th>55</th>\n      <td>Seth Green</td>\n      <td>Jewish people</td>\n    </tr>\n  </tbody>\n</table>\n</div>"
     },
     "execution_count": 62,
     "metadata": {},
     "output_type": "execute_result"
    }
   ],
   "source": [
    "characters = pd.merge(pd.merge(characters, freebase_wd_mapping, left_on='ethnicity', right_on='freebase_id', how='left').drop('ethnicity', axis=1), wd_to_ethicity, left_on='wikidata_id', right_on=0, how='left').drop(['wikidata_id', 0], axis=1).rename({1: 'ethnicity'},axis=1)\n",
    "characters[['actor_name', 'ethnicity']].loc[characters.ethnicity.notna()].head()"
   ],
   "metadata": {
    "collapsed": false
   }
  },
  {
   "cell_type": "code",
   "execution_count": 40,
   "outputs": [],
   "source": [
    "pickle.dump(characters, open('characters_w_ethnicity.p', 'wb'))"
   ],
   "metadata": {
    "collapsed": false
   }
  },
  {
   "cell_type": "code",
   "execution_count": 42,
   "outputs": [
    {
     "data": {
      "text/plain": "   movie_wiki_id movie_freebase_id release_date_cmu  \\\n0         975900         /m/03vyhn       2001-08-24   \n1         975900         /m/03vyhn       2001-08-24   \n2         975900         /m/03vyhn       2001-08-24   \n3         975900         /m/03vyhn       2001-08-24   \n4         975900         /m/03vyhn       2001-08-24   \n\n               character_name   birth_cmu gender_cmu  height  \\\n0                    Akooshay  1958-08-26          F   1.620   \n1  Lieutenant Melanie Ballard  1974-08-15          F   1.780   \n2         Desolation Williams  1969-06-15          M   1.727   \n3          Sgt Jericho Butler  1967-09-12          M   1.750   \n4             Bashira Kincaid  1977-09-25          F   1.650   \n\n           actor_name  actor_age freebase_character_actor_map_id  \\\n0      Wanda De Jesus       42.0                      /m/0bgchxw   \n1  Natasha Henstridge       27.0                       /m/0jys3m   \n2            Ice Cube       32.0                       /m/0jys3g   \n3       Jason Statham       33.0                      /m/02vchl6   \n4         Clea DuVall       23.0                      /m/02vbb3r   \n\n  freebase_character_id freebase_actor_id          ethnicity  \n0            /m/0bgcj3x        /m/03wcfv7                NaN  \n1            /m/0bgchn4         /m/0346l4                NaN  \n2            /m/0bgchn_        /m/01vw26l  African Americans  \n3            /m/0bgchnq         /m/034hyc                NaN  \n4            /m/0bgchp9         /m/01y9xg                NaN  ",
      "text/html": "<div>\n<style scoped>\n    .dataframe tbody tr th:only-of-type {\n        vertical-align: middle;\n    }\n\n    .dataframe tbody tr th {\n        vertical-align: top;\n    }\n\n    .dataframe thead th {\n        text-align: right;\n    }\n</style>\n<table border=\"1\" class=\"dataframe\">\n  <thead>\n    <tr style=\"text-align: right;\">\n      <th></th>\n      <th>movie_wiki_id</th>\n      <th>movie_freebase_id</th>\n      <th>release_date_cmu</th>\n      <th>character_name</th>\n      <th>birth_cmu</th>\n      <th>gender_cmu</th>\n      <th>height</th>\n      <th>actor_name</th>\n      <th>actor_age</th>\n      <th>freebase_character_actor_map_id</th>\n      <th>freebase_character_id</th>\n      <th>freebase_actor_id</th>\n      <th>ethnicity</th>\n    </tr>\n  </thead>\n  <tbody>\n    <tr>\n      <th>0</th>\n      <td>975900</td>\n      <td>/m/03vyhn</td>\n      <td>2001-08-24</td>\n      <td>Akooshay</td>\n      <td>1958-08-26</td>\n      <td>F</td>\n      <td>1.620</td>\n      <td>Wanda De Jesus</td>\n      <td>42.0</td>\n      <td>/m/0bgchxw</td>\n      <td>/m/0bgcj3x</td>\n      <td>/m/03wcfv7</td>\n      <td>NaN</td>\n    </tr>\n    <tr>\n      <th>1</th>\n      <td>975900</td>\n      <td>/m/03vyhn</td>\n      <td>2001-08-24</td>\n      <td>Lieutenant Melanie Ballard</td>\n      <td>1974-08-15</td>\n      <td>F</td>\n      <td>1.780</td>\n      <td>Natasha Henstridge</td>\n      <td>27.0</td>\n      <td>/m/0jys3m</td>\n      <td>/m/0bgchn4</td>\n      <td>/m/0346l4</td>\n      <td>NaN</td>\n    </tr>\n    <tr>\n      <th>2</th>\n      <td>975900</td>\n      <td>/m/03vyhn</td>\n      <td>2001-08-24</td>\n      <td>Desolation Williams</td>\n      <td>1969-06-15</td>\n      <td>M</td>\n      <td>1.727</td>\n      <td>Ice Cube</td>\n      <td>32.0</td>\n      <td>/m/0jys3g</td>\n      <td>/m/0bgchn_</td>\n      <td>/m/01vw26l</td>\n      <td>African Americans</td>\n    </tr>\n    <tr>\n      <th>3</th>\n      <td>975900</td>\n      <td>/m/03vyhn</td>\n      <td>2001-08-24</td>\n      <td>Sgt Jericho Butler</td>\n      <td>1967-09-12</td>\n      <td>M</td>\n      <td>1.750</td>\n      <td>Jason Statham</td>\n      <td>33.0</td>\n      <td>/m/02vchl6</td>\n      <td>/m/0bgchnq</td>\n      <td>/m/034hyc</td>\n      <td>NaN</td>\n    </tr>\n    <tr>\n      <th>4</th>\n      <td>975900</td>\n      <td>/m/03vyhn</td>\n      <td>2001-08-24</td>\n      <td>Bashira Kincaid</td>\n      <td>1977-09-25</td>\n      <td>F</td>\n      <td>1.650</td>\n      <td>Clea DuVall</td>\n      <td>23.0</td>\n      <td>/m/02vbb3r</td>\n      <td>/m/0bgchp9</td>\n      <td>/m/01y9xg</td>\n      <td>NaN</td>\n    </tr>\n  </tbody>\n</table>\n</div>"
     },
     "execution_count": 42,
     "metadata": {},
     "output_type": "execute_result"
    }
   ],
   "source": [
    "characters = pickle.load(open('characters_w_ethnicity.p', 'rb'))\n",
    "characters.head()"
   ],
   "metadata": {
    "collapsed": false
   }
  },
  {
   "cell_type": "markdown",
   "source": [
    "# Requesting info from wikidata"
   ],
   "metadata": {
    "collapsed": false
   }
  },
  {
   "cell_type": "code",
   "execution_count": 7,
   "outputs": [
    {
     "data": {
      "text/plain": "array(['Q230527', 'Q173637', 'Q169963', 'Q233347', 'Q233862'],\n      dtype=object)"
     },
     "execution_count": 7,
     "metadata": {},
     "output_type": "execute_result"
    }
   ],
   "source": [
    "actors_freebase_wd_id = pd.merge(characters, freebase_wd_mapping, left_on='freebase_actor_id', right_on='freebase_id', how='left')[['freebase_actor_id', 'wikidata_id']]\n",
    "unique_wikidata_id = actors_freebase_wd_id.wikidata_id.unique()\n",
    "unique_wikidata_id[1:6]"
   ],
   "metadata": {
    "collapsed": false
   }
  },
  {
   "cell_type": "code",
   "execution_count": 98,
   "outputs": [
    {
     "name": "stderr",
     "output_type": "stream",
     "text": [
      "  0%|          | 7/35792 [00:00<1:08:56,  8.65it/s]"
     ]
    },
    {
     "name": "stdout",
     "output_type": "stream",
     "text": [
      "400\n"
     ]
    },
    {
     "name": "stderr",
     "output_type": "stream",
     "text": [
      "  2%|▏         | 609/35792 [00:43<41:26, 14.15it/s]"
     ]
    },
    {
     "name": "stdout",
     "output_type": "stream",
     "text": [
      "404\n"
     ]
    },
    {
     "name": "stderr",
     "output_type": "stream",
     "text": [
      " 38%|███▊      | 13769/35792 [14:51<23:45, 15.45it/s]"
     ]
    },
    {
     "name": "stdout",
     "output_type": "stream",
     "text": [
      "404\n"
     ]
    },
    {
     "name": "stderr",
     "output_type": "stream",
     "text": [
      " 41%|████      | 14671/35792 [15:46<22:42, 15.50it/s]"
     ]
    },
    {
     "name": "stdout",
     "output_type": "stream",
     "text": [
      "404\n"
     ]
    },
    {
     "name": "stderr",
     "output_type": "stream",
     "text": [
      " 71%|███████   | 25403/35792 [26:29<10:50, 15.98it/s]"
     ]
    },
    {
     "name": "stdout",
     "output_type": "stream",
     "text": [
      "404\n"
     ]
    },
    {
     "name": "stderr",
     "output_type": "stream",
     "text": [
      " 76%|███████▌  | 27215/35792 [28:16<08:54, 16.05it/s]"
     ]
    },
    {
     "name": "stdout",
     "output_type": "stream",
     "text": [
      "404\n"
     ]
    },
    {
     "name": "stderr",
     "output_type": "stream",
     "text": [
      " 88%|████████▊ | 31499/35792 [32:23<04:24, 16.20it/s]"
     ]
    },
    {
     "name": "stdout",
     "output_type": "stream",
     "text": [
      "404\n"
     ]
    },
    {
     "name": "stderr",
     "output_type": "stream",
     "text": [
      " 89%|████████▉ | 31991/35792 [32:52<03:54, 16.22it/s]"
     ]
    },
    {
     "name": "stdout",
     "output_type": "stream",
     "text": [
      "404\n"
     ]
    },
    {
     "name": "stderr",
     "output_type": "stream",
     "text": [
      "100%|██████████| 35792/35792 [36:38<00:00, 16.28it/s]\n"
     ]
    }
   ],
   "source": [
    "wanted_properties = ['P21', 'P569' ,'P172' ,'P800', 'P345']\n",
    "\n",
    "def get_wikidata(id):\n",
    "    json_id = requests.get(f'https://www.wikidata.org/wiki/Special:EntityData/{id}.json')\n",
    "    if json_id.ok:\n",
    "        json_id = json_id.json()\n",
    "        key = list(json_id['entities'].keys())[0]\n",
    "        features = {}\n",
    "        for prop in wanted_properties:\n",
    "            try:\n",
    "                if prop == 'P569':\n",
    "                    features[prop] = json_id['entities'][key]['claims']['P569'][0]['mainsnak']['datavalue']['value']['time'].removeprefix('+').removesuffix('T00:00:00Z').replace('-00-00','').replace('-00','')\n",
    "                elif prop == 'P800':\n",
    "                    features[prop] = len(json_id['entities'][key]['claims']['P800'])\n",
    "                elif prop == 'P345':\n",
    "                    features[prop] =  json_id['entities'][key]['claims']['P345'][0]['mainsnak']['datavalue']['value']\n",
    "                else:\n",
    "                    features[prop] = json_id['entities'][key]['claims'][prop][0]['mainsnak']['datavalue']['value']['id']\n",
    "            except:\n",
    "                pass\n",
    "\n",
    "        if len(features) == 0:\n",
    "            features = np.nan\n",
    "        return [id, features]\n",
    "    else:\n",
    "        print(json_id.status_code)\n",
    "        return [id, np.nan]\n",
    "\n",
    "\n",
    "total_len = len(unique_wikidata_id)\n",
    "\n",
    "collection = []\n",
    "\n",
    "with Pool(6) as p:\n",
    "    collection =  list(tqdm(p.imap(get_wikidata, unique_wikidata_id), total=total_len, smoothing=0.0))\n",
    "pickle.dump(collection, open(f'temp_actors_wd_info.p','wb'))\n"
   ],
   "metadata": {
    "collapsed": false
   }
  },
  {
   "cell_type": "code",
   "execution_count": 8,
   "outputs": [],
   "source": [
    "collection = pickle.load(open(f'temp_actors_wd_info.p','rb'))"
   ],
   "metadata": {
    "collapsed": false
   }
  },
  {
   "cell_type": "code",
   "execution_count": 28,
   "outputs": [
    {
     "data": {
      "text/plain": "  wikidata_id  birth_wd gender_wd actor_imdb_id  number_notable_movies_wd  \\\n0    Q1873468    1958.0  Q6581072     nm0208962                       NaN   \n1     Q230527    1974.0  Q6581072     nm0000449                       NaN   \n2     Q173637    1969.0  Q6581097     nm0001084                       NaN   \n3     Q169963    1967.0  Q6581097     nm0005458                       NaN   \n4     Q233347    1977.0  Q6581072     nm0245112                       NaN   \n\n  ethnicity_wd  \n0          NaN  \n1          NaN  \n2          NaN  \n3          NaN  \n4          NaN  ",
      "text/html": "<div>\n<style scoped>\n    .dataframe tbody tr th:only-of-type {\n        vertical-align: middle;\n    }\n\n    .dataframe tbody tr th {\n        vertical-align: top;\n    }\n\n    .dataframe thead th {\n        text-align: right;\n    }\n</style>\n<table border=\"1\" class=\"dataframe\">\n  <thead>\n    <tr style=\"text-align: right;\">\n      <th></th>\n      <th>wikidata_id</th>\n      <th>birth_wd</th>\n      <th>gender_wd</th>\n      <th>actor_imdb_id</th>\n      <th>number_notable_movies_wd</th>\n      <th>ethnicity_wd</th>\n    </tr>\n  </thead>\n  <tbody>\n    <tr>\n      <th>0</th>\n      <td>Q1873468</td>\n      <td>1958.0</td>\n      <td>Q6581072</td>\n      <td>nm0208962</td>\n      <td>NaN</td>\n      <td>NaN</td>\n    </tr>\n    <tr>\n      <th>1</th>\n      <td>Q230527</td>\n      <td>1974.0</td>\n      <td>Q6581072</td>\n      <td>nm0000449</td>\n      <td>NaN</td>\n      <td>NaN</td>\n    </tr>\n    <tr>\n      <th>2</th>\n      <td>Q173637</td>\n      <td>1969.0</td>\n      <td>Q6581097</td>\n      <td>nm0001084</td>\n      <td>NaN</td>\n      <td>NaN</td>\n    </tr>\n    <tr>\n      <th>3</th>\n      <td>Q169963</td>\n      <td>1967.0</td>\n      <td>Q6581097</td>\n      <td>nm0005458</td>\n      <td>NaN</td>\n      <td>NaN</td>\n    </tr>\n    <tr>\n      <th>4</th>\n      <td>Q233347</td>\n      <td>1977.0</td>\n      <td>Q6581072</td>\n      <td>nm0245112</td>\n      <td>NaN</td>\n      <td>NaN</td>\n    </tr>\n  </tbody>\n</table>\n</div>"
     },
     "execution_count": 28,
     "metadata": {},
     "output_type": "execute_result"
    }
   ],
   "source": [
    "def get_year(x):\n",
    "    try:\n",
    "        return pd.to_datetime(x['P569']).year\n",
    "    except:\n",
    "        return np.nan\n",
    "\n",
    "def get_feature(x, feature):\n",
    "    try:\n",
    "        return x[feature]\n",
    "    except:\n",
    "        return np.nan\n",
    "\n",
    "actors_info = pd.DataFrame(collection)\n",
    "actors_info.rename({0: 'wikidata_id'}, axis=1, inplace=True)\n",
    "\n",
    "actors_info['birth_wd'] = actors_info[1].apply(lambda x: get_year(x))\n",
    "actors_info['gender_wd'] = actors_info[1].apply(lambda x: get_feature(x, 'P21'))\n",
    "actors_info['actor_imdb_id'] = actors_info[1].apply(lambda x: get_feature(x, 'P345'))\n",
    "actors_info['number_notable_movies_wd'] = actors_info[1].apply(lambda x: get_feature(x, 'P800'))\n",
    "actors_info['ethnicity_wd'] = actors_info[1].apply(lambda x: get_feature(x, 'P172'))\n",
    "actors_info.drop(1, axis=1, inplace=True)\n",
    "actors_info.head()"
   ],
   "metadata": {
    "collapsed": false
   }
  },
  {
   "cell_type": "code",
   "execution_count": 44,
   "outputs": [],
   "source": [
    "characters = pd.merge(pd.merge(characters, freebase_wd_mapping, left_on='freebase_actor_id', right_on='freebase_id', how='left').drop('freebase_id',axis=1), actors_info, left_on='wikidata_id', right_on='wikidata_id', how='left')"
   ],
   "metadata": {
    "collapsed": false
   }
  },
  {
   "cell_type": "code",
   "execution_count": 46,
   "outputs": [],
   "source": [
    "pickle.dump(characters, open('characters_w_wd_info.p', 'wb'))"
   ],
   "metadata": {
    "collapsed": false
   }
  },
  {
   "cell_type": "code",
   "execution_count": 34,
   "outputs": [
    {
     "data": {
      "text/plain": "   movie_wiki_id movie_freebase_id release_date_cmu  \\\n0         975900         /m/03vyhn       2001-08-24   \n1         975900         /m/03vyhn       2001-08-24   \n2         975900         /m/03vyhn       2001-08-24   \n3         975900         /m/03vyhn       2001-08-24   \n4         975900         /m/03vyhn       2001-08-24   \n\n               character_name   birth_cmu gender_cmu  height  \\\n0                    Akooshay  1958-08-26          F   1.620   \n1  Lieutenant Melanie Ballard  1974-08-15          F   1.780   \n2         Desolation Williams  1969-06-15          M   1.727   \n3          Sgt Jericho Butler  1967-09-12          M   1.750   \n4             Bashira Kincaid  1977-09-25          F   1.650   \n\n           actor_name  actor_age freebase_character_actor_map_id  \\\n0      Wanda De Jesus       42.0                      /m/0bgchxw   \n1  Natasha Henstridge       27.0                       /m/0jys3m   \n2            Ice Cube       32.0                       /m/0jys3g   \n3       Jason Statham       33.0                      /m/02vchl6   \n4         Clea DuVall       23.0                      /m/02vbb3r   \n\n  freebase_character_id freebase_actor_id          ethnicity wikidata_id  \\\n0            /m/0bgcj3x        /m/03wcfv7                NaN    Q1873468   \n1            /m/0bgchn4         /m/0346l4                NaN     Q230527   \n2            /m/0bgchn_        /m/01vw26l  African Americans     Q173637   \n3            /m/0bgchnq         /m/034hyc                NaN     Q169963   \n4            /m/0bgchp9         /m/01y9xg                NaN     Q233347   \n\n   birth_wd gender_wd actor_imdb_id  number_notable_movies_wd ethnicity_wd  \n0    1958.0  Q6581072     nm0208962                       NaN          NaN  \n1    1974.0  Q6581072     nm0000449                       NaN          NaN  \n2    1969.0  Q6581097     nm0001084                       NaN          NaN  \n3    1967.0  Q6581097     nm0005458                       NaN          NaN  \n4    1977.0  Q6581072     nm0245112                       NaN          NaN  ",
      "text/html": "<div>\n<style scoped>\n    .dataframe tbody tr th:only-of-type {\n        vertical-align: middle;\n    }\n\n    .dataframe tbody tr th {\n        vertical-align: top;\n    }\n\n    .dataframe thead th {\n        text-align: right;\n    }\n</style>\n<table border=\"1\" class=\"dataframe\">\n  <thead>\n    <tr style=\"text-align: right;\">\n      <th></th>\n      <th>movie_wiki_id</th>\n      <th>movie_freebase_id</th>\n      <th>release_date_cmu</th>\n      <th>character_name</th>\n      <th>birth_cmu</th>\n      <th>gender_cmu</th>\n      <th>height</th>\n      <th>actor_name</th>\n      <th>actor_age</th>\n      <th>freebase_character_actor_map_id</th>\n      <th>freebase_character_id</th>\n      <th>freebase_actor_id</th>\n      <th>ethnicity</th>\n      <th>wikidata_id</th>\n      <th>birth_wd</th>\n      <th>gender_wd</th>\n      <th>actor_imdb_id</th>\n      <th>number_notable_movies_wd</th>\n      <th>ethnicity_wd</th>\n    </tr>\n  </thead>\n  <tbody>\n    <tr>\n      <th>0</th>\n      <td>975900</td>\n      <td>/m/03vyhn</td>\n      <td>2001-08-24</td>\n      <td>Akooshay</td>\n      <td>1958-08-26</td>\n      <td>F</td>\n      <td>1.620</td>\n      <td>Wanda De Jesus</td>\n      <td>42.0</td>\n      <td>/m/0bgchxw</td>\n      <td>/m/0bgcj3x</td>\n      <td>/m/03wcfv7</td>\n      <td>NaN</td>\n      <td>Q1873468</td>\n      <td>1958.0</td>\n      <td>Q6581072</td>\n      <td>nm0208962</td>\n      <td>NaN</td>\n      <td>NaN</td>\n    </tr>\n    <tr>\n      <th>1</th>\n      <td>975900</td>\n      <td>/m/03vyhn</td>\n      <td>2001-08-24</td>\n      <td>Lieutenant Melanie Ballard</td>\n      <td>1974-08-15</td>\n      <td>F</td>\n      <td>1.780</td>\n      <td>Natasha Henstridge</td>\n      <td>27.0</td>\n      <td>/m/0jys3m</td>\n      <td>/m/0bgchn4</td>\n      <td>/m/0346l4</td>\n      <td>NaN</td>\n      <td>Q230527</td>\n      <td>1974.0</td>\n      <td>Q6581072</td>\n      <td>nm0000449</td>\n      <td>NaN</td>\n      <td>NaN</td>\n    </tr>\n    <tr>\n      <th>2</th>\n      <td>975900</td>\n      <td>/m/03vyhn</td>\n      <td>2001-08-24</td>\n      <td>Desolation Williams</td>\n      <td>1969-06-15</td>\n      <td>M</td>\n      <td>1.727</td>\n      <td>Ice Cube</td>\n      <td>32.0</td>\n      <td>/m/0jys3g</td>\n      <td>/m/0bgchn_</td>\n      <td>/m/01vw26l</td>\n      <td>African Americans</td>\n      <td>Q173637</td>\n      <td>1969.0</td>\n      <td>Q6581097</td>\n      <td>nm0001084</td>\n      <td>NaN</td>\n      <td>NaN</td>\n    </tr>\n    <tr>\n      <th>3</th>\n      <td>975900</td>\n      <td>/m/03vyhn</td>\n      <td>2001-08-24</td>\n      <td>Sgt Jericho Butler</td>\n      <td>1967-09-12</td>\n      <td>M</td>\n      <td>1.750</td>\n      <td>Jason Statham</td>\n      <td>33.0</td>\n      <td>/m/02vchl6</td>\n      <td>/m/0bgchnq</td>\n      <td>/m/034hyc</td>\n      <td>NaN</td>\n      <td>Q169963</td>\n      <td>1967.0</td>\n      <td>Q6581097</td>\n      <td>nm0005458</td>\n      <td>NaN</td>\n      <td>NaN</td>\n    </tr>\n    <tr>\n      <th>4</th>\n      <td>975900</td>\n      <td>/m/03vyhn</td>\n      <td>2001-08-24</td>\n      <td>Bashira Kincaid</td>\n      <td>1977-09-25</td>\n      <td>F</td>\n      <td>1.650</td>\n      <td>Clea DuVall</td>\n      <td>23.0</td>\n      <td>/m/02vbb3r</td>\n      <td>/m/0bgchp9</td>\n      <td>/m/01y9xg</td>\n      <td>NaN</td>\n      <td>Q233347</td>\n      <td>1977.0</td>\n      <td>Q6581072</td>\n      <td>nm0245112</td>\n      <td>NaN</td>\n      <td>NaN</td>\n    </tr>\n  </tbody>\n</table>\n</div>"
     },
     "execution_count": 34,
     "metadata": {},
     "output_type": "execute_result"
    }
   ],
   "source": [
    "characters = pickle.load(open('characters_w_wd_info.p', 'rb'))\n",
    "characters.head()"
   ],
   "metadata": {
    "collapsed": false
   }
  },
  {
   "cell_type": "markdown",
   "source": [
    "## Get gender label from wikidata"
   ],
   "metadata": {
    "collapsed": false
   }
  },
  {
   "cell_type": "code",
   "execution_count": 11,
   "outputs": [],
   "source": [
    "genders = characters.gender_wd.unique()"
   ],
   "metadata": {
    "collapsed": false
   }
  },
  {
   "cell_type": "code",
   "execution_count": 13,
   "outputs": [
    {
     "name": "stderr",
     "output_type": "stream",
     "text": [
      "  0%|          | 0/11 [00:00<?, ?it/s]"
     ]
    },
    {
     "name": "stdout",
     "output_type": "stream",
     "text": [
      "400\n"
     ]
    },
    {
     "name": "stderr",
     "output_type": "stream",
     "text": [
      "100%|██████████| 11/11 [00:01<00:00, 10.17it/s]\n"
     ]
    }
   ],
   "source": [
    "def get_wikidata(id):\n",
    "    json_id = requests.get(f'https://www.wikidata.org/wiki/Special:EntityData/{id}.json')\n",
    "    if json_id.ok:\n",
    "        json_id = json_id.json()\n",
    "        key = list(json_id['entities'].keys())[0]\n",
    "        try:\n",
    "            return  [id, json_id['entities'][key]['labels']['en']['value']]\n",
    "        except:\n",
    "            return [id, np.nan]\n",
    "    else:\n",
    "        print(json_id.status_code)\n",
    "        return [id, np.nan]\n",
    "\n",
    "\n",
    "total_len = len(genders)\n",
    "\n",
    "collection = []\n",
    "\n",
    "with Pool(6) as p:\n",
    "    collection =  list(tqdm(p.imap(get_wikidata, genders), total=total_len, smoothing=0.0))\n",
    "pickle.dump(collection, open(f'temp_genders.p','wb'))\n"
   ],
   "metadata": {
    "collapsed": false
   }
  },
  {
   "cell_type": "code",
   "execution_count": 15,
   "outputs": [
    {
     "data": {
      "text/plain": "[['Q6581072', 'female'],\n ['Q6581097', 'male'],\n [nan, nan],\n ['Q1052281', 'trans woman'],\n ['Q48270', 'non-binary'],\n ['Q18116794', 'genderfluid'],\n ['Q44148', 'male organism'],\n ['Q43445', 'female organism'],\n ['Q12964198', 'genderqueer'],\n ['Q2449503', 'trans man'],\n ['Q27679766', 'transmasculine']]"
     },
     "execution_count": 15,
     "metadata": {},
     "output_type": "execute_result"
    }
   ],
   "source": [
    "collection"
   ],
   "metadata": {
    "collapsed": false
   }
  },
  {
   "cell_type": "markdown",
   "source": [
    "Male organism -> male\n",
    "female organism -> female"
   ],
   "metadata": {
    "collapsed": false
   }
  },
  {
   "cell_type": "code",
   "execution_count": 35,
   "outputs": [],
   "source": [
    "characters.loc[characters.gender_wd == 'Q44148', 'gender_wd'] = 'Q6581097'\n",
    "characters.loc[characters.gender_wd == 'Q43445', 'gender_wd'] = 'Q6581072'"
   ],
   "metadata": {
    "collapsed": false
   }
  },
  {
   "cell_type": "code",
   "execution_count": 36,
   "outputs": [],
   "source": [
    "gender = pd.DataFrame(collection)\n",
    "characters = pd.merge(characters, gender, left_on='gender_wd', right_on=0, how='left').drop(['gender_wd', 0], axis=1).rename({1:'gender_wd'}, axis=1)"
   ],
   "metadata": {
    "collapsed": false
   }
  },
  {
   "cell_type": "code",
   "execution_count": 37,
   "outputs": [],
   "source": [
    "characters.loc[characters.gender_cmu == 'M', 'gender_cmu'] = 'male'\n",
    "characters.loc[characters.gender_cmu == 'F', 'gender_cmu'] = 'female'"
   ],
   "metadata": {
    "collapsed": false
   }
  },
  {
   "cell_type": "code",
   "execution_count": 38,
   "outputs": [
    {
     "data": {
      "text/plain": "male      270257\nfemale    134803\nName: gender_cmu, dtype: int64"
     },
     "execution_count": 38,
     "metadata": {},
     "output_type": "execute_result"
    }
   ],
   "source": [
    "characters.gender_cmu.value_counts()"
   ],
   "metadata": {
    "collapsed": false
   }
  },
  {
   "cell_type": "code",
   "execution_count": 39,
   "outputs": [
    {
     "data": {
      "text/plain": "male              189609\nfemale             94534\nnon-binary           109\ngenderfluid           77\ntrans woman           69\ntrans man              7\ngenderqueer            2\ntransmasculine         2\nName: gender_wd, dtype: int64"
     },
     "execution_count": 39,
     "metadata": {},
     "output_type": "execute_result"
    }
   ],
   "source": [
    "characters.gender_wd.value_counts()\n"
   ],
   "metadata": {
    "collapsed": false
   }
  },
  {
   "cell_type": "markdown",
   "source": [
    "## Merge Gender"
   ],
   "metadata": {
    "collapsed": false
   }
  },
  {
   "cell_type": "code",
   "execution_count": 40,
   "outputs": [
    {
     "data": {
      "text/plain": "       gender_cmu gender_wd combined_gender\n0          female    female          female\n1          female    female          female\n2            male      male            male\n3            male      male            male\n4          female    female          female\n...           ...       ...             ...\n450664     female    female          female\n450665       male      male            male\n450666       male       NaN            male\n450667        NaN       NaN             NaN\n450668        NaN       NaN             NaN\n\n[450669 rows x 3 columns]",
      "text/html": "<div>\n<style scoped>\n    .dataframe tbody tr th:only-of-type {\n        vertical-align: middle;\n    }\n\n    .dataframe tbody tr th {\n        vertical-align: top;\n    }\n\n    .dataframe thead th {\n        text-align: right;\n    }\n</style>\n<table border=\"1\" class=\"dataframe\">\n  <thead>\n    <tr style=\"text-align: right;\">\n      <th></th>\n      <th>gender_cmu</th>\n      <th>gender_wd</th>\n      <th>combined_gender</th>\n    </tr>\n  </thead>\n  <tbody>\n    <tr>\n      <th>0</th>\n      <td>female</td>\n      <td>female</td>\n      <td>female</td>\n    </tr>\n    <tr>\n      <th>1</th>\n      <td>female</td>\n      <td>female</td>\n      <td>female</td>\n    </tr>\n    <tr>\n      <th>2</th>\n      <td>male</td>\n      <td>male</td>\n      <td>male</td>\n    </tr>\n    <tr>\n      <th>3</th>\n      <td>male</td>\n      <td>male</td>\n      <td>male</td>\n    </tr>\n    <tr>\n      <th>4</th>\n      <td>female</td>\n      <td>female</td>\n      <td>female</td>\n    </tr>\n    <tr>\n      <th>...</th>\n      <td>...</td>\n      <td>...</td>\n      <td>...</td>\n    </tr>\n    <tr>\n      <th>450664</th>\n      <td>female</td>\n      <td>female</td>\n      <td>female</td>\n    </tr>\n    <tr>\n      <th>450665</th>\n      <td>male</td>\n      <td>male</td>\n      <td>male</td>\n    </tr>\n    <tr>\n      <th>450666</th>\n      <td>male</td>\n      <td>NaN</td>\n      <td>male</td>\n    </tr>\n    <tr>\n      <th>450667</th>\n      <td>NaN</td>\n      <td>NaN</td>\n      <td>NaN</td>\n    </tr>\n    <tr>\n      <th>450668</th>\n      <td>NaN</td>\n      <td>NaN</td>\n      <td>NaN</td>\n    </tr>\n  </tbody>\n</table>\n<p>450669 rows × 3 columns</p>\n</div>"
     },
     "execution_count": 40,
     "metadata": {},
     "output_type": "execute_result"
    }
   ],
   "source": [
    "characters['combined_gender'] = characters.apply(lambda x: x['gender_wd'] if pd.notna(x['gender_wd']) else x['gender_cmu'], axis=1)\n",
    "characters[['gender_cmu', 'gender_wd', 'combined_gender']]"
   ],
   "metadata": {
    "collapsed": false
   }
  },
  {
   "cell_type": "code",
   "execution_count": 41,
   "outputs": [],
   "source": [
    "pickle.dump(characters, open('characters_with_gender.p', 'wb'))"
   ],
   "metadata": {
    "collapsed": false
   }
  },
  {
   "cell_type": "code",
   "execution_count": 47,
   "outputs": [
    {
     "data": {
      "text/plain": "   movie_wiki_id movie_freebase_id release_date_cmu  \\\n0         975900         /m/03vyhn       2001-08-24   \n1         975900         /m/03vyhn       2001-08-24   \n2         975900         /m/03vyhn       2001-08-24   \n3         975900         /m/03vyhn       2001-08-24   \n4         975900         /m/03vyhn       2001-08-24   \n\n               character_name   birth_cmu gender_cmu  height  \\\n0                    Akooshay  1958-08-26     female   1.620   \n1  Lieutenant Melanie Ballard  1974-08-15     female   1.780   \n2         Desolation Williams  1969-06-15       male   1.727   \n3          Sgt Jericho Butler  1967-09-12       male   1.750   \n4             Bashira Kincaid  1977-09-25     female   1.650   \n\n           actor_name  actor_age freebase_character_actor_map_id  \\\n0      Wanda De Jesus       42.0                      /m/0bgchxw   \n1  Natasha Henstridge       27.0                       /m/0jys3m   \n2            Ice Cube       32.0                       /m/0jys3g   \n3       Jason Statham       33.0                      /m/02vchl6   \n4         Clea DuVall       23.0                      /m/02vbb3r   \n\n  freebase_character_id freebase_actor_id          ethnicity wikidata_id  \\\n0            /m/0bgcj3x        /m/03wcfv7                NaN    Q1873468   \n1            /m/0bgchn4         /m/0346l4                NaN     Q230527   \n2            /m/0bgchn_        /m/01vw26l  African Americans     Q173637   \n3            /m/0bgchnq         /m/034hyc                NaN     Q169963   \n4            /m/0bgchp9         /m/01y9xg                NaN     Q233347   \n\n   birth_wd actor_imdb_id  number_notable_movies_wd ethnicity_wd gender_wd  \\\n0    1958.0     nm0208962                       NaN          NaN    female   \n1    1974.0     nm0000449                       NaN          NaN    female   \n2    1969.0     nm0001084                       NaN          NaN      male   \n3    1967.0     nm0005458                       NaN          NaN      male   \n4    1977.0     nm0245112                       NaN          NaN    female   \n\n  combined_gender  \n0          female  \n1          female  \n2            male  \n3            male  \n4          female  ",
      "text/html": "<div>\n<style scoped>\n    .dataframe tbody tr th:only-of-type {\n        vertical-align: middle;\n    }\n\n    .dataframe tbody tr th {\n        vertical-align: top;\n    }\n\n    .dataframe thead th {\n        text-align: right;\n    }\n</style>\n<table border=\"1\" class=\"dataframe\">\n  <thead>\n    <tr style=\"text-align: right;\">\n      <th></th>\n      <th>movie_wiki_id</th>\n      <th>movie_freebase_id</th>\n      <th>release_date_cmu</th>\n      <th>character_name</th>\n      <th>birth_cmu</th>\n      <th>gender_cmu</th>\n      <th>height</th>\n      <th>actor_name</th>\n      <th>actor_age</th>\n      <th>freebase_character_actor_map_id</th>\n      <th>freebase_character_id</th>\n      <th>freebase_actor_id</th>\n      <th>ethnicity</th>\n      <th>wikidata_id</th>\n      <th>birth_wd</th>\n      <th>actor_imdb_id</th>\n      <th>number_notable_movies_wd</th>\n      <th>ethnicity_wd</th>\n      <th>gender_wd</th>\n      <th>combined_gender</th>\n    </tr>\n  </thead>\n  <tbody>\n    <tr>\n      <th>0</th>\n      <td>975900</td>\n      <td>/m/03vyhn</td>\n      <td>2001-08-24</td>\n      <td>Akooshay</td>\n      <td>1958-08-26</td>\n      <td>female</td>\n      <td>1.620</td>\n      <td>Wanda De Jesus</td>\n      <td>42.0</td>\n      <td>/m/0bgchxw</td>\n      <td>/m/0bgcj3x</td>\n      <td>/m/03wcfv7</td>\n      <td>NaN</td>\n      <td>Q1873468</td>\n      <td>1958.0</td>\n      <td>nm0208962</td>\n      <td>NaN</td>\n      <td>NaN</td>\n      <td>female</td>\n      <td>female</td>\n    </tr>\n    <tr>\n      <th>1</th>\n      <td>975900</td>\n      <td>/m/03vyhn</td>\n      <td>2001-08-24</td>\n      <td>Lieutenant Melanie Ballard</td>\n      <td>1974-08-15</td>\n      <td>female</td>\n      <td>1.780</td>\n      <td>Natasha Henstridge</td>\n      <td>27.0</td>\n      <td>/m/0jys3m</td>\n      <td>/m/0bgchn4</td>\n      <td>/m/0346l4</td>\n      <td>NaN</td>\n      <td>Q230527</td>\n      <td>1974.0</td>\n      <td>nm0000449</td>\n      <td>NaN</td>\n      <td>NaN</td>\n      <td>female</td>\n      <td>female</td>\n    </tr>\n    <tr>\n      <th>2</th>\n      <td>975900</td>\n      <td>/m/03vyhn</td>\n      <td>2001-08-24</td>\n      <td>Desolation Williams</td>\n      <td>1969-06-15</td>\n      <td>male</td>\n      <td>1.727</td>\n      <td>Ice Cube</td>\n      <td>32.0</td>\n      <td>/m/0jys3g</td>\n      <td>/m/0bgchn_</td>\n      <td>/m/01vw26l</td>\n      <td>African Americans</td>\n      <td>Q173637</td>\n      <td>1969.0</td>\n      <td>nm0001084</td>\n      <td>NaN</td>\n      <td>NaN</td>\n      <td>male</td>\n      <td>male</td>\n    </tr>\n    <tr>\n      <th>3</th>\n      <td>975900</td>\n      <td>/m/03vyhn</td>\n      <td>2001-08-24</td>\n      <td>Sgt Jericho Butler</td>\n      <td>1967-09-12</td>\n      <td>male</td>\n      <td>1.750</td>\n      <td>Jason Statham</td>\n      <td>33.0</td>\n      <td>/m/02vchl6</td>\n      <td>/m/0bgchnq</td>\n      <td>/m/034hyc</td>\n      <td>NaN</td>\n      <td>Q169963</td>\n      <td>1967.0</td>\n      <td>nm0005458</td>\n      <td>NaN</td>\n      <td>NaN</td>\n      <td>male</td>\n      <td>male</td>\n    </tr>\n    <tr>\n      <th>4</th>\n      <td>975900</td>\n      <td>/m/03vyhn</td>\n      <td>2001-08-24</td>\n      <td>Bashira Kincaid</td>\n      <td>1977-09-25</td>\n      <td>female</td>\n      <td>1.650</td>\n      <td>Clea DuVall</td>\n      <td>23.0</td>\n      <td>/m/02vbb3r</td>\n      <td>/m/0bgchp9</td>\n      <td>/m/01y9xg</td>\n      <td>NaN</td>\n      <td>Q233347</td>\n      <td>1977.0</td>\n      <td>nm0245112</td>\n      <td>NaN</td>\n      <td>NaN</td>\n      <td>female</td>\n      <td>female</td>\n    </tr>\n  </tbody>\n</table>\n</div>"
     },
     "execution_count": 47,
     "metadata": {},
     "output_type": "execute_result"
    }
   ],
   "source": [
    "characters = pickle.load(open('characters_with_gender.p', 'rb'))\n",
    "characters.head()"
   ],
   "metadata": {
    "collapsed": false
   }
  },
  {
   "cell_type": "code",
   "execution_count": 43,
   "outputs": [
    {
     "data": {
      "text/plain": "                                               title  \\\n0                                     Ghosts of Mars   \n1  Getting Away with Murder: The JonBenét Ramsey ...   \n2                                        Brun bitter   \n3                                   White Of The Eye   \n4                                  A Woman in Flames   \n\n                                        primaryTitle  \\\n0                                     Ghosts of Mars   \n1  Getting Away with Murder: The JonBenet Ramsey ...   \n2                                        Brun bitter   \n3                                   White of the Eye   \n4                                  A Woman in Flames   \n\n                                       originalTitle  wikipedia_id  \\\n0                                     Ghosts of Mars        975900   \n1  Getting Away with Murder: The JonBenet Ramsey ...       3196793   \n2                                        Brun bitter      28463795   \n3                                   White of the Eye       9363483   \n4                                Die flambierte Frau        261236   \n\n  freebase_id_cmu freebase_id_wd wikidata_id new_wikidata_id    IMDB_id  \\\n0       /m/03vyhn      /m/03vyhn     Q261700         Q261700  tt0228333   \n1       /m/08yl5d      /m/08yl5d   Q16250726       Q16250726  tt0245916   \n2      /m/0crgdbh     /m/0crgdbh    Q4978832        Q4978832  tt0094806   \n3      /m/0285_cd     /m/0285_cd    Q7995657        Q7995657  tt0094320   \n4       /m/01mrr1      /m/01mrr1     Q869644         Q869644  tt0083949   \n\n        mojo_id  ... box_office_cmu box_office_wd  \\\n0  ghostsofmars  ...     14010832.0           NaN   \n1           NaN  ...            NaN           NaN   \n2           NaN  ...            NaN           NaN   \n3           NaN  ...            NaN           NaN   \n4           NaN  ...            NaN           NaN   \n\n                            languages  \\\n0  {\"/m/02h40lc\": \"English Language\"}   \n1  {\"/m/02h40lc\": \"English Language\"}   \n2  {\"/m/05f_3\": \"Norwegian Language\"}   \n3  {\"/m/02h40lc\": \"English Language\"}   \n4   {\"/m/04306rv\": \"German Language\"}   \n\n                                   countries  averageRating_imdb  \\\n0  {\"/m/09c7w0\": \"United States of America\"}                 4.9   \n1  {\"/m/09c7w0\": \"United States of America\"}                 5.9   \n2                     {\"/m/05b4w\": \"Norway\"}                 5.7   \n3             {\"/m/07ssc\": \"United Kingdom\"}                 6.1   \n4                    {\"/m/0345h\": \"Germany\"}                 6.0   \n\n   numVotes_imdb                                         genres_cmu  \\\n0        55061.0  {\"/m/01jfsb\": \"Thriller\", \"/m/06n90\": \"Science...   \n1           66.0  {\"/m/02n4kr\": \"Mystery\", \"/m/03bxz7\": \"Biograp...   \n2           40.0  {\"/m/0lsxr\": \"Crime Fiction\", \"/m/07s9rl0\": \"D...   \n3         2537.0  {\"/m/01jfsb\": \"Thriller\", \"/m/0glj9q\": \"Erotic...   \n4          587.0                            {\"/m/07s9rl0\": \"Drama\"}   \n\n            genres_imdb  directors                                  writers  \n0  Action,Horror,Sci-Fi  nm0000118                      nm0837917,nm0000118  \n1                 Drama  nm1740285                      nm0334224,nm0003358  \n2           Crime,Drama  nm0803751                      nm0803751,nm0820866  \n3       Horror,Thriller  nm0131910  nm0465026,nm0131910,nm0458461,nm1738738  \n4                 Drama  nm0885554                      nm0885554,nm0959016  \n\n[5 rows x 30 columns]",
      "text/html": "<div>\n<style scoped>\n    .dataframe tbody tr th:only-of-type {\n        vertical-align: middle;\n    }\n\n    .dataframe tbody tr th {\n        vertical-align: top;\n    }\n\n    .dataframe thead th {\n        text-align: right;\n    }\n</style>\n<table border=\"1\" class=\"dataframe\">\n  <thead>\n    <tr style=\"text-align: right;\">\n      <th></th>\n      <th>title</th>\n      <th>primaryTitle</th>\n      <th>originalTitle</th>\n      <th>wikipedia_id</th>\n      <th>freebase_id_cmu</th>\n      <th>freebase_id_wd</th>\n      <th>wikidata_id</th>\n      <th>new_wikidata_id</th>\n      <th>IMDB_id</th>\n      <th>mojo_id</th>\n      <th>...</th>\n      <th>box_office_cmu</th>\n      <th>box_office_wd</th>\n      <th>languages</th>\n      <th>countries</th>\n      <th>averageRating_imdb</th>\n      <th>numVotes_imdb</th>\n      <th>genres_cmu</th>\n      <th>genres_imdb</th>\n      <th>directors</th>\n      <th>writers</th>\n    </tr>\n  </thead>\n  <tbody>\n    <tr>\n      <th>0</th>\n      <td>Ghosts of Mars</td>\n      <td>Ghosts of Mars</td>\n      <td>Ghosts of Mars</td>\n      <td>975900</td>\n      <td>/m/03vyhn</td>\n      <td>/m/03vyhn</td>\n      <td>Q261700</td>\n      <td>Q261700</td>\n      <td>tt0228333</td>\n      <td>ghostsofmars</td>\n      <td>...</td>\n      <td>14010832.0</td>\n      <td>NaN</td>\n      <td>{\"/m/02h40lc\": \"English Language\"}</td>\n      <td>{\"/m/09c7w0\": \"United States of America\"}</td>\n      <td>4.9</td>\n      <td>55061.0</td>\n      <td>{\"/m/01jfsb\": \"Thriller\", \"/m/06n90\": \"Science...</td>\n      <td>Action,Horror,Sci-Fi</td>\n      <td>nm0000118</td>\n      <td>nm0837917,nm0000118</td>\n    </tr>\n    <tr>\n      <th>1</th>\n      <td>Getting Away with Murder: The JonBenét Ramsey ...</td>\n      <td>Getting Away with Murder: The JonBenet Ramsey ...</td>\n      <td>Getting Away with Murder: The JonBenet Ramsey ...</td>\n      <td>3196793</td>\n      <td>/m/08yl5d</td>\n      <td>/m/08yl5d</td>\n      <td>Q16250726</td>\n      <td>Q16250726</td>\n      <td>tt0245916</td>\n      <td>NaN</td>\n      <td>...</td>\n      <td>NaN</td>\n      <td>NaN</td>\n      <td>{\"/m/02h40lc\": \"English Language\"}</td>\n      <td>{\"/m/09c7w0\": \"United States of America\"}</td>\n      <td>5.9</td>\n      <td>66.0</td>\n      <td>{\"/m/02n4kr\": \"Mystery\", \"/m/03bxz7\": \"Biograp...</td>\n      <td>Drama</td>\n      <td>nm1740285</td>\n      <td>nm0334224,nm0003358</td>\n    </tr>\n    <tr>\n      <th>2</th>\n      <td>Brun bitter</td>\n      <td>Brun bitter</td>\n      <td>Brun bitter</td>\n      <td>28463795</td>\n      <td>/m/0crgdbh</td>\n      <td>/m/0crgdbh</td>\n      <td>Q4978832</td>\n      <td>Q4978832</td>\n      <td>tt0094806</td>\n      <td>NaN</td>\n      <td>...</td>\n      <td>NaN</td>\n      <td>NaN</td>\n      <td>{\"/m/05f_3\": \"Norwegian Language\"}</td>\n      <td>{\"/m/05b4w\": \"Norway\"}</td>\n      <td>5.7</td>\n      <td>40.0</td>\n      <td>{\"/m/0lsxr\": \"Crime Fiction\", \"/m/07s9rl0\": \"D...</td>\n      <td>Crime,Drama</td>\n      <td>nm0803751</td>\n      <td>nm0803751,nm0820866</td>\n    </tr>\n    <tr>\n      <th>3</th>\n      <td>White Of The Eye</td>\n      <td>White of the Eye</td>\n      <td>White of the Eye</td>\n      <td>9363483</td>\n      <td>/m/0285_cd</td>\n      <td>/m/0285_cd</td>\n      <td>Q7995657</td>\n      <td>Q7995657</td>\n      <td>tt0094320</td>\n      <td>NaN</td>\n      <td>...</td>\n      <td>NaN</td>\n      <td>NaN</td>\n      <td>{\"/m/02h40lc\": \"English Language\"}</td>\n      <td>{\"/m/07ssc\": \"United Kingdom\"}</td>\n      <td>6.1</td>\n      <td>2537.0</td>\n      <td>{\"/m/01jfsb\": \"Thriller\", \"/m/0glj9q\": \"Erotic...</td>\n      <td>Horror,Thriller</td>\n      <td>nm0131910</td>\n      <td>nm0465026,nm0131910,nm0458461,nm1738738</td>\n    </tr>\n    <tr>\n      <th>4</th>\n      <td>A Woman in Flames</td>\n      <td>A Woman in Flames</td>\n      <td>Die flambierte Frau</td>\n      <td>261236</td>\n      <td>/m/01mrr1</td>\n      <td>/m/01mrr1</td>\n      <td>Q869644</td>\n      <td>Q869644</td>\n      <td>tt0083949</td>\n      <td>NaN</td>\n      <td>...</td>\n      <td>NaN</td>\n      <td>NaN</td>\n      <td>{\"/m/04306rv\": \"German Language\"}</td>\n      <td>{\"/m/0345h\": \"Germany\"}</td>\n      <td>6.0</td>\n      <td>587.0</td>\n      <td>{\"/m/07s9rl0\": \"Drama\"}</td>\n      <td>Drama</td>\n      <td>nm0885554</td>\n      <td>nm0885554,nm0959016</td>\n    </tr>\n  </tbody>\n</table>\n<p>5 rows × 30 columns</p>\n</div>"
     },
     "execution_count": 43,
     "metadata": {},
     "output_type": "execute_result"
    }
   ],
   "source": [
    "movies = pickle.load(open(pickle_folder + 'movies.p', 'rb'))\n",
    "movies.head()"
   ],
   "metadata": {
    "collapsed": false
   }
  },
  {
   "cell_type": "code",
   "execution_count": 44,
   "outputs": [],
   "source": [
    "characters = pd.merge(characters, movies[['freebase_id_cmu', 'combined_release_year']], left_on='movie_freebase_id', right_on='freebase_id_cmu', how='left').drop('freebase_id_cmu', axis=1)"
   ],
   "metadata": {
    "collapsed": false
   }
  },
  {
   "cell_type": "code",
   "execution_count": 50,
   "outputs": [],
   "source": [
    "pickle.dump(characters, open('characters_w_release_year.p', 'wb'))"
   ],
   "metadata": {
    "collapsed": false
   }
  },
  {
   "cell_type": "code",
   "execution_count": 3,
   "outputs": [
    {
     "data": {
      "text/plain": "5           Q49085\n65         Q161652\n84         Q214361\n149         Q42740\n243        Q974693\n            ...   \n450471      Q49085\n450495    Q1041917\n450580     Q170217\n450583      Q49085\n450655     Q161652\nName: ethnicity_wd, Length: 15289, dtype: object"
     },
     "execution_count": 3,
     "metadata": {},
     "output_type": "execute_result"
    }
   ],
   "source": [
    "characters = pickle.load(open('characters_w_release_year.p', 'rb'))\n",
    "characters.loc[characters.ethnicity_wd.notna()]['ethnicity_wd']"
   ],
   "metadata": {
    "collapsed": false
   }
  },
  {
   "cell_type": "markdown",
   "source": [
    "## Merge ethnicity"
   ],
   "metadata": {
    "collapsed": false
   }
  },
  {
   "cell_type": "code",
   "execution_count": 89,
   "outputs": [
    {
     "data": {
      "text/plain": "            0                           1\n0         NaN                         NaN\n1      Q49085           African Americans\n2     Q120601                Omaha people\n3       Q7325               Jewish people\n4    Q1075293             Irish Americans\n..        ...                         ...\n350   Q841351                  Afrikaners\n351    Q46295     peoples of the Caucasus\n352  Q2983498  Sierra Leone Creole people\n353    Q18973                   Georgians\n354    Q42740          Han Chinese people\n\n[355 rows x 2 columns]",
      "text/html": "<div>\n<style scoped>\n    .dataframe tbody tr th:only-of-type {\n        vertical-align: middle;\n    }\n\n    .dataframe tbody tr th {\n        vertical-align: top;\n    }\n\n    .dataframe thead th {\n        text-align: right;\n    }\n</style>\n<table border=\"1\" class=\"dataframe\">\n  <thead>\n    <tr style=\"text-align: right;\">\n      <th></th>\n      <th>0</th>\n      <th>1</th>\n    </tr>\n  </thead>\n  <tbody>\n    <tr>\n      <th>0</th>\n      <td>NaN</td>\n      <td>NaN</td>\n    </tr>\n    <tr>\n      <th>1</th>\n      <td>Q49085</td>\n      <td>African Americans</td>\n    </tr>\n    <tr>\n      <th>2</th>\n      <td>Q120601</td>\n      <td>Omaha people</td>\n    </tr>\n    <tr>\n      <th>3</th>\n      <td>Q7325</td>\n      <td>Jewish people</td>\n    </tr>\n    <tr>\n      <th>4</th>\n      <td>Q1075293</td>\n      <td>Irish Americans</td>\n    </tr>\n    <tr>\n      <th>...</th>\n      <td>...</td>\n      <td>...</td>\n    </tr>\n    <tr>\n      <th>350</th>\n      <td>Q841351</td>\n      <td>Afrikaners</td>\n    </tr>\n    <tr>\n      <th>351</th>\n      <td>Q46295</td>\n      <td>peoples of the Caucasus</td>\n    </tr>\n    <tr>\n      <th>352</th>\n      <td>Q2983498</td>\n      <td>Sierra Leone Creole people</td>\n    </tr>\n    <tr>\n      <th>353</th>\n      <td>Q18973</td>\n      <td>Georgians</td>\n    </tr>\n    <tr>\n      <th>354</th>\n      <td>Q42740</td>\n      <td>Han Chinese people</td>\n    </tr>\n  </tbody>\n</table>\n<p>355 rows × 2 columns</p>\n</div>"
     },
     "execution_count": 89,
     "metadata": {},
     "output_type": "execute_result"
    }
   ],
   "source": [
    "wd_to_ethicity"
   ],
   "metadata": {
    "collapsed": false
   }
  },
  {
   "cell_type": "code",
   "execution_count": 7,
   "outputs": [
    {
     "data": {
      "text/plain": "        movie_wiki_id movie_freebase_id release_date_cmu  \\\n0              975900         /m/03vyhn       2001-08-24   \n1              975900         /m/03vyhn       2001-08-24   \n2              975900         /m/03vyhn       2001-08-24   \n3              975900         /m/03vyhn       2001-08-24   \n4              975900         /m/03vyhn       2001-08-24   \n...               ...               ...              ...   \n450664         913762         /m/03pcrp       1992-05-21   \n450665         913762         /m/03pcrp       1992-05-21   \n450666       28308153        /m/0cp05t9             1957   \n450667       28308153        /m/0cp05t9             1957   \n450668       28308153        /m/0cp05t9             1957   \n\n                    character_name   birth_cmu gender_cmu  height  \\\n0                         Akooshay  1958-08-26     female   1.620   \n1       Lieutenant Melanie Ballard  1974-08-15     female   1.780   \n2              Desolation Williams  1969-06-15       male   1.727   \n3               Sgt Jericho Butler  1967-09-12       male   1.750   \n4                  Bashira Kincaid  1977-09-25     female   1.650   \n...                            ...         ...        ...     ...   \n450664                      Elensh     1970-05     female     NaN   \n450665                      Hibiki  1965-04-12       male     NaN   \n450666                         NaN  1941-11-18       male   1.730   \n450667                         NaN         NaN        NaN     NaN   \n450668                         NaN         NaN        NaN     NaN   \n\n                actor_name  actor_age freebase_character_actor_map_id  \\\n0           Wanda De Jesus       42.0                      /m/0bgchxw   \n1       Natasha Henstridge       27.0                       /m/0jys3m   \n2                 Ice Cube       32.0                       /m/0jys3g   \n3            Jason Statham       33.0                      /m/02vchl6   \n4              Clea DuVall       23.0                      /m/02vbb3r   \n...                    ...        ...                             ...   \n450664  Dorothy Elias-Fahn        NaN                      /m/0kr406c   \n450665       Jonathan Fahn       27.0                      /m/0kr405_   \n450666      David Hemmings       15.0                      /m/0g8ngmc   \n450667    Roberta Paterson        NaN                      /m/0g8ngmj   \n450668         John Rogers        NaN                      /m/0g8ngmw   \n\n       freebase_character_id freebase_actor_id          ethnicity wikidata_id  \\\n0                 /m/0bgcj3x        /m/03wcfv7                NaN    Q1873468   \n1                 /m/0bgchn4         /m/0346l4                NaN     Q230527   \n2                 /m/0bgchn_        /m/01vw26l  African Americans     Q173637   \n3                 /m/0bgchnq         /m/034hyc                NaN     Q169963   \n4                 /m/0bgchp9         /m/01y9xg                NaN     Q233347   \n...                      ...               ...                ...         ...   \n450664            /m/0kr406h         /m/0b_vcv                NaN    Q5298405   \n450665            /m/0kr4090         /m/0bx7_j                NaN    Q3809919   \n450666                   NaN         /m/022g44     English people         NaN   \n450667                   NaN        /m/0g8ngmm                NaN         NaN   \n450668                   NaN        /m/0btz19d                NaN         NaN   \n\n        birth_wd actor_imdb_id  number_notable_movies_wd gender_wd  \\\n0         1958.0     nm0208962                       NaN    female   \n1         1974.0     nm0000449                       NaN    female   \n2         1969.0     nm0001084                       NaN      male   \n3         1967.0     nm0005458                       NaN      male   \n4         1977.0     nm0245112                       NaN    female   \n...          ...           ...                       ...       ...   \n450664    1962.0     nm0253528                       NaN    female   \n450665    1965.0     nm0153068                       NaN      male   \n450666       NaN           NaN                       NaN       NaN   \n450667       NaN           NaN                       NaN       NaN   \n450668       NaN           NaN                       NaN       NaN   \n\n       combined_gender ethnicity_wd  \n0               female          NaN  \n1               female          NaN  \n2                 male          NaN  \n3                 male          NaN  \n4               female          NaN  \n...                ...          ...  \n450664          female          NaN  \n450665            male          NaN  \n450666            male          NaN  \n450667             NaN          NaN  \n450668             NaN          NaN  \n\n[450669 rows x 20 columns]",
      "text/html": "<div>\n<style scoped>\n    .dataframe tbody tr th:only-of-type {\n        vertical-align: middle;\n    }\n\n    .dataframe tbody tr th {\n        vertical-align: top;\n    }\n\n    .dataframe thead th {\n        text-align: right;\n    }\n</style>\n<table border=\"1\" class=\"dataframe\">\n  <thead>\n    <tr style=\"text-align: right;\">\n      <th></th>\n      <th>movie_wiki_id</th>\n      <th>movie_freebase_id</th>\n      <th>release_date_cmu</th>\n      <th>character_name</th>\n      <th>birth_cmu</th>\n      <th>gender_cmu</th>\n      <th>height</th>\n      <th>actor_name</th>\n      <th>actor_age</th>\n      <th>freebase_character_actor_map_id</th>\n      <th>freebase_character_id</th>\n      <th>freebase_actor_id</th>\n      <th>ethnicity</th>\n      <th>wikidata_id</th>\n      <th>birth_wd</th>\n      <th>actor_imdb_id</th>\n      <th>number_notable_movies_wd</th>\n      <th>gender_wd</th>\n      <th>combined_gender</th>\n      <th>ethnicity_wd</th>\n    </tr>\n  </thead>\n  <tbody>\n    <tr>\n      <th>0</th>\n      <td>975900</td>\n      <td>/m/03vyhn</td>\n      <td>2001-08-24</td>\n      <td>Akooshay</td>\n      <td>1958-08-26</td>\n      <td>female</td>\n      <td>1.620</td>\n      <td>Wanda De Jesus</td>\n      <td>42.0</td>\n      <td>/m/0bgchxw</td>\n      <td>/m/0bgcj3x</td>\n      <td>/m/03wcfv7</td>\n      <td>NaN</td>\n      <td>Q1873468</td>\n      <td>1958.0</td>\n      <td>nm0208962</td>\n      <td>NaN</td>\n      <td>female</td>\n      <td>female</td>\n      <td>NaN</td>\n    </tr>\n    <tr>\n      <th>1</th>\n      <td>975900</td>\n      <td>/m/03vyhn</td>\n      <td>2001-08-24</td>\n      <td>Lieutenant Melanie Ballard</td>\n      <td>1974-08-15</td>\n      <td>female</td>\n      <td>1.780</td>\n      <td>Natasha Henstridge</td>\n      <td>27.0</td>\n      <td>/m/0jys3m</td>\n      <td>/m/0bgchn4</td>\n      <td>/m/0346l4</td>\n      <td>NaN</td>\n      <td>Q230527</td>\n      <td>1974.0</td>\n      <td>nm0000449</td>\n      <td>NaN</td>\n      <td>female</td>\n      <td>female</td>\n      <td>NaN</td>\n    </tr>\n    <tr>\n      <th>2</th>\n      <td>975900</td>\n      <td>/m/03vyhn</td>\n      <td>2001-08-24</td>\n      <td>Desolation Williams</td>\n      <td>1969-06-15</td>\n      <td>male</td>\n      <td>1.727</td>\n      <td>Ice Cube</td>\n      <td>32.0</td>\n      <td>/m/0jys3g</td>\n      <td>/m/0bgchn_</td>\n      <td>/m/01vw26l</td>\n      <td>African Americans</td>\n      <td>Q173637</td>\n      <td>1969.0</td>\n      <td>nm0001084</td>\n      <td>NaN</td>\n      <td>male</td>\n      <td>male</td>\n      <td>NaN</td>\n    </tr>\n    <tr>\n      <th>3</th>\n      <td>975900</td>\n      <td>/m/03vyhn</td>\n      <td>2001-08-24</td>\n      <td>Sgt Jericho Butler</td>\n      <td>1967-09-12</td>\n      <td>male</td>\n      <td>1.750</td>\n      <td>Jason Statham</td>\n      <td>33.0</td>\n      <td>/m/02vchl6</td>\n      <td>/m/0bgchnq</td>\n      <td>/m/034hyc</td>\n      <td>NaN</td>\n      <td>Q169963</td>\n      <td>1967.0</td>\n      <td>nm0005458</td>\n      <td>NaN</td>\n      <td>male</td>\n      <td>male</td>\n      <td>NaN</td>\n    </tr>\n    <tr>\n      <th>4</th>\n      <td>975900</td>\n      <td>/m/03vyhn</td>\n      <td>2001-08-24</td>\n      <td>Bashira Kincaid</td>\n      <td>1977-09-25</td>\n      <td>female</td>\n      <td>1.650</td>\n      <td>Clea DuVall</td>\n      <td>23.0</td>\n      <td>/m/02vbb3r</td>\n      <td>/m/0bgchp9</td>\n      <td>/m/01y9xg</td>\n      <td>NaN</td>\n      <td>Q233347</td>\n      <td>1977.0</td>\n      <td>nm0245112</td>\n      <td>NaN</td>\n      <td>female</td>\n      <td>female</td>\n      <td>NaN</td>\n    </tr>\n    <tr>\n      <th>...</th>\n      <td>...</td>\n      <td>...</td>\n      <td>...</td>\n      <td>...</td>\n      <td>...</td>\n      <td>...</td>\n      <td>...</td>\n      <td>...</td>\n      <td>...</td>\n      <td>...</td>\n      <td>...</td>\n      <td>...</td>\n      <td>...</td>\n      <td>...</td>\n      <td>...</td>\n      <td>...</td>\n      <td>...</td>\n      <td>...</td>\n      <td>...</td>\n      <td>...</td>\n    </tr>\n    <tr>\n      <th>450664</th>\n      <td>913762</td>\n      <td>/m/03pcrp</td>\n      <td>1992-05-21</td>\n      <td>Elensh</td>\n      <td>1970-05</td>\n      <td>female</td>\n      <td>NaN</td>\n      <td>Dorothy Elias-Fahn</td>\n      <td>NaN</td>\n      <td>/m/0kr406c</td>\n      <td>/m/0kr406h</td>\n      <td>/m/0b_vcv</td>\n      <td>NaN</td>\n      <td>Q5298405</td>\n      <td>1962.0</td>\n      <td>nm0253528</td>\n      <td>NaN</td>\n      <td>female</td>\n      <td>female</td>\n      <td>NaN</td>\n    </tr>\n    <tr>\n      <th>450665</th>\n      <td>913762</td>\n      <td>/m/03pcrp</td>\n      <td>1992-05-21</td>\n      <td>Hibiki</td>\n      <td>1965-04-12</td>\n      <td>male</td>\n      <td>NaN</td>\n      <td>Jonathan Fahn</td>\n      <td>27.0</td>\n      <td>/m/0kr405_</td>\n      <td>/m/0kr4090</td>\n      <td>/m/0bx7_j</td>\n      <td>NaN</td>\n      <td>Q3809919</td>\n      <td>1965.0</td>\n      <td>nm0153068</td>\n      <td>NaN</td>\n      <td>male</td>\n      <td>male</td>\n      <td>NaN</td>\n    </tr>\n    <tr>\n      <th>450666</th>\n      <td>28308153</td>\n      <td>/m/0cp05t9</td>\n      <td>1957</td>\n      <td>NaN</td>\n      <td>1941-11-18</td>\n      <td>male</td>\n      <td>1.730</td>\n      <td>David Hemmings</td>\n      <td>15.0</td>\n      <td>/m/0g8ngmc</td>\n      <td>NaN</td>\n      <td>/m/022g44</td>\n      <td>English people</td>\n      <td>NaN</td>\n      <td>NaN</td>\n      <td>NaN</td>\n      <td>NaN</td>\n      <td>NaN</td>\n      <td>male</td>\n      <td>NaN</td>\n    </tr>\n    <tr>\n      <th>450667</th>\n      <td>28308153</td>\n      <td>/m/0cp05t9</td>\n      <td>1957</td>\n      <td>NaN</td>\n      <td>NaN</td>\n      <td>NaN</td>\n      <td>NaN</td>\n      <td>Roberta Paterson</td>\n      <td>NaN</td>\n      <td>/m/0g8ngmj</td>\n      <td>NaN</td>\n      <td>/m/0g8ngmm</td>\n      <td>NaN</td>\n      <td>NaN</td>\n      <td>NaN</td>\n      <td>NaN</td>\n      <td>NaN</td>\n      <td>NaN</td>\n      <td>NaN</td>\n      <td>NaN</td>\n    </tr>\n    <tr>\n      <th>450668</th>\n      <td>28308153</td>\n      <td>/m/0cp05t9</td>\n      <td>1957</td>\n      <td>NaN</td>\n      <td>NaN</td>\n      <td>NaN</td>\n      <td>NaN</td>\n      <td>John Rogers</td>\n      <td>NaN</td>\n      <td>/m/0g8ngmw</td>\n      <td>NaN</td>\n      <td>/m/0btz19d</td>\n      <td>NaN</td>\n      <td>NaN</td>\n      <td>NaN</td>\n      <td>NaN</td>\n      <td>NaN</td>\n      <td>NaN</td>\n      <td>NaN</td>\n      <td>NaN</td>\n    </tr>\n  </tbody>\n</table>\n<p>450669 rows × 20 columns</p>\n</div>"
     },
     "execution_count": 7,
     "metadata": {},
     "output_type": "execute_result"
    }
   ],
   "source": [
    "pd.merge(characters, wd_to_ethicity, left_on='ethnicity_wd', right_on=0, how='left').drop(['ethnicity_wd', 0],axis=1).rename({1:'ethnicity_wd'}, axis=1)"
   ],
   "metadata": {
    "collapsed": false
   }
  },
  {
   "cell_type": "code",
   "execution_count": 8,
   "outputs": [
    {
     "data": {
      "text/plain": "Indians                        16351\nAfrican Americans              10159\nJewish people                  10121\nEnglish people                  6165\nIrish Americans                 3857\n                               ...  \nTransylvanian Saxons               1\nPoles in the United Kingdom        1\nChettiar                           1\nBohemian                           1\nHan Chinese people                 1\nName: ethnicity, Length: 354, dtype: int64"
     },
     "execution_count": 8,
     "metadata": {},
     "output_type": "execute_result"
    }
   ],
   "source": [
    "characters.ethnicity.value_counts()"
   ],
   "metadata": {
    "collapsed": false
   }
  },
  {
   "cell_type": "code",
   "execution_count": 9,
   "outputs": [
    {
     "data": {
      "text/plain": "Q49085      2902\nQ161652     1463\nQ7325        987\nQ846570      793\nQ974693      743\n            ... \nQ648255        1\nQ2584186       1\nQ6510842       1\nQ133255        1\nQ1003039       1\nName: ethnicity_wd, Length: 204, dtype: int64"
     },
     "execution_count": 9,
     "metadata": {},
     "output_type": "execute_result"
    }
   ],
   "source": [
    "characters.ethnicity_wd.value_counts()"
   ],
   "metadata": {
    "collapsed": false
   }
  },
  {
   "cell_type": "code",
   "execution_count": 10,
   "outputs": [
    {
     "data": {
      "text/plain": "93066"
     },
     "execution_count": 10,
     "metadata": {},
     "output_type": "execute_result"
    }
   ],
   "source": [
    "characters.ethnicity.notna().sum()"
   ],
   "metadata": {
    "collapsed": false
   }
  },
  {
   "cell_type": "code",
   "execution_count": 11,
   "outputs": [
    {
     "data": {
      "text/plain": "15289"
     },
     "execution_count": 11,
     "metadata": {},
     "output_type": "execute_result"
    }
   ],
   "source": [
    "characters.ethnicity_wd.notna().sum()"
   ],
   "metadata": {
    "collapsed": false
   }
  },
  {
   "cell_type": "code",
   "execution_count": 12,
   "outputs": [
    {
     "data": {
      "text/plain": "10168"
     },
     "execution_count": 12,
     "metadata": {},
     "output_type": "execute_result"
    }
   ],
   "source": [
    "len(characters.loc[(characters.ethnicity != characters.ethnicity_wd) & (characters.ethnicity.notna() &  characters.ethnicity_wd.notna())])"
   ],
   "metadata": {
    "collapsed": false
   }
  },
  {
   "cell_type": "code",
   "execution_count": 13,
   "outputs": [
    {
     "data": {
      "text/plain": "82898"
     },
     "execution_count": 13,
     "metadata": {},
     "output_type": "execute_result"
    }
   ],
   "source": [
    "len(characters.loc[(characters.ethnicity.notna() &  characters.ethnicity_wd.isna())])"
   ],
   "metadata": {
    "collapsed": false
   }
  },
  {
   "cell_type": "code",
   "execution_count": 14,
   "outputs": [
    {
     "data": {
      "text/plain": "5121"
     },
     "execution_count": 14,
     "metadata": {},
     "output_type": "execute_result"
    }
   ],
   "source": [
    "len(characters.loc[(characters.ethnicity.isna() &  characters.ethnicity_wd.notna())])"
   ],
   "metadata": {
    "collapsed": false
   }
  },
  {
   "cell_type": "code",
   "execution_count": 15,
   "outputs": [
    {
     "data": {
      "text/plain": "           actor_name          ethnicity ethnicity_wd combined_ethnicity\n0      Wanda De Jesus                NaN          NaN                NaN\n1  Natasha Henstridge                NaN          NaN                NaN\n2            Ice Cube  African Americans          NaN  African Americans\n3       Jason Statham                NaN          NaN                NaN\n4         Clea DuVall                NaN          NaN                NaN",
      "text/html": "<div>\n<style scoped>\n    .dataframe tbody tr th:only-of-type {\n        vertical-align: middle;\n    }\n\n    .dataframe tbody tr th {\n        vertical-align: top;\n    }\n\n    .dataframe thead th {\n        text-align: right;\n    }\n</style>\n<table border=\"1\" class=\"dataframe\">\n  <thead>\n    <tr style=\"text-align: right;\">\n      <th></th>\n      <th>actor_name</th>\n      <th>ethnicity</th>\n      <th>ethnicity_wd</th>\n      <th>combined_ethnicity</th>\n    </tr>\n  </thead>\n  <tbody>\n    <tr>\n      <th>0</th>\n      <td>Wanda De Jesus</td>\n      <td>NaN</td>\n      <td>NaN</td>\n      <td>NaN</td>\n    </tr>\n    <tr>\n      <th>1</th>\n      <td>Natasha Henstridge</td>\n      <td>NaN</td>\n      <td>NaN</td>\n      <td>NaN</td>\n    </tr>\n    <tr>\n      <th>2</th>\n      <td>Ice Cube</td>\n      <td>African Americans</td>\n      <td>NaN</td>\n      <td>African Americans</td>\n    </tr>\n    <tr>\n      <th>3</th>\n      <td>Jason Statham</td>\n      <td>NaN</td>\n      <td>NaN</td>\n      <td>NaN</td>\n    </tr>\n    <tr>\n      <th>4</th>\n      <td>Clea DuVall</td>\n      <td>NaN</td>\n      <td>NaN</td>\n      <td>NaN</td>\n    </tr>\n  </tbody>\n</table>\n</div>"
     },
     "execution_count": 15,
     "metadata": {},
     "output_type": "execute_result"
    }
   ],
   "source": [
    "characters['combined_ethnicity'] = characters.apply(lambda x: x['ethnicity'] if pd.notna(x['ethnicity']) else x['ethnicity_wd'], axis=1)\n",
    "characters[['actor_name', 'ethnicity', 'ethnicity_wd', 'combined_ethnicity']].head()"
   ],
   "metadata": {
    "collapsed": false
   }
  },
  {
   "cell_type": "code",
   "execution_count": 16,
   "outputs": [],
   "source": [
    "pickle.dump(characters, open('characters_w_ethnicity.p', 'wb'))"
   ],
   "metadata": {
    "collapsed": false
   }
  },
  {
   "cell_type": "code",
   "execution_count": 17,
   "outputs": [
    {
     "data": {
      "text/plain": "        movie_wiki_id movie_freebase_id release_date_cmu  \\\n0              975900         /m/03vyhn       2001-08-24   \n1              975900         /m/03vyhn       2001-08-24   \n2              975900         /m/03vyhn       2001-08-24   \n3              975900         /m/03vyhn       2001-08-24   \n4              975900         /m/03vyhn       2001-08-24   \n...               ...               ...              ...   \n450664         913762         /m/03pcrp       1992-05-21   \n450665         913762         /m/03pcrp       1992-05-21   \n450666       28308153        /m/0cp05t9             1957   \n450667       28308153        /m/0cp05t9             1957   \n450668       28308153        /m/0cp05t9             1957   \n\n                    character_name   birth_cmu gender_cmu  height  \\\n0                         Akooshay  1958-08-26     female   1.620   \n1       Lieutenant Melanie Ballard  1974-08-15     female   1.780   \n2              Desolation Williams  1969-06-15       male   1.727   \n3               Sgt Jericho Butler  1967-09-12       male   1.750   \n4                  Bashira Kincaid  1977-09-25     female   1.650   \n...                            ...         ...        ...     ...   \n450664                      Elensh     1970-05     female     NaN   \n450665                      Hibiki  1965-04-12       male     NaN   \n450666                         NaN  1941-11-18       male   1.730   \n450667                         NaN         NaN        NaN     NaN   \n450668                         NaN         NaN        NaN     NaN   \n\n                actor_name  actor_age freebase_character_actor_map_id  ...  \\\n0           Wanda De Jesus       42.0                      /m/0bgchxw  ...   \n1       Natasha Henstridge       27.0                       /m/0jys3m  ...   \n2                 Ice Cube       32.0                       /m/0jys3g  ...   \n3            Jason Statham       33.0                      /m/02vchl6  ...   \n4              Clea DuVall       23.0                      /m/02vbb3r  ...   \n...                    ...        ...                             ...  ...   \n450664  Dorothy Elias-Fahn        NaN                      /m/0kr406c  ...   \n450665       Jonathan Fahn       27.0                      /m/0kr405_  ...   \n450666      David Hemmings       15.0                      /m/0g8ngmc  ...   \n450667    Roberta Paterson        NaN                      /m/0g8ngmj  ...   \n450668         John Rogers        NaN                      /m/0g8ngmw  ...   \n\n       freebase_actor_id          ethnicity wikidata_id birth_wd  \\\n0             /m/03wcfv7                NaN    Q1873468   1958.0   \n1              /m/0346l4                NaN     Q230527   1974.0   \n2             /m/01vw26l  African Americans     Q173637   1969.0   \n3              /m/034hyc                NaN     Q169963   1967.0   \n4              /m/01y9xg                NaN     Q233347   1977.0   \n...                  ...                ...         ...      ...   \n450664         /m/0b_vcv                NaN    Q5298405   1962.0   \n450665         /m/0bx7_j                NaN    Q3809919   1965.0   \n450666         /m/022g44     English people         NaN      NaN   \n450667        /m/0g8ngmm                NaN         NaN      NaN   \n450668        /m/0btz19d                NaN         NaN      NaN   \n\n        actor_imdb_id number_notable_movies_wd  ethnicity_wd gender_wd  \\\n0           nm0208962                      NaN           NaN    female   \n1           nm0000449                      NaN           NaN    female   \n2           nm0001084                      NaN           NaN      male   \n3           nm0005458                      NaN           NaN      male   \n4           nm0245112                      NaN           NaN    female   \n...               ...                      ...           ...       ...   \n450664      nm0253528                      NaN           NaN    female   \n450665      nm0153068                      NaN           NaN      male   \n450666            NaN                      NaN           NaN       NaN   \n450667            NaN                      NaN           NaN       NaN   \n450668            NaN                      NaN           NaN       NaN   \n\n       combined_gender combined_ethnicity  \n0               female                NaN  \n1               female                NaN  \n2                 male  African Americans  \n3                 male                NaN  \n4               female                NaN  \n...                ...                ...  \n450664          female                NaN  \n450665            male                NaN  \n450666            male     English people  \n450667             NaN                NaN  \n450668             NaN                NaN  \n\n[450669 rows x 21 columns]",
      "text/html": "<div>\n<style scoped>\n    .dataframe tbody tr th:only-of-type {\n        vertical-align: middle;\n    }\n\n    .dataframe tbody tr th {\n        vertical-align: top;\n    }\n\n    .dataframe thead th {\n        text-align: right;\n    }\n</style>\n<table border=\"1\" class=\"dataframe\">\n  <thead>\n    <tr style=\"text-align: right;\">\n      <th></th>\n      <th>movie_wiki_id</th>\n      <th>movie_freebase_id</th>\n      <th>release_date_cmu</th>\n      <th>character_name</th>\n      <th>birth_cmu</th>\n      <th>gender_cmu</th>\n      <th>height</th>\n      <th>actor_name</th>\n      <th>actor_age</th>\n      <th>freebase_character_actor_map_id</th>\n      <th>...</th>\n      <th>freebase_actor_id</th>\n      <th>ethnicity</th>\n      <th>wikidata_id</th>\n      <th>birth_wd</th>\n      <th>actor_imdb_id</th>\n      <th>number_notable_movies_wd</th>\n      <th>ethnicity_wd</th>\n      <th>gender_wd</th>\n      <th>combined_gender</th>\n      <th>combined_ethnicity</th>\n    </tr>\n  </thead>\n  <tbody>\n    <tr>\n      <th>0</th>\n      <td>975900</td>\n      <td>/m/03vyhn</td>\n      <td>2001-08-24</td>\n      <td>Akooshay</td>\n      <td>1958-08-26</td>\n      <td>female</td>\n      <td>1.620</td>\n      <td>Wanda De Jesus</td>\n      <td>42.0</td>\n      <td>/m/0bgchxw</td>\n      <td>...</td>\n      <td>/m/03wcfv7</td>\n      <td>NaN</td>\n      <td>Q1873468</td>\n      <td>1958.0</td>\n      <td>nm0208962</td>\n      <td>NaN</td>\n      <td>NaN</td>\n      <td>female</td>\n      <td>female</td>\n      <td>NaN</td>\n    </tr>\n    <tr>\n      <th>1</th>\n      <td>975900</td>\n      <td>/m/03vyhn</td>\n      <td>2001-08-24</td>\n      <td>Lieutenant Melanie Ballard</td>\n      <td>1974-08-15</td>\n      <td>female</td>\n      <td>1.780</td>\n      <td>Natasha Henstridge</td>\n      <td>27.0</td>\n      <td>/m/0jys3m</td>\n      <td>...</td>\n      <td>/m/0346l4</td>\n      <td>NaN</td>\n      <td>Q230527</td>\n      <td>1974.0</td>\n      <td>nm0000449</td>\n      <td>NaN</td>\n      <td>NaN</td>\n      <td>female</td>\n      <td>female</td>\n      <td>NaN</td>\n    </tr>\n    <tr>\n      <th>2</th>\n      <td>975900</td>\n      <td>/m/03vyhn</td>\n      <td>2001-08-24</td>\n      <td>Desolation Williams</td>\n      <td>1969-06-15</td>\n      <td>male</td>\n      <td>1.727</td>\n      <td>Ice Cube</td>\n      <td>32.0</td>\n      <td>/m/0jys3g</td>\n      <td>...</td>\n      <td>/m/01vw26l</td>\n      <td>African Americans</td>\n      <td>Q173637</td>\n      <td>1969.0</td>\n      <td>nm0001084</td>\n      <td>NaN</td>\n      <td>NaN</td>\n      <td>male</td>\n      <td>male</td>\n      <td>African Americans</td>\n    </tr>\n    <tr>\n      <th>3</th>\n      <td>975900</td>\n      <td>/m/03vyhn</td>\n      <td>2001-08-24</td>\n      <td>Sgt Jericho Butler</td>\n      <td>1967-09-12</td>\n      <td>male</td>\n      <td>1.750</td>\n      <td>Jason Statham</td>\n      <td>33.0</td>\n      <td>/m/02vchl6</td>\n      <td>...</td>\n      <td>/m/034hyc</td>\n      <td>NaN</td>\n      <td>Q169963</td>\n      <td>1967.0</td>\n      <td>nm0005458</td>\n      <td>NaN</td>\n      <td>NaN</td>\n      <td>male</td>\n      <td>male</td>\n      <td>NaN</td>\n    </tr>\n    <tr>\n      <th>4</th>\n      <td>975900</td>\n      <td>/m/03vyhn</td>\n      <td>2001-08-24</td>\n      <td>Bashira Kincaid</td>\n      <td>1977-09-25</td>\n      <td>female</td>\n      <td>1.650</td>\n      <td>Clea DuVall</td>\n      <td>23.0</td>\n      <td>/m/02vbb3r</td>\n      <td>...</td>\n      <td>/m/01y9xg</td>\n      <td>NaN</td>\n      <td>Q233347</td>\n      <td>1977.0</td>\n      <td>nm0245112</td>\n      <td>NaN</td>\n      <td>NaN</td>\n      <td>female</td>\n      <td>female</td>\n      <td>NaN</td>\n    </tr>\n    <tr>\n      <th>...</th>\n      <td>...</td>\n      <td>...</td>\n      <td>...</td>\n      <td>...</td>\n      <td>...</td>\n      <td>...</td>\n      <td>...</td>\n      <td>...</td>\n      <td>...</td>\n      <td>...</td>\n      <td>...</td>\n      <td>...</td>\n      <td>...</td>\n      <td>...</td>\n      <td>...</td>\n      <td>...</td>\n      <td>...</td>\n      <td>...</td>\n      <td>...</td>\n      <td>...</td>\n      <td>...</td>\n    </tr>\n    <tr>\n      <th>450664</th>\n      <td>913762</td>\n      <td>/m/03pcrp</td>\n      <td>1992-05-21</td>\n      <td>Elensh</td>\n      <td>1970-05</td>\n      <td>female</td>\n      <td>NaN</td>\n      <td>Dorothy Elias-Fahn</td>\n      <td>NaN</td>\n      <td>/m/0kr406c</td>\n      <td>...</td>\n      <td>/m/0b_vcv</td>\n      <td>NaN</td>\n      <td>Q5298405</td>\n      <td>1962.0</td>\n      <td>nm0253528</td>\n      <td>NaN</td>\n      <td>NaN</td>\n      <td>female</td>\n      <td>female</td>\n      <td>NaN</td>\n    </tr>\n    <tr>\n      <th>450665</th>\n      <td>913762</td>\n      <td>/m/03pcrp</td>\n      <td>1992-05-21</td>\n      <td>Hibiki</td>\n      <td>1965-04-12</td>\n      <td>male</td>\n      <td>NaN</td>\n      <td>Jonathan Fahn</td>\n      <td>27.0</td>\n      <td>/m/0kr405_</td>\n      <td>...</td>\n      <td>/m/0bx7_j</td>\n      <td>NaN</td>\n      <td>Q3809919</td>\n      <td>1965.0</td>\n      <td>nm0153068</td>\n      <td>NaN</td>\n      <td>NaN</td>\n      <td>male</td>\n      <td>male</td>\n      <td>NaN</td>\n    </tr>\n    <tr>\n      <th>450666</th>\n      <td>28308153</td>\n      <td>/m/0cp05t9</td>\n      <td>1957</td>\n      <td>NaN</td>\n      <td>1941-11-18</td>\n      <td>male</td>\n      <td>1.730</td>\n      <td>David Hemmings</td>\n      <td>15.0</td>\n      <td>/m/0g8ngmc</td>\n      <td>...</td>\n      <td>/m/022g44</td>\n      <td>English people</td>\n      <td>NaN</td>\n      <td>NaN</td>\n      <td>NaN</td>\n      <td>NaN</td>\n      <td>NaN</td>\n      <td>NaN</td>\n      <td>male</td>\n      <td>English people</td>\n    </tr>\n    <tr>\n      <th>450667</th>\n      <td>28308153</td>\n      <td>/m/0cp05t9</td>\n      <td>1957</td>\n      <td>NaN</td>\n      <td>NaN</td>\n      <td>NaN</td>\n      <td>NaN</td>\n      <td>Roberta Paterson</td>\n      <td>NaN</td>\n      <td>/m/0g8ngmj</td>\n      <td>...</td>\n      <td>/m/0g8ngmm</td>\n      <td>NaN</td>\n      <td>NaN</td>\n      <td>NaN</td>\n      <td>NaN</td>\n      <td>NaN</td>\n      <td>NaN</td>\n      <td>NaN</td>\n      <td>NaN</td>\n      <td>NaN</td>\n    </tr>\n    <tr>\n      <th>450668</th>\n      <td>28308153</td>\n      <td>/m/0cp05t9</td>\n      <td>1957</td>\n      <td>NaN</td>\n      <td>NaN</td>\n      <td>NaN</td>\n      <td>NaN</td>\n      <td>John Rogers</td>\n      <td>NaN</td>\n      <td>/m/0g8ngmw</td>\n      <td>...</td>\n      <td>/m/0btz19d</td>\n      <td>NaN</td>\n      <td>NaN</td>\n      <td>NaN</td>\n      <td>NaN</td>\n      <td>NaN</td>\n      <td>NaN</td>\n      <td>NaN</td>\n      <td>NaN</td>\n      <td>NaN</td>\n    </tr>\n  </tbody>\n</table>\n<p>450669 rows × 21 columns</p>\n</div>"
     },
     "execution_count": 17,
     "metadata": {},
     "output_type": "execute_result"
    }
   ],
   "source": [
    "characters = pickle.load(open('characters_w_ethnicity.p', 'rb'))\n",
    "characters"
   ],
   "metadata": {
    "collapsed": false
   }
  },
  {
   "cell_type": "markdown",
   "source": [
    "## Merge Birth"
   ],
   "metadata": {
    "collapsed": false
   }
  },
  {
   "cell_type": "code",
   "execution_count": 18,
   "outputs": [],
   "source": [
    "def get_year(x):\n",
    "    try:\n",
    "        return pd.to_datetime(x).year\n",
    "    except:\n",
    "        return np.nan\n",
    "\n",
    "characters['birth_cmu'] = characters.birth_cmu.apply(lambda x: get_year(x))"
   ],
   "metadata": {
    "collapsed": false
   }
  },
  {
   "cell_type": "code",
   "execution_count": 19,
   "outputs": [
    {
     "data": {
      "text/plain": "0         1958.0\n1         1974.0\n2         1969.0\n3         1967.0\n4         1977.0\n           ...  \n450664    1970.0\n450665    1965.0\n450666    1941.0\n450667       NaN\n450668       NaN\nName: birth_cmu, Length: 450669, dtype: float64"
     },
     "execution_count": 19,
     "metadata": {},
     "output_type": "execute_result"
    }
   ],
   "source": [
    "characters.birth_cmu"
   ],
   "metadata": {
    "collapsed": false
   }
  },
  {
   "cell_type": "code",
   "execution_count": 20,
   "outputs": [
    {
     "data": {
      "text/plain": "      nconst      primaryName birthYear deathYear  \\\n0  nm0000001     Fred Astaire      1899      1987   \n1  nm0000002    Lauren Bacall      1924      2014   \n2  nm0000003  Brigitte Bardot      1934        \\N   \n3  nm0000004     John Belushi      1949      1982   \n4  nm0000005   Ingmar Bergman      1918      2007   \n\n                     primaryProfession  \\\n0       soundtrack,actor,miscellaneous   \n1                   actress,soundtrack   \n2  actress,soundtrack,music_department   \n3              actor,soundtrack,writer   \n4                writer,director,actor   \n\n                            knownForTitles  \n0  tt0053137,tt0031983,tt0072308,tt0050419  \n1  tt0038355,tt0117057,tt0037382,tt0071877  \n2  tt0049189,tt0056404,tt0057345,tt0054452  \n3  tt0080455,tt0072562,tt0077975,tt0078723  \n4  tt0050986,tt0083922,tt0069467,tt0060827  ",
      "text/html": "<div>\n<style scoped>\n    .dataframe tbody tr th:only-of-type {\n        vertical-align: middle;\n    }\n\n    .dataframe tbody tr th {\n        vertical-align: top;\n    }\n\n    .dataframe thead th {\n        text-align: right;\n    }\n</style>\n<table border=\"1\" class=\"dataframe\">\n  <thead>\n    <tr style=\"text-align: right;\">\n      <th></th>\n      <th>nconst</th>\n      <th>primaryName</th>\n      <th>birthYear</th>\n      <th>deathYear</th>\n      <th>primaryProfession</th>\n      <th>knownForTitles</th>\n    </tr>\n  </thead>\n  <tbody>\n    <tr>\n      <th>0</th>\n      <td>nm0000001</td>\n      <td>Fred Astaire</td>\n      <td>1899</td>\n      <td>1987</td>\n      <td>soundtrack,actor,miscellaneous</td>\n      <td>tt0053137,tt0031983,tt0072308,tt0050419</td>\n    </tr>\n    <tr>\n      <th>1</th>\n      <td>nm0000002</td>\n      <td>Lauren Bacall</td>\n      <td>1924</td>\n      <td>2014</td>\n      <td>actress,soundtrack</td>\n      <td>tt0038355,tt0117057,tt0037382,tt0071877</td>\n    </tr>\n    <tr>\n      <th>2</th>\n      <td>nm0000003</td>\n      <td>Brigitte Bardot</td>\n      <td>1934</td>\n      <td>\\N</td>\n      <td>actress,soundtrack,music_department</td>\n      <td>tt0049189,tt0056404,tt0057345,tt0054452</td>\n    </tr>\n    <tr>\n      <th>3</th>\n      <td>nm0000004</td>\n      <td>John Belushi</td>\n      <td>1949</td>\n      <td>1982</td>\n      <td>actor,soundtrack,writer</td>\n      <td>tt0080455,tt0072562,tt0077975,tt0078723</td>\n    </tr>\n    <tr>\n      <th>4</th>\n      <td>nm0000005</td>\n      <td>Ingmar Bergman</td>\n      <td>1918</td>\n      <td>2007</td>\n      <td>writer,director,actor</td>\n      <td>tt0050986,tt0083922,tt0069467,tt0060827</td>\n    </tr>\n  </tbody>\n</table>\n</div>"
     },
     "execution_count": 20,
     "metadata": {},
     "output_type": "execute_result"
    }
   ],
   "source": [
    "imdb_characters = pd.read_csv('../data/IMDB/name.basics.tsv', sep='\\t')\n",
    "imdb_characters.head()"
   ],
   "metadata": {
    "collapsed": false
   }
  },
  {
   "cell_type": "code",
   "execution_count": 22,
   "outputs": [
    {
     "data": {
      "text/plain": "   movie_wiki_id movie_freebase_id release_date_cmu  \\\n0         975900         /m/03vyhn       2001-08-24   \n1         975900         /m/03vyhn       2001-08-24   \n2         975900         /m/03vyhn       2001-08-24   \n3         975900         /m/03vyhn       2001-08-24   \n4         975900         /m/03vyhn       2001-08-24   \n\n               character_name  birth_cmu gender_cmu  height  \\\n0                    Akooshay     1958.0     female   1.620   \n1  Lieutenant Melanie Ballard     1974.0     female   1.780   \n2         Desolation Williams     1969.0       male   1.727   \n3          Sgt Jericho Butler     1967.0       male   1.750   \n4             Bashira Kincaid     1977.0     female   1.650   \n\n           actor_name  actor_age freebase_character_actor_map_id  ...  \\\n0      Wanda De Jesus       42.0                      /m/0bgchxw  ...   \n1  Natasha Henstridge       27.0                       /m/0jys3m  ...   \n2            Ice Cube       32.0                       /m/0jys3g  ...   \n3       Jason Statham       33.0                      /m/02vchl6  ...   \n4         Clea DuVall       23.0                      /m/02vbb3r  ...   \n\n  number_notable_movies_wd ethnicity_wd gender_wd combined_gender  \\\n0                      NaN          NaN    female          female   \n1                      NaN          NaN    female          female   \n2                      NaN          NaN      male            male   \n3                      NaN          NaN      male            male   \n4                      NaN          NaN    female          female   \n\n   combined_ethnicity         primaryName  birthYear deathYear  \\\n0                 NaN      Wanda De Jesus       1958        \\N   \n1                 NaN  Natasha Henstridge       1974        \\N   \n2   African Americans            Ice Cube       1969        \\N   \n3                 NaN       Jason Statham       1967        \\N   \n4                 NaN         Clea DuVall       1977        \\N   \n\n             primaryProfession                           knownForTitles  \n0                      actress  tt0100502,tt0140352,tt0228333,tt0309377  \n1  actress,producer,soundtrack  tt0228333,tt0190138,tt0120841,tt0114508  \n2    soundtrack,actor,producer  tt0195945,tt1408253,tt0113118,tt0101507  \n3        actor,producer,stunts  tt4779682,tt3079380,tt2820852,tt0479884  \n4      actress,writer,producer  tt0228333,tt0133751,tt0179116,tt1024648  \n\n[5 rows x 26 columns]",
      "text/html": "<div>\n<style scoped>\n    .dataframe tbody tr th:only-of-type {\n        vertical-align: middle;\n    }\n\n    .dataframe tbody tr th {\n        vertical-align: top;\n    }\n\n    .dataframe thead th {\n        text-align: right;\n    }\n</style>\n<table border=\"1\" class=\"dataframe\">\n  <thead>\n    <tr style=\"text-align: right;\">\n      <th></th>\n      <th>movie_wiki_id</th>\n      <th>movie_freebase_id</th>\n      <th>release_date_cmu</th>\n      <th>character_name</th>\n      <th>birth_cmu</th>\n      <th>gender_cmu</th>\n      <th>height</th>\n      <th>actor_name</th>\n      <th>actor_age</th>\n      <th>freebase_character_actor_map_id</th>\n      <th>...</th>\n      <th>number_notable_movies_wd</th>\n      <th>ethnicity_wd</th>\n      <th>gender_wd</th>\n      <th>combined_gender</th>\n      <th>combined_ethnicity</th>\n      <th>primaryName</th>\n      <th>birthYear</th>\n      <th>deathYear</th>\n      <th>primaryProfession</th>\n      <th>knownForTitles</th>\n    </tr>\n  </thead>\n  <tbody>\n    <tr>\n      <th>0</th>\n      <td>975900</td>\n      <td>/m/03vyhn</td>\n      <td>2001-08-24</td>\n      <td>Akooshay</td>\n      <td>1958.0</td>\n      <td>female</td>\n      <td>1.620</td>\n      <td>Wanda De Jesus</td>\n      <td>42.0</td>\n      <td>/m/0bgchxw</td>\n      <td>...</td>\n      <td>NaN</td>\n      <td>NaN</td>\n      <td>female</td>\n      <td>female</td>\n      <td>NaN</td>\n      <td>Wanda De Jesus</td>\n      <td>1958</td>\n      <td>\\N</td>\n      <td>actress</td>\n      <td>tt0100502,tt0140352,tt0228333,tt0309377</td>\n    </tr>\n    <tr>\n      <th>1</th>\n      <td>975900</td>\n      <td>/m/03vyhn</td>\n      <td>2001-08-24</td>\n      <td>Lieutenant Melanie Ballard</td>\n      <td>1974.0</td>\n      <td>female</td>\n      <td>1.780</td>\n      <td>Natasha Henstridge</td>\n      <td>27.0</td>\n      <td>/m/0jys3m</td>\n      <td>...</td>\n      <td>NaN</td>\n      <td>NaN</td>\n      <td>female</td>\n      <td>female</td>\n      <td>NaN</td>\n      <td>Natasha Henstridge</td>\n      <td>1974</td>\n      <td>\\N</td>\n      <td>actress,producer,soundtrack</td>\n      <td>tt0228333,tt0190138,tt0120841,tt0114508</td>\n    </tr>\n    <tr>\n      <th>2</th>\n      <td>975900</td>\n      <td>/m/03vyhn</td>\n      <td>2001-08-24</td>\n      <td>Desolation Williams</td>\n      <td>1969.0</td>\n      <td>male</td>\n      <td>1.727</td>\n      <td>Ice Cube</td>\n      <td>32.0</td>\n      <td>/m/0jys3g</td>\n      <td>...</td>\n      <td>NaN</td>\n      <td>NaN</td>\n      <td>male</td>\n      <td>male</td>\n      <td>African Americans</td>\n      <td>Ice Cube</td>\n      <td>1969</td>\n      <td>\\N</td>\n      <td>soundtrack,actor,producer</td>\n      <td>tt0195945,tt1408253,tt0113118,tt0101507</td>\n    </tr>\n    <tr>\n      <th>3</th>\n      <td>975900</td>\n      <td>/m/03vyhn</td>\n      <td>2001-08-24</td>\n      <td>Sgt Jericho Butler</td>\n      <td>1967.0</td>\n      <td>male</td>\n      <td>1.750</td>\n      <td>Jason Statham</td>\n      <td>33.0</td>\n      <td>/m/02vchl6</td>\n      <td>...</td>\n      <td>NaN</td>\n      <td>NaN</td>\n      <td>male</td>\n      <td>male</td>\n      <td>NaN</td>\n      <td>Jason Statham</td>\n      <td>1967</td>\n      <td>\\N</td>\n      <td>actor,producer,stunts</td>\n      <td>tt4779682,tt3079380,tt2820852,tt0479884</td>\n    </tr>\n    <tr>\n      <th>4</th>\n      <td>975900</td>\n      <td>/m/03vyhn</td>\n      <td>2001-08-24</td>\n      <td>Bashira Kincaid</td>\n      <td>1977.0</td>\n      <td>female</td>\n      <td>1.650</td>\n      <td>Clea DuVall</td>\n      <td>23.0</td>\n      <td>/m/02vbb3r</td>\n      <td>...</td>\n      <td>NaN</td>\n      <td>NaN</td>\n      <td>female</td>\n      <td>female</td>\n      <td>NaN</td>\n      <td>Clea DuVall</td>\n      <td>1977</td>\n      <td>\\N</td>\n      <td>actress,writer,producer</td>\n      <td>tt0228333,tt0133751,tt0179116,tt1024648</td>\n    </tr>\n  </tbody>\n</table>\n<p>5 rows × 26 columns</p>\n</div>"
     },
     "execution_count": 22,
     "metadata": {},
     "output_type": "execute_result"
    }
   ],
   "source": [
    "characters = pd.merge(characters, imdb_characters, left_on='actor_imdb_id', right_on='nconst', how='left').drop('nconst', axis=1)"
   ],
   "metadata": {
    "collapsed": false
   }
  },
  {
   "cell_type": "code",
   "execution_count": 23,
   "outputs": [
    {
     "data": {
      "text/plain": "   movie_wiki_id movie_freebase_id release_date_cmu  \\\n0         975900         /m/03vyhn       2001-08-24   \n1         975900         /m/03vyhn       2001-08-24   \n2         975900         /m/03vyhn       2001-08-24   \n3         975900         /m/03vyhn       2001-08-24   \n4         975900         /m/03vyhn       2001-08-24   \n\n               character_name  birth_cmu gender_cmu  height  \\\n0                    Akooshay     1958.0     female   1.620   \n1  Lieutenant Melanie Ballard     1974.0     female   1.780   \n2         Desolation Williams     1969.0       male   1.727   \n3          Sgt Jericho Butler     1967.0       male   1.750   \n4             Bashira Kincaid     1977.0     female   1.650   \n\n           actor_name  actor_age freebase_character_actor_map_id  ...  \\\n0      Wanda De Jesus       42.0                      /m/0bgchxw  ...   \n1  Natasha Henstridge       27.0                       /m/0jys3m  ...   \n2            Ice Cube       32.0                       /m/0jys3g  ...   \n3       Jason Statham       33.0                      /m/02vchl6  ...   \n4         Clea DuVall       23.0                      /m/02vbb3r  ...   \n\n  number_notable_movies_wd ethnicity_wd gender_wd combined_gender  \\\n0                      NaN          NaN    female          female   \n1                      NaN          NaN    female          female   \n2                      NaN          NaN      male            male   \n3                      NaN          NaN      male            male   \n4                      NaN          NaN    female          female   \n\n   combined_ethnicity         primaryName  birthYear deathYear  \\\n0                 NaN      Wanda De Jesus     1958.0        \\N   \n1                 NaN  Natasha Henstridge     1974.0        \\N   \n2   African Americans            Ice Cube     1969.0        \\N   \n3                 NaN       Jason Statham     1967.0        \\N   \n4                 NaN         Clea DuVall     1977.0        \\N   \n\n             primaryProfession                           knownForTitles  \n0                      actress  tt0100502,tt0140352,tt0228333,tt0309377  \n1  actress,producer,soundtrack  tt0228333,tt0190138,tt0120841,tt0114508  \n2    soundtrack,actor,producer  tt0195945,tt1408253,tt0113118,tt0101507  \n3        actor,producer,stunts  tt4779682,tt3079380,tt2820852,tt0479884  \n4      actress,writer,producer  tt0228333,tt0133751,tt0179116,tt1024648  \n\n[5 rows x 26 columns]",
      "text/html": "<div>\n<style scoped>\n    .dataframe tbody tr th:only-of-type {\n        vertical-align: middle;\n    }\n\n    .dataframe tbody tr th {\n        vertical-align: top;\n    }\n\n    .dataframe thead th {\n        text-align: right;\n    }\n</style>\n<table border=\"1\" class=\"dataframe\">\n  <thead>\n    <tr style=\"text-align: right;\">\n      <th></th>\n      <th>movie_wiki_id</th>\n      <th>movie_freebase_id</th>\n      <th>release_date_cmu</th>\n      <th>character_name</th>\n      <th>birth_cmu</th>\n      <th>gender_cmu</th>\n      <th>height</th>\n      <th>actor_name</th>\n      <th>actor_age</th>\n      <th>freebase_character_actor_map_id</th>\n      <th>...</th>\n      <th>number_notable_movies_wd</th>\n      <th>ethnicity_wd</th>\n      <th>gender_wd</th>\n      <th>combined_gender</th>\n      <th>combined_ethnicity</th>\n      <th>primaryName</th>\n      <th>birthYear</th>\n      <th>deathYear</th>\n      <th>primaryProfession</th>\n      <th>knownForTitles</th>\n    </tr>\n  </thead>\n  <tbody>\n    <tr>\n      <th>0</th>\n      <td>975900</td>\n      <td>/m/03vyhn</td>\n      <td>2001-08-24</td>\n      <td>Akooshay</td>\n      <td>1958.0</td>\n      <td>female</td>\n      <td>1.620</td>\n      <td>Wanda De Jesus</td>\n      <td>42.0</td>\n      <td>/m/0bgchxw</td>\n      <td>...</td>\n      <td>NaN</td>\n      <td>NaN</td>\n      <td>female</td>\n      <td>female</td>\n      <td>NaN</td>\n      <td>Wanda De Jesus</td>\n      <td>1958.0</td>\n      <td>\\N</td>\n      <td>actress</td>\n      <td>tt0100502,tt0140352,tt0228333,tt0309377</td>\n    </tr>\n    <tr>\n      <th>1</th>\n      <td>975900</td>\n      <td>/m/03vyhn</td>\n      <td>2001-08-24</td>\n      <td>Lieutenant Melanie Ballard</td>\n      <td>1974.0</td>\n      <td>female</td>\n      <td>1.780</td>\n      <td>Natasha Henstridge</td>\n      <td>27.0</td>\n      <td>/m/0jys3m</td>\n      <td>...</td>\n      <td>NaN</td>\n      <td>NaN</td>\n      <td>female</td>\n      <td>female</td>\n      <td>NaN</td>\n      <td>Natasha Henstridge</td>\n      <td>1974.0</td>\n      <td>\\N</td>\n      <td>actress,producer,soundtrack</td>\n      <td>tt0228333,tt0190138,tt0120841,tt0114508</td>\n    </tr>\n    <tr>\n      <th>2</th>\n      <td>975900</td>\n      <td>/m/03vyhn</td>\n      <td>2001-08-24</td>\n      <td>Desolation Williams</td>\n      <td>1969.0</td>\n      <td>male</td>\n      <td>1.727</td>\n      <td>Ice Cube</td>\n      <td>32.0</td>\n      <td>/m/0jys3g</td>\n      <td>...</td>\n      <td>NaN</td>\n      <td>NaN</td>\n      <td>male</td>\n      <td>male</td>\n      <td>African Americans</td>\n      <td>Ice Cube</td>\n      <td>1969.0</td>\n      <td>\\N</td>\n      <td>soundtrack,actor,producer</td>\n      <td>tt0195945,tt1408253,tt0113118,tt0101507</td>\n    </tr>\n    <tr>\n      <th>3</th>\n      <td>975900</td>\n      <td>/m/03vyhn</td>\n      <td>2001-08-24</td>\n      <td>Sgt Jericho Butler</td>\n      <td>1967.0</td>\n      <td>male</td>\n      <td>1.750</td>\n      <td>Jason Statham</td>\n      <td>33.0</td>\n      <td>/m/02vchl6</td>\n      <td>...</td>\n      <td>NaN</td>\n      <td>NaN</td>\n      <td>male</td>\n      <td>male</td>\n      <td>NaN</td>\n      <td>Jason Statham</td>\n      <td>1967.0</td>\n      <td>\\N</td>\n      <td>actor,producer,stunts</td>\n      <td>tt4779682,tt3079380,tt2820852,tt0479884</td>\n    </tr>\n    <tr>\n      <th>4</th>\n      <td>975900</td>\n      <td>/m/03vyhn</td>\n      <td>2001-08-24</td>\n      <td>Bashira Kincaid</td>\n      <td>1977.0</td>\n      <td>female</td>\n      <td>1.650</td>\n      <td>Clea DuVall</td>\n      <td>23.0</td>\n      <td>/m/02vbb3r</td>\n      <td>...</td>\n      <td>NaN</td>\n      <td>NaN</td>\n      <td>female</td>\n      <td>female</td>\n      <td>NaN</td>\n      <td>Clea DuVall</td>\n      <td>1977.0</td>\n      <td>\\N</td>\n      <td>actress,writer,producer</td>\n      <td>tt0228333,tt0133751,tt0179116,tt1024648</td>\n    </tr>\n  </tbody>\n</table>\n<p>5 rows × 26 columns</p>\n</div>"
     },
     "execution_count": 23,
     "metadata": {},
     "output_type": "execute_result"
    }
   ],
   "source": [
    "def toInt(x):\n",
    "    try:\n",
    "        return int(x)\n",
    "    except:\n",
    "        return np.nan\n",
    "\n",
    "characters['birthYear'] = characters.birthYear.apply(lambda x: toInt(x))\n",
    "characters.head()"
   ],
   "metadata": {
    "collapsed": false
   }
  },
  {
   "cell_type": "code",
   "execution_count": 24,
   "outputs": [
    {
     "data": {
      "text/plain": "Index(['movie_wiki_id', 'movie_freebase_id', 'release_date_cmu',\n       'character_name', 'birth_cmu', 'gender_cmu', 'height', 'actor_name',\n       'actor_age', 'freebase_character_actor_map_id', 'freebase_character_id',\n       'freebase_actor_id', 'ethnicity', 'wikidata_id', 'birth_wd',\n       'actor_imdb_id', 'number_notable_movies_wd', 'ethnicity_wd',\n       'gender_wd', 'combined_gender', 'combined_ethnicity', 'primaryName',\n       'birthYear', 'deathYear', 'primaryProfession', 'knownForTitles'],\n      dtype='object')"
     },
     "execution_count": 24,
     "metadata": {},
     "output_type": "execute_result"
    }
   ],
   "source": [
    "characters.keys()"
   ],
   "metadata": {
    "collapsed": false
   }
  },
  {
   "cell_type": "code",
   "execution_count": 25,
   "outputs": [],
   "source": [
    "def get_combined_birth(x,y,z):\n",
    "    if abs(x - y) < 10:\n",
    "        return x\n",
    "    elif abs(x - z) < 10:\n",
    "        return x\n",
    "    elif abs(y - z) < 10:\n",
    "        return y\n",
    "    elif pd.notna(x):\n",
    "        return x\n",
    "    elif pd.notna(y):\n",
    "        return y\n",
    "    elif pd.notna(z):\n",
    "        return z\n",
    "    else:\n",
    "        return np.nan\n",
    "\n",
    "characters['combined_birth'] = characters.apply(lambda x: get_combined_birth(x['birthYear'], x['birth_wd'], x['birth_cmu']), axis=1)"
   ],
   "metadata": {
    "collapsed": false
   }
  },
  {
   "cell_type": "code",
   "execution_count": 27,
   "outputs": [
    {
     "data": {
      "text/plain": "Index(['movie_wiki_id', 'movie_freebase_id', 'release_date_cmu',\n       'character_name', 'birth_cmu', 'gender_cmu', 'height', 'actor_name',\n       'actor_age', 'freebase_character_actor_map_id', 'freebase_character_id',\n       'freebase_actor_id', 'ethnicity', 'wikidata_id', 'birth_wd',\n       'actor_imdb_id', 'number_notable_movies_wd', 'ethnicity_wd',\n       'gender_wd', 'combined_gender', 'combined_ethnicity', 'primaryName',\n       'birthYear', 'deathYear', 'primaryProfession', 'knownForTitles',\n       'combined_birth'],\n      dtype='object')"
     },
     "execution_count": 27,
     "metadata": {},
     "output_type": "execute_result"
    }
   ],
   "source": [
    "characters.keys()"
   ],
   "metadata": {
    "collapsed": false
   }
  },
  {
   "cell_type": "code",
   "execution_count": 29,
   "outputs": [
    {
     "data": {
      "text/plain": "   movie_wiki_id movie_freebase_id release_date_cmu  \\\n0         975900         /m/03vyhn       2001-08-24   \n1         975900         /m/03vyhn       2001-08-24   \n2         975900         /m/03vyhn       2001-08-24   \n3         975900         /m/03vyhn       2001-08-24   \n4         975900         /m/03vyhn       2001-08-24   \n\n               character_name          actor_name         primaryName  \\\n0                    Akooshay      Wanda De Jesus      Wanda De Jesus   \n1  Lieutenant Melanie Ballard  Natasha Henstridge  Natasha Henstridge   \n2         Desolation Williams            Ice Cube            Ice Cube   \n3          Sgt Jericho Butler       Jason Statham       Jason Statham   \n4             Bashira Kincaid         Clea DuVall         Clea DuVall   \n\n   birth_cmu  birth_wd  birth_imdb  combined_birth  ... combined_ethnicity  \\\n0     1958.0    1958.0      1958.0          1958.0  ...                NaN   \n1     1974.0    1974.0      1974.0          1974.0  ...                NaN   \n2     1969.0    1969.0      1969.0          1969.0  ...  African Americans   \n3     1967.0    1967.0      1967.0          1967.0  ...                NaN   \n4     1977.0    1977.0      1977.0          1977.0  ...                NaN   \n\n  deathYear_imdb            primaryProfession  \\\n0             \\N                      actress   \n1             \\N  actress,producer,soundtrack   \n2             \\N    soundtrack,actor,producer   \n3             \\N        actor,producer,stunts   \n4             \\N      actress,writer,producer   \n\n                            knownForTitles  number_notable_movies_wd  \\\n0  tt0100502,tt0140352,tt0228333,tt0309377                       NaN   \n1  tt0228333,tt0190138,tt0120841,tt0114508                       NaN   \n2  tt0195945,tt1408253,tt0113118,tt0101507                       NaN   \n3  tt4779682,tt3079380,tt2820852,tt0479884                       NaN   \n4  tt0228333,tt0133751,tt0179116,tt1024648                       NaN   \n\n  freebase_character_actor_map_id freebase_character_id freebase_actor_id  \\\n0                      /m/0bgchxw            /m/0bgcj3x        /m/03wcfv7   \n1                       /m/0jys3m            /m/0bgchn4         /m/0346l4   \n2                       /m/0jys3g            /m/0bgchn_        /m/01vw26l   \n3                      /m/02vchl6            /m/0bgchnq         /m/034hyc   \n4                      /m/02vbb3r            /m/0bgchp9         /m/01y9xg   \n\n  wikidata_id actor_imdb_id  \n0    Q1873468     nm0208962  \n1     Q230527     nm0000449  \n2     Q173637     nm0001084  \n3     Q169963     nm0005458  \n4     Q233347     nm0245112  \n\n[5 rows x 27 columns]",
      "text/html": "<div>\n<style scoped>\n    .dataframe tbody tr th:only-of-type {\n        vertical-align: middle;\n    }\n\n    .dataframe tbody tr th {\n        vertical-align: top;\n    }\n\n    .dataframe thead th {\n        text-align: right;\n    }\n</style>\n<table border=\"1\" class=\"dataframe\">\n  <thead>\n    <tr style=\"text-align: right;\">\n      <th></th>\n      <th>movie_wiki_id</th>\n      <th>movie_freebase_id</th>\n      <th>release_date_cmu</th>\n      <th>character_name</th>\n      <th>actor_name</th>\n      <th>primaryName</th>\n      <th>birth_cmu</th>\n      <th>birth_wd</th>\n      <th>birth_imdb</th>\n      <th>combined_birth</th>\n      <th>...</th>\n      <th>combined_ethnicity</th>\n      <th>deathYear_imdb</th>\n      <th>primaryProfession</th>\n      <th>knownForTitles</th>\n      <th>number_notable_movies_wd</th>\n      <th>freebase_character_actor_map_id</th>\n      <th>freebase_character_id</th>\n      <th>freebase_actor_id</th>\n      <th>wikidata_id</th>\n      <th>actor_imdb_id</th>\n    </tr>\n  </thead>\n  <tbody>\n    <tr>\n      <th>0</th>\n      <td>975900</td>\n      <td>/m/03vyhn</td>\n      <td>2001-08-24</td>\n      <td>Akooshay</td>\n      <td>Wanda De Jesus</td>\n      <td>Wanda De Jesus</td>\n      <td>1958.0</td>\n      <td>1958.0</td>\n      <td>1958.0</td>\n      <td>1958.0</td>\n      <td>...</td>\n      <td>NaN</td>\n      <td>\\N</td>\n      <td>actress</td>\n      <td>tt0100502,tt0140352,tt0228333,tt0309377</td>\n      <td>NaN</td>\n      <td>/m/0bgchxw</td>\n      <td>/m/0bgcj3x</td>\n      <td>/m/03wcfv7</td>\n      <td>Q1873468</td>\n      <td>nm0208962</td>\n    </tr>\n    <tr>\n      <th>1</th>\n      <td>975900</td>\n      <td>/m/03vyhn</td>\n      <td>2001-08-24</td>\n      <td>Lieutenant Melanie Ballard</td>\n      <td>Natasha Henstridge</td>\n      <td>Natasha Henstridge</td>\n      <td>1974.0</td>\n      <td>1974.0</td>\n      <td>1974.0</td>\n      <td>1974.0</td>\n      <td>...</td>\n      <td>NaN</td>\n      <td>\\N</td>\n      <td>actress,producer,soundtrack</td>\n      <td>tt0228333,tt0190138,tt0120841,tt0114508</td>\n      <td>NaN</td>\n      <td>/m/0jys3m</td>\n      <td>/m/0bgchn4</td>\n      <td>/m/0346l4</td>\n      <td>Q230527</td>\n      <td>nm0000449</td>\n    </tr>\n    <tr>\n      <th>2</th>\n      <td>975900</td>\n      <td>/m/03vyhn</td>\n      <td>2001-08-24</td>\n      <td>Desolation Williams</td>\n      <td>Ice Cube</td>\n      <td>Ice Cube</td>\n      <td>1969.0</td>\n      <td>1969.0</td>\n      <td>1969.0</td>\n      <td>1969.0</td>\n      <td>...</td>\n      <td>African Americans</td>\n      <td>\\N</td>\n      <td>soundtrack,actor,producer</td>\n      <td>tt0195945,tt1408253,tt0113118,tt0101507</td>\n      <td>NaN</td>\n      <td>/m/0jys3g</td>\n      <td>/m/0bgchn_</td>\n      <td>/m/01vw26l</td>\n      <td>Q173637</td>\n      <td>nm0001084</td>\n    </tr>\n    <tr>\n      <th>3</th>\n      <td>975900</td>\n      <td>/m/03vyhn</td>\n      <td>2001-08-24</td>\n      <td>Sgt Jericho Butler</td>\n      <td>Jason Statham</td>\n      <td>Jason Statham</td>\n      <td>1967.0</td>\n      <td>1967.0</td>\n      <td>1967.0</td>\n      <td>1967.0</td>\n      <td>...</td>\n      <td>NaN</td>\n      <td>\\N</td>\n      <td>actor,producer,stunts</td>\n      <td>tt4779682,tt3079380,tt2820852,tt0479884</td>\n      <td>NaN</td>\n      <td>/m/02vchl6</td>\n      <td>/m/0bgchnq</td>\n      <td>/m/034hyc</td>\n      <td>Q169963</td>\n      <td>nm0005458</td>\n    </tr>\n    <tr>\n      <th>4</th>\n      <td>975900</td>\n      <td>/m/03vyhn</td>\n      <td>2001-08-24</td>\n      <td>Bashira Kincaid</td>\n      <td>Clea DuVall</td>\n      <td>Clea DuVall</td>\n      <td>1977.0</td>\n      <td>1977.0</td>\n      <td>1977.0</td>\n      <td>1977.0</td>\n      <td>...</td>\n      <td>NaN</td>\n      <td>\\N</td>\n      <td>actress,writer,producer</td>\n      <td>tt0228333,tt0133751,tt0179116,tt1024648</td>\n      <td>NaN</td>\n      <td>/m/02vbb3r</td>\n      <td>/m/0bgchp9</td>\n      <td>/m/01y9xg</td>\n      <td>Q233347</td>\n      <td>nm0245112</td>\n    </tr>\n  </tbody>\n</table>\n<p>5 rows × 27 columns</p>\n</div>"
     },
     "execution_count": 29,
     "metadata": {},
     "output_type": "execute_result"
    }
   ],
   "source": [
    "characters = characters[['movie_wiki_id', 'movie_freebase_id', 'release_date_cmu',\n",
    "       'character_name', 'actor_name', 'primaryName', 'birth_cmu', 'birth_wd','birthYear', 'combined_birth', 'gender_cmu','gender_wd', 'combined_gender', 'height',\n",
    "       'actor_age',   'ethnicity', 'ethnicity_wd',\n",
    "        'combined_ethnicity',\n",
    "\n",
    "       'deathYear', 'primaryProfession', 'knownForTitles', 'number_notable_movies_wd',  'freebase_character_actor_map_id', 'freebase_character_id',\n",
    "       'freebase_actor_id','wikidata_id',  'actor_imdb_id',\n",
    "       ]]\n",
    "characters.rename({'ethnicity': 'ethnicity_cmu',\n",
    "       'birthYear':'birth_imdb', 'deathYear' : 'deathYear_imdb'}, axis=1, inplace=True)\n",
    "characters.head()"
   ],
   "metadata": {
    "collapsed": false
   }
  },
  {
   "cell_type": "code",
   "execution_count": 30,
   "outputs": [
    {
     "data": {
      "text/plain": "        movie_wiki_id movie_freebase_id release_date_cmu  \\\n0              975900         /m/03vyhn       2001-08-24   \n1              975900         /m/03vyhn       2001-08-24   \n2              975900         /m/03vyhn       2001-08-24   \n3              975900         /m/03vyhn       2001-08-24   \n4              975900         /m/03vyhn       2001-08-24   \n...               ...               ...              ...   \n450664         913762         /m/03pcrp       1992-05-21   \n450665         913762         /m/03pcrp       1992-05-21   \n450666       28308153        /m/0cp05t9             1957   \n450667       28308153        /m/0cp05t9             1957   \n450668       28308153        /m/0cp05t9             1957   \n\n                    character_name          actor_name         primaryName  \\\n0                         Akooshay      Wanda De Jesus      Wanda De Jesus   \n1       Lieutenant Melanie Ballard  Natasha Henstridge  Natasha Henstridge   \n2              Desolation Williams            Ice Cube            Ice Cube   \n3               Sgt Jericho Butler       Jason Statham       Jason Statham   \n4                  Bashira Kincaid         Clea DuVall         Clea DuVall   \n...                            ...                 ...                 ...   \n450664                      Elensh  Dorothy Elias-Fahn  Dorothy Elias-Fahn   \n450665                      Hibiki       Jonathan Fahn       Jonathan Fahn   \n450666                         NaN      David Hemmings                 NaN   \n450667                         NaN    Roberta Paterson                 NaN   \n450668                         NaN         John Rogers                 NaN   \n\n        birth_cmu  birth_wd  birth_imdb  combined_birth  ...  \\\n0          1958.0    1958.0      1958.0          1958.0  ...   \n1          1974.0    1974.0      1974.0          1974.0  ...   \n2          1969.0    1969.0      1969.0          1969.0  ...   \n3          1967.0    1967.0      1967.0          1967.0  ...   \n4          1977.0    1977.0      1977.0          1977.0  ...   \n...           ...       ...         ...             ...  ...   \n450664     1970.0    1962.0      1962.0          1962.0  ...   \n450665     1965.0    1965.0      1965.0          1965.0  ...   \n450666     1941.0       NaN         NaN          1941.0  ...   \n450667        NaN       NaN         NaN             NaN  ...   \n450668        NaN       NaN         NaN             NaN  ...   \n\n       combined_ethnicity deathYear_imdb  \\\n0                     NaN             \\N   \n1                     NaN             \\N   \n2       African Americans             \\N   \n3                     NaN             \\N   \n4                     NaN             \\N   \n...                   ...            ...   \n450664                NaN             \\N   \n450665                NaN             \\N   \n450666     English people            NaN   \n450667                NaN            NaN   \n450668                NaN            NaN   \n\n                             primaryProfession  \\\n0                                      actress   \n1                  actress,producer,soundtrack   \n2                    soundtrack,actor,producer   \n3                        actor,producer,stunts   \n4                      actress,writer,producer   \n...                                        ...   \n450664  actress,sound_department,miscellaneous   \n450665         actor,director,sound_department   \n450666                                     NaN   \n450667                                     NaN   \n450668                                     NaN   \n\n                                 knownForTitles  number_notable_movies_wd  \\\n0       tt0100502,tt0140352,tt0228333,tt0309377                       NaN   \n1       tt0228333,tt0190138,tt0120841,tt0114508                       NaN   \n2       tt0195945,tt1408253,tt0113118,tt0101507                       NaN   \n3       tt4779682,tt3079380,tt2820852,tt0479884                       NaN   \n4       tt0228333,tt0133751,tt0179116,tt1024648                       NaN   \n...                                         ...                       ...   \n450664  tt0113568,tt0988824,tt0079833,tt0182629                       NaN   \n450665  tt4902250,tt1130090,tt0301921,tt0301290                       NaN   \n450666                                      NaN                       NaN   \n450667                                      NaN                       NaN   \n450668                                      NaN                       NaN   \n\n       freebase_character_actor_map_id freebase_character_id  \\\n0                           /m/0bgchxw            /m/0bgcj3x   \n1                            /m/0jys3m            /m/0bgchn4   \n2                            /m/0jys3g            /m/0bgchn_   \n3                           /m/02vchl6            /m/0bgchnq   \n4                           /m/02vbb3r            /m/0bgchp9   \n...                                ...                   ...   \n450664                      /m/0kr406c            /m/0kr406h   \n450665                      /m/0kr405_            /m/0kr4090   \n450666                      /m/0g8ngmc                   NaN   \n450667                      /m/0g8ngmj                   NaN   \n450668                      /m/0g8ngmw                   NaN   \n\n       freebase_actor_id wikidata_id actor_imdb_id  \n0             /m/03wcfv7    Q1873468     nm0208962  \n1              /m/0346l4     Q230527     nm0000449  \n2             /m/01vw26l     Q173637     nm0001084  \n3              /m/034hyc     Q169963     nm0005458  \n4              /m/01y9xg     Q233347     nm0245112  \n...                  ...         ...           ...  \n450664         /m/0b_vcv    Q5298405     nm0253528  \n450665         /m/0bx7_j    Q3809919     nm0153068  \n450666         /m/022g44         NaN           NaN  \n450667        /m/0g8ngmm         NaN           NaN  \n450668        /m/0btz19d         NaN           NaN  \n\n[450669 rows x 27 columns]",
      "text/html": "<div>\n<style scoped>\n    .dataframe tbody tr th:only-of-type {\n        vertical-align: middle;\n    }\n\n    .dataframe tbody tr th {\n        vertical-align: top;\n    }\n\n    .dataframe thead th {\n        text-align: right;\n    }\n</style>\n<table border=\"1\" class=\"dataframe\">\n  <thead>\n    <tr style=\"text-align: right;\">\n      <th></th>\n      <th>movie_wiki_id</th>\n      <th>movie_freebase_id</th>\n      <th>release_date_cmu</th>\n      <th>character_name</th>\n      <th>actor_name</th>\n      <th>primaryName</th>\n      <th>birth_cmu</th>\n      <th>birth_wd</th>\n      <th>birth_imdb</th>\n      <th>combined_birth</th>\n      <th>...</th>\n      <th>combined_ethnicity</th>\n      <th>deathYear_imdb</th>\n      <th>primaryProfession</th>\n      <th>knownForTitles</th>\n      <th>number_notable_movies_wd</th>\n      <th>freebase_character_actor_map_id</th>\n      <th>freebase_character_id</th>\n      <th>freebase_actor_id</th>\n      <th>wikidata_id</th>\n      <th>actor_imdb_id</th>\n    </tr>\n  </thead>\n  <tbody>\n    <tr>\n      <th>0</th>\n      <td>975900</td>\n      <td>/m/03vyhn</td>\n      <td>2001-08-24</td>\n      <td>Akooshay</td>\n      <td>Wanda De Jesus</td>\n      <td>Wanda De Jesus</td>\n      <td>1958.0</td>\n      <td>1958.0</td>\n      <td>1958.0</td>\n      <td>1958.0</td>\n      <td>...</td>\n      <td>NaN</td>\n      <td>\\N</td>\n      <td>actress</td>\n      <td>tt0100502,tt0140352,tt0228333,tt0309377</td>\n      <td>NaN</td>\n      <td>/m/0bgchxw</td>\n      <td>/m/0bgcj3x</td>\n      <td>/m/03wcfv7</td>\n      <td>Q1873468</td>\n      <td>nm0208962</td>\n    </tr>\n    <tr>\n      <th>1</th>\n      <td>975900</td>\n      <td>/m/03vyhn</td>\n      <td>2001-08-24</td>\n      <td>Lieutenant Melanie Ballard</td>\n      <td>Natasha Henstridge</td>\n      <td>Natasha Henstridge</td>\n      <td>1974.0</td>\n      <td>1974.0</td>\n      <td>1974.0</td>\n      <td>1974.0</td>\n      <td>...</td>\n      <td>NaN</td>\n      <td>\\N</td>\n      <td>actress,producer,soundtrack</td>\n      <td>tt0228333,tt0190138,tt0120841,tt0114508</td>\n      <td>NaN</td>\n      <td>/m/0jys3m</td>\n      <td>/m/0bgchn4</td>\n      <td>/m/0346l4</td>\n      <td>Q230527</td>\n      <td>nm0000449</td>\n    </tr>\n    <tr>\n      <th>2</th>\n      <td>975900</td>\n      <td>/m/03vyhn</td>\n      <td>2001-08-24</td>\n      <td>Desolation Williams</td>\n      <td>Ice Cube</td>\n      <td>Ice Cube</td>\n      <td>1969.0</td>\n      <td>1969.0</td>\n      <td>1969.0</td>\n      <td>1969.0</td>\n      <td>...</td>\n      <td>African Americans</td>\n      <td>\\N</td>\n      <td>soundtrack,actor,producer</td>\n      <td>tt0195945,tt1408253,tt0113118,tt0101507</td>\n      <td>NaN</td>\n      <td>/m/0jys3g</td>\n      <td>/m/0bgchn_</td>\n      <td>/m/01vw26l</td>\n      <td>Q173637</td>\n      <td>nm0001084</td>\n    </tr>\n    <tr>\n      <th>3</th>\n      <td>975900</td>\n      <td>/m/03vyhn</td>\n      <td>2001-08-24</td>\n      <td>Sgt Jericho Butler</td>\n      <td>Jason Statham</td>\n      <td>Jason Statham</td>\n      <td>1967.0</td>\n      <td>1967.0</td>\n      <td>1967.0</td>\n      <td>1967.0</td>\n      <td>...</td>\n      <td>NaN</td>\n      <td>\\N</td>\n      <td>actor,producer,stunts</td>\n      <td>tt4779682,tt3079380,tt2820852,tt0479884</td>\n      <td>NaN</td>\n      <td>/m/02vchl6</td>\n      <td>/m/0bgchnq</td>\n      <td>/m/034hyc</td>\n      <td>Q169963</td>\n      <td>nm0005458</td>\n    </tr>\n    <tr>\n      <th>4</th>\n      <td>975900</td>\n      <td>/m/03vyhn</td>\n      <td>2001-08-24</td>\n      <td>Bashira Kincaid</td>\n      <td>Clea DuVall</td>\n      <td>Clea DuVall</td>\n      <td>1977.0</td>\n      <td>1977.0</td>\n      <td>1977.0</td>\n      <td>1977.0</td>\n      <td>...</td>\n      <td>NaN</td>\n      <td>\\N</td>\n      <td>actress,writer,producer</td>\n      <td>tt0228333,tt0133751,tt0179116,tt1024648</td>\n      <td>NaN</td>\n      <td>/m/02vbb3r</td>\n      <td>/m/0bgchp9</td>\n      <td>/m/01y9xg</td>\n      <td>Q233347</td>\n      <td>nm0245112</td>\n    </tr>\n    <tr>\n      <th>...</th>\n      <td>...</td>\n      <td>...</td>\n      <td>...</td>\n      <td>...</td>\n      <td>...</td>\n      <td>...</td>\n      <td>...</td>\n      <td>...</td>\n      <td>...</td>\n      <td>...</td>\n      <td>...</td>\n      <td>...</td>\n      <td>...</td>\n      <td>...</td>\n      <td>...</td>\n      <td>...</td>\n      <td>...</td>\n      <td>...</td>\n      <td>...</td>\n      <td>...</td>\n      <td>...</td>\n    </tr>\n    <tr>\n      <th>450664</th>\n      <td>913762</td>\n      <td>/m/03pcrp</td>\n      <td>1992-05-21</td>\n      <td>Elensh</td>\n      <td>Dorothy Elias-Fahn</td>\n      <td>Dorothy Elias-Fahn</td>\n      <td>1970.0</td>\n      <td>1962.0</td>\n      <td>1962.0</td>\n      <td>1962.0</td>\n      <td>...</td>\n      <td>NaN</td>\n      <td>\\N</td>\n      <td>actress,sound_department,miscellaneous</td>\n      <td>tt0113568,tt0988824,tt0079833,tt0182629</td>\n      <td>NaN</td>\n      <td>/m/0kr406c</td>\n      <td>/m/0kr406h</td>\n      <td>/m/0b_vcv</td>\n      <td>Q5298405</td>\n      <td>nm0253528</td>\n    </tr>\n    <tr>\n      <th>450665</th>\n      <td>913762</td>\n      <td>/m/03pcrp</td>\n      <td>1992-05-21</td>\n      <td>Hibiki</td>\n      <td>Jonathan Fahn</td>\n      <td>Jonathan Fahn</td>\n      <td>1965.0</td>\n      <td>1965.0</td>\n      <td>1965.0</td>\n      <td>1965.0</td>\n      <td>...</td>\n      <td>NaN</td>\n      <td>\\N</td>\n      <td>actor,director,sound_department</td>\n      <td>tt4902250,tt1130090,tt0301921,tt0301290</td>\n      <td>NaN</td>\n      <td>/m/0kr405_</td>\n      <td>/m/0kr4090</td>\n      <td>/m/0bx7_j</td>\n      <td>Q3809919</td>\n      <td>nm0153068</td>\n    </tr>\n    <tr>\n      <th>450666</th>\n      <td>28308153</td>\n      <td>/m/0cp05t9</td>\n      <td>1957</td>\n      <td>NaN</td>\n      <td>David Hemmings</td>\n      <td>NaN</td>\n      <td>1941.0</td>\n      <td>NaN</td>\n      <td>NaN</td>\n      <td>1941.0</td>\n      <td>...</td>\n      <td>English people</td>\n      <td>NaN</td>\n      <td>NaN</td>\n      <td>NaN</td>\n      <td>NaN</td>\n      <td>/m/0g8ngmc</td>\n      <td>NaN</td>\n      <td>/m/022g44</td>\n      <td>NaN</td>\n      <td>NaN</td>\n    </tr>\n    <tr>\n      <th>450667</th>\n      <td>28308153</td>\n      <td>/m/0cp05t9</td>\n      <td>1957</td>\n      <td>NaN</td>\n      <td>Roberta Paterson</td>\n      <td>NaN</td>\n      <td>NaN</td>\n      <td>NaN</td>\n      <td>NaN</td>\n      <td>NaN</td>\n      <td>...</td>\n      <td>NaN</td>\n      <td>NaN</td>\n      <td>NaN</td>\n      <td>NaN</td>\n      <td>NaN</td>\n      <td>/m/0g8ngmj</td>\n      <td>NaN</td>\n      <td>/m/0g8ngmm</td>\n      <td>NaN</td>\n      <td>NaN</td>\n    </tr>\n    <tr>\n      <th>450668</th>\n      <td>28308153</td>\n      <td>/m/0cp05t9</td>\n      <td>1957</td>\n      <td>NaN</td>\n      <td>John Rogers</td>\n      <td>NaN</td>\n      <td>NaN</td>\n      <td>NaN</td>\n      <td>NaN</td>\n      <td>NaN</td>\n      <td>...</td>\n      <td>NaN</td>\n      <td>NaN</td>\n      <td>NaN</td>\n      <td>NaN</td>\n      <td>NaN</td>\n      <td>/m/0g8ngmw</td>\n      <td>NaN</td>\n      <td>/m/0btz19d</td>\n      <td>NaN</td>\n      <td>NaN</td>\n    </tr>\n  </tbody>\n</table>\n<p>450669 rows × 27 columns</p>\n</div>"
     },
     "execution_count": 30,
     "metadata": {},
     "output_type": "execute_result"
    }
   ],
   "source": [
    "characters"
   ],
   "metadata": {
    "collapsed": false
   }
  },
  {
   "cell_type": "code",
   "execution_count": 63,
   "outputs": [
    {
     "name": "stdout",
     "output_type": "stream",
     "text": [
      "percentage of movie_wiki_id filled: 1.000%\n",
      "percentage of movie_freebase_id filled: 1.000%\n",
      "percentage of release_date_cmu filled: 0.978%\n",
      "percentage of combined_release_year filled: 0.992%\n",
      "percentage of character_name filled: 0.428%\n",
      "percentage of actor_name filled: 0.997%\n",
      "percentage of primaryName filled: 0.627%\n",
      "percentage of birth_cmu filled: 0.764%\n",
      "percentage of birth_wd filled: 0.630%\n",
      "percentage of birth_imdb filled: 0.616%\n",
      "percentage of combined_birth filled: 0.777%\n",
      "percentage of gender_cmu filled: 0.899%\n",
      "percentage of gender_wd filled: 0.631%\n",
      "percentage of combined_gender filled: 0.902%\n",
      "percentage of height filled: 0.344%\n",
      "percentage of actor_age filled: 0.649%\n",
      "percentage of actor_age_from_combined filled: 0.770%\n",
      "percentage of ethnicity_cmu filled: 0.207%\n",
      "percentage of ethnicity_wd filled: 0.034%\n",
      "percentage of combined_ethnicity filled: 0.218%\n",
      "percentage of deathYear_imdb filled: 0.627%\n",
      "percentage of primaryProfession filled: 0.626%\n",
      "percentage of knownForTitles filled: 0.627%\n",
      "percentage of number_notable_movies_wd filled: 0.046%\n",
      "percentage of freebase_character_actor_map_id filled: 1.000%\n",
      "percentage of freebase_character_id filled: 0.428%\n",
      "percentage of freebase_actor_id filled: 0.998%\n",
      "percentage of wikidata_id filled: 0.631%\n",
      "percentage of actor_imdb_id filled: 0.629%\n"
     ]
    },
    {
     "data": {
      "text/plain": "<Figure size 640x480 with 1 Axes>",
      "image/png": "[encoded data removed]"
     },
     "metadata": {},
     "output_type": "display_data"
    }
   ],
   "source": [
    "def get_percentage_notna(df, feature):\n",
    "   return print(f'percentage of {feature} filled: {df[feature].notna().sum() / len(df):.3f}%')\n",
    "\n",
    "features = list(characters.keys())\n",
    "\n",
    "for feature in features:\n",
    "    get_percentage_notna(characters, feature)\n",
    "\n",
    "tempdict = {}\n",
    "for feature in features:\n",
    "   tempdict[feature] =  characters[feature].notna().sum() / len(characters)\n",
    "\n",
    "tempdf = pd.DataFrame([tempdict])\n",
    "\n",
    "ax = sns.barplot(data=tempdf)\n",
    "ax.set_ylabel('Percentage of filled entries')\n",
    "ax.set_xlabel('Features')\n",
    "ax.tick_params('x', labelrotation=90)"
   ],
   "metadata": {
    "collapsed": false
   }
  },
  {
   "cell_type": "code",
   "execution_count": 34,
   "outputs": [],
   "source": [
    "pickle.dump(characters, open(pickle_folder + 'characters.p', 'wb'))"
   ],
   "metadata": {
    "collapsed": false
   }
  },
  {
   "cell_type": "code",
   "execution_count": 60,
   "outputs": [],
   "source": [
    "characters['release_date_cmu'] = characters.release_date_cmu.apply(lambda x: get_year(x))"
   ],
   "metadata": {
    "collapsed": false
   }
  },
  {
   "cell_type": "code",
   "execution_count": 62,
   "outputs": [],
   "source": [
    "characters = characters[['movie_wiki_id', 'movie_freebase_id', 'release_date_cmu', 'combined_release_year',\n",
    "       'character_name', 'actor_name', 'primaryName', 'birth_cmu', 'birth_wd',\n",
    "       'birth_imdb', 'combined_birth', 'gender_cmu', 'gender_wd',\n",
    "       'combined_gender', 'height', 'actor_age',  'actor_age_from_combined', 'ethnicity_cmu',\n",
    "       'ethnicity_wd', 'combined_ethnicity', 'deathYear_imdb',\n",
    "       'primaryProfession', 'knownForTitles', 'number_notable_movies_wd',\n",
    "       'freebase_character_actor_map_id', 'freebase_character_id',\n",
    "       'freebase_actor_id', 'wikidata_id', 'actor_imdb_id',\n",
    "       ]]"
   ],
   "metadata": {
    "collapsed": false
   }
  },
  {
   "cell_type": "code",
   "execution_count": 58,
   "outputs": [],
   "source": [
    "def get_age(birth, release):\n",
    "    try:\n",
    "        return release - birth\n",
    "    except:\n",
    "        return np.nan\n",
    "\n",
    "characters['actor_age_from_combined'] = characters.apply(lambda x: get_age(x['combined_birth'], x['combined_release_year']), axis=1)"
   ],
   "metadata": {
    "collapsed": false
   }
  },
  {
   "cell_type": "code",
   "execution_count": 64,
   "outputs": [],
   "source": [
    "pickle.dump(characters, open('../data/pickles/characters.p', 'wb'))\n"
   ],
   "metadata": {
    "collapsed": false
   }
  }
 ],
 "metadata": {
  "kernelspec": {
   "display_name": "Python 3",
   "language": "python",
   "name": "python3"
  },
  "language_info": {
   "codemirror_mode": {
    "name": "ipython",
    "version": 2
   },
   "file_extension": ".py",
   "mimetype": "text/x-python",
   "name": "python",
   "nbconvert_exporter": "python",
   "pygments_lexer": "ipython2",
   "version": "2.7.6"
  }
 },
 "nbformat": 4,
 "nbformat_minor": 0
}
