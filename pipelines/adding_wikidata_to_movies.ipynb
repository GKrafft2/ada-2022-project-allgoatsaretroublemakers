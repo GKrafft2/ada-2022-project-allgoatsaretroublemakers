{
 "cells": [
  {
   "cell_type": "code",
   "execution_count": 2,
   "outputs": [],
   "source": [
    "import pickle\n",
    "import pandas as pd\n",
    "import numpy as np\n",
    "from tqdm.auto import tqdm\n",
    "import requests\n",
    "import dask.dataframe as dd\n"
   ],
   "metadata": {
    "collapsed": false
   }
  },
  {
   "cell_type": "code",
   "execution_count": 3,
   "outputs": [
    {
     "data": {
      "text/plain": "array(['Q261700', 'Q16250726', 'Q4978832', ..., 'Q4770308', 'Q2663931',\n       'Q7578560'], dtype=object)"
     },
     "execution_count": 3,
     "metadata": {},
     "output_type": "execute_result"
    }
   ],
   "source": [
    "data_folder = '../data/'\n",
    "pickle_folder = '../data/pickles/'\n",
    "\n",
    "\n",
    "movies_with_wikidata_id = pickle.load(open(pickle_folder + 'movies_with_wikidata_id.p', 'rb'))\n",
    "unique_movie_ids = movies_with_wikidata_id.wikidata_id.unique()\n",
    "unique_movie_ids"
   ],
   "metadata": {
    "collapsed": false
   }
  },
  {
   "cell_type": "markdown",
   "source": [
    "Should take around 10 hours, let's do it in 10 times one hour"
   ],
   "metadata": {
    "collapsed": false
   }
  },
  {
   "cell_type": "code",
   "execution_count": 4,
   "outputs": [
    {
     "data": {
      "text/plain": "array(['Q261700', 'Q16250726', 'Q4978832', 'Q7995657', 'Q869644',\n       'Q3067285', 'Q7765318', 'Q1619977', 'Q5165212', 'Q194106'],\n      dtype=object)"
     },
     "execution_count": 4,
     "metadata": {},
     "output_type": "execute_result"
    }
   ],
   "source": [
    "unique_movie_ids[:10]"
   ],
   "metadata": {
    "collapsed": false
   }
  },
  {
   "cell_type": "code",
   "execution_count": 5,
   "outputs": [
    {
     "data": {
      "text/plain": "  0%|          | 0/77109 [00:00<?, ?it/s]",
      "application/vnd.jupyter.widget-view+json": {
       "version_major": 2,
       "version_minor": 0,
       "model_id": "94474ebc4aa34df7854f8861681ae1ef"
      }
     },
     "metadata": {},
     "output_type": "display_data"
    },
    {
     "name": "stdout",
     "output_type": "stream",
     "text": [
      "400\n",
      "404\n",
      "404\n",
      "404\n",
      "404\n",
      "404\n",
      "404\n",
      "404\n",
      "404\n",
      "404\n",
      "404\n",
      "404\n",
      "404\n",
      "404\n",
      "404\n",
      "404\n",
      "404\n",
      "404\n",
      "404\n",
      "404\n",
      "404\n",
      "404\n"
     ]
    }
   ],
   "source": [
    "from multiprocessing import Pool\n",
    "\n",
    "wanted_features = ['P577', 'P444', 'P2142', 'P646', 'P345']\n",
    "\n",
    "def get_wikidata_title(id):\n",
    "    json_id = requests.get(f'https://www.wikidata.org/wiki/Special:EntityData/{id}.json')\n",
    "    if json_id.ok:\n",
    "        features = dict()\n",
    "        json_id = json_id.json()\n",
    "        key = list(json_id['entities'].keys())[0]\n",
    "        features['new_wikidata_id'] = key\n",
    "        for feature in wanted_features:\n",
    "            try:\n",
    "                features[feature] = json_id['entities'][key]['claims'][feature][0]['mainsnak']['datavalue']['value']\n",
    "            except:\n",
    "                pass\n",
    "        return [id, features]\n",
    "    else:\n",
    "        print(json_id.status_code)\n",
    "        return [id, json_id.status_code]\n",
    "    # return json_id['entities'][id]['labels']['en']['value']\n",
    "\n",
    "\n",
    "total_len = len(unique_movie_ids)\n",
    "\n",
    "collection = []\n",
    "\n",
    "with Pool(6) as p:\n",
    "    collection =  list(tqdm(p.imap(get_wikidata_title, unique_movie_ids), total=total_len))\n",
    "# pickle.dump(collection, open(f'temp_collection_movies.p','wb'))\n"
   ],
   "metadata": {
    "collapsed": false
   }
  },
  {
   "cell_type": "code",
   "execution_count": 7,
   "outputs": [],
   "source": [
    "pickle.dump(collection, open(f'temp_collection_movies.p','wb'))\n"
   ],
   "metadata": {
    "collapsed": false
   }
  },
  {
   "cell_type": "code",
   "execution_count": 66,
   "outputs": [
    {
     "data": {
      "text/plain": "                                                           1\n0                                                           \nQ261700    {'new_wikidata_id': 'Q261700', 'P577': {'time'...\nQ16250726  {'new_wikidata_id': 'Q16250726', 'P577': {'tim...\nQ4978832   {'new_wikidata_id': 'Q4978832', 'P577': {'time...\nQ7995657   {'new_wikidata_id': 'Q7995657', 'P577': {'time...\nQ869644    {'new_wikidata_id': 'Q869644', 'P577': {'time'...",
      "text/html": "<div>\n<style scoped>\n    .dataframe tbody tr th:only-of-type {\n        vertical-align: middle;\n    }\n\n    .dataframe tbody tr th {\n        vertical-align: top;\n    }\n\n    .dataframe thead th {\n        text-align: right;\n    }\n</style>\n<table border=\"1\" class=\"dataframe\">\n  <thead>\n    <tr style=\"text-align: right;\">\n      <th></th>\n      <th>1</th>\n    </tr>\n    <tr>\n      <th>0</th>\n      <th></th>\n    </tr>\n  </thead>\n  <tbody>\n    <tr>\n      <th>Q261700</th>\n      <td>{'new_wikidata_id': 'Q261700', 'P577': {'time'...</td>\n    </tr>\n    <tr>\n      <th>Q16250726</th>\n      <td>{'new_wikidata_id': 'Q16250726', 'P577': {'tim...</td>\n    </tr>\n    <tr>\n      <th>Q4978832</th>\n      <td>{'new_wikidata_id': 'Q4978832', 'P577': {'time...</td>\n    </tr>\n    <tr>\n      <th>Q7995657</th>\n      <td>{'new_wikidata_id': 'Q7995657', 'P577': {'time...</td>\n    </tr>\n    <tr>\n      <th>Q869644</th>\n      <td>{'new_wikidata_id': 'Q869644', 'P577': {'time'...</td>\n    </tr>\n  </tbody>\n</table>\n</div>"
     },
     "execution_count": 66,
     "metadata": {},
     "output_type": "execute_result"
    }
   ],
   "source": [
    "df = pd.DataFrame(collection)\n",
    "failed_ids = df.loc[(df[1] == 400) | (df[1] == 404)]\n",
    "pickle.dump(failed_ids, open('failed_movie_wikidata_ids.p','wb'))\n",
    "df = df.drop(index=df.loc[(df[1] == 400) | (df[1] == 404)].index)\n",
    "df = df.set_index(0)\n",
    "df.head()"
   ],
   "metadata": {
    "collapsed": false
   }
  },
  {
   "cell_type": "code",
   "execution_count": 67,
   "outputs": [
    {
     "data": {
      "text/plain": "          new_wikidata_id release_date_wd  box_office_wd ratings_wd  \\\n0                                                                     \nQ261700           Q261700      2001-01-01            NaN        22%   \nQ16250726       Q16250726      2000-01-01            NaN        NaN   \nQ4978832         Q4978832      1988-01-01            NaN        NaN   \nQ7995657         Q7995657      1987-01-01            NaN        50%   \nQ869644           Q869644      1983-01-01            NaN        NaN   \n\n          freebase_id_wd    IMDB_id  \n0                                    \nQ261700        /m/03vyhn  tt0228333  \nQ16250726      /m/08yl5d  tt0245916  \nQ4978832      /m/0crgdbh  tt0094806  \nQ7995657      /m/0285_cd  tt0094320  \nQ869644        /m/01mrr1  tt0083949  ",
      "text/html": "<div>\n<style scoped>\n    .dataframe tbody tr th:only-of-type {\n        vertical-align: middle;\n    }\n\n    .dataframe tbody tr th {\n        vertical-align: top;\n    }\n\n    .dataframe thead th {\n        text-align: right;\n    }\n</style>\n<table border=\"1\" class=\"dataframe\">\n  <thead>\n    <tr style=\"text-align: right;\">\n      <th></th>\n      <th>new_wikidata_id</th>\n      <th>release_date_wd</th>\n      <th>box_office_wd</th>\n      <th>ratings_wd</th>\n      <th>freebase_id_wd</th>\n      <th>IMDB_id</th>\n    </tr>\n    <tr>\n      <th>0</th>\n      <th></th>\n      <th></th>\n      <th></th>\n      <th></th>\n      <th></th>\n      <th></th>\n    </tr>\n  </thead>\n  <tbody>\n    <tr>\n      <th>Q261700</th>\n      <td>Q261700</td>\n      <td>2001-01-01</td>\n      <td>NaN</td>\n      <td>22%</td>\n      <td>/m/03vyhn</td>\n      <td>tt0228333</td>\n    </tr>\n    <tr>\n      <th>Q16250726</th>\n      <td>Q16250726</td>\n      <td>2000-01-01</td>\n      <td>NaN</td>\n      <td>NaN</td>\n      <td>/m/08yl5d</td>\n      <td>tt0245916</td>\n    </tr>\n    <tr>\n      <th>Q4978832</th>\n      <td>Q4978832</td>\n      <td>1988-01-01</td>\n      <td>NaN</td>\n      <td>NaN</td>\n      <td>/m/0crgdbh</td>\n      <td>tt0094806</td>\n    </tr>\n    <tr>\n      <th>Q7995657</th>\n      <td>Q7995657</td>\n      <td>1987-01-01</td>\n      <td>NaN</td>\n      <td>50%</td>\n      <td>/m/0285_cd</td>\n      <td>tt0094320</td>\n    </tr>\n    <tr>\n      <th>Q869644</th>\n      <td>Q869644</td>\n      <td>1983-01-01</td>\n      <td>NaN</td>\n      <td>NaN</td>\n      <td>/m/01mrr1</td>\n      <td>tt0083949</td>\n    </tr>\n  </tbody>\n</table>\n</div>"
     },
     "execution_count": 67,
     "metadata": {},
     "output_type": "execute_result"
    }
   ],
   "source": [
    "def get_feature(x, feature, fct):\n",
    "    try:\n",
    "        return fct(x[feature])\n",
    "    except:\n",
    "        return np.nan\n",
    "\n",
    "df['new_wikidata_id'] = df[1].apply(lambda x: get_feature(x, 'new_wikidata_id', lambda y: y))\n",
    "df['release_date_wd'] = pd.to_datetime(df[1].apply(lambda x: get_feature(x, 'P577', (lambda y: y['time'].removeprefix('+').removesuffix('T00:00:00Z').replace('-00-00','').replace('-00','')))),errors = 'ignore')\n",
    "df['box_office_wd'] = df[1].apply(lambda x: get_feature(x, 'P2142', lambda y: int(y['amount'].removeprefix('+'))))\n",
    "df['ratings_wd'] = df[1].apply(lambda x: get_feature(x, 'P444', lambda y: y))\n",
    "df['freebase_id_wd'] = df[1].apply(lambda x: get_feature(x, 'P646', lambda y: y))\n",
    "df['IMDB_id'] = df[1].apply(lambda x: get_feature(x, 'P345', lambda y: y))\n",
    "df = df.drop(labels=[1], axis=1)\n",
    "df.head()"
   ],
   "metadata": {
    "collapsed": false
   }
  },
  {
   "cell_type": "code",
   "execution_count": 68,
   "outputs": [
    {
     "data": {
      "text/plain": "Index(['Wikipedia ID', 'freebase_id', 'wikidata_id', 'name', 'release date',\n       'box office revenue', 'runtime', 'languages', 'countries', 'genres',\n       'new_wikidata_id', 'release_date_wd', 'box_office_wd', 'ratings_wd',\n       'freebase_id_wd', 'IMDB_id'],\n      dtype='object')"
     },
     "execution_count": 68,
     "metadata": {},
     "output_type": "execute_result"
    }
   ],
   "source": [
    "movies = pd.merge(left=movies_with_wikidata_id, right=df, left_on='wikidata_id', right_index=True)\n",
    "movies.keys()"
   ],
   "metadata": {
    "collapsed": false
   }
  },
  {
   "cell_type": "code",
   "execution_count": 72,
   "outputs": [
    {
     "data": {
      "text/plain": "       box office revenue  box_office_wd\n0              14010832.0            NaN\n7               3600000.0            NaN\n13             10161099.0            NaN\n21                21521.0            NaN\n29             29381649.0            NaN\n...                   ...            ...\n81720          15369573.0            NaN\n81725           6944471.0            NaN\n81726          22886222.0            NaN\n81732           1847671.0            NaN\n81735                 NaN     12859418.0\n\n[7552 rows x 2 columns]",
      "text/html": "<div>\n<style scoped>\n    .dataframe tbody tr th:only-of-type {\n        vertical-align: middle;\n    }\n\n    .dataframe tbody tr th {\n        vertical-align: top;\n    }\n\n    .dataframe thead th {\n        text-align: right;\n    }\n</style>\n<table border=\"1\" class=\"dataframe\">\n  <thead>\n    <tr style=\"text-align: right;\">\n      <th></th>\n      <th>box office revenue</th>\n      <th>box_office_wd</th>\n    </tr>\n  </thead>\n  <tbody>\n    <tr>\n      <th>0</th>\n      <td>14010832.0</td>\n      <td>NaN</td>\n    </tr>\n    <tr>\n      <th>7</th>\n      <td>3600000.0</td>\n      <td>NaN</td>\n    </tr>\n    <tr>\n      <th>13</th>\n      <td>10161099.0</td>\n      <td>NaN</td>\n    </tr>\n    <tr>\n      <th>21</th>\n      <td>21521.0</td>\n      <td>NaN</td>\n    </tr>\n    <tr>\n      <th>29</th>\n      <td>29381649.0</td>\n      <td>NaN</td>\n    </tr>\n    <tr>\n      <th>...</th>\n      <td>...</td>\n      <td>...</td>\n    </tr>\n    <tr>\n      <th>81720</th>\n      <td>15369573.0</td>\n      <td>NaN</td>\n    </tr>\n    <tr>\n      <th>81725</th>\n      <td>6944471.0</td>\n      <td>NaN</td>\n    </tr>\n    <tr>\n      <th>81726</th>\n      <td>22886222.0</td>\n      <td>NaN</td>\n    </tr>\n    <tr>\n      <th>81732</th>\n      <td>1847671.0</td>\n      <td>NaN</td>\n    </tr>\n    <tr>\n      <th>81735</th>\n      <td>NaN</td>\n      <td>12859418.0</td>\n    </tr>\n  </tbody>\n</table>\n<p>7552 rows × 2 columns</p>\n</div>"
     },
     "execution_count": 72,
     "metadata": {},
     "output_type": "execute_result"
    }
   ],
   "source": [
    "def non_matching_features(df, feature1, feature2):\n",
    "    return df.loc[(df[feature1] != df[feature2]) & (df[feature1].notna() & df[feature2].notna())][[feature1, feature2]]\n",
    "\n",
    "def at_least_one_feature(df, feature1, feature2):\n",
    "    return df.loc[(df[feature1].isna() & df[feature2].notna()) | (df[feature1].notna() & df[feature2].isna())][[feature1, feature2]]\n",
    "\n",
    "at_least_one_feature(movies, 'box office revenue', 'box_office_wd')"
   ],
   "metadata": {
    "collapsed": false
   }
  },
  {
   "cell_type": "code",
   "execution_count": 73,
   "outputs": [],
   "source": [
    "pickle.dump(movies, open(pickle_folder + 'movies_with_wikidata_entries_separate.p','wb'))"
   ],
   "metadata": {
    "collapsed": false
   }
  },
  {
   "cell_type": "code",
   "execution_count": null,
   "outputs": [],
   "source": [],
   "metadata": {
    "collapsed": false
   }
  }
 ],
 "metadata": {
  "kernelspec": {
   "display_name": "Python 3",
   "language": "python",
   "name": "python3"
  },
  "language_info": {
   "codemirror_mode": {
    "name": "ipython",
    "version": 2
   },
   "file_extension": ".py",
   "mimetype": "text/x-python",
   "name": "python",
   "nbconvert_exporter": "python",
   "pygments_lexer": "ipython2",
   "version": "2.7.6"
  }
 },
 "nbformat": 4,
 "nbformat_minor": 0
}
