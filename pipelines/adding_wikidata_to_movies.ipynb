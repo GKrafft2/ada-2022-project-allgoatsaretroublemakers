{
 "cells": [
  {
   "cell_type": "code",
   "execution_count": 2,
   "outputs": [],
   "source": [
    "import pickle\n",
    "import pandas as pd\n",
    "import numpy as np\n",
    "from tqdm.auto import tqdm\n",
    "import requests\n",
    "import seaborn as sns\n",
    "import dask.dataframe as dd\n"
   ],
   "metadata": {
    "collapsed": false
   }
  },
  {
   "cell_type": "code",
   "execution_count": 3,
   "outputs": [
    {
     "data": {
      "text/plain": "81741"
     },
     "execution_count": 3,
     "metadata": {},
     "output_type": "execute_result"
    }
   ],
   "source": [
    "data_folder = '../data/'\n",
    "pickle_folder = '../data/pickles/'\n",
    "\n",
    "\n",
    "movies_with_wikidata_id = pickle.load(open(pickle_folder + 'movies_with_wikidata_id.p', 'rb'))\n",
    "unique_movie_ids = movies_with_wikidata_id.wikidata_id.unique()\n",
    "len(movies_with_wikidata_id)"
   ],
   "metadata": {
    "collapsed": false
   }
  },
  {
   "cell_type": "markdown",
   "source": [
    "# Wikidata release date, box office, ratings, IMDB id"
   ],
   "metadata": {
    "collapsed": false
   }
  },
  {
   "cell_type": "code",
   "execution_count": null,
   "outputs": [],
   "source": [
    "from multiprocessing import Pool\n",
    "\n",
    "wanted_features = ['P577', 'P444', 'P2142', 'P646', 'P345']\n",
    "\n",
    "def get_wikidata_title(id):\n",
    "    json_id = requests.get(f'https://www.wikidata.org/wiki/Special:EntityData/{id}.json')\n",
    "    if json_id.ok:\n",
    "        features = dict()\n",
    "        json_id = json_id.json()\n",
    "        key = list(json_id['entities'].keys())[0]\n",
    "        features['new_wikidata_id'] = key\n",
    "        for feature in wanted_features:\n",
    "            try:\n",
    "                features[feature] = json_id['entities'][key]['claims'][feature][0]['mainsnak']['datavalue']['value']\n",
    "            except:\n",
    "                pass\n",
    "        return [id, features]\n",
    "    else:\n",
    "        print(json_id.status_code)\n",
    "        return [id, json_id.status_code]\n",
    "    # return json_id['entities'][id]['labels']['en']['value']\n",
    "\n",
    "\n",
    "total_len = len(unique_movie_ids)\n",
    "\n",
    "collection = []\n",
    "\n",
    "with Pool(6) as p:\n",
    "    collection =  list(tqdm(p.imap(get_wikidata_title, unique_movie_ids), total=total_len))\n",
    "# pickle.dump(collection, open(f'temp_collection_movies.p','wb'))\n"
   ],
   "metadata": {
    "collapsed": false
   }
  },
  {
   "cell_type": "code",
   "execution_count": null,
   "outputs": [],
   "source": [
    "pickle.dump(collection, open(f'temp_collection_movies.p','wb'))"
   ],
   "metadata": {
    "collapsed": false
   }
  },
  {
   "cell_type": "code",
   "execution_count": 3,
   "outputs": [],
   "source": [
    "collection = pickle.load( open(f'temp_collection_movies.p','rb'))"
   ],
   "metadata": {
    "collapsed": false
   }
  },
  {
   "cell_type": "code",
   "execution_count": 4,
   "outputs": [
    {
     "data": {
      "text/plain": "                                                           1\n0                                                           \nQ261700    {'new_wikidata_id': 'Q261700', 'P577': {'time'...\nQ16250726  {'new_wikidata_id': 'Q16250726', 'P577': {'tim...\nQ4978832   {'new_wikidata_id': 'Q4978832', 'P577': {'time...\nQ7995657   {'new_wikidata_id': 'Q7995657', 'P577': {'time...\nQ869644    {'new_wikidata_id': 'Q869644', 'P577': {'time'...",
      "text/html": "<div>\n<style scoped>\n    .dataframe tbody tr th:only-of-type {\n        vertical-align: middle;\n    }\n\n    .dataframe tbody tr th {\n        vertical-align: top;\n    }\n\n    .dataframe thead th {\n        text-align: right;\n    }\n</style>\n<table border=\"1\" class=\"dataframe\">\n  <thead>\n    <tr style=\"text-align: right;\">\n      <th></th>\n      <th>1</th>\n    </tr>\n    <tr>\n      <th>0</th>\n      <th></th>\n    </tr>\n  </thead>\n  <tbody>\n    <tr>\n      <th>Q261700</th>\n      <td>{'new_wikidata_id': 'Q261700', 'P577': {'time'...</td>\n    </tr>\n    <tr>\n      <th>Q16250726</th>\n      <td>{'new_wikidata_id': 'Q16250726', 'P577': {'tim...</td>\n    </tr>\n    <tr>\n      <th>Q4978832</th>\n      <td>{'new_wikidata_id': 'Q4978832', 'P577': {'time...</td>\n    </tr>\n    <tr>\n      <th>Q7995657</th>\n      <td>{'new_wikidata_id': 'Q7995657', 'P577': {'time...</td>\n    </tr>\n    <tr>\n      <th>Q869644</th>\n      <td>{'new_wikidata_id': 'Q869644', 'P577': {'time'...</td>\n    </tr>\n  </tbody>\n</table>\n</div>"
     },
     "execution_count": 4,
     "metadata": {},
     "output_type": "execute_result"
    }
   ],
   "source": [
    "df = pd.DataFrame(collection)\n",
    "failed_ids = df.loc[(df[1] == 400) | (df[1] == 404)]\n",
    "pickle.dump(failed_ids, open('failed_movie_wikidata_ids.p','wb'))\n",
    "df = df.drop(index=df.loc[(df[1] == 400) | (df[1] == 404)].index)\n",
    "df = df.set_index(0)\n",
    "df.head()"
   ],
   "metadata": {
    "collapsed": false
   }
  },
  {
   "cell_type": "code",
   "execution_count": 5,
   "outputs": [
    {
     "data": {
      "text/plain": "          new_wikidata_id release_date_wd  box_office_wd ratings_wd  \\\n0                                                                     \nQ261700           Q261700      2001-01-01            NaN        22%   \nQ16250726       Q16250726      2000-01-01            NaN        NaN   \nQ4978832         Q4978832      1988-01-01            NaN        NaN   \nQ7995657         Q7995657      1987-01-01            NaN        50%   \nQ869644           Q869644      1983-01-01            NaN        NaN   \n\n          freebase_id_wd    IMDB_id  \n0                                    \nQ261700        /m/03vyhn  tt0228333  \nQ16250726      /m/08yl5d  tt0245916  \nQ4978832      /m/0crgdbh  tt0094806  \nQ7995657      /m/0285_cd  tt0094320  \nQ869644        /m/01mrr1  tt0083949  ",
      "text/html": "<div>\n<style scoped>\n    .dataframe tbody tr th:only-of-type {\n        vertical-align: middle;\n    }\n\n    .dataframe tbody tr th {\n        vertical-align: top;\n    }\n\n    .dataframe thead th {\n        text-align: right;\n    }\n</style>\n<table border=\"1\" class=\"dataframe\">\n  <thead>\n    <tr style=\"text-align: right;\">\n      <th></th>\n      <th>new_wikidata_id</th>\n      <th>release_date_wd</th>\n      <th>box_office_wd</th>\n      <th>ratings_wd</th>\n      <th>freebase_id_wd</th>\n      <th>IMDB_id</th>\n    </tr>\n    <tr>\n      <th>0</th>\n      <th></th>\n      <th></th>\n      <th></th>\n      <th></th>\n      <th></th>\n      <th></th>\n    </tr>\n  </thead>\n  <tbody>\n    <tr>\n      <th>Q261700</th>\n      <td>Q261700</td>\n      <td>2001-01-01</td>\n      <td>NaN</td>\n      <td>22%</td>\n      <td>/m/03vyhn</td>\n      <td>tt0228333</td>\n    </tr>\n    <tr>\n      <th>Q16250726</th>\n      <td>Q16250726</td>\n      <td>2000-01-01</td>\n      <td>NaN</td>\n      <td>NaN</td>\n      <td>/m/08yl5d</td>\n      <td>tt0245916</td>\n    </tr>\n    <tr>\n      <th>Q4978832</th>\n      <td>Q4978832</td>\n      <td>1988-01-01</td>\n      <td>NaN</td>\n      <td>NaN</td>\n      <td>/m/0crgdbh</td>\n      <td>tt0094806</td>\n    </tr>\n    <tr>\n      <th>Q7995657</th>\n      <td>Q7995657</td>\n      <td>1987-01-01</td>\n      <td>NaN</td>\n      <td>50%</td>\n      <td>/m/0285_cd</td>\n      <td>tt0094320</td>\n    </tr>\n    <tr>\n      <th>Q869644</th>\n      <td>Q869644</td>\n      <td>1983-01-01</td>\n      <td>NaN</td>\n      <td>NaN</td>\n      <td>/m/01mrr1</td>\n      <td>tt0083949</td>\n    </tr>\n  </tbody>\n</table>\n</div>"
     },
     "execution_count": 5,
     "metadata": {},
     "output_type": "execute_result"
    }
   ],
   "source": [
    "def get_feature(x, feature, fct):\n",
    "    try:\n",
    "        return fct(x[feature])\n",
    "    except:\n",
    "        return np.nan\n",
    "\n",
    "df['new_wikidata_id'] = df[1].apply(lambda x: get_feature(x, 'new_wikidata_id', lambda y: y))\n",
    "df['release_date_wd'] = pd.to_datetime(df[1].apply(lambda x: get_feature(x, 'P577', (lambda y: y['time'].removeprefix('+').removesuffix('T00:00:00Z').replace('-00-00','').replace('-00','')))),errors = 'ignore')\n",
    "df['box_office_wd'] = df[1].apply(lambda x: get_feature(x, 'P2142', lambda y: int(y['amount'].removeprefix('+'))))\n",
    "df['ratings_wd'] = df[1].apply(lambda x: get_feature(x, 'P444', lambda y: y))\n",
    "df['freebase_id_wd'] = df[1].apply(lambda x: get_feature(x, 'P646', lambda y: y))\n",
    "df['IMDB_id'] = df[1].apply(lambda x: get_feature(x, 'P345', lambda y: y))\n",
    "df = df.drop(labels=[1], axis=1)\n",
    "df.head()"
   ],
   "metadata": {
    "collapsed": false
   }
  },
  {
   "cell_type": "code",
   "execution_count": 6,
   "outputs": [
    {
     "data": {
      "text/plain": "Index(['Wikipedia ID', 'freebase_id', 'wikidata_id', 'name', 'release date',\n       'box office revenue', 'runtime', 'languages', 'countries', 'genres',\n       'new_wikidata_id', 'release_date_wd', 'box_office_wd', 'ratings_wd',\n       'freebase_id_wd', 'IMDB_id'],\n      dtype='object')"
     },
     "execution_count": 6,
     "metadata": {},
     "output_type": "execute_result"
    }
   ],
   "source": [
    "movies = pd.merge(left=movies_with_wikidata_id, right=df, left_on='wikidata_id', right_index=True, how='left')\n",
    "movies.keys()"
   ],
   "metadata": {
    "collapsed": false
   }
  },
  {
   "cell_type": "code",
   "execution_count": 7,
   "outputs": [
    {
     "data": {
      "text/plain": "81741"
     },
     "execution_count": 7,
     "metadata": {},
     "output_type": "execute_result"
    }
   ],
   "source": [
    "len(movies)"
   ],
   "metadata": {
    "collapsed": false
   }
  },
  {
   "cell_type": "code",
   "execution_count": 87,
   "outputs": [],
   "source": [
    "pickle.dump(movies, open(pickle_folder + 'movies_with_wikidata_entries_separate.p','wb'))"
   ],
   "metadata": {
    "collapsed": false
   }
  },
  {
   "cell_type": "code",
   "execution_count": 8,
   "outputs": [
    {
     "data": {
      "text/plain": "81741"
     },
     "execution_count": 8,
     "metadata": {},
     "output_type": "execute_result"
    }
   ],
   "source": [
    "movies =  pickle.load(open(pickle_folder + 'movies_with_wikidata_entries_separate.p','rb'))\n",
    "len(movies)"
   ],
   "metadata": {
    "collapsed": false
   }
  },
  {
   "cell_type": "markdown",
   "source": [
    "# IMDB ratings"
   ],
   "metadata": {
    "collapsed": false
   }
  },
  {
   "cell_type": "code",
   "execution_count": 8,
   "outputs": [
    {
     "data": {
      "text/plain": "      tconst  averageRating  numVotes\n0  tt0000001            5.7      1917\n1  tt0000002            5.8       260\n2  tt0000003            6.5      1725\n3  tt0000004            5.6       173\n4  tt0000005            6.2      2541",
      "text/html": "<div>\n<style scoped>\n    .dataframe tbody tr th:only-of-type {\n        vertical-align: middle;\n    }\n\n    .dataframe tbody tr th {\n        vertical-align: top;\n    }\n\n    .dataframe thead th {\n        text-align: right;\n    }\n</style>\n<table border=\"1\" class=\"dataframe\">\n  <thead>\n    <tr style=\"text-align: right;\">\n      <th></th>\n      <th>tconst</th>\n      <th>averageRating</th>\n      <th>numVotes</th>\n    </tr>\n  </thead>\n  <tbody>\n    <tr>\n      <th>0</th>\n      <td>tt0000001</td>\n      <td>5.7</td>\n      <td>1917</td>\n    </tr>\n    <tr>\n      <th>1</th>\n      <td>tt0000002</td>\n      <td>5.8</td>\n      <td>260</td>\n    </tr>\n    <tr>\n      <th>2</th>\n      <td>tt0000003</td>\n      <td>6.5</td>\n      <td>1725</td>\n    </tr>\n    <tr>\n      <th>3</th>\n      <td>tt0000004</td>\n      <td>5.6</td>\n      <td>173</td>\n    </tr>\n    <tr>\n      <th>4</th>\n      <td>tt0000005</td>\n      <td>6.2</td>\n      <td>2541</td>\n    </tr>\n  </tbody>\n</table>\n</div>"
     },
     "execution_count": 8,
     "metadata": {},
     "output_type": "execute_result"
    }
   ],
   "source": [
    "imdb_ratings = pd.read_csv('../data/IMDB/title.ratings.tsv', sep='\\t')\n",
    "imdb_ratings.head()"
   ],
   "metadata": {
    "collapsed": false
   }
  },
  {
   "cell_type": "code",
   "execution_count": 9,
   "outputs": [],
   "source": [
    "movies = pd.merge(left=movies, right=imdb_ratings, left_on='IMDB_id', right_on='tconst', how='left')"
   ],
   "metadata": {
    "collapsed": false
   }
  },
  {
   "cell_type": "code",
   "execution_count": 10,
   "outputs": [],
   "source": [
    "movies.drop(['tconst'],axis=1, inplace=True)"
   ],
   "metadata": {
    "collapsed": false
   }
  },
  {
   "cell_type": "code",
   "execution_count": 11,
   "outputs": [
    {
     "data": {
      "text/plain": "Index(['Wikipedia ID', 'freebase_id', 'wikidata_id', 'name', 'release date',\n       'box office revenue', 'runtime', 'languages', 'countries', 'genres',\n       'new_wikidata_id', 'release_date_wd', 'box_office_wd', 'ratings_wd',\n       'freebase_id_wd', 'IMDB_id', 'averageRating', 'numVotes'],\n      dtype='object')"
     },
     "execution_count": 11,
     "metadata": {},
     "output_type": "execute_result"
    }
   ],
   "source": [
    "movies.keys()"
   ],
   "metadata": {
    "collapsed": false
   }
  },
  {
   "cell_type": "code",
   "execution_count": 12,
   "outputs": [
    {
     "data": {
      "text/plain": "       Wikipedia ID freebase_id wikidata_id  \\\n8555        3653578   /m/09sfrg    Q2303761   \n12756      25092646  /m/09gbkyq    Q4906337   \n15230      16626966  /m/03yfwdw    Q4274071   \n15720        777032   /m/03bllg    Q1041834   \n16478       2121919   /m/06np3s     Q127430   \n19083       4975477   /m/0cy03w    Q3976538   \n23871      16434354  /m/03y1rj5    Q5619254   \n26377       4196905   /m/0bpf1y    Q2225929   \n28832       3785335   /m/09_xmw    Q3976538   \n32248       3565365   /m/09lxn7    Q2247896   \n33207      31430255  /m/0g42sjq    Q2777624   \n40038        193847   /m/01bj82    Q1196849   \n48136       4731866   /m/0ckfd4     Q391541   \n49475       6334468   /m/0g1k8v    Q7157274   \n51146       2259030   /m/06zxb7     Q262793   \n54631        797363   /m/03cv5k     Q158069   \n55196       1989045   /m/06c805      Q82579   \n59547       3384253   /m/098sn3    Q1109750   \n62663       3741899   /m/09yj8d    Q3976538   \n65565      23400589  /m/06w5778    Q4905665   \n68215        227884   /m/01h5v8    Q2301828   \n71419       3688570   /m/09vjwx    Q3976538   \n71690       3742635   /m/09ykt4    Q3976538   \n74940       5046538   /m/0d0c61     Q477707   \n77520      19522686  /m/04n28cy    Q7764814   \n78966      32683481  /m/0h15wm7    Q6190232   \n81287       2827575   /m/0857zq     Q836687   \n\n                                        name release date  box office revenue  \\\n8555                       Return of the Fly         1959                 NaN   \n12756                              Big Shots   1987-10-02           3390043.0   \n15230               Night of the Bloody Apes          NaN                 NaN   \n15720                               Suddenly   1954-10-07                 NaN   \n16478                      King Kong Escapes   1967-07-22                 NaN   \n19083                       Vampire Journals         1997                 NaN   \n23871                       Gunnin' For That   2008-06-27                 NaN   \n26377            The Masque of the Red Death         1964                 NaN   \n28832               Subspecies 4: Bloodstorm   1998-12-08                 NaN   \n32248                     The Molly Maguires         1970           2200000.0   \n33207                       My Reincarnation         2010                 NaN   \n40038              Heaven Knows, Mr. Allison         1957           4200000.0   \n48136                      Imitation of Life   1934-11-26                 NaN   \n49475  Peace, Propaganda & the Promised Land         2004                 NaN   \n51146                     Tarzan the Ape Man   1932-03-25           2540000.0   \n54631                                Olympia         1938                 NaN   \n55196                          Pokémon 4Ever   2002-10-25          28023563.0   \n59547                            The Patriot   1928-08-17                 NaN   \n62663              Bloodstone: Subspecies II         1993                 NaN   \n65565                                Big Fan   2009-01-18            232732.0   \n68215                      Ten Minutes Older         2002                 NaN   \n71419                             Subspecies         1991                 NaN   \n71690              Bloodlust: Subspecies III         1994                 NaN   \n74940                         The Wild Child   1970-02-26                 NaN   \n77520                    The Sleepy Time Gal   2002-05-29                 NaN   \n78966                               Jewtopia         2012                 NaN   \n81287                                    101         1989                 NaN   \n\n       runtime                                          languages  \\\n8555      80.0  {\"/m/064_8sq\": \"French Language\", \"/m/02h40lc\"...   \n12756     90.0                 {\"/m/02h40lc\": \"English Language\"}   \n15230     81.0                   {\"/m/06nm1\": \"Spanish Language\"}   \n15720     76.0                 {\"/m/02h40lc\": \"English Language\"}   \n16478     96.0  {\"/m/03_9r\": \"Japanese Language\", \"/m/02h40lc\"...   \n19083     92.0                 {\"/m/02h40lc\": \"English Language\"}   \n23871     90.0                 {\"/m/02h40lc\": \"English Language\"}   \n26377     88.0                 {\"/m/02h40lc\": \"English Language\"}   \n28832     90.0                 {\"/m/02h40lc\": \"English Language\"}   \n32248    124.0                 {\"/m/02h40lc\": \"English Language\"}   \n33207     82.0  {\"/m/01kbdv\": \"Tibetan languages\", \"/m/02bjrlw...   \n40038    107.0  {\"/m/03_9r\": \"Japanese Language\", \"/m/02h40lc\"...   \n48136    111.0                 {\"/m/02h40lc\": \"English Language\"}   \n49475     80.0  {\"/m/064_8sq\": \"French Language\", \"/m/0jzc\": \"...   \n51146    189.0                 {\"/m/02h40lc\": \"English Language\"}   \n54631    111.0                  {\"/m/04306rv\": \"German Language\"}   \n55196     81.0  {\"/m/03_9r\": \"Japanese Language\", \"/m/02h40lc\"...   \n59547    113.0  {\"/m/06ppq\": \"Silent film\", \"/m/02h40lc\": \"Eng...   \n62663    107.0                 {\"/m/02h40lc\": \"English Language\"}   \n65565     91.0                                                 {}   \n68215     95.0  {\"/m/0653m\": \"Standard Mandarin\", \"/m/03115z\":...   \n71419     90.0                 {\"/m/02h40lc\": \"English Language\"}   \n71690      NaN                 {\"/m/02h40lc\": \"English Language\"}   \n74940     85.0  {\"/m/064_8sq\": \"French Language\", \"/m/021wr6\":...   \n77520    108.0                 {\"/m/02h40lc\": \"English Language\"}   \n78966      NaN                 {\"/m/02h40lc\": \"English Language\"}   \n81287    117.0                 {\"/m/02h40lc\": \"English Language\"}   \n\n                                               countries  \\\n8555           {\"/m/09c7w0\": \"United States of America\"}   \n12756          {\"/m/09c7w0\": \"United States of America\"}   \n15230                            {\"/m/0b90_r\": \"Mexico\"}   \n15720          {\"/m/09c7w0\": \"United States of America\"}   \n16478  {\"/m/09c7w0\": \"United States of America\", \"/m/...   \n19083  {\"/m/09c7w0\": \"United States of America\", \"/m/...   \n23871          {\"/m/09c7w0\": \"United States of America\"}   \n26377                     {\"/m/07ssc\": \"United Kingdom\"}   \n28832  {\"/m/09c7w0\": \"United States of America\", \"/m/...   \n32248          {\"/m/09c7w0\": \"United States of America\"}   \n33207  {\"/m/09c7w0\": \"United States of America\", \"/m/...   \n40038          {\"/m/09c7w0\": \"United States of America\"}   \n48136          {\"/m/09c7w0\": \"United States of America\"}   \n49475          {\"/m/09c7w0\": \"United States of America\"}   \n51146          {\"/m/09c7w0\": \"United States of America\"}   \n54631  {\"/m/059z0\": \"Nazi Germany\", \"/m/0345h\": \"Germ...   \n55196  {\"/m/09c7w0\": \"United States of America\", \"/m/...   \n59547          {\"/m/09c7w0\": \"United States of America\"}   \n62663          {\"/m/09c7w0\": \"United States of America\"}   \n65565          {\"/m/09c7w0\": \"United States of America\"}   \n68215  {\"/m/09c7w0\": \"United States of America\", \"/m/...   \n71419          {\"/m/09c7w0\": \"United States of America\"}   \n71690          {\"/m/09c7w0\": \"United States of America\"}   \n74940                            {\"/m/0f8l9c\": \"France\"}   \n77520          {\"/m/09c7w0\": \"United States of America\"}   \n78966          {\"/m/09c7w0\": \"United States of America\"}   \n81287          {\"/m/09c7w0\": \"United States of America\"}   \n\n                                                  genres new_wikidata_id  \\\n8555   {\"/m/0g092b\": \"Monster movie\", \"/m/01q03\": \"Cu...        Q2303761   \n12756     {\"/m/02kdv5l\": \"Action\", \"/m/01z4y\": \"Comedy\"}        Q4906337   \n15230  {\"/m/03npn\": \"Horror\", \"/m/0hj3m_q\": \"Creature...        Q4274071   \n15720  {\"/m/01jfsb\": \"Thriller\", \"/m/0lsxr\": \"Crime F...        Q1041834   \n16478  {\"/m/0g092b\": \"Monster movie\", \"/m/06n90\": \"Sc...         Q127430   \n19083  {\"/m/01jfsb\": \"Thriller\", \"/m/03npn\": \"Horror\"...        Q3976538   \n23871  {\"/m/01z02hx\": \"Sports\", \"/m/017fp\": \"Biograph...        Q5619254   \n26377  {\"/m/03npn\": \"Horror\", \"/m/0fdjb\": \"Supernatur...        Q2225929   \n28832      {\"/m/0qdzd\": \"B-movie\", \"/m/03npn\": \"Horror\"}        Q3976538   \n32248  {\"/m/0lsxr\": \"Crime Fiction\", \"/m/04xvlr\": \"Pe...        Q2247896   \n33207  {\"/m/03bxz7\": \"Biographical film\", \"/m/017fp\":...        Q2777624   \n40038  {\"/m/01t_vv\": \"Comedy-drama\", \"/m/03btsm8\": \"A...        Q1196849   \n48136  {\"/m/02l7c8\": \"Romance Film\", \"/m/07s9rl0\": \"D...         Q391541   \n49475                        {\"/m/0jtdp\": \"Documentary\"}        Q7157274   \n51146  {\"/m/02kdv5l\": \"Action\", \"/m/087lqx\": \"Pre-Cod...         Q262793   \n54631  {\"/m/03q4nz\": \"World cinema\", \"/m/03g3w\": \"His...         Q158069   \n55196  {\"/m/0hj3n2k\": \"Fantasy Adventure\", \"/m/0gw5n2...          Q82579   \n59547  {\"/m/06ppq\": \"Silent film\", \"/m/06l3bl\": \"Epic...        Q1109750   \n62663         {\"/m/01q03\": \"Cult\", \"/m/03npn\": \"Horror\"}        Q3976538   \n65565  {\"/m/01z02hx\": \"Sports\", \"/m/0vgkd\": \"Black co...        Q4905665   \n68215  {\"/m/0219x_\": \"Indie\", \"/m/0gw5qqq\": \"Chinese ...        Q2301828   \n71419         {\"/m/01q03\": \"Cult\", \"/m/03npn\": \"Horror\"}        Q3976538   \n71690                             {\"/m/03npn\": \"Horror\"}        Q3976538   \n74940  {\"/m/07s9rl0\": \"Drama\", \"/m/03q4nz\": \"World ci...         Q477707   \n77520                             {\"/m/0219x_\": \"Indie\"}        Q7764814   \n78966  {\"/m/02l7c8\": \"Romance Film\", \"/m/01z4y\": \"Com...        Q6190232   \n81287   {\"/m/04rlf\": \"Music\", \"/m/0jtdp\": \"Documentary\"}         Q836687   \n\n      release_date_wd  box_office_wd ratings_wd freebase_id_wd    IMDB_id  \\\n8555       1959-01-01            NaN        36%      /m/09sfrg  tt0053219   \n12756      1987-01-01            NaN        60%     /m/09gbkyq  tt0092655   \n15230      1969-02-06            NaN         0%     /m/03yfwdw  tt0063090   \n15720      1954-10-07      1400000.0       100%      /m/03bllg  tt0047542   \n16478      1967-07-22            NaN        63%      /m/06np3s  tt0061868   \n19083      1993-01-01            NaN        83%      /m/0b1p2n        NaN   \n23871      2008-01-01            NaN        72%     /m/03y1rj5        NaN   \n26377      1964-06-24            NaN        89%      /m/0bpf1y  tt0058333   \n28832      1993-01-01            NaN        83%      /m/0b1p2n        NaN   \n32248      1970-01-01            NaN        90%      /m/09lxn7  tt0066090   \n33207      2011-01-01            NaN        73%     /m/0g42sjq  tt1742084   \n40038      1957-01-01            NaN        80%      /m/01bj82  tt0050490   \n48136      1934-01-01            NaN        87%      /m/0ckfd4  tt0025301   \n49475      2004-01-01            NaN        64%      /m/0g1k8v  tt0428959   \n51146      1932-01-01            NaN       100%      /m/06zxb7  tt0023551   \n54631      1938-01-01            NaN        89%      /m/03cv5k        NaN   \n55196      2001-07-07            NaN        16%      /m/06c805  tt0313487   \n59547      1928-08-17            NaN       100%      /m/098sn3  tt0019257   \n62663      1993-01-01            NaN        83%      /m/0b1p2n        NaN   \n65565      2009-01-01            NaN        86%     /m/06w5778  tt1314164   \n68215            2002            NaN        86%      /m/01h5v8        NaN   \n71419      1993-01-01            NaN        83%      /m/0b1p2n        NaN   \n71690      1993-01-01            NaN        83%      /m/0b1p2n        NaN   \n74940      1970-01-01            NaN       100%      /m/0d0c61  tt0064285   \n77520      2002-01-01            NaN        82%     /m/04n28cy  tt0277322   \n78966      2012-04-26            NaN          8     /m/0h15wm7  tt1999902   \n81287      1989-03-13            NaN          4     /m/01hgn86        NaN   \n\n       averageRating  numVotes  \n8555             NaN       NaN  \n12756            NaN       NaN  \n15230            NaN       NaN  \n15720            NaN       NaN  \n16478            NaN       NaN  \n19083            NaN       NaN  \n23871            NaN       NaN  \n26377            NaN       NaN  \n28832            NaN       NaN  \n32248            NaN       NaN  \n33207            NaN       NaN  \n40038            NaN       NaN  \n48136            NaN       NaN  \n49475            NaN       NaN  \n51146            NaN       NaN  \n54631            NaN       NaN  \n55196            NaN       NaN  \n59547            NaN       NaN  \n62663            NaN       NaN  \n65565            NaN       NaN  \n68215            NaN       NaN  \n71419            NaN       NaN  \n71690            NaN       NaN  \n74940            NaN       NaN  \n77520            NaN       NaN  \n78966            NaN       NaN  \n81287            NaN       NaN  ",
      "text/html": "<div>\n<style scoped>\n    .dataframe tbody tr th:only-of-type {\n        vertical-align: middle;\n    }\n\n    .dataframe tbody tr th {\n        vertical-align: top;\n    }\n\n    .dataframe thead th {\n        text-align: right;\n    }\n</style>\n<table border=\"1\" class=\"dataframe\">\n  <thead>\n    <tr style=\"text-align: right;\">\n      <th></th>\n      <th>Wikipedia ID</th>\n      <th>freebase_id</th>\n      <th>wikidata_id</th>\n      <th>name</th>\n      <th>release date</th>\n      <th>box office revenue</th>\n      <th>runtime</th>\n      <th>languages</th>\n      <th>countries</th>\n      <th>genres</th>\n      <th>new_wikidata_id</th>\n      <th>release_date_wd</th>\n      <th>box_office_wd</th>\n      <th>ratings_wd</th>\n      <th>freebase_id_wd</th>\n      <th>IMDB_id</th>\n      <th>averageRating</th>\n      <th>numVotes</th>\n    </tr>\n  </thead>\n  <tbody>\n    <tr>\n      <th>8555</th>\n      <td>3653578</td>\n      <td>/m/09sfrg</td>\n      <td>Q2303761</td>\n      <td>Return of the Fly</td>\n      <td>1959</td>\n      <td>NaN</td>\n      <td>80.0</td>\n      <td>{\"/m/064_8sq\": \"French Language\", \"/m/02h40lc\"...</td>\n      <td>{\"/m/09c7w0\": \"United States of America\"}</td>\n      <td>{\"/m/0g092b\": \"Monster movie\", \"/m/01q03\": \"Cu...</td>\n      <td>Q2303761</td>\n      <td>1959-01-01</td>\n      <td>NaN</td>\n      <td>36%</td>\n      <td>/m/09sfrg</td>\n      <td>tt0053219</td>\n      <td>NaN</td>\n      <td>NaN</td>\n    </tr>\n    <tr>\n      <th>12756</th>\n      <td>25092646</td>\n      <td>/m/09gbkyq</td>\n      <td>Q4906337</td>\n      <td>Big Shots</td>\n      <td>1987-10-02</td>\n      <td>3390043.0</td>\n      <td>90.0</td>\n      <td>{\"/m/02h40lc\": \"English Language\"}</td>\n      <td>{\"/m/09c7w0\": \"United States of America\"}</td>\n      <td>{\"/m/02kdv5l\": \"Action\", \"/m/01z4y\": \"Comedy\"}</td>\n      <td>Q4906337</td>\n      <td>1987-01-01</td>\n      <td>NaN</td>\n      <td>60%</td>\n      <td>/m/09gbkyq</td>\n      <td>tt0092655</td>\n      <td>NaN</td>\n      <td>NaN</td>\n    </tr>\n    <tr>\n      <th>15230</th>\n      <td>16626966</td>\n      <td>/m/03yfwdw</td>\n      <td>Q4274071</td>\n      <td>Night of the Bloody Apes</td>\n      <td>NaN</td>\n      <td>NaN</td>\n      <td>81.0</td>\n      <td>{\"/m/06nm1\": \"Spanish Language\"}</td>\n      <td>{\"/m/0b90_r\": \"Mexico\"}</td>\n      <td>{\"/m/03npn\": \"Horror\", \"/m/0hj3m_q\": \"Creature...</td>\n      <td>Q4274071</td>\n      <td>1969-02-06</td>\n      <td>NaN</td>\n      <td>0%</td>\n      <td>/m/03yfwdw</td>\n      <td>tt0063090</td>\n      <td>NaN</td>\n      <td>NaN</td>\n    </tr>\n    <tr>\n      <th>15720</th>\n      <td>777032</td>\n      <td>/m/03bllg</td>\n      <td>Q1041834</td>\n      <td>Suddenly</td>\n      <td>1954-10-07</td>\n      <td>NaN</td>\n      <td>76.0</td>\n      <td>{\"/m/02h40lc\": \"English Language\"}</td>\n      <td>{\"/m/09c7w0\": \"United States of America\"}</td>\n      <td>{\"/m/01jfsb\": \"Thriller\", \"/m/0lsxr\": \"Crime F...</td>\n      <td>Q1041834</td>\n      <td>1954-10-07</td>\n      <td>1400000.0</td>\n      <td>100%</td>\n      <td>/m/03bllg</td>\n      <td>tt0047542</td>\n      <td>NaN</td>\n      <td>NaN</td>\n    </tr>\n    <tr>\n      <th>16478</th>\n      <td>2121919</td>\n      <td>/m/06np3s</td>\n      <td>Q127430</td>\n      <td>King Kong Escapes</td>\n      <td>1967-07-22</td>\n      <td>NaN</td>\n      <td>96.0</td>\n      <td>{\"/m/03_9r\": \"Japanese Language\", \"/m/02h40lc\"...</td>\n      <td>{\"/m/09c7w0\": \"United States of America\", \"/m/...</td>\n      <td>{\"/m/0g092b\": \"Monster movie\", \"/m/06n90\": \"Sc...</td>\n      <td>Q127430</td>\n      <td>1967-07-22</td>\n      <td>NaN</td>\n      <td>63%</td>\n      <td>/m/06np3s</td>\n      <td>tt0061868</td>\n      <td>NaN</td>\n      <td>NaN</td>\n    </tr>\n    <tr>\n      <th>19083</th>\n      <td>4975477</td>\n      <td>/m/0cy03w</td>\n      <td>Q3976538</td>\n      <td>Vampire Journals</td>\n      <td>1997</td>\n      <td>NaN</td>\n      <td>92.0</td>\n      <td>{\"/m/02h40lc\": \"English Language\"}</td>\n      <td>{\"/m/09c7w0\": \"United States of America\", \"/m/...</td>\n      <td>{\"/m/01jfsb\": \"Thriller\", \"/m/03npn\": \"Horror\"...</td>\n      <td>Q3976538</td>\n      <td>1993-01-01</td>\n      <td>NaN</td>\n      <td>83%</td>\n      <td>/m/0b1p2n</td>\n      <td>NaN</td>\n      <td>NaN</td>\n      <td>NaN</td>\n    </tr>\n    <tr>\n      <th>23871</th>\n      <td>16434354</td>\n      <td>/m/03y1rj5</td>\n      <td>Q5619254</td>\n      <td>Gunnin' For That</td>\n      <td>2008-06-27</td>\n      <td>NaN</td>\n      <td>90.0</td>\n      <td>{\"/m/02h40lc\": \"English Language\"}</td>\n      <td>{\"/m/09c7w0\": \"United States of America\"}</td>\n      <td>{\"/m/01z02hx\": \"Sports\", \"/m/017fp\": \"Biograph...</td>\n      <td>Q5619254</td>\n      <td>2008-01-01</td>\n      <td>NaN</td>\n      <td>72%</td>\n      <td>/m/03y1rj5</td>\n      <td>NaN</td>\n      <td>NaN</td>\n      <td>NaN</td>\n    </tr>\n    <tr>\n      <th>26377</th>\n      <td>4196905</td>\n      <td>/m/0bpf1y</td>\n      <td>Q2225929</td>\n      <td>The Masque of the Red Death</td>\n      <td>1964</td>\n      <td>NaN</td>\n      <td>88.0</td>\n      <td>{\"/m/02h40lc\": \"English Language\"}</td>\n      <td>{\"/m/07ssc\": \"United Kingdom\"}</td>\n      <td>{\"/m/03npn\": \"Horror\", \"/m/0fdjb\": \"Supernatur...</td>\n      <td>Q2225929</td>\n      <td>1964-06-24</td>\n      <td>NaN</td>\n      <td>89%</td>\n      <td>/m/0bpf1y</td>\n      <td>tt0058333</td>\n      <td>NaN</td>\n      <td>NaN</td>\n    </tr>\n    <tr>\n      <th>28832</th>\n      <td>3785335</td>\n      <td>/m/09_xmw</td>\n      <td>Q3976538</td>\n      <td>Subspecies 4: Bloodstorm</td>\n      <td>1998-12-08</td>\n      <td>NaN</td>\n      <td>90.0</td>\n      <td>{\"/m/02h40lc\": \"English Language\"}</td>\n      <td>{\"/m/09c7w0\": \"United States of America\", \"/m/...</td>\n      <td>{\"/m/0qdzd\": \"B-movie\", \"/m/03npn\": \"Horror\"}</td>\n      <td>Q3976538</td>\n      <td>1993-01-01</td>\n      <td>NaN</td>\n      <td>83%</td>\n      <td>/m/0b1p2n</td>\n      <td>NaN</td>\n      <td>NaN</td>\n      <td>NaN</td>\n    </tr>\n    <tr>\n      <th>32248</th>\n      <td>3565365</td>\n      <td>/m/09lxn7</td>\n      <td>Q2247896</td>\n      <td>The Molly Maguires</td>\n      <td>1970</td>\n      <td>2200000.0</td>\n      <td>124.0</td>\n      <td>{\"/m/02h40lc\": \"English Language\"}</td>\n      <td>{\"/m/09c7w0\": \"United States of America\"}</td>\n      <td>{\"/m/0lsxr\": \"Crime Fiction\", \"/m/04xvlr\": \"Pe...</td>\n      <td>Q2247896</td>\n      <td>1970-01-01</td>\n      <td>NaN</td>\n      <td>90%</td>\n      <td>/m/09lxn7</td>\n      <td>tt0066090</td>\n      <td>NaN</td>\n      <td>NaN</td>\n    </tr>\n    <tr>\n      <th>33207</th>\n      <td>31430255</td>\n      <td>/m/0g42sjq</td>\n      <td>Q2777624</td>\n      <td>My Reincarnation</td>\n      <td>2010</td>\n      <td>NaN</td>\n      <td>82.0</td>\n      <td>{\"/m/01kbdv\": \"Tibetan languages\", \"/m/02bjrlw...</td>\n      <td>{\"/m/09c7w0\": \"United States of America\", \"/m/...</td>\n      <td>{\"/m/03bxz7\": \"Biographical film\", \"/m/017fp\":...</td>\n      <td>Q2777624</td>\n      <td>2011-01-01</td>\n      <td>NaN</td>\n      <td>73%</td>\n      <td>/m/0g42sjq</td>\n      <td>tt1742084</td>\n      <td>NaN</td>\n      <td>NaN</td>\n    </tr>\n    <tr>\n      <th>40038</th>\n      <td>193847</td>\n      <td>/m/01bj82</td>\n      <td>Q1196849</td>\n      <td>Heaven Knows, Mr. Allison</td>\n      <td>1957</td>\n      <td>4200000.0</td>\n      <td>107.0</td>\n      <td>{\"/m/03_9r\": \"Japanese Language\", \"/m/02h40lc\"...</td>\n      <td>{\"/m/09c7w0\": \"United States of America\"}</td>\n      <td>{\"/m/01t_vv\": \"Comedy-drama\", \"/m/03btsm8\": \"A...</td>\n      <td>Q1196849</td>\n      <td>1957-01-01</td>\n      <td>NaN</td>\n      <td>80%</td>\n      <td>/m/01bj82</td>\n      <td>tt0050490</td>\n      <td>NaN</td>\n      <td>NaN</td>\n    </tr>\n    <tr>\n      <th>48136</th>\n      <td>4731866</td>\n      <td>/m/0ckfd4</td>\n      <td>Q391541</td>\n      <td>Imitation of Life</td>\n      <td>1934-11-26</td>\n      <td>NaN</td>\n      <td>111.0</td>\n      <td>{\"/m/02h40lc\": \"English Language\"}</td>\n      <td>{\"/m/09c7w0\": \"United States of America\"}</td>\n      <td>{\"/m/02l7c8\": \"Romance Film\", \"/m/07s9rl0\": \"D...</td>\n      <td>Q391541</td>\n      <td>1934-01-01</td>\n      <td>NaN</td>\n      <td>87%</td>\n      <td>/m/0ckfd4</td>\n      <td>tt0025301</td>\n      <td>NaN</td>\n      <td>NaN</td>\n    </tr>\n    <tr>\n      <th>49475</th>\n      <td>6334468</td>\n      <td>/m/0g1k8v</td>\n      <td>Q7157274</td>\n      <td>Peace, Propaganda &amp; the Promised Land</td>\n      <td>2004</td>\n      <td>NaN</td>\n      <td>80.0</td>\n      <td>{\"/m/064_8sq\": \"French Language\", \"/m/0jzc\": \"...</td>\n      <td>{\"/m/09c7w0\": \"United States of America\"}</td>\n      <td>{\"/m/0jtdp\": \"Documentary\"}</td>\n      <td>Q7157274</td>\n      <td>2004-01-01</td>\n      <td>NaN</td>\n      <td>64%</td>\n      <td>/m/0g1k8v</td>\n      <td>tt0428959</td>\n      <td>NaN</td>\n      <td>NaN</td>\n    </tr>\n    <tr>\n      <th>51146</th>\n      <td>2259030</td>\n      <td>/m/06zxb7</td>\n      <td>Q262793</td>\n      <td>Tarzan the Ape Man</td>\n      <td>1932-03-25</td>\n      <td>2540000.0</td>\n      <td>189.0</td>\n      <td>{\"/m/02h40lc\": \"English Language\"}</td>\n      <td>{\"/m/09c7w0\": \"United States of America\"}</td>\n      <td>{\"/m/02kdv5l\": \"Action\", \"/m/087lqx\": \"Pre-Cod...</td>\n      <td>Q262793</td>\n      <td>1932-01-01</td>\n      <td>NaN</td>\n      <td>100%</td>\n      <td>/m/06zxb7</td>\n      <td>tt0023551</td>\n      <td>NaN</td>\n      <td>NaN</td>\n    </tr>\n    <tr>\n      <th>54631</th>\n      <td>797363</td>\n      <td>/m/03cv5k</td>\n      <td>Q158069</td>\n      <td>Olympia</td>\n      <td>1938</td>\n      <td>NaN</td>\n      <td>111.0</td>\n      <td>{\"/m/04306rv\": \"German Language\"}</td>\n      <td>{\"/m/059z0\": \"Nazi Germany\", \"/m/0345h\": \"Germ...</td>\n      <td>{\"/m/03q4nz\": \"World cinema\", \"/m/03g3w\": \"His...</td>\n      <td>Q158069</td>\n      <td>1938-01-01</td>\n      <td>NaN</td>\n      <td>89%</td>\n      <td>/m/03cv5k</td>\n      <td>NaN</td>\n      <td>NaN</td>\n      <td>NaN</td>\n    </tr>\n    <tr>\n      <th>55196</th>\n      <td>1989045</td>\n      <td>/m/06c805</td>\n      <td>Q82579</td>\n      <td>Pokémon 4Ever</td>\n      <td>2002-10-25</td>\n      <td>28023563.0</td>\n      <td>81.0</td>\n      <td>{\"/m/03_9r\": \"Japanese Language\", \"/m/02h40lc\"...</td>\n      <td>{\"/m/09c7w0\": \"United States of America\", \"/m/...</td>\n      <td>{\"/m/0hj3n2k\": \"Fantasy Adventure\", \"/m/0gw5n2...</td>\n      <td>Q82579</td>\n      <td>2001-07-07</td>\n      <td>NaN</td>\n      <td>16%</td>\n      <td>/m/06c805</td>\n      <td>tt0313487</td>\n      <td>NaN</td>\n      <td>NaN</td>\n    </tr>\n    <tr>\n      <th>59547</th>\n      <td>3384253</td>\n      <td>/m/098sn3</td>\n      <td>Q1109750</td>\n      <td>The Patriot</td>\n      <td>1928-08-17</td>\n      <td>NaN</td>\n      <td>113.0</td>\n      <td>{\"/m/06ppq\": \"Silent film\", \"/m/02h40lc\": \"Eng...</td>\n      <td>{\"/m/09c7w0\": \"United States of America\"}</td>\n      <td>{\"/m/06ppq\": \"Silent film\", \"/m/06l3bl\": \"Epic...</td>\n      <td>Q1109750</td>\n      <td>1928-08-17</td>\n      <td>NaN</td>\n      <td>100%</td>\n      <td>/m/098sn3</td>\n      <td>tt0019257</td>\n      <td>NaN</td>\n      <td>NaN</td>\n    </tr>\n    <tr>\n      <th>62663</th>\n      <td>3741899</td>\n      <td>/m/09yj8d</td>\n      <td>Q3976538</td>\n      <td>Bloodstone: Subspecies II</td>\n      <td>1993</td>\n      <td>NaN</td>\n      <td>107.0</td>\n      <td>{\"/m/02h40lc\": \"English Language\"}</td>\n      <td>{\"/m/09c7w0\": \"United States of America\"}</td>\n      <td>{\"/m/01q03\": \"Cult\", \"/m/03npn\": \"Horror\"}</td>\n      <td>Q3976538</td>\n      <td>1993-01-01</td>\n      <td>NaN</td>\n      <td>83%</td>\n      <td>/m/0b1p2n</td>\n      <td>NaN</td>\n      <td>NaN</td>\n      <td>NaN</td>\n    </tr>\n    <tr>\n      <th>65565</th>\n      <td>23400589</td>\n      <td>/m/06w5778</td>\n      <td>Q4905665</td>\n      <td>Big Fan</td>\n      <td>2009-01-18</td>\n      <td>232732.0</td>\n      <td>91.0</td>\n      <td>{}</td>\n      <td>{\"/m/09c7w0\": \"United States of America\"}</td>\n      <td>{\"/m/01z02hx\": \"Sports\", \"/m/0vgkd\": \"Black co...</td>\n      <td>Q4905665</td>\n      <td>2009-01-01</td>\n      <td>NaN</td>\n      <td>86%</td>\n      <td>/m/06w5778</td>\n      <td>tt1314164</td>\n      <td>NaN</td>\n      <td>NaN</td>\n    </tr>\n    <tr>\n      <th>68215</th>\n      <td>227884</td>\n      <td>/m/01h5v8</td>\n      <td>Q2301828</td>\n      <td>Ten Minutes Older</td>\n      <td>2002</td>\n      <td>NaN</td>\n      <td>95.0</td>\n      <td>{\"/m/0653m\": \"Standard Mandarin\", \"/m/03115z\":...</td>\n      <td>{\"/m/09c7w0\": \"United States of America\", \"/m/...</td>\n      <td>{\"/m/0219x_\": \"Indie\", \"/m/0gw5qqq\": \"Chinese ...</td>\n      <td>Q2301828</td>\n      <td>2002</td>\n      <td>NaN</td>\n      <td>86%</td>\n      <td>/m/01h5v8</td>\n      <td>NaN</td>\n      <td>NaN</td>\n      <td>NaN</td>\n    </tr>\n    <tr>\n      <th>71419</th>\n      <td>3688570</td>\n      <td>/m/09vjwx</td>\n      <td>Q3976538</td>\n      <td>Subspecies</td>\n      <td>1991</td>\n      <td>NaN</td>\n      <td>90.0</td>\n      <td>{\"/m/02h40lc\": \"English Language\"}</td>\n      <td>{\"/m/09c7w0\": \"United States of America\"}</td>\n      <td>{\"/m/01q03\": \"Cult\", \"/m/03npn\": \"Horror\"}</td>\n      <td>Q3976538</td>\n      <td>1993-01-01</td>\n      <td>NaN</td>\n      <td>83%</td>\n      <td>/m/0b1p2n</td>\n      <td>NaN</td>\n      <td>NaN</td>\n      <td>NaN</td>\n    </tr>\n    <tr>\n      <th>71690</th>\n      <td>3742635</td>\n      <td>/m/09ykt4</td>\n      <td>Q3976538</td>\n      <td>Bloodlust: Subspecies III</td>\n      <td>1994</td>\n      <td>NaN</td>\n      <td>NaN</td>\n      <td>{\"/m/02h40lc\": \"English Language\"}</td>\n      <td>{\"/m/09c7w0\": \"United States of America\"}</td>\n      <td>{\"/m/03npn\": \"Horror\"}</td>\n      <td>Q3976538</td>\n      <td>1993-01-01</td>\n      <td>NaN</td>\n      <td>83%</td>\n      <td>/m/0b1p2n</td>\n      <td>NaN</td>\n      <td>NaN</td>\n      <td>NaN</td>\n    </tr>\n    <tr>\n      <th>74940</th>\n      <td>5046538</td>\n      <td>/m/0d0c61</td>\n      <td>Q477707</td>\n      <td>The Wild Child</td>\n      <td>1970-02-26</td>\n      <td>NaN</td>\n      <td>85.0</td>\n      <td>{\"/m/064_8sq\": \"French Language\", \"/m/021wr6\":...</td>\n      <td>{\"/m/0f8l9c\": \"France\"}</td>\n      <td>{\"/m/07s9rl0\": \"Drama\", \"/m/03q4nz\": \"World ci...</td>\n      <td>Q477707</td>\n      <td>1970-01-01</td>\n      <td>NaN</td>\n      <td>100%</td>\n      <td>/m/0d0c61</td>\n      <td>tt0064285</td>\n      <td>NaN</td>\n      <td>NaN</td>\n    </tr>\n    <tr>\n      <th>77520</th>\n      <td>19522686</td>\n      <td>/m/04n28cy</td>\n      <td>Q7764814</td>\n      <td>The Sleepy Time Gal</td>\n      <td>2002-05-29</td>\n      <td>NaN</td>\n      <td>108.0</td>\n      <td>{\"/m/02h40lc\": \"English Language\"}</td>\n      <td>{\"/m/09c7w0\": \"United States of America\"}</td>\n      <td>{\"/m/0219x_\": \"Indie\"}</td>\n      <td>Q7764814</td>\n      <td>2002-01-01</td>\n      <td>NaN</td>\n      <td>82%</td>\n      <td>/m/04n28cy</td>\n      <td>tt0277322</td>\n      <td>NaN</td>\n      <td>NaN</td>\n    </tr>\n    <tr>\n      <th>78966</th>\n      <td>32683481</td>\n      <td>/m/0h15wm7</td>\n      <td>Q6190232</td>\n      <td>Jewtopia</td>\n      <td>2012</td>\n      <td>NaN</td>\n      <td>NaN</td>\n      <td>{\"/m/02h40lc\": \"English Language\"}</td>\n      <td>{\"/m/09c7w0\": \"United States of America\"}</td>\n      <td>{\"/m/02l7c8\": \"Romance Film\", \"/m/01z4y\": \"Com...</td>\n      <td>Q6190232</td>\n      <td>2012-04-26</td>\n      <td>NaN</td>\n      <td>8</td>\n      <td>/m/0h15wm7</td>\n      <td>tt1999902</td>\n      <td>NaN</td>\n      <td>NaN</td>\n    </tr>\n    <tr>\n      <th>81287</th>\n      <td>2827575</td>\n      <td>/m/0857zq</td>\n      <td>Q836687</td>\n      <td>101</td>\n      <td>1989</td>\n      <td>NaN</td>\n      <td>117.0</td>\n      <td>{\"/m/02h40lc\": \"English Language\"}</td>\n      <td>{\"/m/09c7w0\": \"United States of America\"}</td>\n      <td>{\"/m/04rlf\": \"Music\", \"/m/0jtdp\": \"Documentary\"}</td>\n      <td>Q836687</td>\n      <td>1989-03-13</td>\n      <td>NaN</td>\n      <td>4</td>\n      <td>/m/01hgn86</td>\n      <td>NaN</td>\n      <td>NaN</td>\n      <td>NaN</td>\n    </tr>\n  </tbody>\n</table>\n</div>"
     },
     "execution_count": 12,
     "metadata": {},
     "output_type": "execute_result"
    }
   ],
   "source": [
    "movies.loc[movies.ratings_wd.notna() & movies.averageRating.isna()]"
   ],
   "metadata": {
    "collapsed": false
   }
  },
  {
   "cell_type": "markdown",
   "source": [
    "Only 27 movies that has a wikidata rating but no imdb rating: lets drop the wikidata ratings"
   ],
   "metadata": {
    "collapsed": false
   }
  },
  {
   "cell_type": "code",
   "execution_count": 13,
   "outputs": [],
   "source": [
    "movies.drop(labels='ratings_wd',axis=1, inplace=True)"
   ],
   "metadata": {
    "collapsed": false
   }
  },
  {
   "cell_type": "code",
   "execution_count": 14,
   "outputs": [
    {
     "data": {
      "text/plain": "0.8360675793053669"
     },
     "execution_count": 14,
     "metadata": {},
     "output_type": "execute_result"
    }
   ],
   "source": [
    "movies.averageRating.notna().sum() / len(movies)"
   ],
   "metadata": {
    "collapsed": false
   }
  },
  {
   "cell_type": "markdown",
   "source": [
    "# IMDB basics (release year)"
   ],
   "metadata": {
    "collapsed": false
   }
  },
  {
   "cell_type": "code",
   "execution_count": 15,
   "outputs": [
    {
     "name": "stderr",
     "output_type": "stream",
     "text": [
      "/tmp/ipykernel_9795/2384298691.py:1: DtypeWarning: Columns (4,5) have mixed types. Specify dtype option on import or set low_memory=False.\n",
      "  imdb_basics = pd.read_csv('../data/IMDB/title.basics.tsv', sep='\\t')\n"
     ]
    },
    {
     "data": {
      "text/plain": "      tconst titleType            primaryTitle           originalTitle  \\\n0  tt0000001     short              Carmencita              Carmencita   \n1  tt0000002     short  Le clown et ses chiens  Le clown et ses chiens   \n2  tt0000003     short          Pauvre Pierrot          Pauvre Pierrot   \n3  tt0000004     short             Un bon bock             Un bon bock   \n4  tt0000005     short        Blacksmith Scene        Blacksmith Scene   \n\n  isAdult startYear endYear runtimeMinutes                    genres  \n0       0      1894      \\N              1         Documentary,Short  \n1       0      1892      \\N              5           Animation,Short  \n2       0      1892      \\N              4  Animation,Comedy,Romance  \n3       0      1892      \\N             12           Animation,Short  \n4       0      1893      \\N              1              Comedy,Short  ",
      "text/html": "<div>\n<style scoped>\n    .dataframe tbody tr th:only-of-type {\n        vertical-align: middle;\n    }\n\n    .dataframe tbody tr th {\n        vertical-align: top;\n    }\n\n    .dataframe thead th {\n        text-align: right;\n    }\n</style>\n<table border=\"1\" class=\"dataframe\">\n  <thead>\n    <tr style=\"text-align: right;\">\n      <th></th>\n      <th>tconst</th>\n      <th>titleType</th>\n      <th>primaryTitle</th>\n      <th>originalTitle</th>\n      <th>isAdult</th>\n      <th>startYear</th>\n      <th>endYear</th>\n      <th>runtimeMinutes</th>\n      <th>genres</th>\n    </tr>\n  </thead>\n  <tbody>\n    <tr>\n      <th>0</th>\n      <td>tt0000001</td>\n      <td>short</td>\n      <td>Carmencita</td>\n      <td>Carmencita</td>\n      <td>0</td>\n      <td>1894</td>\n      <td>\\N</td>\n      <td>1</td>\n      <td>Documentary,Short</td>\n    </tr>\n    <tr>\n      <th>1</th>\n      <td>tt0000002</td>\n      <td>short</td>\n      <td>Le clown et ses chiens</td>\n      <td>Le clown et ses chiens</td>\n      <td>0</td>\n      <td>1892</td>\n      <td>\\N</td>\n      <td>5</td>\n      <td>Animation,Short</td>\n    </tr>\n    <tr>\n      <th>2</th>\n      <td>tt0000003</td>\n      <td>short</td>\n      <td>Pauvre Pierrot</td>\n      <td>Pauvre Pierrot</td>\n      <td>0</td>\n      <td>1892</td>\n      <td>\\N</td>\n      <td>4</td>\n      <td>Animation,Comedy,Romance</td>\n    </tr>\n    <tr>\n      <th>3</th>\n      <td>tt0000004</td>\n      <td>short</td>\n      <td>Un bon bock</td>\n      <td>Un bon bock</td>\n      <td>0</td>\n      <td>1892</td>\n      <td>\\N</td>\n      <td>12</td>\n      <td>Animation,Short</td>\n    </tr>\n    <tr>\n      <th>4</th>\n      <td>tt0000005</td>\n      <td>short</td>\n      <td>Blacksmith Scene</td>\n      <td>Blacksmith Scene</td>\n      <td>0</td>\n      <td>1893</td>\n      <td>\\N</td>\n      <td>1</td>\n      <td>Comedy,Short</td>\n    </tr>\n  </tbody>\n</table>\n</div>"
     },
     "execution_count": 15,
     "metadata": {},
     "output_type": "execute_result"
    }
   ],
   "source": [
    "imdb_basics = pd.read_csv('../data/IMDB/title.basics.tsv', sep='\\t')\n",
    "imdb_basics.head()"
   ],
   "metadata": {
    "collapsed": false
   }
  },
  {
   "cell_type": "code",
   "execution_count": 16,
   "outputs": [
    {
     "data": {
      "text/plain": "0"
     },
     "execution_count": 16,
     "metadata": {},
     "output_type": "execute_result"
    }
   ],
   "source": [
    "(imdb_basics.startYear.isna() & imdb_basics.endYear.notna()).sum()"
   ],
   "metadata": {
    "collapsed": false
   }
  },
  {
   "cell_type": "code",
   "execution_count": 17,
   "outputs": [
    {
     "data": {
      "text/plain": "      tconst            primaryTitle           originalTitle startYear  \\\n0  tt0000001              Carmencita              Carmencita      1894   \n1  tt0000002  Le clown et ses chiens  Le clown et ses chiens      1892   \n2  tt0000003          Pauvre Pierrot          Pauvre Pierrot      1892   \n3  tt0000004             Un bon bock             Un bon bock      1892   \n4  tt0000005        Blacksmith Scene        Blacksmith Scene      1893   \n\n  runtimeMinutes                    genres  \n0              1         Documentary,Short  \n1              5           Animation,Short  \n2              4  Animation,Comedy,Romance  \n3             12           Animation,Short  \n4              1              Comedy,Short  ",
      "text/html": "<div>\n<style scoped>\n    .dataframe tbody tr th:only-of-type {\n        vertical-align: middle;\n    }\n\n    .dataframe tbody tr th {\n        vertical-align: top;\n    }\n\n    .dataframe thead th {\n        text-align: right;\n    }\n</style>\n<table border=\"1\" class=\"dataframe\">\n  <thead>\n    <tr style=\"text-align: right;\">\n      <th></th>\n      <th>tconst</th>\n      <th>primaryTitle</th>\n      <th>originalTitle</th>\n      <th>startYear</th>\n      <th>runtimeMinutes</th>\n      <th>genres</th>\n    </tr>\n  </thead>\n  <tbody>\n    <tr>\n      <th>0</th>\n      <td>tt0000001</td>\n      <td>Carmencita</td>\n      <td>Carmencita</td>\n      <td>1894</td>\n      <td>1</td>\n      <td>Documentary,Short</td>\n    </tr>\n    <tr>\n      <th>1</th>\n      <td>tt0000002</td>\n      <td>Le clown et ses chiens</td>\n      <td>Le clown et ses chiens</td>\n      <td>1892</td>\n      <td>5</td>\n      <td>Animation,Short</td>\n    </tr>\n    <tr>\n      <th>2</th>\n      <td>tt0000003</td>\n      <td>Pauvre Pierrot</td>\n      <td>Pauvre Pierrot</td>\n      <td>1892</td>\n      <td>4</td>\n      <td>Animation,Comedy,Romance</td>\n    </tr>\n    <tr>\n      <th>3</th>\n      <td>tt0000004</td>\n      <td>Un bon bock</td>\n      <td>Un bon bock</td>\n      <td>1892</td>\n      <td>12</td>\n      <td>Animation,Short</td>\n    </tr>\n    <tr>\n      <th>4</th>\n      <td>tt0000005</td>\n      <td>Blacksmith Scene</td>\n      <td>Blacksmith Scene</td>\n      <td>1893</td>\n      <td>1</td>\n      <td>Comedy,Short</td>\n    </tr>\n  </tbody>\n</table>\n</div>"
     },
     "execution_count": 17,
     "metadata": {},
     "output_type": "execute_result"
    }
   ],
   "source": [
    "imdb_basics.drop(labels= ['titleType', 'isAdult', 'endYear'], axis=1, inplace=True)\n",
    "imdb_basics.head()"
   ],
   "metadata": {
    "collapsed": false
   }
  },
  {
   "cell_type": "code",
   "execution_count": 18,
   "outputs": [
    {
     "data": {
      "text/plain": "Index(['Wikipedia ID', 'freebase_id', 'wikidata_id', 'name', 'release date',\n       'box office revenue', 'runtime', 'languages', 'countries', 'genres_x',\n       'new_wikidata_id', 'release_date_wd', 'box_office_wd', 'freebase_id_wd',\n       'IMDB_id', 'averageRating', 'numVotes', 'tconst', 'primaryTitle',\n       'originalTitle', 'startYear', 'runtimeMinutes', 'genres_y'],\n      dtype='object')"
     },
     "execution_count": 18,
     "metadata": {},
     "output_type": "execute_result"
    }
   ],
   "source": [
    "movies = pd.merge(left=movies, right=imdb_basics, left_on='IMDB_id', right_on='tconst', how='left')\n",
    "movies.keys()"
   ],
   "metadata": {
    "collapsed": false
   }
  },
  {
   "cell_type": "code",
   "execution_count": 19,
   "outputs": [
    {
     "data": {
      "text/plain": "81741"
     },
     "execution_count": 19,
     "metadata": {},
     "output_type": "execute_result"
    }
   ],
   "source": [
    "len(movies)"
   ],
   "metadata": {
    "collapsed": false
   }
  },
  {
   "cell_type": "code",
   "execution_count": 20,
   "outputs": [],
   "source": [
    "def get_year(x):\n",
    "    try:\n",
    "        return pd.to_datetime(x, errors='ignore').year\n",
    "    except:\n",
    "        return np.nan"
   ],
   "metadata": {
    "collapsed": false
   }
  },
  {
   "cell_type": "code",
   "execution_count": 21,
   "outputs": [],
   "source": [
    "movies['CMU_release_year'] = movies['release date'].apply(lambda x: get_year(x))\n",
    "movies['WD_release_year'] = movies['release_date_wd'].apply(lambda x: get_year(x))\n",
    "movies['IMDB_release_year'] = movies['startYear'].apply(lambda x: get_year(x))"
   ],
   "metadata": {
    "collapsed": false
   }
  },
  {
   "cell_type": "code",
   "execution_count": 22,
   "outputs": [],
   "source": [
    "pickle.dump(movies, open('movies_with_ratings_and_imdb_basics.p', 'wb'))"
   ],
   "metadata": {
    "collapsed": false
   }
  },
  {
   "cell_type": "code",
   "execution_count": 22,
   "outputs": [
    {
     "data": {
      "text/plain": "81741"
     },
     "execution_count": 22,
     "metadata": {},
     "output_type": "execute_result"
    }
   ],
   "source": [
    "movies = pickle.load(open('movies_with_ratings_and_imdb_basics.p', 'rb'))\n",
    "len(movies)"
   ],
   "metadata": {
    "collapsed": false
   }
  },
  {
   "cell_type": "code",
   "execution_count": 23,
   "outputs": [],
   "source": [
    "def combine_year(y1, y2, y3):\n",
    "    if abs(y1 - y2) < 5:\n",
    "        return y1\n",
    "    elif abs(y1 - y3) < 5:\n",
    "        return y1\n",
    "    elif abs(y2 - y3) < 5:\n",
    "        return y2\n",
    "    elif y1!=np.nan:\n",
    "        return y1\n",
    "    elif y2!=np.nan:\n",
    "        return y1\n",
    "    elif y3!=np.nan:\n",
    "        return y1\n",
    "    else:\n",
    "        return np.nan\n",
    "\n",
    "movies['combined_release_year'] = movies.apply(lambda x: combine_year(x['CMU_release_year'], x['WD_release_year'], x['IMDB_release_year']), axis=1)"
   ],
   "metadata": {
    "collapsed": false
   }
  },
  {
   "cell_type": "code",
   "execution_count": 24,
   "outputs": [
    {
     "data": {
      "text/plain": "0.9637635947688431"
     },
     "execution_count": 24,
     "metadata": {},
     "output_type": "execute_result"
    }
   ],
   "source": [
    "movies['combined_release_year'].notna().sum() / len(movies)"
   ],
   "metadata": {
    "collapsed": false
   }
  },
  {
   "cell_type": "markdown",
   "source": [
    "# Runtime"
   ],
   "metadata": {
    "collapsed": false
   }
  },
  {
   "cell_type": "code",
   "execution_count": 25,
   "outputs": [],
   "source": [
    "def toInt(x):\n",
    "    try:\n",
    "        return int(x)\n",
    "    except:\n",
    "        return np.nan\n",
    "\n",
    "movies['runtime'] = movies['runtime'].apply(lambda x: toInt(x))\n",
    "movies['runtimeMinutes'] = movies['runtimeMinutes'].apply(lambda x: toInt(x))"
   ],
   "metadata": {
    "collapsed": false
   }
  },
  {
   "cell_type": "code",
   "execution_count": 26,
   "outputs": [
    {
     "data": {
      "text/plain": "10274"
     },
     "execution_count": 26,
     "metadata": {},
     "output_type": "execute_result"
    }
   ],
   "source": [
    "def max_diff(df, feature1, feature2, maxdiff):\n",
    "    return df.loc[(abs(df[feature1] - df[feature2]) > maxdiff) | (df[feature1].isna() & df[feature2].isna() & df['wikidata_id'].notna())]\n",
    "\n",
    "index_to_wikidata_scrape = max_diff(movies, 'runtime', 'runtimeMinutes', 10)[['name', 'runtime', 'runtimeMinutes']].index\n",
    "ids_to_scrape = movies.loc[index_to_wikidata_scrape]['wikidata_id']\n",
    "\n",
    "len(ids_to_scrape)"
   ],
   "metadata": {
    "collapsed": false
   }
  },
  {
   "cell_type": "code",
   "execution_count": 36,
   "outputs": [
    {
     "data": {
      "text/plain": "  0%|          | 0/10274 [00:00<?, ?it/s]",
      "application/vnd.jupyter.widget-view+json": {
       "version_major": 2,
       "version_minor": 0,
       "model_id": "6d5fefc1e53345d9ac0519b5138ac9c2"
      }
     },
     "metadata": {},
     "output_type": "display_data"
    },
    {
     "name": "stdout",
     "output_type": "stream",
     "text": [
      "404\n",
      "404\n",
      "404\n",
      "404\n",
      "404\n",
      "404\n",
      "404\n",
      "404\n",
      "404\n"
     ]
    }
   ],
   "source": [
    "from multiprocessing import Pool\n",
    "\n",
    "wanted_features = ['P2047']\n",
    "\n",
    "def get_wikidata_title(id):\n",
    "    json_id = requests.get(f'https://www.wikidata.org/wiki/Special:EntityData/{id}.json')\n",
    "    if json_id.ok:\n",
    "        json_id = json_id.json()\n",
    "        key = list(json_id['entities'].keys())[0]\n",
    "        for feature in wanted_features:\n",
    "            try:\n",
    "                runtime = json_id['entities'][key]['claims'][feature][0]['mainsnak']['datavalue']['value']\n",
    "                if runtime['unit'] == 'http://www.wikidata.org/entity/Q7727':\n",
    "                    runtime = int(runtime['amount'].replace('+', ''))\n",
    "                elif runtime['unit'] == 'http://www.wikidata.org/entity/Q11574':\n",
    "                    runtime = int(runtime['amount'].replace('+', ''))/60\n",
    "                elif runtime['unit'] == 'http://www.wikidata.org/entity/Q25235':\n",
    "                    runtime = int(runtime['amount'].replace('+', '')) * 60\n",
    "                else:\n",
    "                    runtime = np.nan\n",
    "            except:\n",
    "                runtime = np.nan\n",
    "        return [id, runtime]\n",
    "    else:\n",
    "        print(json_id.status_code)\n",
    "        return [id, np.nan]\n",
    "    # return json_id['entities'][id]['labels']['en']['value']\n",
    "\n",
    "\n",
    "total_len = len(ids_to_scrape)\n",
    "\n",
    "collection = []\n",
    "\n",
    "with Pool(6) as p:\n",
    "    collection =  list(tqdm(p.imap(get_wikidata_title, ids_to_scrape), total=total_len, smoothing=1.0))\n",
    "pickle.dump(collection, open(f'collection_runtimes_wd.p','wb'))\n"
   ],
   "metadata": {
    "collapsed": false
   }
  },
  {
   "cell_type": "code",
   "execution_count": 27,
   "outputs": [],
   "source": [
    "collection = pickle.load(open(f'collection_runtimes_wd.p','rb'))"
   ],
   "metadata": {
    "collapsed": false
   }
  },
  {
   "cell_type": "code",
   "execution_count": 28,
   "outputs": [],
   "source": [
    "runtime = pd.DataFrame(collection)\n",
    "runtime = runtime.rename(columns={0: 'wikidata_id_collection', 1: 'WD_runtime'})\n",
    "runtime['WD_runtime'] = runtime.WD_runtime.apply(lambda x: toInt(x))"
   ],
   "metadata": {
    "collapsed": false
   }
  },
  {
   "cell_type": "code",
   "execution_count": 29,
   "outputs": [],
   "source": [
    "movies = pd.merge(movies, runtime.drop_duplicates(), left_on='wikidata_id',  right_on='wikidata_id_collection', how='left')\n",
    "movies.drop(labels=['wikidata_id_collection'], axis=1, inplace=True)"
   ],
   "metadata": {
    "collapsed": false
   }
  },
  {
   "cell_type": "code",
   "execution_count": 30,
   "outputs": [],
   "source": [
    "def get_final_runtime(x,y,z):\n",
    "    if abs(x - y) < 10:\n",
    "        return x\n",
    "    elif abs(x - z) < 10:\n",
    "        return x\n",
    "    elif abs(y - z) < 10:\n",
    "        return y\n",
    "    elif pd.notna(x):\n",
    "        return x\n",
    "    elif pd.notna(y):\n",
    "        return y\n",
    "    elif pd.notna(z):\n",
    "        return z\n",
    "    else:\n",
    "        return np.nan\n",
    "\n",
    "movies['WD_runtime'] = movies.WD_runtime.apply(lambda x: toInt(x))\n",
    "movies['combined_runtime'] = movies.apply(lambda x: get_final_runtime(x['runtime'], x['runtimeMinutes'], x['WD_runtime']), axis=1)\n"
   ],
   "metadata": {
    "collapsed": false
   }
  },
  {
   "cell_type": "code",
   "execution_count": 31,
   "outputs": [
    {
     "data": {
      "text/plain": "0.8997198468332905"
     },
     "execution_count": 31,
     "metadata": {},
     "output_type": "execute_result"
    }
   ],
   "source": [
    "movies.combined_runtime.notna().sum() / len(movies)"
   ],
   "metadata": {
    "collapsed": false
   }
  },
  {
   "cell_type": "code",
   "execution_count": 32,
   "outputs": [
    {
     "data": {
      "text/plain": "                                                    name  runtime  \\\n0                                         Ghosts of Mars     98.0   \n1      Getting Away with Murder: The JonBenét Ramsey ...     95.0   \n2                                            Brun bitter     83.0   \n3                                       White Of The Eye    110.0   \n4                                      A Woman in Flames    106.0   \n...                                                  ...      ...   \n81736                           Mermaids: The Body Found    120.0   \n81737                                            Knuckle     96.0   \n81738                                  Another Nice Mess     66.0   \n81739  The Super Dimension Fortress Macross II: Lover...    150.0   \n81740                                            Spliced     86.0   \n\n       runtimeMinutes  WD_runtime  combined_runtime  \n0                98.0         NaN              98.0  \n1                95.0         NaN              95.0  \n2                83.0         NaN              83.0  \n3               110.0         NaN             110.0  \n4               106.0         NaN             106.0  \n...               ...         ...               ...  \n81736            82.0       123.0             120.0  \n81737            97.0         NaN              96.0  \n81738            66.0         NaN              66.0  \n81739           150.0         NaN             150.0  \n81740            90.0         NaN              86.0  \n\n[81741 rows x 5 columns]",
      "text/html": "<div>\n<style scoped>\n    .dataframe tbody tr th:only-of-type {\n        vertical-align: middle;\n    }\n\n    .dataframe tbody tr th {\n        vertical-align: top;\n    }\n\n    .dataframe thead th {\n        text-align: right;\n    }\n</style>\n<table border=\"1\" class=\"dataframe\">\n  <thead>\n    <tr style=\"text-align: right;\">\n      <th></th>\n      <th>name</th>\n      <th>runtime</th>\n      <th>runtimeMinutes</th>\n      <th>WD_runtime</th>\n      <th>combined_runtime</th>\n    </tr>\n  </thead>\n  <tbody>\n    <tr>\n      <th>0</th>\n      <td>Ghosts of Mars</td>\n      <td>98.0</td>\n      <td>98.0</td>\n      <td>NaN</td>\n      <td>98.0</td>\n    </tr>\n    <tr>\n      <th>1</th>\n      <td>Getting Away with Murder: The JonBenét Ramsey ...</td>\n      <td>95.0</td>\n      <td>95.0</td>\n      <td>NaN</td>\n      <td>95.0</td>\n    </tr>\n    <tr>\n      <th>2</th>\n      <td>Brun bitter</td>\n      <td>83.0</td>\n      <td>83.0</td>\n      <td>NaN</td>\n      <td>83.0</td>\n    </tr>\n    <tr>\n      <th>3</th>\n      <td>White Of The Eye</td>\n      <td>110.0</td>\n      <td>110.0</td>\n      <td>NaN</td>\n      <td>110.0</td>\n    </tr>\n    <tr>\n      <th>4</th>\n      <td>A Woman in Flames</td>\n      <td>106.0</td>\n      <td>106.0</td>\n      <td>NaN</td>\n      <td>106.0</td>\n    </tr>\n    <tr>\n      <th>...</th>\n      <td>...</td>\n      <td>...</td>\n      <td>...</td>\n      <td>...</td>\n      <td>...</td>\n    </tr>\n    <tr>\n      <th>81736</th>\n      <td>Mermaids: The Body Found</td>\n      <td>120.0</td>\n      <td>82.0</td>\n      <td>123.0</td>\n      <td>120.0</td>\n    </tr>\n    <tr>\n      <th>81737</th>\n      <td>Knuckle</td>\n      <td>96.0</td>\n      <td>97.0</td>\n      <td>NaN</td>\n      <td>96.0</td>\n    </tr>\n    <tr>\n      <th>81738</th>\n      <td>Another Nice Mess</td>\n      <td>66.0</td>\n      <td>66.0</td>\n      <td>NaN</td>\n      <td>66.0</td>\n    </tr>\n    <tr>\n      <th>81739</th>\n      <td>The Super Dimension Fortress Macross II: Lover...</td>\n      <td>150.0</td>\n      <td>150.0</td>\n      <td>NaN</td>\n      <td>150.0</td>\n    </tr>\n    <tr>\n      <th>81740</th>\n      <td>Spliced</td>\n      <td>86.0</td>\n      <td>90.0</td>\n      <td>NaN</td>\n      <td>86.0</td>\n    </tr>\n  </tbody>\n</table>\n<p>81741 rows × 5 columns</p>\n</div>"
     },
     "execution_count": 32,
     "metadata": {},
     "output_type": "execute_result"
    }
   ],
   "source": [
    "movies[['name', 'runtime', 'runtimeMinutes', 'WD_runtime', 'combined_runtime']]"
   ],
   "metadata": {
    "collapsed": false
   }
  },
  {
   "cell_type": "markdown",
   "source": [
    "# BoxOffice Mojo"
   ],
   "metadata": {
    "collapsed": false
   }
  },
  {
   "cell_type": "code",
   "execution_count": 6,
   "outputs": [
    {
     "data": {
      "text/plain": "  0%|          | 0/77109 [00:00<?, ?it/s]",
      "application/vnd.jupyter.widget-view+json": {
       "version_major": 2,
       "version_minor": 0,
       "model_id": "71e1490982844d72a5c3d25f110fbd48"
      }
     },
     "metadata": {},
     "output_type": "display_data"
    },
    {
     "name": "stdout",
     "output_type": "stream",
     "text": [
      "400\n",
      "404\n",
      "404\n",
      "404\n",
      "404\n",
      "404\n",
      "404\n",
      "404\n",
      "404\n",
      "404\n",
      "404\n",
      "404\n",
      "404\n",
      "404\n",
      "404\n",
      "404\n",
      "404\n",
      "404\n",
      "404\n",
      "404\n",
      "404\n",
      "404\n"
     ]
    }
   ],
   "source": [
    "from multiprocessing import Pool\n",
    "\n",
    "wanted_features = ['P1237']\n",
    "\n",
    "def get_wikidata_title(id):\n",
    "    json_id = requests.get(f'https://www.wikidata.org/wiki/Special:EntityData/{id}.json')\n",
    "    if json_id.ok:\n",
    "        json_id = json_id.json()\n",
    "        key = list(json_id['entities'].keys())[0]\n",
    "        for feature in wanted_features:\n",
    "            try:\n",
    "                watchmojoid = json_id['entities'][key]['claims'][feature][0]['mainsnak']['datavalue']['value']\n",
    "            except:\n",
    "                watchmojoid = np.nan\n",
    "        return [id, watchmojoid]\n",
    "    else:\n",
    "        print(json_id.status_code)\n",
    "        return [id, json_id.status_code]\n",
    "    # return json_id['entities'][id]['labels']['en']['value']\n",
    "\n",
    "\n",
    "total_len = len(unique_movie_ids)\n",
    "\n",
    "collection = []\n",
    "\n",
    "with Pool(6) as p:\n",
    "    collection =  list(tqdm(p.imap(get_wikidata_title, unique_movie_ids), total=total_len, smoothing=0))\n",
    "pickle.dump(collection, open(f'temp_boxoffice_mojo_ids.p','wb'))\n"
   ],
   "metadata": {
    "collapsed": false
   }
  },
  {
   "cell_type": "code",
   "execution_count": 11,
   "outputs": [
    {
     "data": {
      "text/plain": "  wikidata_id       mojo_id\n0     Q261700  ghostsofmars\n1   Q16250726           NaN\n2    Q4978832           NaN\n3    Q7995657           NaN\n4     Q869644           NaN",
      "text/html": "<div>\n<style scoped>\n    .dataframe tbody tr th:only-of-type {\n        vertical-align: middle;\n    }\n\n    .dataframe tbody tr th {\n        vertical-align: top;\n    }\n\n    .dataframe thead th {\n        text-align: right;\n    }\n</style>\n<table border=\"1\" class=\"dataframe\">\n  <thead>\n    <tr style=\"text-align: right;\">\n      <th></th>\n      <th>wikidata_id</th>\n      <th>mojo_id</th>\n    </tr>\n  </thead>\n  <tbody>\n    <tr>\n      <th>0</th>\n      <td>Q261700</td>\n      <td>ghostsofmars</td>\n    </tr>\n    <tr>\n      <th>1</th>\n      <td>Q16250726</td>\n      <td>NaN</td>\n    </tr>\n    <tr>\n      <th>2</th>\n      <td>Q4978832</td>\n      <td>NaN</td>\n    </tr>\n    <tr>\n      <th>3</th>\n      <td>Q7995657</td>\n      <td>NaN</td>\n    </tr>\n    <tr>\n      <th>4</th>\n      <td>Q869644</td>\n      <td>NaN</td>\n    </tr>\n  </tbody>\n</table>\n</div>"
     },
     "execution_count": 11,
     "metadata": {},
     "output_type": "execute_result"
    }
   ],
   "source": [
    "mojo_id_df = pd.DataFrame(collection)\n",
    "mojo_id_df = mojo_id_df.rename({0: 'wikidata_id', 1: 'mojo_id'}, axis=1)\n",
    "mojo_id_df.head()"
   ],
   "metadata": {
    "collapsed": false
   }
  },
  {
   "cell_type": "code",
   "execution_count": 16,
   "outputs": [
    {
     "data": {
      "text/plain": "Int64Index([    1,     2,     3,     4,     5,     6,     7,     8,     9,\n               10,\n            ...\n            77099, 77100, 77101, 77102, 77103, 77104, 77105, 77106, 77107,\n            77108],\n           dtype='int64', length=66778)"
     },
     "execution_count": 16,
     "metadata": {},
     "output_type": "execute_result"
    }
   ],
   "source": [
    "mojo_id_df.loc[mojo_id_df.mojo_id.isna()].index"
   ],
   "metadata": {
    "collapsed": false
   }
  },
  {
   "cell_type": "code",
   "execution_count": 20,
   "outputs": [
    {
     "data": {
      "text/plain": "10309"
     },
     "execution_count": 20,
     "metadata": {},
     "output_type": "execute_result"
    }
   ],
   "source": [
    "mojo_id_df.drop(index=mojo_id_df.loc[mojo_id_df.mojo_id.isna()].index, inplace=True)\n",
    "mojo_id_df.drop(index=mojo_id_df.loc[(mojo_id_df.mojo_id == 404 )| (mojo_id_df.mojo_id == 400)].index, inplace=True)\n",
    "len(mojo_id_df)"
   ],
   "metadata": {
    "collapsed": false
   }
  },
  {
   "cell_type": "code",
   "execution_count": 36,
   "outputs": [],
   "source": [
    "movies = pd.merge(movies, mojo_id_df, left_on='wikidata_id', right_on='wikidata_id', how='left')"
   ],
   "metadata": {
    "collapsed": false
   }
  },
  {
   "cell_type": "code",
   "execution_count": 37,
   "outputs": [
    {
     "data": {
      "text/plain": "Index(['Wikipedia ID', 'freebase_id', 'wikidata_id', 'name', 'release date',\n       'box office revenue', 'runtime', 'languages', 'countries', 'genres_x',\n       'new_wikidata_id', 'release_date_wd', 'box_office_wd', 'freebase_id_wd',\n       'IMDB_id', 'averageRating', 'numVotes', 'tconst', 'primaryTitle',\n       'originalTitle', 'startYear', 'runtimeMinutes', 'genres_y',\n       'CMU_release_year', 'WD_release_year', 'IMDB_release_year',\n       'combined_release_year', 'WD_runtime', 'combined_runtime', 'mojo_id'],\n      dtype='object')"
     },
     "execution_count": 37,
     "metadata": {},
     "output_type": "execute_result"
    }
   ],
   "source": [
    "movies.keys()"
   ],
   "metadata": {
    "collapsed": false
   }
  },
  {
   "cell_type": "code",
   "execution_count": null,
   "outputs": [],
   "source": [
    "movies = movies[['name', 'primaryTitle',\n",
    "       'originalTitle','Wikipedia ID', 'freebase_id','freebase_id_wd', 'wikidata_id', 'new_wikidata_id',   'IMDB_id', 'mojo_id', 'release date', 'release_date_wd', 'CMU_release_year', 'WD_release_year', 'IMDB_release_year',\n",
    "       'combined_release_year',  'runtime','WD_runtime', 'runtimeMinutes',  'combined_runtime',\n",
    "       'box office revenue', 'box_office_wd', 'languages', 'countries',\n",
    "\n",
    "        'averageRating', 'numVotes',   'genres_x', 'genres_y',\n",
    "       ]]\n",
    "\n",
    "movies = movies.rename({'name': 'title', 'Wikipedia ID': 'wikipedia_id', 'freebase_id': 'freebase_id_cmu',  'release date' : 'release_date_cmu', 'CMU_release_year' : 'release_year_cmu', 'WD_release_year' : 'release_year_wd',  'IMDB_release_year':'release_year_imdb',\n",
    "         'runtime':'runtime_cmu', 'runtimeMinutes':'runtime_imdb', 'WD_runtime':'runtime_wd',\n",
    "       'box office revenue':'box_office_cmu',\n",
    "        'averageRating':'averageRating_imdb', 'numVotes':'numVotes_imdb',   'genres_x':'genres_cmu', 'genres_y':'genres_imdb'}, axis=1)\n",
    "movies.head()"
   ],
   "metadata": {
    "collapsed": false
   }
  },
  {
   "cell_type": "code",
   "execution_count": 42,
   "outputs": [
    {
     "data": {
      "text/plain": "                                                   title  \\\n0                                         Ghosts of Mars   \n1      Getting Away with Murder: The JonBenét Ramsey ...   \n2                                            Brun bitter   \n3                                       White Of The Eye   \n4                                      A Woman in Flames   \n...                                                  ...   \n81736                           Mermaids: The Body Found   \n81737                                            Knuckle   \n81738                                  Another Nice Mess   \n81739  The Super Dimension Fortress Macross II: Lover...   \n81740                                            Spliced   \n\n                                            primaryTitle  \\\n0                                         Ghosts of Mars   \n1      Getting Away with Murder: The JonBenet Ramsey ...   \n2                                            Brun bitter   \n3                                       White of the Eye   \n4                                      A Woman in Flames   \n...                                                  ...   \n81736                           Mermaids: The Body Found   \n81737                                            Knuckle   \n81738                                  Another Nice Mess   \n81739  Super Dimensional Fortress Macross II: Lovers ...   \n81740                                         The Wisher   \n\n                                           originalTitle  wikipedia_id  \\\n0                                         Ghosts of Mars        975900   \n1      Getting Away with Murder: The JonBenet Ramsey ...       3196793   \n2                                            Brun bitter      28463795   \n3                                       White of the Eye       9363483   \n4                                    Die flambierte Frau        261236   \n...                                                  ...           ...   \n81736                           Mermaids: The Body Found      35228177   \n81737                                            Knuckle      34980460   \n81738                                  Another Nice Mess       9971909   \n81739             Chôjikû Yôsai Macross II Lovers, Again        913762   \n81740                                         The Wisher      12476867   \n\n      freebase_id_cmu freebase_id_wd wikidata_id new_wikidata_id    IMDB_id  \\\n0           /m/03vyhn      /m/03vyhn     Q261700         Q261700  tt0228333   \n1           /m/08yl5d      /m/08yl5d   Q16250726       Q16250726  tt0245916   \n2          /m/0crgdbh     /m/0crgdbh    Q4978832        Q4978832  tt0094806   \n3          /m/0285_cd     /m/0285_cd    Q7995657        Q7995657  tt0094320   \n4           /m/01mrr1      /m/01mrr1     Q869644         Q869644  tt0083949   \n...               ...            ...         ...             ...        ...   \n81736      /m/0j7hxnt     /m/0j7hxnt    Q6819873        Q6819873  tt1816585   \n81737      /m/0g4pl34     /m/0g4pl34   Q12125420       Q12125420  tt1606259   \n81738      /m/02pygw1     /m/02pygw1    Q4770308        Q4770308  tt0362411   \n81739       /m/03pcrp      /m/03pcrp    Q2663931        Q2663931  tt0113726   \n81740      /m/02w7zz8     /m/02w7zz8    Q7578560        Q7578560  tt0354216   \n\n            mojo_id  ... runtime_imdb combined_runtime  box_office_cmu  \\\n0      ghostsofmars  ...         98.0             98.0      14010832.0   \n1               NaN  ...         95.0             95.0             NaN   \n2               NaN  ...         83.0             83.0             NaN   \n3               NaN  ...        110.0            110.0             NaN   \n4               NaN  ...        106.0            106.0             NaN   \n...             ...  ...          ...              ...             ...   \n81736           NaN  ...         82.0            120.0             NaN   \n81737           NaN  ...         97.0             96.0             NaN   \n81738           NaN  ...         66.0             66.0             NaN   \n81739           NaN  ...        150.0            150.0             NaN   \n81740           NaN  ...         90.0             86.0             NaN   \n\n       box_office_wd                           languages  \\\n0                NaN  {\"/m/02h40lc\": \"English Language\"}   \n1                NaN  {\"/m/02h40lc\": \"English Language\"}   \n2                NaN  {\"/m/05f_3\": \"Norwegian Language\"}   \n3                NaN  {\"/m/02h40lc\": \"English Language\"}   \n4                NaN   {\"/m/04306rv\": \"German Language\"}   \n...              ...                                 ...   \n81736            NaN  {\"/m/02h40lc\": \"English Language\"}   \n81737            NaN  {\"/m/02h40lc\": \"English Language\"}   \n81738            NaN  {\"/m/02h40lc\": \"English Language\"}   \n81739            NaN   {\"/m/03_9r\": \"Japanese Language\"}   \n81740            NaN  {\"/m/02h40lc\": \"English Language\"}   \n\n                                               countries  averageRating_imdb  \\\n0              {\"/m/09c7w0\": \"United States of America\"}                 4.9   \n1              {\"/m/09c7w0\": \"United States of America\"}                 5.9   \n2                                 {\"/m/05b4w\": \"Norway\"}                 5.7   \n3                         {\"/m/07ssc\": \"United Kingdom\"}                 6.1   \n4                                {\"/m/0345h\": \"Germany\"}                 6.0   \n...                                                  ...                 ...   \n81736          {\"/m/09c7w0\": \"United States of America\"}                 4.6   \n81737  {\"/m/03rt9\": \"Ireland\", \"/m/07ssc\": \"United Ki...                 6.8   \n81738          {\"/m/09c7w0\": \"United States of America\"}                 5.8   \n81739                              {\"/m/03_3d\": \"Japan\"}                 6.0   \n81740                            {\"/m/0d060g\": \"Canada\"}                 4.3   \n\n       numVotes_imdb                                         genres_cmu  \\\n0            55061.0  {\"/m/01jfsb\": \"Thriller\", \"/m/06n90\": \"Science...   \n1               66.0  {\"/m/02n4kr\": \"Mystery\", \"/m/03bxz7\": \"Biograp...   \n2               40.0  {\"/m/0lsxr\": \"Crime Fiction\", \"/m/07s9rl0\": \"D...   \n3             2537.0  {\"/m/01jfsb\": \"Thriller\", \"/m/0glj9q\": \"Erotic...   \n4              587.0                            {\"/m/07s9rl0\": \"Drama\"}   \n...              ...                                                ...   \n81736         1651.0                            {\"/m/07s9rl0\": \"Drama\"}   \n81737         3064.0  {\"/m/03bxz7\": \"Biographical film\", \"/m/07s9rl0...   \n81738          101.0       {\"/m/06nbt\": \"Satire\", \"/m/01z4y\": \"Comedy\"}   \n81739          634.0  {\"/m/06n90\": \"Science Fiction\", \"/m/0gw5n2f\": ...   \n81740         1719.0  {\"/m/01jfsb\": \"Thriller\", \"/m/03npn\": \"Horror\"...   \n\n                       genres_imdb  \n0             Action,Horror,Sci-Fi  \n1                            Drama  \n2                      Crime,Drama  \n3                  Horror,Thriller  \n4                            Drama  \n...                            ...  \n81736                       Sci-Fi  \n81737  Biography,Documentary,Drama  \n81738                       Comedy  \n81739       Action,Animation,Music  \n81740              Horror,Thriller  \n\n[81741 rows x 28 columns]",
      "text/html": "<div>\n<style scoped>\n    .dataframe tbody tr th:only-of-type {\n        vertical-align: middle;\n    }\n\n    .dataframe tbody tr th {\n        vertical-align: top;\n    }\n\n    .dataframe thead th {\n        text-align: right;\n    }\n</style>\n<table border=\"1\" class=\"dataframe\">\n  <thead>\n    <tr style=\"text-align: right;\">\n      <th></th>\n      <th>title</th>\n      <th>primaryTitle</th>\n      <th>originalTitle</th>\n      <th>wikipedia_id</th>\n      <th>freebase_id_cmu</th>\n      <th>freebase_id_wd</th>\n      <th>wikidata_id</th>\n      <th>new_wikidata_id</th>\n      <th>IMDB_id</th>\n      <th>mojo_id</th>\n      <th>...</th>\n      <th>runtime_imdb</th>\n      <th>combined_runtime</th>\n      <th>box_office_cmu</th>\n      <th>box_office_wd</th>\n      <th>languages</th>\n      <th>countries</th>\n      <th>averageRating_imdb</th>\n      <th>numVotes_imdb</th>\n      <th>genres_cmu</th>\n      <th>genres_imdb</th>\n    </tr>\n  </thead>\n  <tbody>\n    <tr>\n      <th>0</th>\n      <td>Ghosts of Mars</td>\n      <td>Ghosts of Mars</td>\n      <td>Ghosts of Mars</td>\n      <td>975900</td>\n      <td>/m/03vyhn</td>\n      <td>/m/03vyhn</td>\n      <td>Q261700</td>\n      <td>Q261700</td>\n      <td>tt0228333</td>\n      <td>ghostsofmars</td>\n      <td>...</td>\n      <td>98.0</td>\n      <td>98.0</td>\n      <td>14010832.0</td>\n      <td>NaN</td>\n      <td>{\"/m/02h40lc\": \"English Language\"}</td>\n      <td>{\"/m/09c7w0\": \"United States of America\"}</td>\n      <td>4.9</td>\n      <td>55061.0</td>\n      <td>{\"/m/01jfsb\": \"Thriller\", \"/m/06n90\": \"Science...</td>\n      <td>Action,Horror,Sci-Fi</td>\n    </tr>\n    <tr>\n      <th>1</th>\n      <td>Getting Away with Murder: The JonBenét Ramsey ...</td>\n      <td>Getting Away with Murder: The JonBenet Ramsey ...</td>\n      <td>Getting Away with Murder: The JonBenet Ramsey ...</td>\n      <td>3196793</td>\n      <td>/m/08yl5d</td>\n      <td>/m/08yl5d</td>\n      <td>Q16250726</td>\n      <td>Q16250726</td>\n      <td>tt0245916</td>\n      <td>NaN</td>\n      <td>...</td>\n      <td>95.0</td>\n      <td>95.0</td>\n      <td>NaN</td>\n      <td>NaN</td>\n      <td>{\"/m/02h40lc\": \"English Language\"}</td>\n      <td>{\"/m/09c7w0\": \"United States of America\"}</td>\n      <td>5.9</td>\n      <td>66.0</td>\n      <td>{\"/m/02n4kr\": \"Mystery\", \"/m/03bxz7\": \"Biograp...</td>\n      <td>Drama</td>\n    </tr>\n    <tr>\n      <th>2</th>\n      <td>Brun bitter</td>\n      <td>Brun bitter</td>\n      <td>Brun bitter</td>\n      <td>28463795</td>\n      <td>/m/0crgdbh</td>\n      <td>/m/0crgdbh</td>\n      <td>Q4978832</td>\n      <td>Q4978832</td>\n      <td>tt0094806</td>\n      <td>NaN</td>\n      <td>...</td>\n      <td>83.0</td>\n      <td>83.0</td>\n      <td>NaN</td>\n      <td>NaN</td>\n      <td>{\"/m/05f_3\": \"Norwegian Language\"}</td>\n      <td>{\"/m/05b4w\": \"Norway\"}</td>\n      <td>5.7</td>\n      <td>40.0</td>\n      <td>{\"/m/0lsxr\": \"Crime Fiction\", \"/m/07s9rl0\": \"D...</td>\n      <td>Crime,Drama</td>\n    </tr>\n    <tr>\n      <th>3</th>\n      <td>White Of The Eye</td>\n      <td>White of the Eye</td>\n      <td>White of the Eye</td>\n      <td>9363483</td>\n      <td>/m/0285_cd</td>\n      <td>/m/0285_cd</td>\n      <td>Q7995657</td>\n      <td>Q7995657</td>\n      <td>tt0094320</td>\n      <td>NaN</td>\n      <td>...</td>\n      <td>110.0</td>\n      <td>110.0</td>\n      <td>NaN</td>\n      <td>NaN</td>\n      <td>{\"/m/02h40lc\": \"English Language\"}</td>\n      <td>{\"/m/07ssc\": \"United Kingdom\"}</td>\n      <td>6.1</td>\n      <td>2537.0</td>\n      <td>{\"/m/01jfsb\": \"Thriller\", \"/m/0glj9q\": \"Erotic...</td>\n      <td>Horror,Thriller</td>\n    </tr>\n    <tr>\n      <th>4</th>\n      <td>A Woman in Flames</td>\n      <td>A Woman in Flames</td>\n      <td>Die flambierte Frau</td>\n      <td>261236</td>\n      <td>/m/01mrr1</td>\n      <td>/m/01mrr1</td>\n      <td>Q869644</td>\n      <td>Q869644</td>\n      <td>tt0083949</td>\n      <td>NaN</td>\n      <td>...</td>\n      <td>106.0</td>\n      <td>106.0</td>\n      <td>NaN</td>\n      <td>NaN</td>\n      <td>{\"/m/04306rv\": \"German Language\"}</td>\n      <td>{\"/m/0345h\": \"Germany\"}</td>\n      <td>6.0</td>\n      <td>587.0</td>\n      <td>{\"/m/07s9rl0\": \"Drama\"}</td>\n      <td>Drama</td>\n    </tr>\n    <tr>\n      <th>...</th>\n      <td>...</td>\n      <td>...</td>\n      <td>...</td>\n      <td>...</td>\n      <td>...</td>\n      <td>...</td>\n      <td>...</td>\n      <td>...</td>\n      <td>...</td>\n      <td>...</td>\n      <td>...</td>\n      <td>...</td>\n      <td>...</td>\n      <td>...</td>\n      <td>...</td>\n      <td>...</td>\n      <td>...</td>\n      <td>...</td>\n      <td>...</td>\n      <td>...</td>\n      <td>...</td>\n    </tr>\n    <tr>\n      <th>81736</th>\n      <td>Mermaids: The Body Found</td>\n      <td>Mermaids: The Body Found</td>\n      <td>Mermaids: The Body Found</td>\n      <td>35228177</td>\n      <td>/m/0j7hxnt</td>\n      <td>/m/0j7hxnt</td>\n      <td>Q6819873</td>\n      <td>Q6819873</td>\n      <td>tt1816585</td>\n      <td>NaN</td>\n      <td>...</td>\n      <td>82.0</td>\n      <td>120.0</td>\n      <td>NaN</td>\n      <td>NaN</td>\n      <td>{\"/m/02h40lc\": \"English Language\"}</td>\n      <td>{\"/m/09c7w0\": \"United States of America\"}</td>\n      <td>4.6</td>\n      <td>1651.0</td>\n      <td>{\"/m/07s9rl0\": \"Drama\"}</td>\n      <td>Sci-Fi</td>\n    </tr>\n    <tr>\n      <th>81737</th>\n      <td>Knuckle</td>\n      <td>Knuckle</td>\n      <td>Knuckle</td>\n      <td>34980460</td>\n      <td>/m/0g4pl34</td>\n      <td>/m/0g4pl34</td>\n      <td>Q12125420</td>\n      <td>Q12125420</td>\n      <td>tt1606259</td>\n      <td>NaN</td>\n      <td>...</td>\n      <td>97.0</td>\n      <td>96.0</td>\n      <td>NaN</td>\n      <td>NaN</td>\n      <td>{\"/m/02h40lc\": \"English Language\"}</td>\n      <td>{\"/m/03rt9\": \"Ireland\", \"/m/07ssc\": \"United Ki...</td>\n      <td>6.8</td>\n      <td>3064.0</td>\n      <td>{\"/m/03bxz7\": \"Biographical film\", \"/m/07s9rl0...</td>\n      <td>Biography,Documentary,Drama</td>\n    </tr>\n    <tr>\n      <th>81738</th>\n      <td>Another Nice Mess</td>\n      <td>Another Nice Mess</td>\n      <td>Another Nice Mess</td>\n      <td>9971909</td>\n      <td>/m/02pygw1</td>\n      <td>/m/02pygw1</td>\n      <td>Q4770308</td>\n      <td>Q4770308</td>\n      <td>tt0362411</td>\n      <td>NaN</td>\n      <td>...</td>\n      <td>66.0</td>\n      <td>66.0</td>\n      <td>NaN</td>\n      <td>NaN</td>\n      <td>{\"/m/02h40lc\": \"English Language\"}</td>\n      <td>{\"/m/09c7w0\": \"United States of America\"}</td>\n      <td>5.8</td>\n      <td>101.0</td>\n      <td>{\"/m/06nbt\": \"Satire\", \"/m/01z4y\": \"Comedy\"}</td>\n      <td>Comedy</td>\n    </tr>\n    <tr>\n      <th>81739</th>\n      <td>The Super Dimension Fortress Macross II: Lover...</td>\n      <td>Super Dimensional Fortress Macross II: Lovers ...</td>\n      <td>Chôjikû Yôsai Macross II Lovers, Again</td>\n      <td>913762</td>\n      <td>/m/03pcrp</td>\n      <td>/m/03pcrp</td>\n      <td>Q2663931</td>\n      <td>Q2663931</td>\n      <td>tt0113726</td>\n      <td>NaN</td>\n      <td>...</td>\n      <td>150.0</td>\n      <td>150.0</td>\n      <td>NaN</td>\n      <td>NaN</td>\n      <td>{\"/m/03_9r\": \"Japanese Language\"}</td>\n      <td>{\"/m/03_3d\": \"Japan\"}</td>\n      <td>6.0</td>\n      <td>634.0</td>\n      <td>{\"/m/06n90\": \"Science Fiction\", \"/m/0gw5n2f\": ...</td>\n      <td>Action,Animation,Music</td>\n    </tr>\n    <tr>\n      <th>81740</th>\n      <td>Spliced</td>\n      <td>The Wisher</td>\n      <td>The Wisher</td>\n      <td>12476867</td>\n      <td>/m/02w7zz8</td>\n      <td>/m/02w7zz8</td>\n      <td>Q7578560</td>\n      <td>Q7578560</td>\n      <td>tt0354216</td>\n      <td>NaN</td>\n      <td>...</td>\n      <td>90.0</td>\n      <td>86.0</td>\n      <td>NaN</td>\n      <td>NaN</td>\n      <td>{\"/m/02h40lc\": \"English Language\"}</td>\n      <td>{\"/m/0d060g\": \"Canada\"}</td>\n      <td>4.3</td>\n      <td>1719.0</td>\n      <td>{\"/m/01jfsb\": \"Thriller\", \"/m/03npn\": \"Horror\"...</td>\n      <td>Horror,Thriller</td>\n    </tr>\n  </tbody>\n</table>\n<p>81741 rows × 28 columns</p>\n</div>"
     },
     "execution_count": 42,
     "metadata": {},
     "output_type": "execute_result"
    }
   ],
   "source": [
    "movies"
   ],
   "metadata": {
    "collapsed": false
   }
  },
  {
   "cell_type": "code",
   "execution_count": 12,
   "outputs": [],
   "source": [
    "pickle.dump(movies, open(pickle_folder + 'movies.p', 'wb'))"
   ],
   "metadata": {
    "collapsed": false
   }
  },
  {
   "cell_type": "markdown",
   "source": [
    "# IMDB Directors & crew"
   ],
   "metadata": {
    "collapsed": false
   }
  },
  {
   "cell_type": "code",
   "execution_count": 6,
   "outputs": [
    {
     "data": {
      "text/plain": "                                               title  \\\n0                                     Ghosts of Mars   \n1  Getting Away with Murder: The JonBenét Ramsey ...   \n2                                        Brun bitter   \n3                                   White Of The Eye   \n4                                  A Woman in Flames   \n\n                                        primaryTitle  \\\n0                                     Ghosts of Mars   \n1  Getting Away with Murder: The JonBenet Ramsey ...   \n2                                        Brun bitter   \n3                                   White of the Eye   \n4                                  A Woman in Flames   \n\n                                       originalTitle  wikipedia_id  \\\n0                                     Ghosts of Mars        975900   \n1  Getting Away with Murder: The JonBenet Ramsey ...       3196793   \n2                                        Brun bitter      28463795   \n3                                   White of the Eye       9363483   \n4                                Die flambierte Frau        261236   \n\n  freebase_id_cmu freebase_id_wd wikidata_id new_wikidata_id    IMDB_id  \\\n0       /m/03vyhn      /m/03vyhn     Q261700         Q261700  tt0228333   \n1       /m/08yl5d      /m/08yl5d   Q16250726       Q16250726  tt0245916   \n2      /m/0crgdbh     /m/0crgdbh    Q4978832        Q4978832  tt0094806   \n3      /m/0285_cd     /m/0285_cd    Q7995657        Q7995657  tt0094320   \n4       /m/01mrr1      /m/01mrr1     Q869644         Q869644  tt0083949   \n\n        mojo_id  ... runtime_imdb combined_runtime  box_office_cmu  \\\n0  ghostsofmars  ...         98.0             98.0      14010832.0   \n1           NaN  ...         95.0             95.0             NaN   \n2           NaN  ...         83.0             83.0             NaN   \n3           NaN  ...        110.0            110.0             NaN   \n4           NaN  ...        106.0            106.0             NaN   \n\n   box_office_wd                           languages  \\\n0            NaN  {\"/m/02h40lc\": \"English Language\"}   \n1            NaN  {\"/m/02h40lc\": \"English Language\"}   \n2            NaN  {\"/m/05f_3\": \"Norwegian Language\"}   \n3            NaN  {\"/m/02h40lc\": \"English Language\"}   \n4            NaN   {\"/m/04306rv\": \"German Language\"}   \n\n                                   countries  averageRating_imdb  \\\n0  {\"/m/09c7w0\": \"United States of America\"}                 4.9   \n1  {\"/m/09c7w0\": \"United States of America\"}                 5.9   \n2                     {\"/m/05b4w\": \"Norway\"}                 5.7   \n3             {\"/m/07ssc\": \"United Kingdom\"}                 6.1   \n4                    {\"/m/0345h\": \"Germany\"}                 6.0   \n\n   numVotes_imdb                                         genres_cmu  \\\n0        55061.0  {\"/m/01jfsb\": \"Thriller\", \"/m/06n90\": \"Science...   \n1           66.0  {\"/m/02n4kr\": \"Mystery\", \"/m/03bxz7\": \"Biograp...   \n2           40.0  {\"/m/0lsxr\": \"Crime Fiction\", \"/m/07s9rl0\": \"D...   \n3         2537.0  {\"/m/01jfsb\": \"Thriller\", \"/m/0glj9q\": \"Erotic...   \n4          587.0                            {\"/m/07s9rl0\": \"Drama\"}   \n\n            genres_imdb  \n0  Action,Horror,Sci-Fi  \n1                 Drama  \n2           Crime,Drama  \n3       Horror,Thriller  \n4                 Drama  \n\n[5 rows x 28 columns]",
      "text/html": "<div>\n<style scoped>\n    .dataframe tbody tr th:only-of-type {\n        vertical-align: middle;\n    }\n\n    .dataframe tbody tr th {\n        vertical-align: top;\n    }\n\n    .dataframe thead th {\n        text-align: right;\n    }\n</style>\n<table border=\"1\" class=\"dataframe\">\n  <thead>\n    <tr style=\"text-align: right;\">\n      <th></th>\n      <th>title</th>\n      <th>primaryTitle</th>\n      <th>originalTitle</th>\n      <th>wikipedia_id</th>\n      <th>freebase_id_cmu</th>\n      <th>freebase_id_wd</th>\n      <th>wikidata_id</th>\n      <th>new_wikidata_id</th>\n      <th>IMDB_id</th>\n      <th>mojo_id</th>\n      <th>...</th>\n      <th>runtime_imdb</th>\n      <th>combined_runtime</th>\n      <th>box_office_cmu</th>\n      <th>box_office_wd</th>\n      <th>languages</th>\n      <th>countries</th>\n      <th>averageRating_imdb</th>\n      <th>numVotes_imdb</th>\n      <th>genres_cmu</th>\n      <th>genres_imdb</th>\n    </tr>\n  </thead>\n  <tbody>\n    <tr>\n      <th>0</th>\n      <td>Ghosts of Mars</td>\n      <td>Ghosts of Mars</td>\n      <td>Ghosts of Mars</td>\n      <td>975900</td>\n      <td>/m/03vyhn</td>\n      <td>/m/03vyhn</td>\n      <td>Q261700</td>\n      <td>Q261700</td>\n      <td>tt0228333</td>\n      <td>ghostsofmars</td>\n      <td>...</td>\n      <td>98.0</td>\n      <td>98.0</td>\n      <td>14010832.0</td>\n      <td>NaN</td>\n      <td>{\"/m/02h40lc\": \"English Language\"}</td>\n      <td>{\"/m/09c7w0\": \"United States of America\"}</td>\n      <td>4.9</td>\n      <td>55061.0</td>\n      <td>{\"/m/01jfsb\": \"Thriller\", \"/m/06n90\": \"Science...</td>\n      <td>Action,Horror,Sci-Fi</td>\n    </tr>\n    <tr>\n      <th>1</th>\n      <td>Getting Away with Murder: The JonBenét Ramsey ...</td>\n      <td>Getting Away with Murder: The JonBenet Ramsey ...</td>\n      <td>Getting Away with Murder: The JonBenet Ramsey ...</td>\n      <td>3196793</td>\n      <td>/m/08yl5d</td>\n      <td>/m/08yl5d</td>\n      <td>Q16250726</td>\n      <td>Q16250726</td>\n      <td>tt0245916</td>\n      <td>NaN</td>\n      <td>...</td>\n      <td>95.0</td>\n      <td>95.0</td>\n      <td>NaN</td>\n      <td>NaN</td>\n      <td>{\"/m/02h40lc\": \"English Language\"}</td>\n      <td>{\"/m/09c7w0\": \"United States of America\"}</td>\n      <td>5.9</td>\n      <td>66.0</td>\n      <td>{\"/m/02n4kr\": \"Mystery\", \"/m/03bxz7\": \"Biograp...</td>\n      <td>Drama</td>\n    </tr>\n    <tr>\n      <th>2</th>\n      <td>Brun bitter</td>\n      <td>Brun bitter</td>\n      <td>Brun bitter</td>\n      <td>28463795</td>\n      <td>/m/0crgdbh</td>\n      <td>/m/0crgdbh</td>\n      <td>Q4978832</td>\n      <td>Q4978832</td>\n      <td>tt0094806</td>\n      <td>NaN</td>\n      <td>...</td>\n      <td>83.0</td>\n      <td>83.0</td>\n      <td>NaN</td>\n      <td>NaN</td>\n      <td>{\"/m/05f_3\": \"Norwegian Language\"}</td>\n      <td>{\"/m/05b4w\": \"Norway\"}</td>\n      <td>5.7</td>\n      <td>40.0</td>\n      <td>{\"/m/0lsxr\": \"Crime Fiction\", \"/m/07s9rl0\": \"D...</td>\n      <td>Crime,Drama</td>\n    </tr>\n    <tr>\n      <th>3</th>\n      <td>White Of The Eye</td>\n      <td>White of the Eye</td>\n      <td>White of the Eye</td>\n      <td>9363483</td>\n      <td>/m/0285_cd</td>\n      <td>/m/0285_cd</td>\n      <td>Q7995657</td>\n      <td>Q7995657</td>\n      <td>tt0094320</td>\n      <td>NaN</td>\n      <td>...</td>\n      <td>110.0</td>\n      <td>110.0</td>\n      <td>NaN</td>\n      <td>NaN</td>\n      <td>{\"/m/02h40lc\": \"English Language\"}</td>\n      <td>{\"/m/07ssc\": \"United Kingdom\"}</td>\n      <td>6.1</td>\n      <td>2537.0</td>\n      <td>{\"/m/01jfsb\": \"Thriller\", \"/m/0glj9q\": \"Erotic...</td>\n      <td>Horror,Thriller</td>\n    </tr>\n    <tr>\n      <th>4</th>\n      <td>A Woman in Flames</td>\n      <td>A Woman in Flames</td>\n      <td>Die flambierte Frau</td>\n      <td>261236</td>\n      <td>/m/01mrr1</td>\n      <td>/m/01mrr1</td>\n      <td>Q869644</td>\n      <td>Q869644</td>\n      <td>tt0083949</td>\n      <td>NaN</td>\n      <td>...</td>\n      <td>106.0</td>\n      <td>106.0</td>\n      <td>NaN</td>\n      <td>NaN</td>\n      <td>{\"/m/04306rv\": \"German Language\"}</td>\n      <td>{\"/m/0345h\": \"Germany\"}</td>\n      <td>6.0</td>\n      <td>587.0</td>\n      <td>{\"/m/07s9rl0\": \"Drama\"}</td>\n      <td>Drama</td>\n    </tr>\n  </tbody>\n</table>\n<p>5 rows × 28 columns</p>\n</div>"
     },
     "execution_count": 6,
     "metadata": {},
     "output_type": "execute_result"
    }
   ],
   "source": [
    "movies = pickle.load(open(pickle_folder + 'movies.p', 'rb'))\n",
    "movies.head()"
   ],
   "metadata": {
    "collapsed": false
   }
  },
  {
   "cell_type": "code",
   "execution_count": null,
   "outputs": [],
   "source": [
    "crew = pd.read_csv('../data/IMDB/title.crew.tsv', sep='\\t')\n",
    "crew.head()"
   ],
   "metadata": {
    "collapsed": false
   }
  },
  {
   "cell_type": "code",
   "execution_count": 10,
   "outputs": [
    {
     "data": {
      "text/plain": "                                               title  \\\n0                                     Ghosts of Mars   \n1  Getting Away with Murder: The JonBenét Ramsey ...   \n2                                        Brun bitter   \n3                                   White Of The Eye   \n4                                  A Woman in Flames   \n\n                                        primaryTitle  \\\n0                                     Ghosts of Mars   \n1  Getting Away with Murder: The JonBenet Ramsey ...   \n2                                        Brun bitter   \n3                                   White of the Eye   \n4                                  A Woman in Flames   \n\n                                       originalTitle  wikipedia_id  \\\n0                                     Ghosts of Mars        975900   \n1  Getting Away with Murder: The JonBenet Ramsey ...       3196793   \n2                                        Brun bitter      28463795   \n3                                   White of the Eye       9363483   \n4                                Die flambierte Frau        261236   \n\n  freebase_id_cmu freebase_id_wd wikidata_id new_wikidata_id    IMDB_id  \\\n0       /m/03vyhn      /m/03vyhn     Q261700         Q261700  tt0228333   \n1       /m/08yl5d      /m/08yl5d   Q16250726       Q16250726  tt0245916   \n2      /m/0crgdbh     /m/0crgdbh    Q4978832        Q4978832  tt0094806   \n3      /m/0285_cd     /m/0285_cd    Q7995657        Q7995657  tt0094320   \n4       /m/01mrr1      /m/01mrr1     Q869644         Q869644  tt0083949   \n\n        mojo_id  ... box_office_cmu box_office_wd  \\\n0  ghostsofmars  ...     14010832.0           NaN   \n1           NaN  ...            NaN           NaN   \n2           NaN  ...            NaN           NaN   \n3           NaN  ...            NaN           NaN   \n4           NaN  ...            NaN           NaN   \n\n                            languages  \\\n0  {\"/m/02h40lc\": \"English Language\"}   \n1  {\"/m/02h40lc\": \"English Language\"}   \n2  {\"/m/05f_3\": \"Norwegian Language\"}   \n3  {\"/m/02h40lc\": \"English Language\"}   \n4   {\"/m/04306rv\": \"German Language\"}   \n\n                                   countries  averageRating_imdb  \\\n0  {\"/m/09c7w0\": \"United States of America\"}                 4.9   \n1  {\"/m/09c7w0\": \"United States of America\"}                 5.9   \n2                     {\"/m/05b4w\": \"Norway\"}                 5.7   \n3             {\"/m/07ssc\": \"United Kingdom\"}                 6.1   \n4                    {\"/m/0345h\": \"Germany\"}                 6.0   \n\n   numVotes_imdb                                         genres_cmu  \\\n0        55061.0  {\"/m/01jfsb\": \"Thriller\", \"/m/06n90\": \"Science...   \n1           66.0  {\"/m/02n4kr\": \"Mystery\", \"/m/03bxz7\": \"Biograp...   \n2           40.0  {\"/m/0lsxr\": \"Crime Fiction\", \"/m/07s9rl0\": \"D...   \n3         2537.0  {\"/m/01jfsb\": \"Thriller\", \"/m/0glj9q\": \"Erotic...   \n4          587.0                            {\"/m/07s9rl0\": \"Drama\"}   \n\n            genres_imdb  directors                                  writers  \n0  Action,Horror,Sci-Fi  nm0000118                      nm0837917,nm0000118  \n1                 Drama  nm1740285                      nm0334224,nm0003358  \n2           Crime,Drama  nm0803751                      nm0803751,nm0820866  \n3       Horror,Thriller  nm0131910  nm0465026,nm0131910,nm0458461,nm1738738  \n4                 Drama  nm0885554                      nm0885554,nm0959016  \n\n[5 rows x 30 columns]",
      "text/html": "<div>\n<style scoped>\n    .dataframe tbody tr th:only-of-type {\n        vertical-align: middle;\n    }\n\n    .dataframe tbody tr th {\n        vertical-align: top;\n    }\n\n    .dataframe thead th {\n        text-align: right;\n    }\n</style>\n<table border=\"1\" class=\"dataframe\">\n  <thead>\n    <tr style=\"text-align: right;\">\n      <th></th>\n      <th>title</th>\n      <th>primaryTitle</th>\n      <th>originalTitle</th>\n      <th>wikipedia_id</th>\n      <th>freebase_id_cmu</th>\n      <th>freebase_id_wd</th>\n      <th>wikidata_id</th>\n      <th>new_wikidata_id</th>\n      <th>IMDB_id</th>\n      <th>mojo_id</th>\n      <th>...</th>\n      <th>box_office_cmu</th>\n      <th>box_office_wd</th>\n      <th>languages</th>\n      <th>countries</th>\n      <th>averageRating_imdb</th>\n      <th>numVotes_imdb</th>\n      <th>genres_cmu</th>\n      <th>genres_imdb</th>\n      <th>directors</th>\n      <th>writers</th>\n    </tr>\n  </thead>\n  <tbody>\n    <tr>\n      <th>0</th>\n      <td>Ghosts of Mars</td>\n      <td>Ghosts of Mars</td>\n      <td>Ghosts of Mars</td>\n      <td>975900</td>\n      <td>/m/03vyhn</td>\n      <td>/m/03vyhn</td>\n      <td>Q261700</td>\n      <td>Q261700</td>\n      <td>tt0228333</td>\n      <td>ghostsofmars</td>\n      <td>...</td>\n      <td>14010832.0</td>\n      <td>NaN</td>\n      <td>{\"/m/02h40lc\": \"English Language\"}</td>\n      <td>{\"/m/09c7w0\": \"United States of America\"}</td>\n      <td>4.9</td>\n      <td>55061.0</td>\n      <td>{\"/m/01jfsb\": \"Thriller\", \"/m/06n90\": \"Science...</td>\n      <td>Action,Horror,Sci-Fi</td>\n      <td>nm0000118</td>\n      <td>nm0837917,nm0000118</td>\n    </tr>\n    <tr>\n      <th>1</th>\n      <td>Getting Away with Murder: The JonBenét Ramsey ...</td>\n      <td>Getting Away with Murder: The JonBenet Ramsey ...</td>\n      <td>Getting Away with Murder: The JonBenet Ramsey ...</td>\n      <td>3196793</td>\n      <td>/m/08yl5d</td>\n      <td>/m/08yl5d</td>\n      <td>Q16250726</td>\n      <td>Q16250726</td>\n      <td>tt0245916</td>\n      <td>NaN</td>\n      <td>...</td>\n      <td>NaN</td>\n      <td>NaN</td>\n      <td>{\"/m/02h40lc\": \"English Language\"}</td>\n      <td>{\"/m/09c7w0\": \"United States of America\"}</td>\n      <td>5.9</td>\n      <td>66.0</td>\n      <td>{\"/m/02n4kr\": \"Mystery\", \"/m/03bxz7\": \"Biograp...</td>\n      <td>Drama</td>\n      <td>nm1740285</td>\n      <td>nm0334224,nm0003358</td>\n    </tr>\n    <tr>\n      <th>2</th>\n      <td>Brun bitter</td>\n      <td>Brun bitter</td>\n      <td>Brun bitter</td>\n      <td>28463795</td>\n      <td>/m/0crgdbh</td>\n      <td>/m/0crgdbh</td>\n      <td>Q4978832</td>\n      <td>Q4978832</td>\n      <td>tt0094806</td>\n      <td>NaN</td>\n      <td>...</td>\n      <td>NaN</td>\n      <td>NaN</td>\n      <td>{\"/m/05f_3\": \"Norwegian Language\"}</td>\n      <td>{\"/m/05b4w\": \"Norway\"}</td>\n      <td>5.7</td>\n      <td>40.0</td>\n      <td>{\"/m/0lsxr\": \"Crime Fiction\", \"/m/07s9rl0\": \"D...</td>\n      <td>Crime,Drama</td>\n      <td>nm0803751</td>\n      <td>nm0803751,nm0820866</td>\n    </tr>\n    <tr>\n      <th>3</th>\n      <td>White Of The Eye</td>\n      <td>White of the Eye</td>\n      <td>White of the Eye</td>\n      <td>9363483</td>\n      <td>/m/0285_cd</td>\n      <td>/m/0285_cd</td>\n      <td>Q7995657</td>\n      <td>Q7995657</td>\n      <td>tt0094320</td>\n      <td>NaN</td>\n      <td>...</td>\n      <td>NaN</td>\n      <td>NaN</td>\n      <td>{\"/m/02h40lc\": \"English Language\"}</td>\n      <td>{\"/m/07ssc\": \"United Kingdom\"}</td>\n      <td>6.1</td>\n      <td>2537.0</td>\n      <td>{\"/m/01jfsb\": \"Thriller\", \"/m/0glj9q\": \"Erotic...</td>\n      <td>Horror,Thriller</td>\n      <td>nm0131910</td>\n      <td>nm0465026,nm0131910,nm0458461,nm1738738</td>\n    </tr>\n    <tr>\n      <th>4</th>\n      <td>A Woman in Flames</td>\n      <td>A Woman in Flames</td>\n      <td>Die flambierte Frau</td>\n      <td>261236</td>\n      <td>/m/01mrr1</td>\n      <td>/m/01mrr1</td>\n      <td>Q869644</td>\n      <td>Q869644</td>\n      <td>tt0083949</td>\n      <td>NaN</td>\n      <td>...</td>\n      <td>NaN</td>\n      <td>NaN</td>\n      <td>{\"/m/04306rv\": \"German Language\"}</td>\n      <td>{\"/m/0345h\": \"Germany\"}</td>\n      <td>6.0</td>\n      <td>587.0</td>\n      <td>{\"/m/07s9rl0\": \"Drama\"}</td>\n      <td>Drama</td>\n      <td>nm0885554</td>\n      <td>nm0885554,nm0959016</td>\n    </tr>\n  </tbody>\n</table>\n<p>5 rows × 30 columns</p>\n</div>"
     },
     "execution_count": 10,
     "metadata": {},
     "output_type": "execute_result"
    }
   ],
   "source": [
    "movies = pd.merge(movies, crew, left_on='IMDB_id', right_on='tconst', how='left')\n",
    "movies.drop(labels=['tconst'], axis=1, inplace=True)\n",
    "print(len(movies))\n",
    "movies.head()"
   ],
   "metadata": {
    "collapsed": false
   }
  },
  {
   "cell_type": "code",
   "execution_count": 14,
   "outputs": [
    {
     "data": {
      "text/plain": "                                                   title  \\\n0                                         Ghosts of Mars   \n1      Getting Away with Murder: The JonBenét Ramsey ...   \n2                                            Brun bitter   \n3                                       White Of The Eye   \n4                                      A Woman in Flames   \n...                                                  ...   \n81736                           Mermaids: The Body Found   \n81737                                            Knuckle   \n81738                                  Another Nice Mess   \n81739  The Super Dimension Fortress Macross II: Lover...   \n81740                                            Spliced   \n\n                                            primaryTitle  \\\n0                                         Ghosts of Mars   \n1      Getting Away with Murder: The JonBenet Ramsey ...   \n2                                            Brun bitter   \n3                                       White of the Eye   \n4                                      A Woman in Flames   \n...                                                  ...   \n81736                           Mermaids: The Body Found   \n81737                                            Knuckle   \n81738                                  Another Nice Mess   \n81739  Super Dimensional Fortress Macross II: Lovers ...   \n81740                                         The Wisher   \n\n                                           originalTitle  wikipedia_id  \\\n0                                         Ghosts of Mars        975900   \n1      Getting Away with Murder: The JonBenet Ramsey ...       3196793   \n2                                            Brun bitter      28463795   \n3                                       White of the Eye       9363483   \n4                                    Die flambierte Frau        261236   \n...                                                  ...           ...   \n81736                           Mermaids: The Body Found      35228177   \n81737                                            Knuckle      34980460   \n81738                                  Another Nice Mess       9971909   \n81739             Chôjikû Yôsai Macross II Lovers, Again        913762   \n81740                                         The Wisher      12476867   \n\n      freebase_id_cmu freebase_id_wd wikidata_id new_wikidata_id    IMDB_id  \\\n0           /m/03vyhn      /m/03vyhn     Q261700         Q261700  tt0228333   \n1           /m/08yl5d      /m/08yl5d   Q16250726       Q16250726  tt0245916   \n2          /m/0crgdbh     /m/0crgdbh    Q4978832        Q4978832  tt0094806   \n3          /m/0285_cd     /m/0285_cd    Q7995657        Q7995657  tt0094320   \n4           /m/01mrr1      /m/01mrr1     Q869644         Q869644  tt0083949   \n...               ...            ...         ...             ...        ...   \n81736      /m/0j7hxnt     /m/0j7hxnt    Q6819873        Q6819873  tt1816585   \n81737      /m/0g4pl34     /m/0g4pl34   Q12125420       Q12125420  tt1606259   \n81738      /m/02pygw1     /m/02pygw1    Q4770308        Q4770308  tt0362411   \n81739       /m/03pcrp      /m/03pcrp    Q2663931        Q2663931  tt0113726   \n81740      /m/02w7zz8     /m/02w7zz8    Q7578560        Q7578560  tt0354216   \n\n            mojo_id  ... box_office_cmu box_office_wd  \\\n0      ghostsofmars  ...     14010832.0           NaN   \n1               NaN  ...            NaN           NaN   \n2               NaN  ...            NaN           NaN   \n3               NaN  ...            NaN           NaN   \n4               NaN  ...            NaN           NaN   \n...             ...  ...            ...           ...   \n81736           NaN  ...            NaN           NaN   \n81737           NaN  ...            NaN           NaN   \n81738           NaN  ...            NaN           NaN   \n81739           NaN  ...            NaN           NaN   \n81740           NaN  ...            NaN           NaN   \n\n                                languages  \\\n0      {\"/m/02h40lc\": \"English Language\"}   \n1      {\"/m/02h40lc\": \"English Language\"}   \n2      {\"/m/05f_3\": \"Norwegian Language\"}   \n3      {\"/m/02h40lc\": \"English Language\"}   \n4       {\"/m/04306rv\": \"German Language\"}   \n...                                   ...   \n81736  {\"/m/02h40lc\": \"English Language\"}   \n81737  {\"/m/02h40lc\": \"English Language\"}   \n81738  {\"/m/02h40lc\": \"English Language\"}   \n81739   {\"/m/03_9r\": \"Japanese Language\"}   \n81740  {\"/m/02h40lc\": \"English Language\"}   \n\n                                               countries  averageRating_imdb  \\\n0              {\"/m/09c7w0\": \"United States of America\"}                 4.9   \n1              {\"/m/09c7w0\": \"United States of America\"}                 5.9   \n2                                 {\"/m/05b4w\": \"Norway\"}                 5.7   \n3                         {\"/m/07ssc\": \"United Kingdom\"}                 6.1   \n4                                {\"/m/0345h\": \"Germany\"}                 6.0   \n...                                                  ...                 ...   \n81736          {\"/m/09c7w0\": \"United States of America\"}                 4.6   \n81737  {\"/m/03rt9\": \"Ireland\", \"/m/07ssc\": \"United Ki...                 6.8   \n81738          {\"/m/09c7w0\": \"United States of America\"}                 5.8   \n81739                              {\"/m/03_3d\": \"Japan\"}                 6.0   \n81740                            {\"/m/0d060g\": \"Canada\"}                 4.3   \n\n       numVotes_imdb                                         genres_cmu  \\\n0            55061.0  {\"/m/01jfsb\": \"Thriller\", \"/m/06n90\": \"Science...   \n1               66.0  {\"/m/02n4kr\": \"Mystery\", \"/m/03bxz7\": \"Biograp...   \n2               40.0  {\"/m/0lsxr\": \"Crime Fiction\", \"/m/07s9rl0\": \"D...   \n3             2537.0  {\"/m/01jfsb\": \"Thriller\", \"/m/0glj9q\": \"Erotic...   \n4              587.0                            {\"/m/07s9rl0\": \"Drama\"}   \n...              ...                                                ...   \n81736         1651.0                            {\"/m/07s9rl0\": \"Drama\"}   \n81737         3064.0  {\"/m/03bxz7\": \"Biographical film\", \"/m/07s9rl0...   \n81738          101.0       {\"/m/06nbt\": \"Satire\", \"/m/01z4y\": \"Comedy\"}   \n81739          634.0  {\"/m/06n90\": \"Science Fiction\", \"/m/0gw5n2f\": ...   \n81740         1719.0  {\"/m/01jfsb\": \"Thriller\", \"/m/03npn\": \"Horror\"...   \n\n                       genres_imdb  directors  \\\n0             Action,Horror,Sci-Fi  nm0000118   \n1                            Drama  nm1740285   \n2                      Crime,Drama  nm0803751   \n3                  Horror,Thriller  nm0131910   \n4                            Drama  nm0885554   \n...                            ...        ...   \n81736                       Sci-Fi  nm2108205   \n81737  Biography,Documentary,Drama  nm3817974   \n81738                       Comedy  nm0251872   \n81739       Action,Animation,Music  nm0946694   \n81740              Horror,Thriller  nm0928691   \n\n                                       writers  \n0                          nm0837917,nm0000118  \n1                          nm0334224,nm0003358  \n2                          nm0803751,nm0820866  \n3      nm0465026,nm0131910,nm0458461,nm1738738  \n4                          nm0885554,nm0959016  \n...                                        ...  \n81736            nm2108205,nm2398039,nm1556092  \n81737                                       \\N  \n81738                                nm0251872  \n81739           nm0034817,nm10178064,nm0866742  \n81740                                nm1322535  \n\n[81741 rows x 30 columns]",
      "text/html": "<div>\n<style scoped>\n    .dataframe tbody tr th:only-of-type {\n        vertical-align: middle;\n    }\n\n    .dataframe tbody tr th {\n        vertical-align: top;\n    }\n\n    .dataframe thead th {\n        text-align: right;\n    }\n</style>\n<table border=\"1\" class=\"dataframe\">\n  <thead>\n    <tr style=\"text-align: right;\">\n      <th></th>\n      <th>title</th>\n      <th>primaryTitle</th>\n      <th>originalTitle</th>\n      <th>wikipedia_id</th>\n      <th>freebase_id_cmu</th>\n      <th>freebase_id_wd</th>\n      <th>wikidata_id</th>\n      <th>new_wikidata_id</th>\n      <th>IMDB_id</th>\n      <th>mojo_id</th>\n      <th>...</th>\n      <th>box_office_cmu</th>\n      <th>box_office_wd</th>\n      <th>languages</th>\n      <th>countries</th>\n      <th>averageRating_imdb</th>\n      <th>numVotes_imdb</th>\n      <th>genres_cmu</th>\n      <th>genres_imdb</th>\n      <th>directors</th>\n      <th>writers</th>\n    </tr>\n  </thead>\n  <tbody>\n    <tr>\n      <th>0</th>\n      <td>Ghosts of Mars</td>\n      <td>Ghosts of Mars</td>\n      <td>Ghosts of Mars</td>\n      <td>975900</td>\n      <td>/m/03vyhn</td>\n      <td>/m/03vyhn</td>\n      <td>Q261700</td>\n      <td>Q261700</td>\n      <td>tt0228333</td>\n      <td>ghostsofmars</td>\n      <td>...</td>\n      <td>14010832.0</td>\n      <td>NaN</td>\n      <td>{\"/m/02h40lc\": \"English Language\"}</td>\n      <td>{\"/m/09c7w0\": \"United States of America\"}</td>\n      <td>4.9</td>\n      <td>55061.0</td>\n      <td>{\"/m/01jfsb\": \"Thriller\", \"/m/06n90\": \"Science...</td>\n      <td>Action,Horror,Sci-Fi</td>\n      <td>nm0000118</td>\n      <td>nm0837917,nm0000118</td>\n    </tr>\n    <tr>\n      <th>1</th>\n      <td>Getting Away with Murder: The JonBenét Ramsey ...</td>\n      <td>Getting Away with Murder: The JonBenet Ramsey ...</td>\n      <td>Getting Away with Murder: The JonBenet Ramsey ...</td>\n      <td>3196793</td>\n      <td>/m/08yl5d</td>\n      <td>/m/08yl5d</td>\n      <td>Q16250726</td>\n      <td>Q16250726</td>\n      <td>tt0245916</td>\n      <td>NaN</td>\n      <td>...</td>\n      <td>NaN</td>\n      <td>NaN</td>\n      <td>{\"/m/02h40lc\": \"English Language\"}</td>\n      <td>{\"/m/09c7w0\": \"United States of America\"}</td>\n      <td>5.9</td>\n      <td>66.0</td>\n      <td>{\"/m/02n4kr\": \"Mystery\", \"/m/03bxz7\": \"Biograp...</td>\n      <td>Drama</td>\n      <td>nm1740285</td>\n      <td>nm0334224,nm0003358</td>\n    </tr>\n    <tr>\n      <th>2</th>\n      <td>Brun bitter</td>\n      <td>Brun bitter</td>\n      <td>Brun bitter</td>\n      <td>28463795</td>\n      <td>/m/0crgdbh</td>\n      <td>/m/0crgdbh</td>\n      <td>Q4978832</td>\n      <td>Q4978832</td>\n      <td>tt0094806</td>\n      <td>NaN</td>\n      <td>...</td>\n      <td>NaN</td>\n      <td>NaN</td>\n      <td>{\"/m/05f_3\": \"Norwegian Language\"}</td>\n      <td>{\"/m/05b4w\": \"Norway\"}</td>\n      <td>5.7</td>\n      <td>40.0</td>\n      <td>{\"/m/0lsxr\": \"Crime Fiction\", \"/m/07s9rl0\": \"D...</td>\n      <td>Crime,Drama</td>\n      <td>nm0803751</td>\n      <td>nm0803751,nm0820866</td>\n    </tr>\n    <tr>\n      <th>3</th>\n      <td>White Of The Eye</td>\n      <td>White of the Eye</td>\n      <td>White of the Eye</td>\n      <td>9363483</td>\n      <td>/m/0285_cd</td>\n      <td>/m/0285_cd</td>\n      <td>Q7995657</td>\n      <td>Q7995657</td>\n      <td>tt0094320</td>\n      <td>NaN</td>\n      <td>...</td>\n      <td>NaN</td>\n      <td>NaN</td>\n      <td>{\"/m/02h40lc\": \"English Language\"}</td>\n      <td>{\"/m/07ssc\": \"United Kingdom\"}</td>\n      <td>6.1</td>\n      <td>2537.0</td>\n      <td>{\"/m/01jfsb\": \"Thriller\", \"/m/0glj9q\": \"Erotic...</td>\n      <td>Horror,Thriller</td>\n      <td>nm0131910</td>\n      <td>nm0465026,nm0131910,nm0458461,nm1738738</td>\n    </tr>\n    <tr>\n      <th>4</th>\n      <td>A Woman in Flames</td>\n      <td>A Woman in Flames</td>\n      <td>Die flambierte Frau</td>\n      <td>261236</td>\n      <td>/m/01mrr1</td>\n      <td>/m/01mrr1</td>\n      <td>Q869644</td>\n      <td>Q869644</td>\n      <td>tt0083949</td>\n      <td>NaN</td>\n      <td>...</td>\n      <td>NaN</td>\n      <td>NaN</td>\n      <td>{\"/m/04306rv\": \"German Language\"}</td>\n      <td>{\"/m/0345h\": \"Germany\"}</td>\n      <td>6.0</td>\n      <td>587.0</td>\n      <td>{\"/m/07s9rl0\": \"Drama\"}</td>\n      <td>Drama</td>\n      <td>nm0885554</td>\n      <td>nm0885554,nm0959016</td>\n    </tr>\n    <tr>\n      <th>...</th>\n      <td>...</td>\n      <td>...</td>\n      <td>...</td>\n      <td>...</td>\n      <td>...</td>\n      <td>...</td>\n      <td>...</td>\n      <td>...</td>\n      <td>...</td>\n      <td>...</td>\n      <td>...</td>\n      <td>...</td>\n      <td>...</td>\n      <td>...</td>\n      <td>...</td>\n      <td>...</td>\n      <td>...</td>\n      <td>...</td>\n      <td>...</td>\n      <td>...</td>\n      <td>...</td>\n    </tr>\n    <tr>\n      <th>81736</th>\n      <td>Mermaids: The Body Found</td>\n      <td>Mermaids: The Body Found</td>\n      <td>Mermaids: The Body Found</td>\n      <td>35228177</td>\n      <td>/m/0j7hxnt</td>\n      <td>/m/0j7hxnt</td>\n      <td>Q6819873</td>\n      <td>Q6819873</td>\n      <td>tt1816585</td>\n      <td>NaN</td>\n      <td>...</td>\n      <td>NaN</td>\n      <td>NaN</td>\n      <td>{\"/m/02h40lc\": \"English Language\"}</td>\n      <td>{\"/m/09c7w0\": \"United States of America\"}</td>\n      <td>4.6</td>\n      <td>1651.0</td>\n      <td>{\"/m/07s9rl0\": \"Drama\"}</td>\n      <td>Sci-Fi</td>\n      <td>nm2108205</td>\n      <td>nm2108205,nm2398039,nm1556092</td>\n    </tr>\n    <tr>\n      <th>81737</th>\n      <td>Knuckle</td>\n      <td>Knuckle</td>\n      <td>Knuckle</td>\n      <td>34980460</td>\n      <td>/m/0g4pl34</td>\n      <td>/m/0g4pl34</td>\n      <td>Q12125420</td>\n      <td>Q12125420</td>\n      <td>tt1606259</td>\n      <td>NaN</td>\n      <td>...</td>\n      <td>NaN</td>\n      <td>NaN</td>\n      <td>{\"/m/02h40lc\": \"English Language\"}</td>\n      <td>{\"/m/03rt9\": \"Ireland\", \"/m/07ssc\": \"United Ki...</td>\n      <td>6.8</td>\n      <td>3064.0</td>\n      <td>{\"/m/03bxz7\": \"Biographical film\", \"/m/07s9rl0...</td>\n      <td>Biography,Documentary,Drama</td>\n      <td>nm3817974</td>\n      <td>\\N</td>\n    </tr>\n    <tr>\n      <th>81738</th>\n      <td>Another Nice Mess</td>\n      <td>Another Nice Mess</td>\n      <td>Another Nice Mess</td>\n      <td>9971909</td>\n      <td>/m/02pygw1</td>\n      <td>/m/02pygw1</td>\n      <td>Q4770308</td>\n      <td>Q4770308</td>\n      <td>tt0362411</td>\n      <td>NaN</td>\n      <td>...</td>\n      <td>NaN</td>\n      <td>NaN</td>\n      <td>{\"/m/02h40lc\": \"English Language\"}</td>\n      <td>{\"/m/09c7w0\": \"United States of America\"}</td>\n      <td>5.8</td>\n      <td>101.0</td>\n      <td>{\"/m/06nbt\": \"Satire\", \"/m/01z4y\": \"Comedy\"}</td>\n      <td>Comedy</td>\n      <td>nm0251872</td>\n      <td>nm0251872</td>\n    </tr>\n    <tr>\n      <th>81739</th>\n      <td>The Super Dimension Fortress Macross II: Lover...</td>\n      <td>Super Dimensional Fortress Macross II: Lovers ...</td>\n      <td>Chôjikû Yôsai Macross II Lovers, Again</td>\n      <td>913762</td>\n      <td>/m/03pcrp</td>\n      <td>/m/03pcrp</td>\n      <td>Q2663931</td>\n      <td>Q2663931</td>\n      <td>tt0113726</td>\n      <td>NaN</td>\n      <td>...</td>\n      <td>NaN</td>\n      <td>NaN</td>\n      <td>{\"/m/03_9r\": \"Japanese Language\"}</td>\n      <td>{\"/m/03_3d\": \"Japan\"}</td>\n      <td>6.0</td>\n      <td>634.0</td>\n      <td>{\"/m/06n90\": \"Science Fiction\", \"/m/0gw5n2f\": ...</td>\n      <td>Action,Animation,Music</td>\n      <td>nm0946694</td>\n      <td>nm0034817,nm10178064,nm0866742</td>\n    </tr>\n    <tr>\n      <th>81740</th>\n      <td>Spliced</td>\n      <td>The Wisher</td>\n      <td>The Wisher</td>\n      <td>12476867</td>\n      <td>/m/02w7zz8</td>\n      <td>/m/02w7zz8</td>\n      <td>Q7578560</td>\n      <td>Q7578560</td>\n      <td>tt0354216</td>\n      <td>NaN</td>\n      <td>...</td>\n      <td>NaN</td>\n      <td>NaN</td>\n      <td>{\"/m/02h40lc\": \"English Language\"}</td>\n      <td>{\"/m/0d060g\": \"Canada\"}</td>\n      <td>4.3</td>\n      <td>1719.0</td>\n      <td>{\"/m/01jfsb\": \"Thriller\", \"/m/03npn\": \"Horror\"...</td>\n      <td>Horror,Thriller</td>\n      <td>nm0928691</td>\n      <td>nm1322535</td>\n    </tr>\n  </tbody>\n</table>\n<p>81741 rows × 30 columns</p>\n</div>"
     },
     "execution_count": 14,
     "metadata": {},
     "output_type": "execute_result"
    }
   ],
   "source": [
    "movies = pickle.load(open(pickle_folder + 'movies.p', 'rb'))\n",
    "movies"
   ],
   "metadata": {
    "collapsed": false
   }
  },
  {
   "cell_type": "code",
   "execution_count": 11,
   "outputs": [
    {
     "data": {
      "text/plain": "  wikidata_id    IMDB_id                             wikidata_page\n0   Q36951175  tt6911608  http://www.wikidata.org/entity/Q36951175\n1        Q368  nm0684496       http://www.wikidata.org/entity/Q368\n2        Q501  nm0061667       http://www.wikidata.org/entity/Q501\n3        Q595  tt1675434       http://www.wikidata.org/entity/Q595\n4        Q633  nm0949918       http://www.wikidata.org/entity/Q633",
      "text/html": "<div>\n<style scoped>\n    .dataframe tbody tr th:only-of-type {\n        vertical-align: middle;\n    }\n\n    .dataframe tbody tr th {\n        vertical-align: top;\n    }\n\n    .dataframe thead th {\n        text-align: right;\n    }\n</style>\n<table border=\"1\" class=\"dataframe\">\n  <thead>\n    <tr style=\"text-align: right;\">\n      <th></th>\n      <th>wikidata_id</th>\n      <th>IMDB_id</th>\n      <th>wikidata_page</th>\n    </tr>\n  </thead>\n  <tbody>\n    <tr>\n      <th>0</th>\n      <td>Q36951175</td>\n      <td>tt6911608</td>\n      <td>http://www.wikidata.org/entity/Q36951175</td>\n    </tr>\n    <tr>\n      <th>1</th>\n      <td>Q368</td>\n      <td>nm0684496</td>\n      <td>http://www.wikidata.org/entity/Q368</td>\n    </tr>\n    <tr>\n      <th>2</th>\n      <td>Q501</td>\n      <td>nm0061667</td>\n      <td>http://www.wikidata.org/entity/Q501</td>\n    </tr>\n    <tr>\n      <th>3</th>\n      <td>Q595</td>\n      <td>tt1675434</td>\n      <td>http://www.wikidata.org/entity/Q595</td>\n    </tr>\n    <tr>\n      <th>4</th>\n      <td>Q633</td>\n      <td>nm0949918</td>\n      <td>http://www.wikidata.org/entity/Q633</td>\n    </tr>\n  </tbody>\n</table>\n</div>"
     },
     "execution_count": 11,
     "metadata": {},
     "output_type": "execute_result"
    }
   ],
   "source": [
    "imdb_to_wd = pd.read_csv('../data/IMDB/complete_wikiID_imdbID_mapping.csv', sep=',').drop('Unnamed: 0', axis=1)\n",
    "imdb_to_wd = imdb_to_wd.rename({'wikidata_id': 'director_wd_id'})\n",
    "imdb_to_wd.head()"
   ],
   "metadata": {
    "collapsed": false
   }
  },
  {
   "cell_type": "code",
   "execution_count": 54,
   "outputs": [],
   "source": [
    "directors = pickle.load(open('../data/pickles/director_writer.p', 'rb'))"
   ],
   "metadata": {
    "collapsed": false
   }
  },
  {
   "cell_type": "code",
   "execution_count": 59,
   "outputs": [],
   "source": [
    "directors = directors.drop(labels=['title', 'movie_wiki_id', 'movie_wikidata_id', 'movie_freebase_id', 'movie_imdb_id'], axis=1)"
   ],
   "metadata": {
    "collapsed": false
   }
  },
  {
   "cell_type": "code",
   "execution_count": 62,
   "outputs": [
    {
     "data": {
      "text/plain": "               role wikidata_id                name gender       birth height  \\\nimdb_id                                                                         \nnm0000118  director      Q95008      John Carpenter   male  1948-01-16    NaN   \nnm0803751  director    Q7666470        Sølve Skagen   male  1945-02-17    NaN   \nnm0131910  director     Q975488      Donald Cammell   male  1934-01-17    NaN   \nnm0885554  director      Q88104  Robert van Ackeren   male  1946-12-22    NaN   \nnm0499883  director      Q84780                 NaN    NaN         NaN    NaN   \n...             ...         ...                 ...    ...         ...    ...   \nnm0367099    writer    Q1876900                 NaN    NaN         NaN    NaN   \nnm0902345    writer    Q2079356    Peter von Gunten   male  1941-11-20    NaN   \nnm0126319    writer    Q5531110                 NaN    NaN         NaN    NaN   \nnm2199074    writer   Q55640553  Bernardo Batievsky   male  1930-04-01    NaN   \nnm0251872    writer    Q2051128        Bob Einstein   male  1942-11-20    NaN   \n\n          ethnicity  \nimdb_id              \nnm0000118       NaN  \nnm0803751       NaN  \nnm0131910       NaN  \nnm0885554       NaN  \nnm0499883       NaN  \n...             ...  \nnm0367099       NaN  \nnm0902345       NaN  \nnm0126319       NaN  \nnm2199074       NaN  \nnm0251872       NaN  \n\n[56113 rows x 7 columns]",
      "text/html": "<div>\n<style scoped>\n    .dataframe tbody tr th:only-of-type {\n        vertical-align: middle;\n    }\n\n    .dataframe tbody tr th {\n        vertical-align: top;\n    }\n\n    .dataframe thead th {\n        text-align: right;\n    }\n</style>\n<table border=\"1\" class=\"dataframe\">\n  <thead>\n    <tr style=\"text-align: right;\">\n      <th></th>\n      <th>role</th>\n      <th>wikidata_id</th>\n      <th>name</th>\n      <th>gender</th>\n      <th>birth</th>\n      <th>height</th>\n      <th>ethnicity</th>\n    </tr>\n    <tr>\n      <th>imdb_id</th>\n      <th></th>\n      <th></th>\n      <th></th>\n      <th></th>\n      <th></th>\n      <th></th>\n      <th></th>\n    </tr>\n  </thead>\n  <tbody>\n    <tr>\n      <th>nm0000118</th>\n      <td>director</td>\n      <td>Q95008</td>\n      <td>John Carpenter</td>\n      <td>male</td>\n      <td>1948-01-16</td>\n      <td>NaN</td>\n      <td>NaN</td>\n    </tr>\n    <tr>\n      <th>nm0803751</th>\n      <td>director</td>\n      <td>Q7666470</td>\n      <td>Sølve Skagen</td>\n      <td>male</td>\n      <td>1945-02-17</td>\n      <td>NaN</td>\n      <td>NaN</td>\n    </tr>\n    <tr>\n      <th>nm0131910</th>\n      <td>director</td>\n      <td>Q975488</td>\n      <td>Donald Cammell</td>\n      <td>male</td>\n      <td>1934-01-17</td>\n      <td>NaN</td>\n      <td>NaN</td>\n    </tr>\n    <tr>\n      <th>nm0885554</th>\n      <td>director</td>\n      <td>Q88104</td>\n      <td>Robert van Ackeren</td>\n      <td>male</td>\n      <td>1946-12-22</td>\n      <td>NaN</td>\n      <td>NaN</td>\n    </tr>\n    <tr>\n      <th>nm0499883</th>\n      <td>director</td>\n      <td>Q84780</td>\n      <td>NaN</td>\n      <td>NaN</td>\n      <td>NaN</td>\n      <td>NaN</td>\n      <td>NaN</td>\n    </tr>\n    <tr>\n      <th>...</th>\n      <td>...</td>\n      <td>...</td>\n      <td>...</td>\n      <td>...</td>\n      <td>...</td>\n      <td>...</td>\n      <td>...</td>\n    </tr>\n    <tr>\n      <th>nm0367099</th>\n      <td>writer</td>\n      <td>Q1876900</td>\n      <td>NaN</td>\n      <td>NaN</td>\n      <td>NaN</td>\n      <td>NaN</td>\n      <td>NaN</td>\n    </tr>\n    <tr>\n      <th>nm0902345</th>\n      <td>writer</td>\n      <td>Q2079356</td>\n      <td>Peter von Gunten</td>\n      <td>male</td>\n      <td>1941-11-20</td>\n      <td>NaN</td>\n      <td>NaN</td>\n    </tr>\n    <tr>\n      <th>nm0126319</th>\n      <td>writer</td>\n      <td>Q5531110</td>\n      <td>NaN</td>\n      <td>NaN</td>\n      <td>NaN</td>\n      <td>NaN</td>\n      <td>NaN</td>\n    </tr>\n    <tr>\n      <th>nm2199074</th>\n      <td>writer</td>\n      <td>Q55640553</td>\n      <td>Bernardo Batievsky</td>\n      <td>male</td>\n      <td>1930-04-01</td>\n      <td>NaN</td>\n      <td>NaN</td>\n    </tr>\n    <tr>\n      <th>nm0251872</th>\n      <td>writer</td>\n      <td>Q2051128</td>\n      <td>Bob Einstein</td>\n      <td>male</td>\n      <td>1942-11-20</td>\n      <td>NaN</td>\n      <td>NaN</td>\n    </tr>\n  </tbody>\n</table>\n<p>56113 rows × 7 columns</p>\n</div>"
     },
     "execution_count": 62,
     "metadata": {},
     "output_type": "execute_result"
    }
   ],
   "source": [
    "directors = directors.drop_duplicates()\n",
    "directors.set_index('imdb_id')"
   ],
   "metadata": {
    "collapsed": false
   }
  },
  {
   "cell_type": "code",
   "execution_count": 63,
   "outputs": [],
   "source": [
    "pickle.dump(directors, open(pickle_folder + 'directors_only.p', 'wb'))"
   ],
   "metadata": {
    "collapsed": false
   }
  },
  {
   "cell_type": "code",
   "execution_count": 1,
   "outputs": [
    {
     "ename": "NameError",
     "evalue": "name 'movies' is not defined",
     "output_type": "error",
     "traceback": [
      "\u001B[0;31m---------------------------------------------------------------------------\u001B[0m",
      "\u001B[0;31mNameError\u001B[0m                                 Traceback (most recent call last)",
      "Input \u001B[0;32mIn [1]\u001B[0m, in \u001B[0;36m<cell line: 4>\u001B[0;34m()\u001B[0m\n\u001B[1;32m      1\u001B[0m \u001B[38;5;28;01mdef\u001B[39;00m \u001B[38;5;21mget_percentage_notna\u001B[39m(df, feature):\n\u001B[1;32m      2\u001B[0m    \u001B[38;5;28;01mreturn\u001B[39;00m \u001B[38;5;28mprint\u001B[39m(\u001B[38;5;124mf\u001B[39m\u001B[38;5;124m'\u001B[39m\u001B[38;5;124mpercentage of \u001B[39m\u001B[38;5;132;01m{\u001B[39;00mfeature\u001B[38;5;132;01m}\u001B[39;00m\u001B[38;5;124m filled: \u001B[39m\u001B[38;5;132;01m{\u001B[39;00mdf[feature]\u001B[38;5;241m.\u001B[39mnotna()\u001B[38;5;241m.\u001B[39msum() \u001B[38;5;241m/\u001B[39m \u001B[38;5;28mlen\u001B[39m(df)\u001B[38;5;132;01m:\u001B[39;00m\u001B[38;5;124m.3f\u001B[39m\u001B[38;5;132;01m}\u001B[39;00m\u001B[38;5;124m%\u001B[39m\u001B[38;5;124m'\u001B[39m)\n\u001B[0;32m----> 4\u001B[0m features \u001B[38;5;241m=\u001B[39m \u001B[38;5;28mlist\u001B[39m(\u001B[43mmovies\u001B[49m\u001B[38;5;241m.\u001B[39mkeys())\n\u001B[1;32m      6\u001B[0m \u001B[38;5;28;01mfor\u001B[39;00m feature \u001B[38;5;129;01min\u001B[39;00m features:\n\u001B[1;32m      7\u001B[0m     get_percentage_notna(movies, feature)\n",
      "\u001B[0;31mNameError\u001B[0m: name 'movies' is not defined"
     ]
    }
   ],
   "source": [
    "def get_percentage_notna(df, feature):\n",
    "   return print(f'percentage of {feature} filled: {df[feature].notna().sum() / len(df):.3f}%')\n",
    "\n",
    "features = list(movies.keys())\n",
    "\n",
    "for feature in features:\n",
    "    get_percentage_notna(movies, feature)\n",
    "\n",
    "tempdict = {}\n",
    "for feature in features:\n",
    "   tempdict[feature] =  movies[feature].notna().sum() / len(movies)\n",
    "\n",
    "tempdf = pd.DataFrame([tempdict])\n",
    "\n",
    "ax = sns.barplot(data=tempdf)\n",
    "ax.set_ylabel('Percentage of filled entries')\n",
    "ax.set_xlabel('Features')\n",
    "ax.tick_params('x', labelrotation=90)"
   ],
   "metadata": {
    "collapsed": false
   }
  },
  {
   "cell_type": "code",
   "execution_count": null,
   "outputs": [],
   "source": [],
   "metadata": {
    "collapsed": false
   }
  }
 ],
 "metadata": {
  "kernelspec": {
   "display_name": "Python 3",
   "language": "python",
   "name": "python3"
  },
  "language_info": {
   "codemirror_mode": {
    "name": "ipython",
    "version": 2
   },
   "file_extension": ".py",
   "mimetype": "text/x-python",
   "name": "python",
   "nbconvert_exporter": "python",
   "pygments_lexer": "ipython2",
   "version": "2.7.6"
  }
 },
 "nbformat": 4,
 "nbformat_minor": 0
}
